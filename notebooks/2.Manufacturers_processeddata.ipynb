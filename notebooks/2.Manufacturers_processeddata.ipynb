{
 "cells": [
  {
   "cell_type": "markdown",
   "id": "53e76d00",
   "metadata": {},
   "source": [
    "&nbsp;\n",
    "<div style=\"text-align: center;\">\n",
    "\n",
    "## <span style=\"color: black;\">Website SuperClassics - Europe Classic Cars</span>\n",
    "\n",
    "&nbsp;\n",
    "\n",
    "![SuperClassics Logo](superclassics_logo.png)\n",
    "\n",
    "&nbsp;\n",
    "\n",
    "### <span style=\"color: black;\">Data Cleaning</span>\n",
    "\n",
    "#### <span style=\"color: #003E99;\">Variables: Brand, Model, Submodel, Year, Origin</span>\n",
    "\n",
    "#### <span style=\"color: #003E99;\">2272 Cars</span>\n",
    "    \n",
    "</div>\n",
    "\n",
    "&nbsp;\n",
    "\n",
    "&nbsp;\n"
   ]
  },
  {
   "cell_type": "markdown",
   "id": "b69798dd",
   "metadata": {},
   "source": [
    "## Index\n",
    "\n",
    "- [<font color='black'> 1. Packages installation</font>](#1)\n",
    "\n",
    "\n",
    "\n",
    "- [<font color='black'> 2. Data importation</font>](#2)\n",
    "\n",
    "\n",
    "\n",
    "- [<font color='black'> 3. Data exploration</font>](#3)\n",
    "    - [<font color='black'> 3.1. Missing values</font>](#3.1)\n",
    "    - [<font color='black'> 3.2. Most frequent itens</font>](#3.2)\n",
    "    - [<font color='black'> 3.3. Brand variable</font>](#3.3)\n",
    "    - [<font color='black'> 3.4. Model variable</font>](#3.4)\n",
    "    - [<font color='black'> 3.5. Submodel variable</font>](#3.5)\n",
    "    - [<font color='black'> 3.6. Year variable</font>](#3.6)\n",
    "    - [<font color='black'> 3.7. Origin variable</font>](#3.7)\n",
    "    \n",
    "    \n",
    "- [<font color='black'> 5. Data cleaning</font>](#5)\n",
    "    - [<font color='black'> 5.1. Brand variable</font>](#5.1)\n",
    "    - [<font color='black'> 5.2. Model variable</font>](#5.2)\n",
    "    - [<font color='black'> 5.3. Submodel variable</font>](#5.3)\n",
    "    - [<font color='black'> 5.4. Year variable</font>](#5.4)\n",
    "    - [<font color='black'> 5.5. Origin variable</font>](#5.5)\n",
    "    \n",
    "    \n",
    "- [<font color='black'> 6. Data exportation</font>](#6)"
   ]
  },
  {
   "cell_type": "markdown",
   "id": "d58cfbca",
   "metadata": {},
   "source": [
    "## 1. Packages installation\n",
    "<a id='1'>"
   ]
  },
  {
   "cell_type": "code",
   "execution_count": 1,
   "id": "000991d6",
   "metadata": {},
   "outputs": [],
   "source": [
    "#!!!INSTALL FIIRST TIME!!!\n",
    "#!pip3 install unicode"
   ]
  },
  {
   "cell_type": "code",
   "execution_count": 117,
   "id": "0d9da09f",
   "metadata": {},
   "outputs": [],
   "source": [
    "#dataframes\n",
    "import pandas as pd\n",
    "\n",
    "# compativel com linguagem ASCII - unicode\n",
    "from unidecode import unidecode \n",
    "\n",
    "#Expressões regulares\n",
    "import re\n"
   ]
  },
  {
   "cell_type": "markdown",
   "id": "dda12117",
   "metadata": {},
   "source": [
    "## 2. Data importation\n",
    "<a id='2'>"
   ]
  },
  {
   "cell_type": "code",
   "execution_count": 118,
   "id": "f0267566",
   "metadata": {},
   "outputs": [],
   "source": [
    "db = pd.read_csv('Manufacturers_rawdata.csv', sep=';')"
   ]
  },
  {
   "cell_type": "markdown",
   "id": "43ef32c5",
   "metadata": {},
   "source": [
    "## 3. Data exploration\n",
    "<a id='3'>"
   ]
  },
  {
   "cell_type": "code",
   "execution_count": 119,
   "id": "82ad4278",
   "metadata": {},
   "outputs": [
    {
     "data": {
      "text/html": [
       "<div>\n",
       "<style scoped>\n",
       "    .dataframe tbody tr th:only-of-type {\n",
       "        vertical-align: middle;\n",
       "    }\n",
       "\n",
       "    .dataframe tbody tr th {\n",
       "        vertical-align: top;\n",
       "    }\n",
       "\n",
       "    .dataframe thead th {\n",
       "        text-align: right;\n",
       "    }\n",
       "</style>\n",
       "<table border=\"1\" class=\"dataframe\">\n",
       "  <thead>\n",
       "    <tr style=\"text-align: right;\">\n",
       "      <th></th>\n",
       "      <th>Brand</th>\n",
       "      <th>Model</th>\n",
       "      <th>Submodel</th>\n",
       "      <th>Year</th>\n",
       "      <th>Origin</th>\n",
       "    </tr>\n",
       "  </thead>\n",
       "  <tbody>\n",
       "    <tr>\n",
       "      <th>0</th>\n",
       "      <td>16</td>\n",
       "      <td>Hurricane Preselector</td>\n",
       "      <td>NaN</td>\n",
       "      <td>1946 - 1948</td>\n",
       "      <td>NaN</td>\n",
       "    </tr>\n",
       "    <tr>\n",
       "      <th>1</th>\n",
       "      <td>18</td>\n",
       "      <td>Hurricane</td>\n",
       "      <td>NaN</td>\n",
       "      <td>1948 - 1953</td>\n",
       "      <td>NaN</td>\n",
       "    </tr>\n",
       "    <tr>\n",
       "      <th>2</th>\n",
       "      <td>18</td>\n",
       "      <td>Hurricane Preselector</td>\n",
       "      <td>NaN</td>\n",
       "      <td>1948 - 1953</td>\n",
       "      <td>NaN</td>\n",
       "    </tr>\n",
       "    <tr>\n",
       "      <th>3</th>\n",
       "      <td>18</td>\n",
       "      <td>Limousine</td>\n",
       "      <td>NaN</td>\n",
       "      <td>1950 - 1951</td>\n",
       "      <td>NaN</td>\n",
       "    </tr>\n",
       "    <tr>\n",
       "      <th>4</th>\n",
       "      <td>18</td>\n",
       "      <td>Whitley</td>\n",
       "      <td>NaN</td>\n",
       "      <td>1948 - 1953</td>\n",
       "      <td>NaN</td>\n",
       "    </tr>\n",
       "  </tbody>\n",
       "</table>\n",
       "</div>"
      ],
      "text/plain": [
       "  Brand                  Model Submodel         Year Origin\n",
       "0    16  Hurricane Preselector      NaN  1946 - 1948    NaN\n",
       "1    18              Hurricane      NaN  1948 - 1953    NaN\n",
       "2    18  Hurricane Preselector      NaN  1948 - 1953    NaN\n",
       "3    18              Limousine      NaN  1950 - 1951    NaN\n",
       "4    18                Whitley      NaN  1948 - 1953    NaN"
      ]
     },
     "execution_count": 119,
     "metadata": {},
     "output_type": "execute_result"
    }
   ],
   "source": [
    "db.head()"
   ]
  },
  {
   "cell_type": "markdown",
   "id": "ae672aec",
   "metadata": {},
   "source": [
    "<span style=\"color:blue\">\n",
    "    \n",
    "- Here we can observe that there is incorrect brands, envolving numbers (eg. 16, 18,...)"
   ]
  },
  {
   "cell_type": "code",
   "execution_count": 120,
   "id": "a9e757ac",
   "metadata": {
    "scrolled": true
   },
   "outputs": [
    {
     "data": {
      "text/html": [
       "<div>\n",
       "<style scoped>\n",
       "    .dataframe tbody tr th:only-of-type {\n",
       "        vertical-align: middle;\n",
       "    }\n",
       "\n",
       "    .dataframe tbody tr th {\n",
       "        vertical-align: top;\n",
       "    }\n",
       "\n",
       "    .dataframe thead th {\n",
       "        text-align: right;\n",
       "    }\n",
       "</style>\n",
       "<table border=\"1\" class=\"dataframe\">\n",
       "  <thead>\n",
       "    <tr style=\"text-align: right;\">\n",
       "      <th></th>\n",
       "      <th>Brand</th>\n",
       "      <th>Model</th>\n",
       "      <th>Submodel</th>\n",
       "      <th>Year</th>\n",
       "      <th>Origin</th>\n",
       "    </tr>\n",
       "  </thead>\n",
       "  <tbody>\n",
       "    <tr>\n",
       "      <th>2267</th>\n",
       "      <td>Volvo</td>\n",
       "      <td>P1800</td>\n",
       "      <td>ES</td>\n",
       "      <td>1971 - 1973</td>\n",
       "      <td>Sweden</td>\n",
       "    </tr>\n",
       "    <tr>\n",
       "      <th>2268</th>\n",
       "      <td>Volvo</td>\n",
       "      <td>P 1800</td>\n",
       "      <td>S</td>\n",
       "      <td>1968 - 1969</td>\n",
       "      <td>Sweden</td>\n",
       "    </tr>\n",
       "    <tr>\n",
       "      <th>2269</th>\n",
       "      <td>Volvo</td>\n",
       "      <td>P 1800</td>\n",
       "      <td>S</td>\n",
       "      <td>1963 - 1968</td>\n",
       "      <td>Sweden</td>\n",
       "    </tr>\n",
       "    <tr>\n",
       "      <th>2270</th>\n",
       "      <td>Wartburg</td>\n",
       "      <td>353</td>\n",
       "      <td>W Tourist</td>\n",
       "      <td>1975 - 1989</td>\n",
       "      <td>Germany</td>\n",
       "    </tr>\n",
       "    <tr>\n",
       "      <th>2271</th>\n",
       "      <td>Zündapp</td>\n",
       "      <td>Janus</td>\n",
       "      <td>NaN</td>\n",
       "      <td>1957 - 1958</td>\n",
       "      <td>Germany</td>\n",
       "    </tr>\n",
       "  </tbody>\n",
       "</table>\n",
       "</div>"
      ],
      "text/plain": [
       "         Brand   Model   Submodel         Year   Origin\n",
       "2267     Volvo   P1800         ES  1971 - 1973   Sweden\n",
       "2268     Volvo  P 1800          S  1968 - 1969   Sweden\n",
       "2269     Volvo  P 1800          S  1963 - 1968   Sweden\n",
       "2270  Wartburg     353  W Tourist  1975 - 1989  Germany\n",
       "2271   Zündapp   Janus        NaN  1957 - 1958  Germany"
      ]
     },
     "execution_count": 120,
     "metadata": {},
     "output_type": "execute_result"
    }
   ],
   "source": [
    "db.tail()"
   ]
  },
  {
   "cell_type": "markdown",
   "id": "09439f66",
   "metadata": {},
   "source": [
    "### 3.1. Missing values\n",
    "<a id='3.1'>"
   ]
  },
  {
   "cell_type": "code",
   "execution_count": 121,
   "id": "26a1972a",
   "metadata": {},
   "outputs": [
    {
     "name": "stdout",
     "output_type": "stream",
     "text": [
      "<class 'pandas.core.frame.DataFrame'>\n",
      "RangeIndex: 2272 entries, 0 to 2271\n",
      "Data columns (total 5 columns):\n",
      " #   Column    Non-Null Count  Dtype \n",
      "---  ------    --------------  ----- \n",
      " 0   Brand     2271 non-null   object\n",
      " 1   Model     2262 non-null   object\n",
      " 2   Submodel  2000 non-null   object\n",
      " 3   Year      2272 non-null   object\n",
      " 4   Origin    2258 non-null   object\n",
      "dtypes: object(5)\n",
      "memory usage: 88.9+ KB\n"
     ]
    }
   ],
   "source": [
    "db.info()"
   ]
  },
  {
   "cell_type": "markdown",
   "id": "f1ff2d38",
   "metadata": {},
   "source": [
    "<span style=\"color:blue\">\n",
    "    \n",
    "- All variables with **data type \"object\"** , which is a categorical type (Year variable should be numeric?)"
   ]
  },
  {
   "cell_type": "markdown",
   "id": "ba5f9c27",
   "metadata": {},
   "source": [
    "\n",
    "    \n",
    "| Variable     | NaN |\n",
    "|:-----------------|-----------------------|\n",
    "| Brand       | 1                 |\n",
    "| Model       | 10                |\n",
    "| Submodel    | 272               |\n",
    "| Year        | 0                |\n",
    "| Origin      | 14                |\n"
   ]
  },
  {
   "cell_type": "markdown",
   "id": "84fffc08",
   "metadata": {},
   "source": [
    "<span style=\"color:blue\">\n",
    "    \n",
    "- Submodel variable has a lot of NaN values"
   ]
  },
  {
   "cell_type": "markdown",
   "id": "c3fa7cc2",
   "metadata": {},
   "source": [
    "### 3.2. Most frequent itens\n",
    "<a id='3.2'>"
   ]
  },
  {
   "cell_type": "code",
   "execution_count": 122,
   "id": "2d92f276",
   "metadata": {},
   "outputs": [
    {
     "data": {
      "text/html": [
       "<div>\n",
       "<style scoped>\n",
       "    .dataframe tbody tr th:only-of-type {\n",
       "        vertical-align: middle;\n",
       "    }\n",
       "\n",
       "    .dataframe tbody tr th {\n",
       "        vertical-align: top;\n",
       "    }\n",
       "\n",
       "    .dataframe thead th {\n",
       "        text-align: right;\n",
       "    }\n",
       "</style>\n",
       "<table border=\"1\" class=\"dataframe\">\n",
       "  <thead>\n",
       "    <tr style=\"text-align: right;\">\n",
       "      <th></th>\n",
       "      <th>Brand</th>\n",
       "      <th>Model</th>\n",
       "      <th>Submodel</th>\n",
       "      <th>Year</th>\n",
       "      <th>Origin</th>\n",
       "    </tr>\n",
       "  </thead>\n",
       "  <tbody>\n",
       "    <tr>\n",
       "      <th>count</th>\n",
       "      <td>2271</td>\n",
       "      <td>2262</td>\n",
       "      <td>2000</td>\n",
       "      <td>2272</td>\n",
       "      <td>2258</td>\n",
       "    </tr>\n",
       "    <tr>\n",
       "      <th>unique</th>\n",
       "      <td>94</td>\n",
       "      <td>480</td>\n",
       "      <td>1338</td>\n",
       "      <td>428</td>\n",
       "      <td>17</td>\n",
       "    </tr>\n",
       "    <tr>\n",
       "      <th>top</th>\n",
       "      <td>Citroën</td>\n",
       "      <td>CX</td>\n",
       "      <td>GT</td>\n",
       "      <td>1974 - 1975</td>\n",
       "      <td>Italy</td>\n",
       "    </tr>\n",
       "    <tr>\n",
       "      <th>freq</th>\n",
       "      <td>335</td>\n",
       "      <td>97</td>\n",
       "      <td>23</td>\n",
       "      <td>42</td>\n",
       "      <td>780</td>\n",
       "    </tr>\n",
       "  </tbody>\n",
       "</table>\n",
       "</div>"
      ],
      "text/plain": [
       "          Brand Model Submodel         Year Origin\n",
       "count      2271  2262     2000         2272   2258\n",
       "unique       94   480     1338          428     17\n",
       "top     Citroën    CX       GT  1974 - 1975  Italy\n",
       "freq        335    97       23           42    780"
      ]
     },
     "execution_count": 122,
     "metadata": {},
     "output_type": "execute_result"
    }
   ],
   "source": [
    "db.describe()"
   ]
  },
  {
   "cell_type": "markdown",
   "id": "d4501f00",
   "metadata": {},
   "source": [
    "<span style=\"color:blue\">\n",
    "    \n",
    "- **Brand** --> 94 unique classic car brands, citroen as most popular brand with 335 different classic car models\n",
    "    \n",
    "- **Model** --> 480 unique classic car models, CX is the most frequent model, with 97 models named\n",
    "    \n",
    "- **Submodel** --> 1338 unique classic car submodels, GT is the most frequent submodel, with 23 submodels named\n",
    "    \n",
    "- **Year** --> the most frequent manufactured year is between 1974 and 1975, with 42 classic cars manufactured\n",
    "    \n",
    "- **Origin** --> Italy is the country with the most classic cars manufactures, with a total of 780 cars"
   ]
  },
  {
   "cell_type": "markdown",
   "id": "16089509",
   "metadata": {},
   "source": [
    "### 3.3. Brand variable\n",
    "<a id='3.3'>"
   ]
  },
  {
   "cell_type": "code",
   "execution_count": 123,
   "id": "be7d5f95",
   "metadata": {},
   "outputs": [
    {
     "name": "stdout",
     "output_type": "stream",
     "text": [
      "['16', '18', '206', '208', '246', '308', 'Abarth', 'Adler', 'Alfa Romeo', 'Allard', 'ALPINA', 'Alpine', 'Alta', 'Alvis', 'Amphicar', 'Apollo', 'Armstrong Siddeley', 'Arnolt-Bristol', 'Ascort', 'Aston Martin', 'Audi', 'Austin', 'Austin-Healey', 'Authi', 'Auto Union', 'Autobianchi', 'Bentley', 'Bitter', 'Bizzarini', 'BMW', 'Borgward', 'Bristol', 'Bugatti', 'Buick', 'Cadillac', 'Chevrolet', 'Citroëm', 'Citroën', 'Daf', 'DAF', 'Daimler', 'Datsun', 'De Tomaso', 'Delage', 'Delahaye', 'DeLorean', 'DKW', 'Donkervoort', 'Excalibur', 'Facel Vega', 'Ferrari', 'Fiat', 'Ford', nan, 'Fuldamobil', 'Glas', 'Goggomobil', 'Heinkel', 'Honda', 'Innocenti', 'Iso Rivolta', 'Jaguar', 'Jeep', 'Jensen', 'Lamborghini', 'Lancia', 'Land Rover', 'Landrover', 'Lloyd', 'Lotus', 'Maserati', 'Matra', 'Mercedes-Benz', 'Messerschmitt', 'MG', 'Morris', 'NSU', 'Opel', 'Peugeot', 'Porsche', 'Renault', 'Rolls-Royce', 'Rover', 'Saab', 'Simca', 'Simca 9', 'Sunbeam', 'Talbot', 'Trabant', 'Triumph', 'TVR', 'Volkswagen', 'Volvo', 'Wartburg', 'Zündapp']\n"
     ]
    }
   ],
   "source": [
    "unique_brand = db['Brand'].unique().tolist()\n",
    "print(unique_brand)"
   ]
  },
  {
   "cell_type": "markdown",
   "id": "98523500",
   "metadata": {},
   "source": [
    "<span style='color:blue'> \n",
    "    \n",
    "**To solve:**\n",
    "    \n",
    "- remove accents and hifens \n",
    "    \n",
    "- citroem to citroen , DAF to Daf, Simca 9 to Simca\n",
    "    \n",
    "**Values to explore:**\n",
    "    \n",
    "- 16, 18, 206, 208, 246, 308, nan, Simca 9 "
   ]
  },
  {
   "cell_type": "markdown",
   "id": "8e1c8be6",
   "metadata": {},
   "source": [
    "### 3.4. Model variable\n",
    "<a id='3.4'>"
   ]
  },
  {
   "cell_type": "code",
   "execution_count": 124,
   "id": "4e94d4f3",
   "metadata": {},
   "outputs": [
    {
     "name": "stdout",
     "output_type": "stream",
     "text": [
      "[nan, '1 281 100', '1.1', '100', '100-4', '100-4 BN1', '100-6', '1000', '1004', '100M', '107', '109', '1200', '1204', '122', '124', '124 Estate', '124 Special', '124 Special T', '124 Sport Coupe 1400', '124 Sport Coupe 1600', '124 Sport Coupé', '124 Sport Spider 1400', '124 Sport Spider 1600', '124 Sport Spider 1800', '126', '126 L', '126 Sunroof', '127', '128', '128 1100 Special', '128 1300 Special', '128 Kombi 1100', '128 Rally', '128 Sport Coupé S', '128 Sport Coupé SL', '130', '130 2.9 V6', '130 3.2 V6', '130 Coupé 3.2 V6', '1300', '1304', '131', '132', '135', '145', '146', '1500', '1600', '164', '166 Inter', '17 M', '170', '1700', '1750 Spider', '190 SL', '1900', '2 Liter', '2.8', '200', '2000', '2002', '204', '208', '220', '2200', '228', '230', '240', '242', '250', '2500', '2500 M', '260', '2600', '280', '2800', '288', '3.0', '3.3', '30', '300', '300 SL', '3000', '3000 Mk I', '3000 Mk II', '3000 Mk III', '303', '308', '309', '31', '32', '320', '3200', '326', '327', '328', '33', '330', '340', '345', '348', '350', '3500', '3500 GT', '353', '356', '380', '3=6', '4 Litre', '400', '400i', '401', '402', '403', '404', '405', '406', '407', '408', '409', '410', '411', '412', '44', '456', '456M', '46', '4CV', '50', '500', '500 N', '500 Sport', '5000', '501', '503', '504', '507', '512', '518', '520', '524', '525', '528', '5300 GT', '535', '55', '550', '6', '600', '600 SL', '628', '630', '633', '635', '66', '6C 2500', '6c 2500', '7 CV', '700', '725', '728', '730', '732', '733', '735', '740', '745', '75', '750', '770', '800', '840', '850', '850 Coupé', '850 N', '850 S', '850 Special', '850 Spider', '850 Sport Coupé', '850 Sport Spider', '86', '88', '9', '90', '911', '912', '914', '92', '924', '940', '944', '95', 'A 110', 'A 112', 'A 30', 'A 35', 'A 40', 'A-112', 'A200', 'A310', 'A40', 'A610', 'AX', 'Accord', 'Aerodjet', 'Aleander TS', 'Alexander', 'Alfasud', 'Alfasud Sprint', 'Alfetta', 'Allfetta', 'Alpine', 'Ami', 'Anglia', 'Appia', 'Arabella', 'Arnage', 'Aurelia', 'Austin', 'Autobianchi', 'B10', 'B3', 'B6', 'B7', 'B8', 'B9', 'Bagheera', 'Beetle', 'Beta', 'Beta Berlina 2000', 'Biturbo', 'Bolide Roadster', 'Bora', 'Boxster', 'Brooklands', 'C 4', 'C1', 'CD', 'CR-V', 'CX', 'Camaro', 'Camaro SS 350', 'Capri', 'Cherokee', 'Civic', 'Commodore', 'Concerto', 'Consul', 'Continental R', 'Corniche', 'Cortina', 'Corvette', 'Countach', 'Coupe de Ville', 'Coupé', 'Custom Sportwagon', 'D6', 'DB2', 'DB2/4', 'DB7', 'DMC', 'DMC 12', 'DS', 'DS 420', 'Deauville', 'Dedra', 'Defender', 'Delta', 'Deluxe Coupe', 'Deluxe Roadster', 'Derivazione Abarth', 'Diablo', 'Dino Coupé 2.0 V6', 'Dino Coupé 2.4 V6', 'Dino Spider 2.0 V6', 'Dino Spider 2.4 V6', 'Discovery', 'Djet I', 'Djet II', 'Djet III', 'Djet IV', 'Djet V', 'Dyane', 'E-Type', 'Electra', 'Espada', 'Esprit', 'Excellence', 'F102', 'F11', 'F12', 'F7', 'FA 600', 'FV-FVS', 'Facel 6', 'Facel II', 'Facel III', 'Facellia', 'Flaminia', 'Front', 'Fulvia', 'GS 1015', 'GS 1130', 'GS 1220', 'GS 1300', 'GS Break 1015', 'GS Break 1130', 'GS Break 1220', 'GSA', 'GSA Break Club', 'GSA Break Special', 'GSA Club', 'GSA Pallas', 'GSA Special', 'GSA X3', 'GT', 'Gamma', 'Ghibli', 'Giuletta', 'Giulia', 'Giulia Spider', 'Giulietta', 'Golf', 'Granada', 'Grand Cherokee', 'Grantura', 'H.P.Executive', 'HK 500', 'Hansa', 'Healey', 'Hurricane', 'Hurricane Preselector', 'ID', 'IR 300', 'IR 450', 'Indy', 'Interceptor', 'Isabella', 'Isar', 'Isetta', 'Islero', 'J2', 'Jalpa', 'Janus', 'Jarama', 'Jet', 'Junior', 'KR 200', 'Kabine', 'Kadett', 'Kappa', 'Khamsin', 'Kharif', 'Kyalami', 'LM002', 'LN', 'Limousine', 'Longchamp', 'Lybra', 'M1', 'M350', 'M535', 'M635', 'MGA', 'MGB', 'MGC', 'Mangusta', 'Matra Murena', 'Mehari', 'Merak', 'Mexico', 'Mini', 'Minor', 'Mistral', 'Miura', 'Mk II', 'Mondial', 'Montreal', 'Munga', 'Mustang', 'Olympia', 'Opel', 'P 100', 'P 1800', 'P1800', 'Pantera', 'Pininfarina Spidereuropa Volumex', 'Pininfarina Spidereuropa i.e.', 'Pininfarina Spidereuropa i.e. Kat.', 'Prisma', 'R', 'Range Rover', 'Rekord', 'Ritmo', 'Ro 80', 'Roadster', 'S', 'S 1004', 'S 1204', 'S-7', 'S2', 'S3', 'S7', 'S8', 'SC', 'SM 2.7 V6', 'SM 2.7 V6  Automatic', 'SM 2.7 V6 Inj.', 'SM 3.0 V6', 'SP 250', 'SS Phaeton', 'Sebring', 'Series 40', 'Series 62', 'Series III', 'Series IV', 'Shamal', 'Silhouette', 'Silver Shadow', 'Silver Spirit', 'Simca', 'Sonett', 'Speed 20', 'Spider 2000', 'Spitfire', 'Sprint Veloce', 'Sprite', 'Stag', 'Star Sapphire Saloon', 'Stratos', 'Super DeLuxe', 'T 250', 'T 300', 'T 400', 'TC', 'TD', 'TD21', 'TE 21', 'TF', 'TF 21', 'TR 6', 'TR250', 'TR3', 'TR4', 'TSV 1300', 'Taunus', 'Testarossa', 'Thema', 'Traction Avant', 'Trevi', 'Trumpf', 'Turbo', 'Type 10', 'Type 44', 'Type 50', 'Type 57', 'Urraco', 'Ursaab', 'V8', 'Victoria', 'Vitesse', 'Wankel-Spider', 'Whitley', 'Wildcat', 'Wrangler', 'X 1/9', 'X 1/9 Bertone', 'X 1/9 Bertone S', 'XJ', 'XJ-S', 'XJ-SC', 'XJR-S', 'XJS', 'XK 120', 'XK 140', 'XK 150', 'XM', 'ZX', 'Zagato', 'Zagote']\n"
     ]
    }
   ],
   "source": [
    "unique_model = db['Model'].unique().tolist()\n",
    "unique_model_ordem = sorted(unique_model, key=lambda x:(isinstance(x,str),x))\n",
    "print(unique_model_ordem)"
   ]
  },
  {
   "cell_type": "markdown",
   "id": "1ab1cc23",
   "metadata": {},
   "source": [
    "### 3.5. Submodel variable\n",
    "<a id='3.5'>"
   ]
  },
  {
   "cell_type": "code",
   "execution_count": 125,
   "id": "d21ce7d9",
   "metadata": {},
   "outputs": [
    {
     "name": "stdout",
     "output_type": "stream",
     "text": [
      "[nan, '\"Gullwing\"', '(Tipo 116)', '/4', '1.0 Harmonie', '1.0 Teen', '1.0 Teen Pop', '1.0 Teen Spot', '1.0 Teen Tonic', '1.0 Top', '1.1 Fashion', '1.1 First', '1.1 GL', '1.1 GLS', '1.1 Hit', '1.1 LS', '1.1 TRS Classic', '1.2', '1.2 L', '1.3', '1.3  Tipo 116 2a', '1.3 GLS', '1.3 L', '1.3 LSi', '1.3 Milano', '1.3 Rallye 2', '1.3 SC', '1.3 SL', '1.3 Super', '1.3 ti', '1.3i', '1.3i Basic', '1.3i Catalyst', '1.3i Catalyst College', '1.3i College', '1.3i Noblesse', '1.4', '1.4 16V T.Spark', '1.4 16V T.Spark Edizione Sportiva', '1.4 16V T.Spark Junior', '1.4 16V T.Spark L', '1.4 16V T.Spark Limited Edition 500', '1.4 4x4', '1.4 Avantage', '1.4 Blue Note', '1.4 D First', '1.4 D TGD', '1.4 D Teen', '1.4 Easy', '1.4 Fashion', '1.4 GL', '1.4 GT', '1.4 GTI', '1.4 Harmonie', '1.4 I.E. Imola', '1.4 I.E. L', '1.4 L', '1.4 Premiere', '1.4 Prestige', '1.4 Reflex', '1.4 TZX Tecnic', '1.4 Tonic', '1.4 X', '1.5', '1.5 4x4', '1.5 D Teen', '1.5 D Top', '1.5 GT', '1.5 LSi', '1.5 Milano', '1.5 Quadrifoglio', '1.5 Quadrifoglio Oro', '1.5 Quadrifoglio Verde', '1.5 S', '1.5 SL', '1.5 Super', '1.5 Ti', '1.5 VEi', '1.5 Veloce', '1.5 ti', '1.5i', '1.5i Catalyst', '1.5i Catalyst GT', '1.5i City Edition', '1.6', '1.6 16V T.Spark', '1.6 16V T.Spark Edizione Sportiva', '1.6 16V T.Spark Junior', '1.6 16V T.Spark Limited Edition 500', '1.6 16v', '1.6 16v LE', '1.6 16v LX', '1.6 Aura', '1.6 Avantage', '1.6 ESi', '1.6 EX', '1.6 EX Hondamatic', '1.6 GL', '1.6 GLX', '1.6 GT', '1.6 L', '1.6 LE', '1.6 LS', '1.6 LX', '1.6 SX', '1.6 Tipo 116 2a', '1.6 VTi', '1.6 i.e.', '1.6 i.e. LE', '1.6i', '1.6i Catalyst', '1.6i Catalyst GL', '1.6i VTEC Catalyst', '1.7', '1.7 16V', '1.7 I.E.', '1.7 I.E. Cat', '1.7 Quadrifoglio Verde', '1.7 V4', '1.7 V4 L', '1.8', '1.8 16V T.Spark', '1.8 16v', '1.8 16v LE', '1.8 16v LS', '1.8 16v LX', '1.8 Aura', '1.8 Aura Automatic', '1.8 EX', '1.8 Furio', '1.8 GLi', '1.8 GT', '1.8 IE', '1.8 IE Catalytic', '1.8 L', '1.8 L Tipo 116 2a', '1.8 LE', '1.8 LS', '1.8 SX Automatic', '1.8 Turbo America', '1.8 i.e.', '1.8 i.e. LE', '1.8i', '1.8i LS', '1.9 D Aura', '1.9 D Avantage', '1.9 D Reflex', '1.9 D Volcane', '1.9 D X', '1.9 JTD 8V', '1.9 JTD 8V Edizione Sportiva', '1.9 JTD 8V Limited Edition 500', '1.9 TD Aura', '1.9 TD Avantage', '1.9 TD SX', '1.9 Volcane', '1.9 Volcane Automatic', '1.9 jtd', '1.9 jtd 16v', '1.9 jtd 16v LX', '1.9 jtd LX', '1.9 td LE', '1.9 td LS', '1.9 tds', '1.9 tds LE', '1.9 tds LS', '10 E', '1000', '1000 E', '1000 S', '1000 Tourer', '1000 Traveller', '1050 CL', '1050 L', '11', '11 B Cabrio', '11 CV', '11 Catalyst Image', '11 Catalyst Le Noir', '11 Catalyst Monpti', '11 Catalyst Plaisir', '11 Catalyst Salsa', '11 Catalyst Super Monpti', '11 Catalyst TRE Classic', '11 Catalyst TRE Tecnic', '11 Catalyst Tonic', '11 Catalyst Triade', '11 Commerciale', '11 D Commerciale', '11 D Normale', '11 E', '11 Familiale', '11 Legere', '11 Monpti', '11 Platin', '11 RE', '11 S', '11 TRE', '11L Hard-top Cabriolet', '12 5.3 Automatic', '12 5.3 Catalyst Sovereign Automatic', '12 5.3 Double Six Automatic', '12 5.3 HE Automatic', '12 5.3 Sovereign HE Automatic', '12 5.3 Vanden Plas HE Automatic', '120 L', '1200', '1200 Deluxe', '1200 L', '1275 GT', '128 Sport Coupé S', '130 TC', '1300', '1300 GT', '1300 L', '1300 Marathon', '1303 S', '14 Catalyst Formel', '14 Catalyst GT', '14 Catalyst Opera de Paris', '14 Diesel Monpti', '14 Diesel RD Classic', '14 Diesel TRD Tecnic', '14 GT', '14 TRS', '14 TRS Classic', '14 TSZ', '1400 CL', '15', '15 Familiale', '150 S OTS', '1500', '1500 Cabriolet', '1500 Combi', '1500 Sport-Cabriolet', '1500 i.e. Catalyst', '1600', '1600 CL', '1600 GL', '1600 GLS', '1600 GT', '1600 HF Rallye Turbo i.e Catalyst', '1600 HF Turbo', '1600 HF Turbo Martini', '1600 Hondamatic', '1600 LX', '1600 Special', '1600 XL', '1600 i.e.', '1600 i.e. Catalyst', '1600 i.e. Catalyst GT', '1600 i.e. Catalyst Gran Turismo', '1600 i.e. Catalyst Sport', '1600 i.e. Catalyst Super', '1600 i.e. GT', '16V', '16V Q4', '16v Catalyst ABS', '16v LE', '17 M', '1700 GT', '175', '1800', '1800 Cabriolet', '1800 Combi', '1800 Combi Diesel', '1800 Diesel', '1800 GLS', '1800 GLS Automatic', '1800 Special', '1800 Special Automatic', '1800 Sport-Cabriolet', '19', '19 Break', '1900', '1900 Turbo DS', '1900 tds', '1A Duetto', '2.0', '2.0 16V', '2.0 16V SX Automatic', '2.0 16V T.Spark Quadrifoglio', '2.0 16v GT', '2.0 16v LE', '2.0 16v LS', '2.0 16v LX', '2.0 20v Executive', '2.0 20v LE', '2.0 20v LS', '2.0 20v LS Automatic', '2.0 20v LX', '2.0 20v LX Comfortronic', '2.0 Catalyst EX', '2.0 Catalyst EX Automatic', '2.0 EX', '2.0 GL', '2.0 GT', '2.0 HF turbo 16v LS', '2.0 Iniezione', '2.0 L', '2.0 LS Automatic', '2.0 S', '2.0 T. Spark', '2.0 T. Spark Cat.', '2.0 T. Spark Catalytic', '2.0 T. Spark Catalytic Limited Edition', '2.0 TD', '2.0 Turbo C.T. Pallas', '2.0 Turbo C.T. SX', '2.0 Turbo C.T. SX Automativ', '2.0 Turbo C.T. VSX', '2.0 Twin Spark', '2.0 V6', '2.0 V6 GL', '2.0 V6 Ghia', '2.0 V6 L', '2.0 V6 S', '2.0 V6 Turbo', '2.0 Volcane', '2.0 i.e.', '2.0 i.e. LS', '2.0 tds', '2.0 tds LE', '2.0 turbo 16v', '2.0 turbo 20v', '2.0i', '2.0i Catalyst EX', '2.0i ES', '2.0i ES Automatic', '2.0i EX', '2.0i LS', '2.0i LS Automatic', '2.0i Prestige', '2.0i Prestige Automatic', '2.0i S', '2.0i-16', '2.0i-16 Catalyst EX', '2.0i-16 EX', '2.0i-16 Limited Edition', '2.1 TD', '2.1 TD Base', '2.1 TD Euro', '2.1 TD Limited', '2.1 Turbo D 12 SX', '2.1 Turbo D 12 SX Automatic', '2.1 Turbo D 12 VSX', '2.2i', '2.2i Limited Edition', '2.3', '2.3 L', '2.3 V6', '2.3 V6 GT', '2.3 V6 GXL', '2.3 V6 Ghia', '2.3 V6 S', '2.3 V6 Super GT', '2.3 V6 XL', '2.3i SR', '2.4', '2.4 20v', '2.4 20v LS', '2.4 20v LS Automatic', '2.4 20v LX', '2.4 D GL Classic', '2.4 Turbo Diesel', '2.4 Turbodiesel', '2.4 jtd 10v Executive', '2.4 jtd 10v LS', '2.4 jtd 10v LX', '2.4 jtd 20v Executive', '2.4 jtd 20v Intensa', '2.4 jtd 20v LX', '2.4 tds LE', '2.4 tds LS', '2.5', '2.5 D SE', '2.5 Jamboree', '2.5 Litre', '2.5 TD', '2.5 TD Anniversary', '2.5 TD Country', '2.5 TD LX', '2.5 TD Limited', '2.5 TD Mounty', '2.5 TD Sport', '2.5 Tiptronic', '2.5 Turbo D Exclusive', '2.5 Turbo D Pallas', '2.5 Turbo D SX', '2.5 Turbo D VSX', '2.5 Turbo Diesel', '2.5 V6 Cat.Quadrifoglio Verde', '2.5 V6 Catalytic', '2.5 V6 Quadrifoglio Oro', '2.5 V6 Quadrifoglio Verde', '2.6 V6', '2.6 V6 GXL', '2.6 V6 Ghia', '2.6 V6 XL', '2.7', '2.8', '2.8 V6 Turbo', '2.8 V6 injection', '2.8 V6 injection Super', '20', '20 Pallas', '20 RE', '200', '2000', '2000 (TRA)', '2000 Athena', '2000 Automatic', '2000 Confort', '2000 GT', '2000 Reflex', '2000 Special Edition', '2000 Super', '2000 i.e.', '2000 i.e. Automatic', '21', '21 Injection', '22 TRS', '2200 D', '2200 D Confort', '2200 D Pallas', '2200 D Super', '23', '23 Injection', '23 Injection bv5', '2300 GT', '2400 GTi', '2400 Inj. GTi', '2400 Inj. Pallas', '2400 Pallas', '2400 Pallas C-Matic', '2400 S', '2400 S Hansa-Matic', '2400 S Pullmann', '2400 S Pullmann Hansa-Matic', '2400 Super', '25 Anniversario', '25 D', '25 D Pallas', '25 D RD', '25 D Turbo', '25 D Turbo Classic', '25 D Turbo Croisette', '25 D Turbo RD', '25 D Turbo RD 2', '25 D Turbo TRD', '25 D Turbo TRD 2', '25 GTI', '25 GTi', '25 Kat GTI', '25 Kat. Prestige C-matic', '25 Pallas', '25 Pallas Gti', '25 Prestige C-matic', '25 RI', '25 Turbo GTI 2', '25 Turbo GTi', '25 Turbo Kat. GTI 2', '25 Turbo Prestige 2', '250', '250 Export 57', '250 Export 58', '250 Standard 57', '2500', '2500 D Confort', '2500 D Pallas', '2500 D Reflex', '2500 Diesel', '2500 Diesel L', '2500 Diesel Super', '2600 GT', '2600 RS', '2600 Spider', '289', '289 Fastback', '289 Hardtop', '2nd Generation Series 62', '3-Litre', '3.0', '3.0 AWD', '3.0 V6', '3.0 V6 24V Exclusive', '3.0 V6 24v Automatic', '3.0 V6 24v LS', '3.0 V6 24v LS Automatic', '3.0 V6 24v LX', '3.0 V6 24v LX Automatic', '3.0 V6 Automatic', '3.0 V6 Cat. Quadrifoglio Verde', '3.0 V6 Catalytic America', '3.0 V6 Exclusive', '3.0 V6 Exclusive Automatic', '3.0 V6 Exclusive Automatik', '3.0 V6 GT', '3.0 V6 GXL', '3.0 V6 Ghia', '3.0 V6 Pallas', '3.0 V6 Pallas Automatic', '3.0 V6 Q4', '3.0 V6 S', '3.0 V6 SX', '3.0 V6 SX Automatic', '3.0 V6 Super', '3.0 V6 VSX', '3.0 V6 VSX Automatic', '3.0 V6 XL', '3.2', '3.2 Catalyst', '3.3 Fastback', '3.3 Hardtop', '3.4', '3.5', '3.5 Catalyst', '3.5 V8', '3.5 V8 Catalyst Vogue Efi', '3.5 V8 S', '3.5 V8 Vogue Efi', '3.5/1', '3.6 Automatic', '3.8', '3.8 FHC', '3.8 Roadster', '3.9', '3.9 V8 Catalyst Classic', '3.9 V8 Catalyst Vogue', '3.9 V8 Catalyst Vogue SEi', '3.9 V8 Catalyst Vogue Sei', '300', '300 Export 57', '300 Export 58', '300 Standard 57', '3000 GT', '3000 GXL', '302 Boss', '302 Mach I', '33 Giardinetta 1.5', '3500 GTi', '351 Boss', '351 Mach I', '390', '3L Mk I Saloon', '4', '4.0', '4.0 Automatic', '4.0 Country', '4.0 Euro Automatic', '4.0 Euro Laredo Automatic', '4.0 Euro Limited Automatic', '4.0 Limited Automatic', '4.0 SE', '4.0 Switch-Tronic', '4.2', '4.2 FHC', '4.2 FHC 2+2', '4.2 Roadster', '4.2 V8 Catalyst LSEi', '4.6', '4.6 HSE', '4.6 Switch-Tronic', '4.6 Vogue', '4.7', '4.9', '400 GT', '420 S', '420 Si', '420 i', '4200', '425', '429 Mach I', '430 Cat.', '4WD', '5.2 Euro Limited Automatic', '5.7 V12', '5.7 V12 SV', '5.7 V12 VT', '6', '6 2.8 Automatic', '6 3.4', '6 4.2', '6 4.2 Automatic', '6 4.2 Catalyst Sovereign Automatic', '6 4.2 Sovereign', '6.0 V12 VT', '6.8', '60', '65', '6V', '6V ABS', '70', '75', '8', '8.32', '8.32 Catalyst', '80', '83', '850', '90', '900 CL', '900 L', '900 Turismo', '900/L', '900/c', 'A', 'A Coupé 1300', 'A112', 'AT', 'AT Catalyst', 'Abarth', 'Aero Deck 2.0 Catalyst EX', 'Aero Deck 2.0 EX', 'Aero Deck 2.0i', 'Aero Deck 2.0i Catalyst EX', 'Aero Deck 2.0i ES', 'Aero Deck 2.0i EX', 'Aero Deck 2.0i LS', 'Aero Deck 2.2i', 'Appia Vignale Convertible', 'Automatic', 'Automatica', 'Avant 1.6 GL', 'Avant 1.6 L', 'Avant 1.9 CL', 'Avant 1.9 GL', 'Avant 2.0 Diesel CD', 'Avant 2.0 Diesel CD5D', 'Avant 2.0 Diesel CL', 'Avant 2.0 Diesel GL', 'Avant 2.0 Diesel GL5D', 'Avant 2.0 Diesel L5D', 'Avant 2.2 CD', 'Avant 2.2 CD5E', 'Avant 2.2 CD5S', 'Avant 2.2 CL', 'Avant 2.2 GL', 'Avant 2.2 GL5E', 'Avant 2.2 GL5S', 'Avant 2.2 L5E', 'Avant 2.2 L5S', 'B Cabriolet 1600', 'B Coupe', 'B Coupé 1600', 'B Coupé 1600 Super 75', 'B Coupé 1600 Super 90', 'B Deluxe', 'B Roadster 1600 Super 90', 'B10', 'B50 Ccoupe', 'BB', 'BJ7', 'BJ8', 'BN2', 'BN4', 'BN6', 'BN7', 'BT7', 'Basalt', 'Basalt C- Matic', 'Bauer Cabrio', 'Berlina', 'Berlina 1300', 'Berlina 1400', 'Berlina 1600', 'Berlina 1800', 'Berlina 1C', 'Berlina 2000', 'Berlina 2500', 'Berlina 2500 i.e', 'Berlina 2C', 'Berlina GT', 'Berlina GTE', 'Berlina i.e.', 'Berlinette', 'Bertone i.e. Kat. S', 'Beta (828) Berlina', 'Bi-Turbo', 'Bialbero', 'Bis', 'Break 1.4 Avantage', 'Break 1.4 SX', 'Break 1.4 Tonic', 'Break 1.4 X', 'Break 1.6 Aura', 'Break 1.6 Avantage', 'Break 1.6 SX', 'Break 1.6 Tonic', 'Break 1.8 SX Automatic', 'Break 1.9 D Avantage', 'Break 1.9 D Tonic', 'Break 1.9 D X', 'Break 1.9 TD Avantage', 'Break 1.9 TD SX', 'Break 1.9 TD Tonic', 'Break 2.0 16V SX', 'Break 2.5 Turbo D SX', 'Break 2.5 Turbo D VSX', 'Break 20', 'Break 20 Familiale', 'Break 20 RE', 'Break 2000 Confort', 'Break 2000 Reflex', 'Break 2000 Reflex Familiale', 'Break 2200 D', 'Break 2200 D Confort', 'Break 2200 D Super', 'Break 2200 D Super Familiale', 'Break 2400 Inj. Reflex', 'Break 2400 Inj. Reflex Familiale', 'Break 2400 Super', 'Break 2400 Super C-matic', 'Break 2400 Super Familiale', 'Break 25', 'Break 25 D', 'Break 25 D Familiale', 'Break 25 D RD', 'Break 25 D Turbo TRD', 'Break 25 Familiale', 'Break 25 Kat. RI Familiale', 'Break 25 Kat. TRI', 'Break 25 RI Familiale', 'Break 25 TRI', 'Break 2500 D Confort', 'Break 2500 D Familiale', 'Break 2500 D Pallas', 'Break 2500 D Reflex', 'Break 2500 D Reflex Familiale', 'Break 2500 D Super', 'Break 2500 D Super Familiale', 'Break 3.0 V6 SX', 'Break 3.0 V6 SX Automatic', 'Break Turbo C.T. SX', 'Break Turbo C.T. SX Automatic', 'Break Turbo C.T. VSX', 'Break Turbo D 12 SX', 'Break Turbo D 12 SX Automatic', 'Break Turbo D 12 VSX', 'Break1.8 Aura Automatic', 'C', 'C Automatic', 'C Coupé 1600 SC', 'C Sport', 'C-Matic', 'C-matic', 'C1', 'C2.0 16V', 'CE', 'CL', 'CS', 'CSi', 'CSi Coupé', 'CSi Kat.Coupé', 'CX 25 D Turbo RD', 'Cabrio', 'Cabriolet', 'Cabriolet 1.8 Cat. Sportline Automatic', 'Cabriolet 1100', 'Cabriolet 1200', 'Cabriolet 1302 LS', 'Cabriolet 1303 LS', 'Cabriolet 3.0', 'Cabriolet 3.2', 'Cabriolet 4.0', 'Cabriolet 4.6', 'Cabriolet 6.0 V12 Automatic', 'Cabriolet Bertone', 'Cabriolet Farina', 'Cabriolet S2 Catalyst', 'Cabriolet Ti', 'Cabriolet Touring', 'Cabriolet V12 Automatic', 'Cabriolet V12 Catalyst Automatic', 'Carrera Cabriolet', 'Carrera Cabriolet 4', 'Carrera Coupe', 'Carrera Coupe Catalyst', 'Carrera Coupé', 'Carrera Coupé 4', 'Carrera GT', 'Carrera RS 2.7 Sport', 'Catalyst', 'Catalyst Automatic', 'Catalyst TRS Tecnic', 'Chapron', 'Ci', 'Club', 'Club C-Matic', 'Club C-matic', 'Cobra Jet', 'Combi', 'Combi Marathon', 'Confort', 'Continental Flying Spur Mulliner-Park Ward', 'Continental Mulliner-Park Ward', 'Cooper', 'Countryman', 'Coupe', 'Coupe 2.0 E', 'Coupe 2.0 L', 'Coupe 2.0 S', 'Coupe 2.0 T', 'Coupe 2.2 T', 'Coupe 2.3 V6', 'Coupe 2.3 V6 GXL', 'Coupe 2.3 V6 Ghia', 'Coupe 2.3 V6 XL', 'Coupe 2.4 T', 'Coupe 2.6 V6', 'Coupe 2.6 V6 GXL', 'Coupe 2.6 V6 Ghia', 'Coupe 2.6 V6 XL', 'Coupe 2.8', 'Coupe 2200', 'Coupe 3.0', 'Coupe 3.0 V6', 'Coupe 3.0 V6  GXL', 'Coupe 3.0 V6 GXL', 'Coupe 3.0 V6 Ghia', 'Coupe 3.0 V6 XL', 'Coupe 3.2', 'Coupe 4.6', 'Coupe Cabriolet', 'Coupe Marathon', 'Coupe S', 'Coupe S de Luxe', 'Coupe SL', 'Coupe de Alps', 'Coupé', 'Coupé 1.2', 'Coupé 1.2 HF', 'Coupé 1.3', 'Coupé 1.3 HF', 'Coupé 1.3 S', 'Coupé 1.3 S Montecarlo', 'Coupé 1.3 S Rallye', 'Coupé 1.3 S Safari', 'Coupé 1.5 LSi', 'Coupé 1.5 LSi Pro-Tec', 'Coupé 1.5i', 'Coupé 1.5i Pro-Tec', 'Coupé 1.6 ESi', 'Coupé 1.6 ESi Del Sol', 'Coupé 1.6 ESi Pro-Tec', 'Coupé 1.6 HF', 'Coupé 1.6 HF Lusso', 'Coupé 1.6 VTi Del Sol', 'Coupé 1.7 V4', 'Coupé 1.7 V4 L', 'Coupé 1600', 'Coupé 1800', 'Coupé 2.0', 'Coupé 2.0 L', 'Coupé 2.0 V6', 'Coupé 2.0 V6L', 'Coupé 2.0i', 'Coupé 2.2i ES', 'Coupé 2.3 V6 GT', 'Coupé 2000', 'Coupé 2500', 'Coupé 2500 i.e.', 'Coupé 3', 'Coupé 3.0 V6 GT', 'Coupé 3.5', 'Coupé 3.6 Automatic', 'Coupé 3.6 Catalyst Automatic', 'Coupé 3.7', 'Coupé 4.0', 'Coupé 6.0 V12 Automatic', 'Coupé Biposto', 'Coupé Catalyst', 'Coupé E', 'Coupé E II 2.5', 'Coupé ES', 'Coupé HF', 'Coupé S 2.5 U-Cat.', 'Coupé S2', 'Coupé S2 Catalyst', 'Coupé SS', 'Coupé Si 2.5 Cat.', 'Coupé Ti', 'Coupé V12 Automatic', 'Coupé V12 HE Automatic', 'Coupé turbo', 'Crew Cab 110 Td5', 'Crew Cab 110 Td5 E', 'Crew Cab 110 Td5 S', 'Crew Cab 110 Td5 SE', 'Crew Cab 130 Td5', 'Crew Cab 130 Td5 E', 'Crew Cab 130 Td5 S', 'Crew Cab 130 Tdi', 'Csi', 'D', 'D Super 5', 'DB2/4 Mk II', 'DB2/4 Mk III', 'DHC', 'Dafffodil', 'Daffodil', 'De Luxe', 'Diesel LWB Pick-Up', 'Drophead Coupe', 'E', 'ES', 'Estate', 'Estate 2.3ti', 'Estate L', 'Estate Marathon', 'Estate SL', 'Exclusive Serie', 'F', 'F Luxus', 'FHC', 'FHC 5.3 V12', 'Fiat 131 Panorama CL', 'Fixed Head Coupe', 'Folding roof Long', 'Folding roof short', 'Four-Light Saloon', 'Fram King', \"Freccia D'oro\", 'Fulvia Zagato Sport', 'G Roadster', 'GT', 'GT (Tipo 116)', 'GT 1.6 (Tipo 116)', 'GT 350 Shelby', 'GT Convertible', 'GT Coupe', 'GT4', 'GT5 S', 'GTA', 'GTB', 'GTC', 'GTO', 'GTS', 'GTSi', 'GTSi QV', 'GTV (Tipo 116)', 'GTV 2000 Turbodelta (Tipo 116)', 'GTV V( (Tipo 116)', 'Ghia', 'Ghia V6', 'Ghia V8', 'Giardinetta 1.2', 'Giardinetta 1.3', 'Giardinetta 1.5 4x4', 'Giardiniera', 'Gran Turismo', 'Gran Turismo Spyder', 'Green Label', 'HF 4WD', 'HF Integrale', 'HF Integrale 16v', 'HF Integrale 8v', 'HF Integrale 8v Catalyst', 'HF Integrale Evoluzione I 8v Catalyst', 'HF Integrale Evoluzione II 16v Catalyst', 'HF Stradale', 'HF Turbo', 'HPE 1.6', 'HPE 1.8', 'HPE 1.9 td', 'HPE 1600', 'HPE 2.0 16v', 'HPE 2.0 HF turbo 16v', 'HPE 2000', 'Hansa-Matic', 'Hard Top 110 Td5', 'Hard Top 110 Td5 E', 'Hard Top 110 Td5 S', 'Hard Top 110 Td5 SE', 'Hard Top 110 Tdi', 'Hard Top 2.5', 'Hard Top 2.5 Islander', 'Hard Top 2.5 Laredo', 'Hard Top 4.0', 'Hard Top 4.0 Islander', 'Hard Top 4.0 Laredo', 'Hardtop 2.3L', 'I', 'I Automatic', 'I CSi Coupé', 'I Catalyst', 'I Catalyst Automatic', 'I Catalyst Edition', 'I Catalyst Edition Automatic', 'II', 'III', 'J Sport', 'James Young', 'Junior 1 E', 'King Cobra', 'Kombi', 'L', 'L Automatic', 'L Tipo 116 2a', 'L Tipo 116 3a', 'LP400', 'LP400 S', 'LP500 S', 'LP5000 S Quattrovalvole', 'LS', 'LS Luxus', 'LWB Pick-Up', 'LWB SW', 'Long wheel base 2400 Inj. Prestige', 'Long wheel base 2400 Prestige', 'Long wheel base 25 D', 'Long wheel base 25 D Turbo', 'Long wheel base 25 Prestige', 'Long wheel base 2500 D', 'Long wheel base 2500 D Super', 'Luxe', 'Luxus', 'M', 'MGB GT V8', 'MK IV', 'MS', 'Mach I', 'Maranello', 'Marathon', 'Mark I', 'Meisterklasse Cabriolet Saloon', 'Midget', 'Mirafiori  Kombi 1300 Special', 'Mirafiori 1300', 'Mirafiori 1300 Special', 'Mirafiori 1600 Gala', 'Mirafiori 1600 Special', 'Mirafiori CL', 'Mirafiori Kombi1600 Special', 'Mirafiori L', 'Mk I', 'Mk I Drophead Coupe', 'Mk I Saloon', 'Mk II', 'Mk II Drophead Coupe', 'Mk II Saloon', 'Mk III', 'Mk IV', 'Montecarlo 2000', 'Monza', 'Mulliner Drophead Coupe', 'N Standard', 'OTS', 'Olympic', 'Omega', 'Opera', 'P200', 'P250', 'P3', 'P300', 'P350', 'P400', 'P400 S', 'P400 SV', 'PS AM 1', 'Pallas', 'Pallas C- Matic', 'Pallas C-matic', 'Panorama 1600 CL', 'Panorama 2500 D', 'Panorama 2500 D Super', 'Phaeton', 'Pick Up 110 Td5', 'Pick Up 110 Td5 E', 'Powerglide', 'Pritsche kurz F91/6', 'Pritsche lang F91/6', 'Pritsche lang F91/8', 'Quadrifoglio Verde', 'Quattrovalvole', 'R', 'RE', 'RL', 'RT', 'RZ', 'Rally', 'Record Monza Coupé Zagato', 'Red & Brown', 'Red Label', 'Rekord Cabrio', 'Rekord P1 Olympia', 'Roadster', 'Roadster 5.3 V 12', 'Roadster 5.7 V12 VT', 'S', 'S 16V', 'S 16V Q.V', 'S 16V Q.V. Permanent 4', 'S 3.2', 'S 3.2 Tiptronic', 'S 35', 'S Automatic', 'S Coupe', 'S Turbo', 'S1', 'S2', 'S3', 'S400 GT', 'SC Targa', 'SE Automatic', 'SL', 'SL Automatic', 'SP', 'SS', 'SW 110 Td5', 'SW 110 Td5 E', 'SW 110 Td5 S', 'SW 110 Td5 SE', 'SW 110 Tdi', 'SW 90 Td5', 'SW 90 Td5 E', 'SW 90 Td5 S', 'SW 90 Td5 SE', 'SW 90 Td5 Tomb Raider', 'SW 90 Tdi', 'SWB Soft-Top', 'Saloon', 'Sb', 'Scorpione S', 'Sedan', 'Series 1', 'Series 2', 'Series 3', 'Series 4', 'Series 5', 'Series I', 'Series II', 'Series II 1.0', 'Series III', 'Shelby Cobra GT 500 KR', 'Shuttle 1.5', 'Shuttle 1.5 4WD', 'Shuttle 1.5 RT 4WD', 'Shuttle 1.6i Catalyst', 'Shuttle 1.6i Catalyst 4WD', 'Si', 'Si Automatic', 'Soft Top 2.5', 'Soft Top 2.5 Sahara', 'Soft Top 90 Td5', 'Soft Top 90 Td5 E', 'Soft Top 90 Tdi', 'Somerset', 'Sp Coupe', 'Sp Roadster', 'Special', 'Spider', 'Spider 1.4 Multiair Turbo', 'Spider 1.4 Multiair Turbo America Limited Edition', 'Spider 1.4 Multiair Turbo Lusso', 'Spider 2000', 'Sport', 'Sport 1300', 'Sport 81', 'Sport Cabriolet', 'Sport Coupe', 'Sport Coupé', 'Sport Wagon 1.4 I.E. L', 'Sport Wagon 1.7 I.E.', 'Sport Wagon 1.7 I.E. 4x4', 'Sport Wagon 16V', 'Sport Wagon 16V Q4', 'Sport Walter Röhrl', 'Sports', 'Spyder', 'Spyder 4.0', 'Spyder SS', 'Spyder Vignale', 'Spécial', 'Spécial C-matic', 'Standard', 'Station Wagon 1.6 16v LE', 'Station Wagon 1.6 LE', 'Station Wagon 1.6 LS', 'Station Wagon 1.8 16v LE', 'Station Wagon 1.8 16v LS', 'Station Wagon 1.8 16v LX', 'Station Wagon 1.8 LE', 'Station Wagon 1.8 LS', 'Station Wagon 1.9 td LE', 'Station Wagon 1.9 td LS', 'Station Wagon 16v Catalyst ABS', 'Station Wagon 16v LE', 'Station Wagon 2.0 16v Integrale LS', 'Station Wagon 2.0 16v LS', 'Station Wagon 2.0 16v LX', 'Station Wagon V6 LS', 'Station Wagon V6 LX', 'Station Wagon turbo 16v Catalyst ABS', 'Station Wagon turbo 16v LS', 'Station Wagon turbo Catalyst ABS', 'Station Wagon turbo ds', 'Station Wagon turbo ds ABS', 'Station Wagon turbo ds LE', 'Station Wagon turbo ds LS', 'Sunroof', 'Super', 'Super 900', 'Super Sport Cabriolet', 'Super TD', 'Super Twin Spark', 'Super V6 24V', 'Super break', 'Supermirafiori', 'T', 'TB', 'TC Midget', 'TD', 'TE Cat. Automatic 4', 'TL', 'TRE Classic', 'TS', 'TS Cabriolet', 'TS De Luxe', 'Targa', 'Targa 2', 'Targa 2.0 E', 'Targa 2.0 T', 'Tdi', 'Tdi ES', 'Tdi Esquire', 'Tdi Esquire Automatic', 'Tdi Trophy', 'Top', 'Touring', 'Touring 3.0', 'Touring 3.0 AWD', 'Touring 3.2', 'Touring 4.0 Switch-Tronic', 'Touring 4.6', 'Touring 4.6 Switch-Tronic', 'Touring GT', 'Turbo', 'Turbo Coupe Manual 4', 'Turbo Delta Tipo 116 3a', 'Turbo/1', 'Turismo', 'Turnier 1.7 V4', 'Turnier 1.7 V4 L', 'Turnier 2.0', 'Turnier 2.0 L', 'Turnier 2.3 V6', 'Turnier 2.3 V6 GXL', 'Turnier 2.3 V6 Ghia', 'Turnier 2.3 V6 XL', 'Turnier 3.0 V6', 'Turnier 3.0 V6 GXL', 'Turnier 3.0 V6 Ghia', 'Turnier 3.0 V6 XL', 'Tutbo Diesel Tipo 116  3a', 'Typ F1', 'UW 220', 'UW 225 Spezial Cabrio', 'Universal', 'Universal U-Cat.', 'V', 'V12 Automatic', 'V12 Catalyst Automatic', 'V12 HE Automatic', 'V6', 'V6 24V QV', 'V6 Catalyst ABS', 'V6 LS', 'V6 LX', 'V6 Super Prima Klima', 'V8', 'V8 ES', 'V8 Esquire', 'Vantage', 'Vantage Drophead Coupe', 'Vantage Saloon', 'Vantage Volante', 'Volante', 'Volumex', 'W Tourist', 'Wagon  SWB', 'Wagon 1.3 SL', 'Wagon Diesel SWB', 'Wagon SWB', 'Wanne F91/4', 'X', 'X1', 'X2', 'X3', 'Z', 'ZX', 'ZX T', 'ZX Turbo', 'Zagato', 'b', 'd', 'd Automatic', 'e', 'e Automatic', 'e Catalyst', 'e Catalyst Edition', 'i', 'i  Automatic', 'i Automatic', 'i Catalyst', 'i Catalyst Automatic', 'i GT', 'i V8', 'i V8 Automatic', 'i.e.', 'i.e. ABS', 'i.e. Catalyst', 'i.e. Catalyst ABS', 'i.e. turbo', 'i.e. turbo ABS', 'i.e. turbo Catalyst', 'i.e. turbo Catalyst ABS', 'iL Automatic', 'iL Protection Automatic', 'mirafiori CL', 'mirafiori Gala II', 'mirafiori L', 't', 'td', 'td Automatic', 'td Edition', 'td Edition Automatic', 'tds', 'tds Automatic', 'ti', 'turbo 16v ABS', 'turbo 16v Catalyst ABS', 'turbo 16v Catalyst ABS LX', 'turbo 16v LS', 'turbo Catalyst ABS', 'turbo ds', 'turbo ds ABS', 'turbo ds LE', 'turbo ds LS']\n"
     ]
    }
   ],
   "source": [
    "unique_submodel = db['Submodel'].unique().tolist()\n",
    "unique_submodel_ordem = sorted(unique_submodel, key=lambda x:(isinstance(x,str),x))\n",
    "print(unique_submodel_ordem)"
   ]
  },
  {
   "cell_type": "markdown",
   "id": "3617e5b3",
   "metadata": {},
   "source": [
    "### 3.6. Year variable\n",
    "<a id='3.6'>"
   ]
  },
  {
   "cell_type": "code",
   "execution_count": 126,
   "id": "ac45e124",
   "metadata": {},
   "outputs": [
    {
     "name": "stdout",
     "output_type": "stream",
     "text": [
      "['1946 - 1948', '1948 - 1953', '1950 - 1951', '1968 - 1969', '1966', '1975 - 1976', '1969 - 1970', '1970 - 1971', '1971 - 1974', '1972 - 1974', '1973 - 1975', '1973 - 1976', '1962 - 1963', '1959 - 1961', '1969 - 1971', '1976 - 1978', '1952', '1960 - 1962', '1971 - 1976', '1976 - 1985', '1985 - 1986', '1983 - 1985', '1981 - 1983', '1962  - 1963', '1964 - 1965', '1963 - 1964', '1938 - 1940', '1936 - 1941', '1937 - 1940', '1967 - 1969', '1954 - 1955', '1975-1975', '1962 - 1965', '1986 - 1989', '1979 - 1983', '1947 - 1950', '1984 - 1986', '1972 - 1980', '1980 - 1981', '1976 -1979', '1974 - 1975', '1976 - 1980', '1979 - 1980', '1966 - 1974', '1965 - 1966', '1971 - 1977', '1992 - 1993', '1994 - 1996', '1997 - 1999', '1999 - 2000', '2000', '1998 - 1999', '1997 - 1998', '1995 - 1996', '1996', '1995 - 1997', '1996 - 1997', '1996 - 1998', '1987 - 1993', '1991 - 1993', '1988 - 1993', '1993 - 1994', '1989 - 1993', '1994 - 1997', '1990 - 1993', '1993 - 1997', '1954', '1970 - 1976', '1983 - 1986', '1983 - 1984', '1984 - 1985', '1986 - 1987', '1988 - 1990', '1991 - 1992', '1950 - 1952', '1947 - 1952', '1985 - 1987', '1985 - 1988', '1988 - 1989', '1989 - 1990', '1990 - 1992', '1986 - 1988', '1988', '1987 - 1988', '1988 - 1992', '1975 - 1979', '1981 - 1982', '1980 - 1982', '1982 - 1983', '1978 - 1979', '1977 - 1978', '1978 - 1980', '1980 - 1984', '1982 - 1984', '1975 - 1978', '1978 - 1981', '1979', '1979 - 1982', '1979 -1982', '1975 - 1977', '1977 - 1979', '1977', '1976 - 1977', '1978 - 1982', '1958 - 1959', '1963 - 1966', '1964 - 1966', '1965 - 1967', '1968 - 1971', '1966 - 1968', '1963 - 1967', '1967 - 1971', '1977 - 1981', '1979 - 1981', '1989 - 1992', '1949 - 1953', '1949-1953', '1993 - 1995', '1994 - 1995', '1989 - 1994', '1993 - 1996', '1996 - 1999', '1987 - 1990', '1984 - 1987', '1995', '1995 - 1998', '1980 - 1983', '1991 - 1995', '1968 - 1974', '1963 - 1965', '1932 - 1936', '1961 - 1965', '1963', '1959 - 1960', '1954 - 1956', '1955', '1954 - 1960', '1958 - 1960', '1955 - 1957', '1999 - 2003', '1951', '1951 - 1953', '1953 - 1954', '1957 - 1959', '1995 - 2001', '1995 - 1999', '1974 - 1976', '1974 - 1978', '1967 - 1977', '1933 - 1934', '1935 - 1938', '1950 - 1953', '1951 - 1956', '1956 - 1968', '1952 - 1954', '1953 - 1955', '1955 - 1956', '1962 - 1964', '1959 -1961', '1964 - 1967', '1956 - 1959', '1961 - 1962', '1961 - 1964', '1962 -1964', '1970 - 1975', '1971 - 1973', '1972 - 1975', '1958 - 1961', '1958 - 1965', '1958 - 1963', '1961 - 1963', '1969 - 1985', '1982 -1985', '2004 - 2006', '1999 - 2009', '1992 - 2003', '1952 - 1955', '1988 - 1999', '1999', '1999 - 2004', '2006 - 2009', '2006 - 2010', '1959 - 1962', '1960 - 1961', '1972 - 1979', '1966 - 1969', '1967 - 1968', '1966 - 1972', '1971', '1952 - 1958', '1998 - 2001', '1958 - 1962', '1974 - 1977', '1965 - 1972', '1973 - 1974', '1968 -1971', '1932', '1934 - 1939', '1937 - 1941', '1946 -1955', '1956- 1960', '1956 - 1958', '1981 - 1984', '1987', '1983 - 1987', '1981 - 1987', '1982 - 1987', '1987 - 1989', '1959 - 1964', '1998', '1979 - 1986', '1998 - 2000', '2000 - 2001', '1987 - 1994', '1992 - 1994', '1987 - 1991', '1999 - 2001', '1994 - 1998', '1994 - 1999', '1992 - 1996', '1956 - 1957', '1957', '1957 - 1958', '1955 - 1958', '1960 - 1963', '1949 - 1950', '1953', '1954 - 1958', '1946 - 1949', '1953 - 1956', '1963 -1965', '1970 - 1972', '1972 - 1973', '1928 - 1931', '1930 - 1934', '1934 - 1940', '1965 - 1970', '1960', '1956', '1955 - 1961', '1970 - 1981', '1974 - 1979', '1968 - 1970', '1938 - 1939', '1992 - 1995', '1992', '1990', '1990 - 1991', '1991', '1989 - 1991', '1989', '1928 - 1932', '1982 - 1985', '1985 - 1989', '1977 - 1980', '1976 - 1979', '1982', '1985 - 1991', '1967 - 1972', '1969 - 1975', '1970 - 1974', '1971 - 1972', '1981 - 1986', '1980 - 1985', '1957 - 1963', '1969 - 1972', '1979 - 1987', '1972', '1973', '1946 - 1953', '1936 - 1939', '1939 - 1944', '1934 - 1936', '1994 - 2000', '1997 - 2000', '1991 - 1994', '1997', '1968 - 1972', '1967 - 1974', '1972 - 1976', '1968 - 1992', '1980 - 1986', '1967 - 1970', '1970 - 1982', '1973 - 1978', '1971 - 1985', '1973 - 1986', '1937 -1938', '1930 - 1933', '1946 - 1954', '1948 - 1949', '1932 - 1934', '1935 - 1936', '1936 - 1937', '1934 - 1935', '1939 - 1940', '1949 - 1954', '1938', '1938 - 1952', '1981- 1983', '1955 - 1959', '1958 - 1968', '1965', '1937 - 1938', '1931 - 1932', '1984 - 1989', '1985 - 1993', '1978 - 1984', '1986 - 1994', '1975 - 1980', '1964 - 1964', '1959 - 1963', '1964', '1979 - 1985', '1996 - 2002', '1984 - 1991', '1950', '1949', '1986', '1993 - 1998', '1998 - 2004', '1965 - 1969', '1960 - 1965', '1968 - 1973', '2016 - 2018', '2016 - 2017', '1970', '1977 - 1983', '1972 - 1977', '1981', '1978', '1971 - 1975', '1971 -  1977', '1979 - 1979', '1974', '1957 - 1960', '1965 - 1698', '1964 - 1698', '1982 - 1986', '1982 - 1988', '1964 - 1968', '1947 - 1948', '1960 - 1964', '1978 - 1985', '1969 -1972', '19 661 969', '1968', '1957 - 1965', '1966 - 1967', '19 631 967', '1955 - 1969', '1994', '1990 - 1995', '1999 - 2002', '1974 - 1992', '1974 - 1980', '1966 - 1970', '1959 - 1967', '1948 - 1954', '1954 - 1957', '1957 - 1961', '1973 - 1979', '1981 - 1985', '1988 - 1991', '1975 - 1981', '1991 - 1996', '1993', '1951 - 1952', '1990 - 1998', '1972 - 1978', '1993 - 1999', '1986 - 1993', '1990 - 1994', '1997 - 1997', '1984', '1987 - 1992', '1970 - 1973', '1965 -1967', '2000 - 2003', '2001 - 2004', '2003', '2000 - 2005', '2002 - 2005', '2001 - 2005', '1986 - 1990', '2002 - 2007', '1948', '2002', '2001 - 2002', '1971 - 1981', '1957-1961', '1958-1961', '1957 - 1964', '1969 - 1973', '1990 - 1996', '1986 - 1992', '1957 - 1957', '1984 -1987', '1985 -1987', '1984 - 1988', '1974- 1976', '1976 -1983', '1967 - 1973', '1964 -1968', '1955 - 1963', '1959 - 1965', '1963 - 1981', '1955 - 1964', '1955 -1962', '1956 -1962', '1973-1974', '1962 - 1967', '1945 - 1949', '1962 - 1966', '1956 - 1961', '1965 - 1973', '1983 - 1989', '1978 - 1988', '1971 - 1987', '1965 - 1977', '1946', '1965 - 1968', '1970 - 1977', '1968 - 1976', '1974 - 1985', '1954 - 1965', '1963 - 1968', '1975 - 1989']\n"
     ]
    }
   ],
   "source": [
    "unique_year = db['Year'].unique().tolist()\n",
    "print(unique_year)"
   ]
  },
  {
   "cell_type": "markdown",
   "id": "91941b22",
   "metadata": {},
   "source": [
    "<span style='color:blue'> \n",
    "\n",
    "**To solve:**\n",
    "    \n",
    "- Transformation into two new varibles: 'start_year' and 'end_year'\n",
    "    \n",
    "- Cases out of format XXXX - XXXX\n"
   ]
  },
  {
   "cell_type": "markdown",
   "id": "1859b708",
   "metadata": {},
   "source": [
    "### 3.7. Origin variable\n",
    "<a id='3.7'>"
   ]
  },
  {
   "cell_type": "code",
   "execution_count": 127,
   "id": "7c48deb9",
   "metadata": {},
   "outputs": [
    {
     "name": "stdout",
     "output_type": "stream",
     "text": [
      "[nan, 'Italy', 'italy', 'Germany', 'United Kingdom', 'France', 'Greece', 'United States', 'Australia', 'Spain', '1977', 'Netherlands', 'Japan', 'Ireland', 'Germany / United Kingdom', 'Germany / United Kingdom up to 1976', 'Sweden', 'Zweden']\n"
     ]
    }
   ],
   "source": [
    "unique_origin = db['Origin'].unique().tolist()\n",
    "print(unique_origin)"
   ]
  },
  {
   "cell_type": "markdown",
   "id": "2f1be0b1",
   "metadata": {},
   "source": [
    "<span style='color:blue'> \n",
    "    \n",
    "**To do:**\n",
    "    \n",
    "- remove uppercase letters?\n",
    "    \n",
    "    \n",
    "- remove 1977, gemany/united kingdom, germany/united kingdom up to 1976?\n",
    "    \n",
    "    \n",
    "(mantain all countries, even outside europe)"
   ]
  },
  {
   "cell_type": "markdown",
   "id": "09e369af",
   "metadata": {},
   "source": [
    "## 5. Data cleaning\n",
    "<a id='5'>"
   ]
  },
  {
   "cell_type": "code",
   "execution_count": 128,
   "id": "b8b74041",
   "metadata": {},
   "outputs": [],
   "source": [
    "db_clean = pd.DataFrame(db)"
   ]
  },
  {
   "cell_type": "markdown",
   "id": "0859f05f",
   "metadata": {},
   "source": [
    "### 5.1. Brand variable\n",
    "<a id='5.1'>"
   ]
  },
  {
   "cell_type": "markdown",
   "id": "cb4c4ad5",
   "metadata": {},
   "source": [
    "#### Remove accents"
   ]
  },
  {
   "cell_type": "code",
   "execution_count": 129,
   "id": "3edc1655",
   "metadata": {},
   "outputs": [],
   "source": [
    "#to string to use unicode\n",
    "db_clean['Brand'] = db_clean['Brand'].apply(lambda x: str(x))\n",
    "\n",
    "db_clean['Brand'] = db_clean['Brand'].apply(unidecode)"
   ]
  },
  {
   "cell_type": "markdown",
   "id": "a52a845a",
   "metadata": {},
   "source": [
    "#### Transformation of hifen into space + uppercase"
   ]
  },
  {
   "cell_type": "code",
   "execution_count": 130,
   "id": "691dcec8",
   "metadata": {},
   "outputs": [],
   "source": [
    "db_clean['Brand'] = db_clean['Brand'].str.replace('-', ' ').str.title()"
   ]
  },
  {
   "cell_type": "code",
   "execution_count": 131,
   "id": "fc0e4dc2",
   "metadata": {},
   "outputs": [
    {
     "name": "stdout",
     "output_type": "stream",
     "text": [
      "['16', '18', '206', '208', '246', '308', 'Abarth', 'Adler', 'Alfa Romeo', 'Allard', 'Alpina', 'Alpine', 'Alta', 'Alvis', 'Amphicar', 'Apollo', 'Armstrong Siddeley', 'Arnolt Bristol', 'Ascort', 'Aston Martin', 'Audi', 'Austin', 'Austin Healey', 'Authi', 'Auto Union', 'Autobianchi', 'Bentley', 'Bitter', 'Bizzarini', 'Bmw', 'Borgward', 'Bristol', 'Bugatti', 'Buick', 'Cadillac', 'Chevrolet', 'Citroem', 'Citroen', 'Daf', 'Daimler', 'Datsun', 'De Tomaso', 'Delage', 'Delahaye', 'Delorean', 'Dkw', 'Donkervoort', 'Excalibur', 'Facel Vega', 'Ferrari', 'Fiat', 'Ford', 'Nan', 'Fuldamobil', 'Glas', 'Goggomobil', 'Heinkel', 'Honda', 'Innocenti', 'Iso Rivolta', 'Jaguar', 'Jeep', 'Jensen', 'Lamborghini', 'Lancia', 'Land Rover', 'Landrover', 'Lloyd', 'Lotus', 'Maserati', 'Matra', 'Mercedes Benz', 'Messerschmitt', 'Mg', 'Morris', 'Nsu', 'Opel', 'Peugeot', 'Porsche', 'Renault', 'Rolls Royce', 'Rover', 'Saab', 'Simca', 'Simca 9', 'Sunbeam', 'Talbot', 'Trabant', 'Triumph', 'Tvr', 'Volkswagen', 'Volvo', 'Wartburg', 'Zundapp']\n"
     ]
    }
   ],
   "source": [
    "unique_brand_clean = db_clean['Brand'].unique().tolist()\n",
    "print(unique_brand_clean)"
   ]
  },
  {
   "cell_type": "markdown",
   "id": "2ec664e4",
   "metadata": {},
   "source": [
    "####  Explore values: 16, 18, 206, 208, 246, 308, nan, Simca 9"
   ]
  },
  {
   "cell_type": "code",
   "execution_count": 132,
   "id": "79b0e3ef",
   "metadata": {},
   "outputs": [
    {
     "name": "stdout",
     "output_type": "stream",
     "text": [
      "  Brand                  Model Submodel         Year Origin\n",
      "0    16  Hurricane Preselector      NaN  1946 - 1948    NaN\n",
      "  Brand                  Model Submodel         Year Origin\n",
      "1    18              Hurricane      NaN  1948 - 1953    NaN\n",
      "2    18  Hurricane Preselector      NaN  1948 - 1953    NaN\n",
      "3    18              Limousine      NaN  1950 - 1951    NaN\n",
      "4    18                Whitley      NaN  1948 - 1953    NaN\n",
      "  Brand Model Submodel         Year Origin\n",
      "5   206   NaN       GT  1968 - 1969  Italy\n",
      "6   206   NaN       SP         1966  Italy\n",
      "  Brand Model Submodel         Year Origin\n",
      "7   208   NaN      GT4  1975 - 1976  Italy\n",
      "   Brand Model Submodel         Year Origin\n",
      "8    246   NaN       GT  1969 - 1970  Italy\n",
      "9    246   NaN       GT  1970 - 1971  Italy\n",
      "10   246   NaN       GT  1971 - 1974  Italy\n",
      "11   246   NaN      GTS  1972 - 1974  Italy\n",
      "   Brand Model Submodel         Year Origin\n",
      "12   308   NaN      GT4  1973 - 1975  Italy\n",
      "13   308   NaN      GT4  1973 - 1976  Italy\n",
      "Empty DataFrame\n",
      "Columns: [Brand, Model, Submodel, Year, Origin]\n",
      "Index: []\n",
      "        Brand Model Submodel         Year  Origin\n",
      "2229  Simca 9     9      NaN  1952 - 1954  France\n"
     ]
    }
   ],
   "source": [
    "print(db_clean[db_clean['Brand'] == '16'])\n",
    "print(db_clean[db_clean['Brand'] == '18'])\n",
    "print(db_clean[db_clean['Brand'] == '206'])\n",
    "print(db_clean[db_clean['Brand'] == '208'])\n",
    "print(db_clean[db_clean['Brand'] == '246'])\n",
    "print(db_clean[db_clean['Brand'] == '308'])\n",
    "print(db_clean[db_clean['Brand'] == 'nan'])\n",
    "print(db_clean[db_clean['Brand'] == 'Simca 9'])"
   ]
  },
  {
   "cell_type": "code",
   "execution_count": 133,
   "id": "32f370b1",
   "metadata": {},
   "outputs": [
    {
     "data": {
      "text/html": [
       "<div>\n",
       "<style scoped>\n",
       "    .dataframe tbody tr th:only-of-type {\n",
       "        vertical-align: middle;\n",
       "    }\n",
       "\n",
       "    .dataframe tbody tr th {\n",
       "        vertical-align: top;\n",
       "    }\n",
       "\n",
       "    .dataframe thead th {\n",
       "        text-align: right;\n",
       "    }\n",
       "</style>\n",
       "<table border=\"1\" class=\"dataframe\">\n",
       "  <thead>\n",
       "    <tr style=\"text-align: right;\">\n",
       "      <th></th>\n",
       "      <th>Brand</th>\n",
       "      <th>Model</th>\n",
       "      <th>Submodel</th>\n",
       "      <th>Year</th>\n",
       "      <th>Origin</th>\n",
       "    </tr>\n",
       "  </thead>\n",
       "  <tbody>\n",
       "    <tr>\n",
       "      <th>0</th>\n",
       "      <td>16</td>\n",
       "      <td>Hurricane Preselector</td>\n",
       "      <td>NaN</td>\n",
       "      <td>1946 - 1948</td>\n",
       "      <td>NaN</td>\n",
       "    </tr>\n",
       "    <tr>\n",
       "      <th>1</th>\n",
       "      <td>18</td>\n",
       "      <td>Hurricane</td>\n",
       "      <td>NaN</td>\n",
       "      <td>1948 - 1953</td>\n",
       "      <td>NaN</td>\n",
       "    </tr>\n",
       "    <tr>\n",
       "      <th>2</th>\n",
       "      <td>18</td>\n",
       "      <td>Hurricane Preselector</td>\n",
       "      <td>NaN</td>\n",
       "      <td>1948 - 1953</td>\n",
       "      <td>NaN</td>\n",
       "    </tr>\n",
       "    <tr>\n",
       "      <th>3</th>\n",
       "      <td>18</td>\n",
       "      <td>Limousine</td>\n",
       "      <td>NaN</td>\n",
       "      <td>1950 - 1951</td>\n",
       "      <td>NaN</td>\n",
       "    </tr>\n",
       "    <tr>\n",
       "      <th>4</th>\n",
       "      <td>18</td>\n",
       "      <td>Whitley</td>\n",
       "      <td>NaN</td>\n",
       "      <td>1948 - 1953</td>\n",
       "      <td>NaN</td>\n",
       "    </tr>\n",
       "    <tr>\n",
       "      <th>5</th>\n",
       "      <td>206</td>\n",
       "      <td>NaN</td>\n",
       "      <td>GT</td>\n",
       "      <td>1968 - 1969</td>\n",
       "      <td>Italy</td>\n",
       "    </tr>\n",
       "    <tr>\n",
       "      <th>6</th>\n",
       "      <td>206</td>\n",
       "      <td>NaN</td>\n",
       "      <td>SP</td>\n",
       "      <td>1966</td>\n",
       "      <td>Italy</td>\n",
       "    </tr>\n",
       "    <tr>\n",
       "      <th>7</th>\n",
       "      <td>208</td>\n",
       "      <td>NaN</td>\n",
       "      <td>GT4</td>\n",
       "      <td>1975 - 1976</td>\n",
       "      <td>Italy</td>\n",
       "    </tr>\n",
       "    <tr>\n",
       "      <th>8</th>\n",
       "      <td>246</td>\n",
       "      <td>NaN</td>\n",
       "      <td>GT</td>\n",
       "      <td>1969 - 1970</td>\n",
       "      <td>Italy</td>\n",
       "    </tr>\n",
       "    <tr>\n",
       "      <th>9</th>\n",
       "      <td>246</td>\n",
       "      <td>NaN</td>\n",
       "      <td>GT</td>\n",
       "      <td>1970 - 1971</td>\n",
       "      <td>Italy</td>\n",
       "    </tr>\n",
       "    <tr>\n",
       "      <th>10</th>\n",
       "      <td>246</td>\n",
       "      <td>NaN</td>\n",
       "      <td>GT</td>\n",
       "      <td>1971 - 1974</td>\n",
       "      <td>Italy</td>\n",
       "    </tr>\n",
       "    <tr>\n",
       "      <th>11</th>\n",
       "      <td>246</td>\n",
       "      <td>NaN</td>\n",
       "      <td>GTS</td>\n",
       "      <td>1972 - 1974</td>\n",
       "      <td>Italy</td>\n",
       "    </tr>\n",
       "    <tr>\n",
       "      <th>12</th>\n",
       "      <td>308</td>\n",
       "      <td>NaN</td>\n",
       "      <td>GT4</td>\n",
       "      <td>1973 - 1975</td>\n",
       "      <td>Italy</td>\n",
       "    </tr>\n",
       "    <tr>\n",
       "      <th>13</th>\n",
       "      <td>308</td>\n",
       "      <td>NaN</td>\n",
       "      <td>GT4</td>\n",
       "      <td>1973 - 1976</td>\n",
       "      <td>Italy</td>\n",
       "    </tr>\n",
       "    <tr>\n",
       "      <th>1270</th>\n",
       "      <td>Nan</td>\n",
       "      <td>280</td>\n",
       "      <td>ZX T</td>\n",
       "      <td>1979 - 1981</td>\n",
       "      <td>Japan</td>\n",
       "    </tr>\n",
       "    <tr>\n",
       "      <th>2229</th>\n",
       "      <td>Simca 9</td>\n",
       "      <td>9</td>\n",
       "      <td>NaN</td>\n",
       "      <td>1952 - 1954</td>\n",
       "      <td>France</td>\n",
       "    </tr>\n",
       "  </tbody>\n",
       "</table>\n",
       "</div>"
      ],
      "text/plain": [
       "        Brand                  Model Submodel         Year  Origin\n",
       "0          16  Hurricane Preselector      NaN  1946 - 1948     NaN\n",
       "1          18              Hurricane      NaN  1948 - 1953     NaN\n",
       "2          18  Hurricane Preselector      NaN  1948 - 1953     NaN\n",
       "3          18              Limousine      NaN  1950 - 1951     NaN\n",
       "4          18                Whitley      NaN  1948 - 1953     NaN\n",
       "5         206                    NaN       GT  1968 - 1969   Italy\n",
       "6         206                    NaN       SP         1966   Italy\n",
       "7         208                    NaN      GT4  1975 - 1976   Italy\n",
       "8         246                    NaN       GT  1969 - 1970   Italy\n",
       "9         246                    NaN       GT  1970 - 1971   Italy\n",
       "10        246                    NaN       GT  1971 - 1974   Italy\n",
       "11        246                    NaN      GTS  1972 - 1974   Italy\n",
       "12        308                    NaN      GT4  1973 - 1975   Italy\n",
       "13        308                    NaN      GT4  1973 - 1976   Italy\n",
       "1270      Nan                    280     ZX T  1979 - 1981   Japan\n",
       "2229  Simca 9                      9      NaN  1952 - 1954  France"
      ]
     },
     "execution_count": 133,
     "metadata": {},
     "output_type": "execute_result"
    }
   ],
   "source": [
    "db_clean.loc[[0,1,2,3,4,5,6,7,8,9,10,11,12,13,1270, 2229]]"
   ]
  },
  {
   "cell_type": "markdown",
   "id": "152cb26b",
   "metadata": {},
   "source": [
    "<span style=\"color:blue\">\n",
    "    \n",
    "**Case 16, 18** - No brand or model information for the car; hurricane preselector is an automatic transmission, with this information, it is not possible to recognize the brand and model of the car - Remove **records 0, 1, 2, 3, 4**\n",
    "    \n",
    "&nbsp;    \n",
    "       \n",
    "\n",
    "**Case 206** - Ferrari Dino 206 GT - Replace brand **206** with **Ferrari**, model **NaN** with **Dino 206**, in **record 5**\n",
    "    \n",
    "**Case 206** - Ferrari 206 SP - Replace brand **206** with **Ferrari**, model **NaN** with **206**, in **record 6**\n",
    "    \n",
    "&nbsp;\n",
    "    \n",
    "**Case 208** - Ferrari 208 GT4 - Replace brand **208** with **Ferrari**, model **NaN** with **208**, in **record 7**\n",
    "    \n",
    "&nbsp;\n",
    "    \n",
    "**Case 246** - Ferrari Dino 246 GT - Replace brand **246** with **Ferrari**, model **NaN** with **Dino 246**, in **record 8**\n",
    "    \n",
    "    \n",
    "**Case 246** - Ferrari Dino 246 GT - Replace brand **246** with **Ferrari**, model **NaN** with **Dino 246**, in **record 9**\n",
    "    \n",
    "**Case 246** - Ferrari Dino 246 GT - Replace brand **246** with **Ferrari**, model **NaN** with **Dino 246**, in **record 10**\n",
    "    \n",
    "**Case 246** - Ferrari Dino 246 GTS - Replace brand **246** with **Ferrari**, model **NaN** with **Dino 246**, in **record 10** \n",
    "    \n",
    "(Case 246, the model was extended over the years)\n",
    "    \n",
    "    \n",
    "&nbsp;\n",
    "    \n",
    "    \n",
    "**Case 308** - Ferrari 308 GT4 - Replace brand **308** with **Ferrari**, model **NaN** with **308**, in **record 12**\n",
    "        \n",
    "**Case 308** - Ferrari 308 GT4 - Replace brand **308** with **Ferrari**, model **NaN** with **308**, in **record 13**\n",
    "    \n",
    "(Case 308, model extended over the years)\n",
    "\n",
    "&nbsp;\n",
    "    \n",
    "**Case nan** - Datsun 280 ZX Turbo - Replace brand **nan** with **Datsun**, in **record 1270** \n",
    "    \n",
    "&nbsp;\n",
    "    \n",
    "**Case Simca 9** - Simca 9 - Replace brand **Simca 9** with **Simca**, in **record 2229**\n",
    "    \n",
    "(Case Simca 9 has no submodel)\n",
    "\n"
   ]
  },
  {
   "cell_type": "code",
   "execution_count": 134,
   "id": "8a82f1ca",
   "metadata": {},
   "outputs": [],
   "source": [
    "# Values replacement\n",
    "\n",
    "db_clean.loc[5, 'Brand'] = 'Ferrari'\n",
    "db_clean.loc[5, 'Model'] = 'Dino 206'\n",
    "\n",
    "db_clean.loc[6, 'Brand'] = 'Ferrari'\n",
    "db_clean.loc[6, 'Model'] = '206'\n",
    "\n",
    "db_clean.loc[7, 'Brand'] = 'Ferrari'\n",
    "db_clean.loc[7, 'Model'] = '208'\n",
    "\n",
    "db_clean.loc[8, 'Brand'] = 'Ferrari'\n",
    "db_clean.loc[8, 'Model'] = 'Dino 246'\n",
    "\n",
    "db_clean.loc[9, 'Brand'] = 'Ferrari'\n",
    "db_clean.loc[9, 'Model'] = 'Dino 246'\n",
    "\n",
    "db_clean.loc[10, 'Brand'] = 'Ferrari'\n",
    "db_clean.loc[10, 'Model'] = 'Dino 246'\n",
    "\n",
    "db_clean.loc[11, 'Brand'] = 'Ferrari'\n",
    "db_clean.loc[11, 'Model'] = 'Dino 246'\n",
    "\n",
    "db_clean.loc[12, 'Brand'] = 'Ferrari'\n",
    "db_clean.loc[12, 'Model'] = '308'\n",
    "\n",
    "db_clean.loc[13, 'Brand'] = 'Ferrari'\n",
    "db_clean.loc[13, 'Model'] = '308'\n",
    "\n",
    "db_clean.loc[1270, 'Brand'] = 'Datsun'\n",
    "\n",
    "db_clean.loc[2229, 'Brand'] = 'Simca'\n"
   ]
  },
  {
   "cell_type": "code",
   "execution_count": 135,
   "id": "d0a0e8ae",
   "metadata": {
    "scrolled": true
   },
   "outputs": [
    {
     "data": {
      "text/html": [
       "<div>\n",
       "<style scoped>\n",
       "    .dataframe tbody tr th:only-of-type {\n",
       "        vertical-align: middle;\n",
       "    }\n",
       "\n",
       "    .dataframe tbody tr th {\n",
       "        vertical-align: top;\n",
       "    }\n",
       "\n",
       "    .dataframe thead th {\n",
       "        text-align: right;\n",
       "    }\n",
       "</style>\n",
       "<table border=\"1\" class=\"dataframe\">\n",
       "  <thead>\n",
       "    <tr style=\"text-align: right;\">\n",
       "      <th></th>\n",
       "      <th>Brand</th>\n",
       "      <th>Model</th>\n",
       "      <th>Submodel</th>\n",
       "      <th>Year</th>\n",
       "      <th>Origin</th>\n",
       "    </tr>\n",
       "  </thead>\n",
       "  <tbody>\n",
       "    <tr>\n",
       "      <th>5</th>\n",
       "      <td>Ferrari</td>\n",
       "      <td>Dino 206</td>\n",
       "      <td>GT</td>\n",
       "      <td>1968 - 1969</td>\n",
       "      <td>Italy</td>\n",
       "    </tr>\n",
       "    <tr>\n",
       "      <th>6</th>\n",
       "      <td>Ferrari</td>\n",
       "      <td>206</td>\n",
       "      <td>SP</td>\n",
       "      <td>1966</td>\n",
       "      <td>Italy</td>\n",
       "    </tr>\n",
       "    <tr>\n",
       "      <th>7</th>\n",
       "      <td>Ferrari</td>\n",
       "      <td>208</td>\n",
       "      <td>GT4</td>\n",
       "      <td>1975 - 1976</td>\n",
       "      <td>Italy</td>\n",
       "    </tr>\n",
       "    <tr>\n",
       "      <th>8</th>\n",
       "      <td>Ferrari</td>\n",
       "      <td>Dino 246</td>\n",
       "      <td>GT</td>\n",
       "      <td>1969 - 1970</td>\n",
       "      <td>Italy</td>\n",
       "    </tr>\n",
       "    <tr>\n",
       "      <th>9</th>\n",
       "      <td>Ferrari</td>\n",
       "      <td>Dino 246</td>\n",
       "      <td>GT</td>\n",
       "      <td>1970 - 1971</td>\n",
       "      <td>Italy</td>\n",
       "    </tr>\n",
       "    <tr>\n",
       "      <th>10</th>\n",
       "      <td>Ferrari</td>\n",
       "      <td>Dino 246</td>\n",
       "      <td>GT</td>\n",
       "      <td>1971 - 1974</td>\n",
       "      <td>Italy</td>\n",
       "    </tr>\n",
       "    <tr>\n",
       "      <th>11</th>\n",
       "      <td>Ferrari</td>\n",
       "      <td>Dino 246</td>\n",
       "      <td>GTS</td>\n",
       "      <td>1972 - 1974</td>\n",
       "      <td>Italy</td>\n",
       "    </tr>\n",
       "    <tr>\n",
       "      <th>12</th>\n",
       "      <td>Ferrari</td>\n",
       "      <td>308</td>\n",
       "      <td>GT4</td>\n",
       "      <td>1973 - 1975</td>\n",
       "      <td>Italy</td>\n",
       "    </tr>\n",
       "    <tr>\n",
       "      <th>13</th>\n",
       "      <td>Ferrari</td>\n",
       "      <td>308</td>\n",
       "      <td>GT4</td>\n",
       "      <td>1973 - 1976</td>\n",
       "      <td>Italy</td>\n",
       "    </tr>\n",
       "    <tr>\n",
       "      <th>1270</th>\n",
       "      <td>Datsun</td>\n",
       "      <td>280</td>\n",
       "      <td>ZX T</td>\n",
       "      <td>1979 - 1981</td>\n",
       "      <td>Japan</td>\n",
       "    </tr>\n",
       "    <tr>\n",
       "      <th>2229</th>\n",
       "      <td>Simca</td>\n",
       "      <td>9</td>\n",
       "      <td>NaN</td>\n",
       "      <td>1952 - 1954</td>\n",
       "      <td>France</td>\n",
       "    </tr>\n",
       "  </tbody>\n",
       "</table>\n",
       "</div>"
      ],
      "text/plain": [
       "        Brand     Model Submodel         Year  Origin\n",
       "5     Ferrari  Dino 206       GT  1968 - 1969   Italy\n",
       "6     Ferrari       206       SP         1966   Italy\n",
       "7     Ferrari       208      GT4  1975 - 1976   Italy\n",
       "8     Ferrari  Dino 246       GT  1969 - 1970   Italy\n",
       "9     Ferrari  Dino 246       GT  1970 - 1971   Italy\n",
       "10    Ferrari  Dino 246       GT  1971 - 1974   Italy\n",
       "11    Ferrari  Dino 246      GTS  1972 - 1974   Italy\n",
       "12    Ferrari       308      GT4  1973 - 1975   Italy\n",
       "13    Ferrari       308      GT4  1973 - 1976   Italy\n",
       "1270   Datsun       280     ZX T  1979 - 1981   Japan\n",
       "2229    Simca         9      NaN  1952 - 1954  France"
      ]
     },
     "execution_count": 135,
     "metadata": {},
     "output_type": "execute_result"
    }
   ],
   "source": [
    "#verification\n",
    "\n",
    "db_clean.loc[[5,6,7,8,9,10,11,12,13,1270, 2229]]\n"
   ]
  },
  {
   "cell_type": "code",
   "execution_count": 136,
   "id": "16a9b2de",
   "metadata": {},
   "outputs": [],
   "source": [
    "# removal of values: 16,18\n",
    "\n",
    "db_clean = db_clean.drop(0)\n",
    "db_clean = db_clean.drop(1)\n",
    "db_clean = db_clean.drop(2)\n",
    "db_clean = db_clean.drop(3)\n",
    "db_clean = db_clean.drop(4)"
   ]
  },
  {
   "cell_type": "markdown",
   "id": "9f73e847",
   "metadata": {},
   "source": [
    "#### Transformation of Citroem into Citroen, DAF into Daf (...), Simca 9 into Simca"
   ]
  },
  {
   "cell_type": "code",
   "execution_count": 137,
   "id": "760a7053",
   "metadata": {},
   "outputs": [],
   "source": [
    "db_clean['Brand'] = db_clean['Brand'].replace('Citroem', 'Citroen')\n",
    "db_clean['Brand'] = db_clean['Brand'].replace('Daf', 'DAF')\n",
    "db_clean['Brand'] = db_clean['Brand'].replace('Bmw', 'BMW')\n",
    "db_clean['Brand'] = db_clean['Brand'].replace('Dkw', 'DKW')\n",
    "db_clean['Brand'] = db_clean['Brand'].replace('Mg', 'MG')\n",
    "db_clean['Brand'] = db_clean['Brand'].replace('Nsu', 'NSU')\n",
    "db_clean['Brand'] = db_clean['Brand'].replace('Simca 9', 'Simca')\n",
    "db_clean['Brand'] = db_clean['Brand'].replace('Tvr', 'TVR')\n"
   ]
  },
  {
   "cell_type": "code",
   "execution_count": 138,
   "id": "abdd816b",
   "metadata": {},
   "outputs": [
    {
     "name": "stdout",
     "output_type": "stream",
     "text": [
      "['Ferrari', 'Abarth', 'Adler', 'Alfa Romeo', 'Allard', 'Alpina', 'Alpine', 'Alta', 'Alvis', 'Amphicar', 'Apollo', 'Armstrong Siddeley', 'Arnolt Bristol', 'Ascort', 'Aston Martin', 'Audi', 'Austin', 'Austin Healey', 'Authi', 'Auto Union', 'Autobianchi', 'Bentley', 'Bitter', 'Bizzarini', 'BMW', 'Borgward', 'Bristol', 'Bugatti', 'Buick', 'Cadillac', 'Chevrolet', 'Citroen', 'DAF', 'Daimler', 'Datsun', 'De Tomaso', 'Delage', 'Delahaye', 'Delorean', 'DKW', 'Donkervoort', 'Excalibur', 'Facel Vega', 'Fiat', 'Ford', 'Fuldamobil', 'Glas', 'Goggomobil', 'Heinkel', 'Honda', 'Innocenti', 'Iso Rivolta', 'Jaguar', 'Jeep', 'Jensen', 'Lamborghini', 'Lancia', 'Land Rover', 'Landrover', 'Lloyd', 'Lotus', 'Maserati', 'Matra', 'Mercedes Benz', 'Messerschmitt', 'MG', 'Morris', 'NSU', 'Opel', 'Peugeot', 'Porsche', 'Renault', 'Rolls Royce', 'Rover', 'Saab', 'Simca', 'Sunbeam', 'Talbot', 'Trabant', 'Triumph', 'TVR', 'Volkswagen', 'Volvo', 'Wartburg', 'Zundapp']\n"
     ]
    }
   ],
   "source": [
    "# verification\n",
    "\n",
    "unique_brand_clean = db_clean['Brand'].unique().tolist()\n",
    "print(unique_brand_clean)\n"
   ]
  },
  {
   "cell_type": "markdown",
   "id": "16b77cb3",
   "metadata": {},
   "source": [
    "### 5.2. Year variable\n",
    "<a id='5.2'>"
   ]
  },
  {
   "cell_type": "markdown",
   "id": "2572e8dc",
   "metadata": {},
   "source": [
    "### Transformação em ano inicio e fim"
   ]
  },
  {
   "cell_type": "code",
   "execution_count": 139,
   "id": "ada457d5",
   "metadata": {},
   "outputs": [],
   "source": [
    "\n",
    "# clean and transform year variable into two new variables 'start_year'and 'end_year'\n",
    "def clean_and_split_years(year_str):\n",
    "    \n",
    "    # Remove all non numeric caracters,except hifen\n",
    "    year_str = re.sub(r'[^\\d-]', '', year_str)\n",
    "    \n",
    "    # Divide by hifen\n",
    "    years = year_str.split('-')\n",
    "    \n",
    "    # If only one year, add empty second year \n",
    "    if len(years) == 1:\n",
    "        years.append('')\n",
    "    \n",
    "    return years\n",
    "\n",
    "# apply function\n",
    "db_clean['Start_Year'], db_clean['End_Year'] = zip(*db_clean['Year'].map(clean_and_split_years))\n",
    "\n",
    "# remove 'year' column\n",
    "db_clean = db_clean.drop(columns=['Year'])\n"
   ]
  },
  {
   "cell_type": "code",
   "execution_count": 140,
   "id": "df0ae7f9",
   "metadata": {},
   "outputs": [
    {
     "data": {
      "text/html": [
       "<div>\n",
       "<style scoped>\n",
       "    .dataframe tbody tr th:only-of-type {\n",
       "        vertical-align: middle;\n",
       "    }\n",
       "\n",
       "    .dataframe tbody tr th {\n",
       "        vertical-align: top;\n",
       "    }\n",
       "\n",
       "    .dataframe thead th {\n",
       "        text-align: right;\n",
       "    }\n",
       "</style>\n",
       "<table border=\"1\" class=\"dataframe\">\n",
       "  <thead>\n",
       "    <tr style=\"text-align: right;\">\n",
       "      <th></th>\n",
       "      <th>Brand</th>\n",
       "      <th>Model</th>\n",
       "      <th>Submodel</th>\n",
       "      <th>Origin</th>\n",
       "      <th>Start_Year</th>\n",
       "      <th>End_Year</th>\n",
       "    </tr>\n",
       "  </thead>\n",
       "  <tbody>\n",
       "    <tr>\n",
       "      <th>5</th>\n",
       "      <td>Ferrari</td>\n",
       "      <td>Dino 206</td>\n",
       "      <td>GT</td>\n",
       "      <td>Italy</td>\n",
       "      <td>1968</td>\n",
       "      <td>1969</td>\n",
       "    </tr>\n",
       "    <tr>\n",
       "      <th>6</th>\n",
       "      <td>Ferrari</td>\n",
       "      <td>206</td>\n",
       "      <td>SP</td>\n",
       "      <td>Italy</td>\n",
       "      <td>1966</td>\n",
       "      <td></td>\n",
       "    </tr>\n",
       "    <tr>\n",
       "      <th>7</th>\n",
       "      <td>Ferrari</td>\n",
       "      <td>208</td>\n",
       "      <td>GT4</td>\n",
       "      <td>Italy</td>\n",
       "      <td>1975</td>\n",
       "      <td>1976</td>\n",
       "    </tr>\n",
       "    <tr>\n",
       "      <th>8</th>\n",
       "      <td>Ferrari</td>\n",
       "      <td>Dino 246</td>\n",
       "      <td>GT</td>\n",
       "      <td>Italy</td>\n",
       "      <td>1969</td>\n",
       "      <td>1970</td>\n",
       "    </tr>\n",
       "    <tr>\n",
       "      <th>9</th>\n",
       "      <td>Ferrari</td>\n",
       "      <td>Dino 246</td>\n",
       "      <td>GT</td>\n",
       "      <td>Italy</td>\n",
       "      <td>1970</td>\n",
       "      <td>1971</td>\n",
       "    </tr>\n",
       "    <tr>\n",
       "      <th>...</th>\n",
       "      <td>...</td>\n",
       "      <td>...</td>\n",
       "      <td>...</td>\n",
       "      <td>...</td>\n",
       "      <td>...</td>\n",
       "      <td>...</td>\n",
       "    </tr>\n",
       "    <tr>\n",
       "      <th>2267</th>\n",
       "      <td>Volvo</td>\n",
       "      <td>P1800</td>\n",
       "      <td>ES</td>\n",
       "      <td>Sweden</td>\n",
       "      <td>1971</td>\n",
       "      <td>1973</td>\n",
       "    </tr>\n",
       "    <tr>\n",
       "      <th>2268</th>\n",
       "      <td>Volvo</td>\n",
       "      <td>P 1800</td>\n",
       "      <td>S</td>\n",
       "      <td>Sweden</td>\n",
       "      <td>1968</td>\n",
       "      <td>1969</td>\n",
       "    </tr>\n",
       "    <tr>\n",
       "      <th>2269</th>\n",
       "      <td>Volvo</td>\n",
       "      <td>P 1800</td>\n",
       "      <td>S</td>\n",
       "      <td>Sweden</td>\n",
       "      <td>1963</td>\n",
       "      <td>1968</td>\n",
       "    </tr>\n",
       "    <tr>\n",
       "      <th>2270</th>\n",
       "      <td>Wartburg</td>\n",
       "      <td>353</td>\n",
       "      <td>W Tourist</td>\n",
       "      <td>Germany</td>\n",
       "      <td>1975</td>\n",
       "      <td>1989</td>\n",
       "    </tr>\n",
       "    <tr>\n",
       "      <th>2271</th>\n",
       "      <td>Zundapp</td>\n",
       "      <td>Janus</td>\n",
       "      <td>NaN</td>\n",
       "      <td>Germany</td>\n",
       "      <td>1957</td>\n",
       "      <td>1958</td>\n",
       "    </tr>\n",
       "  </tbody>\n",
       "</table>\n",
       "<p>2267 rows × 6 columns</p>\n",
       "</div>"
      ],
      "text/plain": [
       "         Brand     Model   Submodel   Origin Start_Year End_Year\n",
       "5      Ferrari  Dino 206         GT    Italy       1968     1969\n",
       "6      Ferrari       206         SP    Italy       1966         \n",
       "7      Ferrari       208        GT4    Italy       1975     1976\n",
       "8      Ferrari  Dino 246         GT    Italy       1969     1970\n",
       "9      Ferrari  Dino 246         GT    Italy       1970     1971\n",
       "...        ...       ...        ...      ...        ...      ...\n",
       "2267     Volvo     P1800         ES   Sweden       1971     1973\n",
       "2268     Volvo    P 1800          S   Sweden       1968     1969\n",
       "2269     Volvo    P 1800          S   Sweden       1963     1968\n",
       "2270  Wartburg       353  W Tourist  Germany       1975     1989\n",
       "2271   Zundapp     Janus        NaN  Germany       1957     1958\n",
       "\n",
       "[2267 rows x 6 columns]"
      ]
     },
     "execution_count": 140,
     "metadata": {},
     "output_type": "execute_result"
    }
   ],
   "source": [
    "#Verification\n",
    "\n",
    "db_clean"
   ]
  },
  {
   "cell_type": "code",
   "execution_count": 141,
   "id": "9782d471",
   "metadata": {},
   "outputs": [],
   "source": [
    "# transform new variable into numeric\n",
    "db_clean['Start_Year'] = pd.to_numeric(db_clean['Start_Year'])\n",
    "db_clean['End_Year'] = pd.to_numeric(db_clean['End_Year'])"
   ]
  },
  {
   "cell_type": "code",
   "execution_count": 142,
   "id": "f9070d06",
   "metadata": {},
   "outputs": [
    {
     "data": {
      "text/html": [
       "<div>\n",
       "<style scoped>\n",
       "    .dataframe tbody tr th:only-of-type {\n",
       "        vertical-align: middle;\n",
       "    }\n",
       "\n",
       "    .dataframe tbody tr th {\n",
       "        vertical-align: top;\n",
       "    }\n",
       "\n",
       "    .dataframe thead th {\n",
       "        text-align: right;\n",
       "    }\n",
       "</style>\n",
       "<table border=\"1\" class=\"dataframe\">\n",
       "  <thead>\n",
       "    <tr style=\"text-align: right;\">\n",
       "      <th></th>\n",
       "      <th>Start_Year</th>\n",
       "      <th>End_Year</th>\n",
       "    </tr>\n",
       "  </thead>\n",
       "  <tbody>\n",
       "    <tr>\n",
       "      <th>count</th>\n",
       "      <td>2.267000e+03</td>\n",
       "      <td>2134.000000</td>\n",
       "    </tr>\n",
       "    <tr>\n",
       "      <th>mean</th>\n",
       "      <td>1.930974e+04</td>\n",
       "      <td>1980.429241</td>\n",
       "    </tr>\n",
       "    <tr>\n",
       "      <th>std</th>\n",
       "      <td>5.833716e+05</td>\n",
       "      <td>18.692001</td>\n",
       "    </tr>\n",
       "    <tr>\n",
       "      <th>min</th>\n",
       "      <td>1.928000e+03</td>\n",
       "      <td>1698.000000</td>\n",
       "    </tr>\n",
       "    <tr>\n",
       "      <th>25%</th>\n",
       "      <td>1.969000e+03</td>\n",
       "      <td>1972.000000</td>\n",
       "    </tr>\n",
       "    <tr>\n",
       "      <th>50%</th>\n",
       "      <td>1.979000e+03</td>\n",
       "      <td>1982.000000</td>\n",
       "    </tr>\n",
       "    <tr>\n",
       "      <th>75%</th>\n",
       "      <td>1.991000e+03</td>\n",
       "      <td>1993.000000</td>\n",
       "    </tr>\n",
       "    <tr>\n",
       "      <th>max</th>\n",
       "      <td>1.966197e+07</td>\n",
       "      <td>2018.000000</td>\n",
       "    </tr>\n",
       "  </tbody>\n",
       "</table>\n",
       "</div>"
      ],
      "text/plain": [
       "         Start_Year     End_Year\n",
       "count  2.267000e+03  2134.000000\n",
       "mean   1.930974e+04  1980.429241\n",
       "std    5.833716e+05    18.692001\n",
       "min    1.928000e+03  1698.000000\n",
       "25%    1.969000e+03  1972.000000\n",
       "50%    1.979000e+03  1982.000000\n",
       "75%    1.991000e+03  1993.000000\n",
       "max    1.966197e+07  2018.000000"
      ]
     },
     "execution_count": 142,
     "metadata": {},
     "output_type": "execute_result"
    }
   ],
   "source": [
    "#show new data description for year variable\n",
    "db_clean.describe()"
   ]
  },
  {
   "cell_type": "markdown",
   "id": "e5dc90d7",
   "metadata": {},
   "source": [
    "<span style=\"color:blue\">\n",
    "    \n",
    "- **'start_year variable** --> first classic car manufactured starts at 1928 and last classic car manufactured starts at 1966\n",
    "    \n",
    "- **'end_year variable** --> first classic car manufactured ends at ? and last classic car manufactured ends at 2018\n",
    "    \n",
    "    \n",
    "**To do:**\n",
    "    \n",
    "- investigate value 1698 and years out of format"
   ]
  },
  {
   "cell_type": "markdown",
   "id": "d51c5c02",
   "metadata": {},
   "source": [
    "#### Investigate 1698 value in end_year"
   ]
  },
  {
   "cell_type": "code",
   "execution_count": 143,
   "id": "8c57b5ee",
   "metadata": {},
   "outputs": [
    {
     "name": "stdout",
     "output_type": "stream",
     "text": [
      "     Brand       Model Submodel Origin  Start_Year  End_Year\n",
      "1239  Fiat   850 Coupé      NaN  Italy        1965    1698.0\n",
      "1240  Fiat       850 N      NaN  Italy        1964    1698.0\n",
      "1242  Fiat       850 S      NaN  Italy        1964    1698.0\n",
      "1244  Fiat  850 Spider      NaN  Italy        1965    1698.0\n"
     ]
    }
   ],
   "source": [
    "print(db_clean[db_clean['End_Year'] == 1698])"
   ]
  },
  {
   "cell_type": "markdown",
   "id": "ffb051cb",
   "metadata": {},
   "source": [
    "<span style= 'color:blue'>\n",
    "    \n",
    "- the four fiat models had incorrect values, these were corrected below"
   ]
  },
  {
   "cell_type": "code",
   "execution_count": 144,
   "id": "211263b6",
   "metadata": {},
   "outputs": [],
   "source": [
    "# Values replacement\n",
    "db_clean.loc[1239, 'End_Year'] = 1971\n",
    "\n",
    "db_clean.loc[1240, 'End_Year'] = 1971\n",
    "\n",
    "db_clean.loc[1242, 'Start_Year'] = 1968\n",
    "db_clean.loc[1242, 'End_Year'] = 1972\n",
    "\n",
    "db_clean.loc[1244, 'End_Year'] = 1973"
   ]
  },
  {
   "cell_type": "code",
   "execution_count": 145,
   "id": "64b179c9",
   "metadata": {
    "scrolled": true
   },
   "outputs": [
    {
     "name": "stdout",
     "output_type": "stream",
     "text": [
      "[1968, 1966, 1975, 1969, 1970, 1971, 1972, 1973, 1962, 1959, 1976, 1952, 1960, 1985, 1983, 1981, 1964, 1963, 1938, 1936, 1937, 1967, 1954, 1986, 1979, 1947, 1984, 1980, 1974, 1965, 1992, 1994, 1997, 1999, 2000, 1998, 1995, 1996, 1987, 1991, 1988, 1993, 1989, 1990, 1950, 1982, 1978, 1977, 1958, 1949, 1932, 1961, 1955, 1951, 1953, 1957, 1933, 1935, 1956, 2004, 2006, 1934, 1946, 1928, 1930, 1939, 1948, 1931, 2016, 19661969, 19631967, 2001, 2003, 2002, 1945]\n"
     ]
    }
   ],
   "source": [
    "# verification\n",
    "unique_year_clean1 = db_clean['Start_Year'].unique().tolist()\n",
    "print(unique_year_clean1)"
   ]
  },
  {
   "cell_type": "markdown",
   "id": "801c4609",
   "metadata": {},
   "source": [
    "#### Verify 19661969 and 19631967 values"
   ]
  },
  {
   "cell_type": "code",
   "execution_count": 146,
   "id": "e9b03dff",
   "metadata": {},
   "outputs": [
    {
     "name": "stdout",
     "output_type": "stream",
     "text": [
      "     Brand    Model Submodel         Origin  Start_Year  End_Year\n",
      "1402  Ford  Mustang      390  United States    19661969       NaN\n",
      "     Brand Model Submodel   Origin  Start_Year  End_Year\n",
      "1422  Glas  1004      NaN  Germany    19631967       NaN\n"
     ]
    }
   ],
   "source": [
    "print(db_clean[db_clean['Start_Year'] == 19661969])\n",
    "print(db_clean[db_clean['Start_Year'] == 19631967])\n"
   ]
  },
  {
   "cell_type": "markdown",
   "id": "e537da94",
   "metadata": {},
   "source": [
    "<span style= 'color:blue'>\n",
    "    \n",
    "- these models have not End_year, probably because of bad join, there were corrected below"
   ]
  },
  {
   "cell_type": "code",
   "execution_count": 147,
   "id": "edad7cea",
   "metadata": {},
   "outputs": [],
   "source": [
    "db_clean.loc[1402, 'Start_Year'] = 1966\n",
    "db_clean.loc[1402, 'End_Year'] = 1969\n",
    "\n",
    "db_clean.loc[1422, 'Start_Year'] = 1963\n",
    "db_clean.loc[1422, 'End_Year'] = 1967"
   ]
  },
  {
   "cell_type": "code",
   "execution_count": 148,
   "id": "59287782",
   "metadata": {},
   "outputs": [
    {
     "name": "stdout",
     "output_type": "stream",
     "text": [
      "[1968, 1966, 1975, 1969, 1970, 1971, 1972, 1973, 1962, 1959, 1976, 1952, 1960, 1985, 1983, 1981, 1964, 1963, 1938, 1936, 1937, 1967, 1954, 1986, 1979, 1947, 1984, 1980, 1974, 1965, 1992, 1994, 1997, 1999, 2000, 1998, 1995, 1996, 1987, 1991, 1988, 1993, 1989, 1990, 1950, 1982, 1978, 1977, 1958, 1949, 1932, 1961, 1955, 1951, 1953, 1957, 1933, 1935, 1956, 2004, 2006, 1934, 1946, 1928, 1930, 1939, 1948, 1931, 2016, 2001, 2003, 2002, 1945]\n"
     ]
    }
   ],
   "source": [
    "# verification\n",
    "unique_year_clean1 = db_clean['Start_Year'].unique().tolist()\n",
    "print(unique_year_clean1)"
   ]
  },
  {
   "cell_type": "code",
   "execution_count": 149,
   "id": "c421582c",
   "metadata": {},
   "outputs": [
    {
     "name": "stdout",
     "output_type": "stream",
     "text": [
      "[1969.0, nan, 1976.0, 1970.0, 1971.0, 1974.0, 1975.0, 1963.0, 1961.0, 1978.0, 1962.0, 1985.0, 1986.0, 1983.0, 1965.0, 1964.0, 1940.0, 1941.0, 1955.0, 1989.0, 1950.0, 1980.0, 1981.0, 1979.0, 1966.0, 1977.0, 1993.0, 1996.0, 1999.0, 2000.0, 1998.0, 1997.0, 1994.0, 1984.0, 1987.0, 1990.0, 1992.0, 1952.0, 1988.0, 1982.0, 1959.0, 1967.0, 1968.0, 1953.0, 1995.0, 1936.0, 1960.0, 1956.0, 1957.0, 2003.0, 1951.0, 1954.0, 2001.0, 1934.0, 1938.0, 1973.0, 2006.0, 2009.0, 2004.0, 2010.0, 1972.0, 1958.0, 1939.0, 1991.0, 1949.0, 1931.0, 1932.0, 1944.0, 1933.0, 1937.0, 1935.0, 2002.0, 2018.0, 2017.0, 1948.0, 2005.0, 2007.0]\n"
     ]
    }
   ],
   "source": [
    "# verification\n",
    "unique_year_clean2 = db_clean['End_Year'].unique().tolist()\n",
    "print(unique_year_clean2)"
   ]
  },
  {
   "cell_type": "code",
   "execution_count": 150,
   "id": "f168f40c",
   "metadata": {},
   "outputs": [
    {
     "name": "stdout",
     "output_type": "stream",
     "text": [
      "           Brand   Model                             Submodel   Origin  \\\n",
      "6        Ferrari     206                                   SP    Italy   \n",
      "19        Abarth    1500                        Coupé Biposto    italy   \n",
      "57    Alfa Romeo     145    1.4 16V T.Spark Edizione Sportiva    Italy   \n",
      "61    Alfa Romeo     145  1.4 16V T.Spark Limited Edition 500    Italy   \n",
      "66    Alfa Romeo     145    1.6 16V T.Spark Edizione Sportiva    Italy   \n",
      "...          ...     ...                                  ...      ...   \n",
      "2184     Porsche     911                        Carrera Coupé  Germany   \n",
      "2186     Porsche     911                          Coupe 2.0 L  Germany   \n",
      "2204     Porsche     924                           Carrera GT  Germany   \n",
      "2210     Porsche     944                             Coupé S2  Germany   \n",
      "2227        Saab  Ursaab                                  NaN   Sweden   \n",
      "\n",
      "      Start_Year  End_Year  \n",
      "6           1966       NaN  \n",
      "19          1952       NaN  \n",
      "57          2000       NaN  \n",
      "61          2000       NaN  \n",
      "66          2000       NaN  \n",
      "...          ...       ...  \n",
      "2184        1993       NaN  \n",
      "2186        1968       NaN  \n",
      "2204        1981       NaN  \n",
      "2210        1989       NaN  \n",
      "2227        1946       NaN  \n",
      "\n",
      "[131 rows x 6 columns]\n"
     ]
    }
   ],
   "source": [
    "x=db_clean[pd.isnull(db_clean['End_Year'])]\n",
    "print(x)\n"
   ]
  },
  {
   "cell_type": "markdown",
   "id": "be941568",
   "metadata": {},
   "source": [
    "#### Remove decimal unit from end_year"
   ]
  },
  {
   "cell_type": "code",
   "execution_count": 151,
   "id": "774fd26d",
   "metadata": {},
   "outputs": [],
   "source": [
    "# fill nan with zero\n",
    "#db_clean['End_Year'] = db_clean['End_Year'].fillna(0)\n"
   ]
  },
  {
   "cell_type": "code",
   "execution_count": 152,
   "id": "357cc65c",
   "metadata": {},
   "outputs": [],
   "source": [
    "#db_clean['End_Year'] = db_clean['End_Year'].astype(int)"
   ]
  },
  {
   "cell_type": "code",
   "execution_count": 153,
   "id": "15c47269",
   "metadata": {},
   "outputs": [
    {
     "name": "stdout",
     "output_type": "stream",
     "text": [
      "[1969.0, nan, 1976.0, 1970.0, 1971.0, 1974.0, 1975.0, 1963.0, 1961.0, 1978.0, 1962.0, 1985.0, 1986.0, 1983.0, 1965.0, 1964.0, 1940.0, 1941.0, 1955.0, 1989.0, 1950.0, 1980.0, 1981.0, 1979.0, 1966.0, 1977.0, 1993.0, 1996.0, 1999.0, 2000.0, 1998.0, 1997.0, 1994.0, 1984.0, 1987.0, 1990.0, 1992.0, 1952.0, 1988.0, 1982.0, 1959.0, 1967.0, 1968.0, 1953.0, 1995.0, 1936.0, 1960.0, 1956.0, 1957.0, 2003.0, 1951.0, 1954.0, 2001.0, 1934.0, 1938.0, 1973.0, 2006.0, 2009.0, 2004.0, 2010.0, 1972.0, 1958.0, 1939.0, 1991.0, 1949.0, 1931.0, 1932.0, 1944.0, 1933.0, 1937.0, 1935.0, 2002.0, 2018.0, 2017.0, 1948.0, 2005.0, 2007.0]\n"
     ]
    }
   ],
   "source": [
    "# verification\n",
    "unique_year_clean2 = db_clean['End_Year'].unique().tolist()\n",
    "print(unique_year_clean2)"
   ]
  },
  {
   "cell_type": "markdown",
   "id": "b2555c8f",
   "metadata": {},
   "source": [
    "### Cars at least 30y old"
   ]
  },
  {
   "cell_type": "code",
   "execution_count": 154,
   "id": "baa5c223",
   "metadata": {},
   "outputs": [],
   "source": [
    "db_clean2 = db_clean.copy()"
   ]
  },
  {
   "cell_type": "code",
   "execution_count": 155,
   "id": "290e7059",
   "metadata": {},
   "outputs": [],
   "source": [
    "db_clean2['Start_Year'] = db_clean2['Start_Year'].fillna(0)\n",
    "db_clean2['Start_Year'] = db_clean2['Start_Year'].astype(int)\n",
    "db_clean2['End_Year'] = db_clean2['End_Year'].fillna(0)\n",
    "db_clean2['End_Year'] = db_clean2['End_Year'].astype(int)"
   ]
  },
  {
   "cell_type": "code",
   "execution_count": 156,
   "id": "e43ce13a",
   "metadata": {},
   "outputs": [],
   "source": [
    "db_clean2 = db_clean2[(db_clean2['Start_Year'] <= 1994)]"
   ]
  },
  {
   "cell_type": "code",
   "execution_count": 157,
   "id": "2f2db295",
   "metadata": {},
   "outputs": [
    {
     "name": "stdout",
     "output_type": "stream",
     "text": [
      "<class 'pandas.core.frame.DataFrame'>\n",
      "Index: 1964 entries, 5 to 2271\n",
      "Data columns (total 6 columns):\n",
      " #   Column      Non-Null Count  Dtype \n",
      "---  ------      --------------  ----- \n",
      " 0   Brand       1964 non-null   object\n",
      " 1   Model       1963 non-null   object\n",
      " 2   Submodel    1698 non-null   object\n",
      " 3   Origin      1955 non-null   object\n",
      " 4   Start_Year  1964 non-null   int32 \n",
      " 5   End_Year    1964 non-null   int32 \n",
      "dtypes: int32(2), object(4)\n",
      "memory usage: 92.1+ KB\n"
     ]
    }
   ],
   "source": [
    "db_clean2.info()"
   ]
  },
  {
   "cell_type": "markdown",
   "id": "3b557caf",
   "metadata": {},
   "source": [
    "### 5.3. Origin variable\n",
    "<a id='5.3'>"
   ]
  },
  {
   "cell_type": "markdown",
   "id": "427f447f",
   "metadata": {},
   "source": [
    "#### Transfomation to uppercase"
   ]
  },
  {
   "cell_type": "code",
   "execution_count": 158,
   "id": "45cf0633",
   "metadata": {},
   "outputs": [
    {
     "data": {
      "text/html": [
       "<div>\n",
       "<style scoped>\n",
       "    .dataframe tbody tr th:only-of-type {\n",
       "        vertical-align: middle;\n",
       "    }\n",
       "\n",
       "    .dataframe tbody tr th {\n",
       "        vertical-align: top;\n",
       "    }\n",
       "\n",
       "    .dataframe thead th {\n",
       "        text-align: right;\n",
       "    }\n",
       "</style>\n",
       "<table border=\"1\" class=\"dataframe\">\n",
       "  <thead>\n",
       "    <tr style=\"text-align: right;\">\n",
       "      <th></th>\n",
       "      <th>Brand</th>\n",
       "      <th>Model</th>\n",
       "      <th>Submodel</th>\n",
       "      <th>Origin</th>\n",
       "      <th>Start_Year</th>\n",
       "      <th>End_Year</th>\n",
       "    </tr>\n",
       "  </thead>\n",
       "  <tbody>\n",
       "    <tr>\n",
       "      <th>2267</th>\n",
       "      <td>Volvo</td>\n",
       "      <td>P1800</td>\n",
       "      <td>ES</td>\n",
       "      <td>SWEDEN</td>\n",
       "      <td>1971</td>\n",
       "      <td>1973.0</td>\n",
       "    </tr>\n",
       "    <tr>\n",
       "      <th>2268</th>\n",
       "      <td>Volvo</td>\n",
       "      <td>P 1800</td>\n",
       "      <td>S</td>\n",
       "      <td>SWEDEN</td>\n",
       "      <td>1968</td>\n",
       "      <td>1969.0</td>\n",
       "    </tr>\n",
       "    <tr>\n",
       "      <th>2269</th>\n",
       "      <td>Volvo</td>\n",
       "      <td>P 1800</td>\n",
       "      <td>S</td>\n",
       "      <td>SWEDEN</td>\n",
       "      <td>1963</td>\n",
       "      <td>1968.0</td>\n",
       "    </tr>\n",
       "    <tr>\n",
       "      <th>2270</th>\n",
       "      <td>Wartburg</td>\n",
       "      <td>353</td>\n",
       "      <td>W Tourist</td>\n",
       "      <td>GERMANY</td>\n",
       "      <td>1975</td>\n",
       "      <td>1989.0</td>\n",
       "    </tr>\n",
       "    <tr>\n",
       "      <th>2271</th>\n",
       "      <td>Zundapp</td>\n",
       "      <td>Janus</td>\n",
       "      <td>NaN</td>\n",
       "      <td>GERMANY</td>\n",
       "      <td>1957</td>\n",
       "      <td>1958.0</td>\n",
       "    </tr>\n",
       "  </tbody>\n",
       "</table>\n",
       "</div>"
      ],
      "text/plain": [
       "         Brand   Model   Submodel   Origin  Start_Year  End_Year\n",
       "2267     Volvo   P1800         ES   SWEDEN        1971    1973.0\n",
       "2268     Volvo  P 1800          S   SWEDEN        1968    1969.0\n",
       "2269     Volvo  P 1800          S   SWEDEN        1963    1968.0\n",
       "2270  Wartburg     353  W Tourist  GERMANY        1975    1989.0\n",
       "2271   Zundapp   Janus        NaN  GERMANY        1957    1958.0"
      ]
     },
     "execution_count": 158,
     "metadata": {},
     "output_type": "execute_result"
    }
   ],
   "source": [
    "# convert all in uppercase\n",
    "db_clean['Origin'] = db_clean['Origin'].str.upper()\n",
    "\n",
    "db_clean.tail()\n"
   ]
  },
  {
   "cell_type": "markdown",
   "id": "cb159c65",
   "metadata": {},
   "source": [
    "#### replacement:  Zweden -> Sweden "
   ]
  },
  {
   "cell_type": "code",
   "execution_count": 159,
   "id": "4f1ce703",
   "metadata": {},
   "outputs": [],
   "source": [
    "db_clean['Origin'] = db_clean['Origin'].replace('ZWEDEN', 'SWEDEN')\n"
   ]
  },
  {
   "cell_type": "markdown",
   "id": "9bb0f400",
   "metadata": {},
   "source": [
    "#### investigation of 1977 case"
   ]
  },
  {
   "cell_type": "code",
   "execution_count": 160,
   "id": "92f66e72",
   "metadata": {},
   "outputs": [
    {
     "name": "stdout",
     "output_type": "stream",
     "text": [
      "    Brand Model Submodel Origin  Start_Year  End_Year\n",
      "405   BMW   3.0        S   1977        1971       NaN\n"
     ]
    }
   ],
   "source": [
    "registo_1977 = db_clean[db_clean['Origin'] == '1977']\n",
    "print(registo_1977)\n"
   ]
  },
  {
   "cell_type": "markdown",
   "id": "16f58c24",
   "metadata": {},
   "source": [
    "<span style='color:blue'> \n",
    "    \n",
    "    \n",
    "- it has no origin, years fly between columns of origin and start year\n",
    "    \n",
    "- through investigation, classic car was manufactured in Germany\n",
    "    \n",
    "- year and origin replacement \n",
    "    "
   ]
  },
  {
   "cell_type": "code",
   "execution_count": 161,
   "id": "e274c7eb",
   "metadata": {},
   "outputs": [
    {
     "name": "stderr",
     "output_type": "stream",
     "text": [
      "C:\\Users\\InesC\\AppData\\Local\\Temp\\ipykernel_11696\\2284759304.py:2: FutureWarning: Setting an item of incompatible dtype is deprecated and will raise in a future error of pandas. Value '1971' has dtype incompatible with int64, please explicitly cast to a compatible dtype first.\n",
      "  db_clean.loc[405, 'Start_Year'] = '1971'\n",
      "C:\\Users\\InesC\\AppData\\Local\\Temp\\ipykernel_11696\\2284759304.py:3: FutureWarning: Setting an item of incompatible dtype is deprecated and will raise in a future error of pandas. Value '1977' has dtype incompatible with float64, please explicitly cast to a compatible dtype first.\n",
      "  db_clean.loc[405, 'End_Year'] = '1977'\n"
     ]
    }
   ],
   "source": [
    "# Year and origin replacement\n",
    "db_clean.loc[405, 'Start_Year'] = '1971'\n",
    "db_clean.loc[405, 'End_Year'] = '1977'\n",
    "db_clean.loc[405, 'Origin'] = 'GERMANY'"
   ]
  },
  {
   "cell_type": "code",
   "execution_count": 162,
   "id": "0a0e25c3",
   "metadata": {},
   "outputs": [
    {
     "data": {
      "text/html": [
       "<div>\n",
       "<style scoped>\n",
       "    .dataframe tbody tr th:only-of-type {\n",
       "        vertical-align: middle;\n",
       "    }\n",
       "\n",
       "    .dataframe tbody tr th {\n",
       "        vertical-align: top;\n",
       "    }\n",
       "\n",
       "    .dataframe thead th {\n",
       "        text-align: right;\n",
       "    }\n",
       "</style>\n",
       "<table border=\"1\" class=\"dataframe\">\n",
       "  <thead>\n",
       "    <tr style=\"text-align: right;\">\n",
       "      <th></th>\n",
       "      <th>Brand</th>\n",
       "      <th>Model</th>\n",
       "      <th>Submodel</th>\n",
       "      <th>Origin</th>\n",
       "      <th>Start_Year</th>\n",
       "      <th>End_Year</th>\n",
       "    </tr>\n",
       "  </thead>\n",
       "  <tbody>\n",
       "    <tr>\n",
       "      <th>405</th>\n",
       "      <td>BMW</td>\n",
       "      <td>3.0</td>\n",
       "      <td>S</td>\n",
       "      <td>GERMANY</td>\n",
       "      <td>1971</td>\n",
       "      <td>1977</td>\n",
       "    </tr>\n",
       "  </tbody>\n",
       "</table>\n",
       "</div>"
      ],
      "text/plain": [
       "    Brand Model Submodel   Origin Start_Year End_Year\n",
       "405   BMW   3.0        S  GERMANY       1971     1977"
      ]
     },
     "execution_count": 162,
     "metadata": {},
     "output_type": "execute_result"
    }
   ],
   "source": [
    "# verification\n",
    "db_clean.loc[[405]]"
   ]
  },
  {
   "cell_type": "code",
   "execution_count": 163,
   "id": "3255f32f",
   "metadata": {},
   "outputs": [
    {
     "name": "stdout",
     "output_type": "stream",
     "text": [
      "['ITALY', 'GERMANY', 'UNITED KINGDOM', 'FRANCE', 'GREECE', 'UNITED STATES', 'AUSTRALIA', 'SPAIN', nan, 'NETHERLANDS', 'JAPAN', 'IRELAND', 'GERMANY / UNITED KINGDOM', 'GERMANY / UNITED KINGDOM UP TO 1976', 'SWEDEN']\n"
     ]
    }
   ],
   "source": [
    "unique_origin_clean = db_clean['Origin'].unique().tolist()\n",
    "print(unique_origin_clean)"
   ]
  },
  {
   "cell_type": "code",
   "execution_count": 164,
   "id": "37e2230d-d9f0-488a-bb41-a17aed4328f6",
   "metadata": {},
   "outputs": [
    {
     "data": {
      "text/html": [
       "<div>\n",
       "<style scoped>\n",
       "    .dataframe tbody tr th:only-of-type {\n",
       "        vertical-align: middle;\n",
       "    }\n",
       "\n",
       "    .dataframe tbody tr th {\n",
       "        vertical-align: top;\n",
       "    }\n",
       "\n",
       "    .dataframe thead th {\n",
       "        text-align: right;\n",
       "    }\n",
       "</style>\n",
       "<table border=\"1\" class=\"dataframe\">\n",
       "  <thead>\n",
       "    <tr style=\"text-align: right;\">\n",
       "      <th></th>\n",
       "      <th>Brand</th>\n",
       "      <th>Model</th>\n",
       "      <th>Submodel</th>\n",
       "      <th>Origin</th>\n",
       "      <th>Start_Year</th>\n",
       "      <th>End_Year</th>\n",
       "    </tr>\n",
       "  </thead>\n",
       "  <tbody>\n",
       "    <tr>\n",
       "      <th>1348</th>\n",
       "      <td>Ford</td>\n",
       "      <td>Granada</td>\n",
       "      <td>2.6 V6</td>\n",
       "      <td>GERMANY / UNITED KINGDOM UP TO 1976</td>\n",
       "      <td>1972</td>\n",
       "      <td>1974.0</td>\n",
       "    </tr>\n",
       "    <tr>\n",
       "      <th>1350</th>\n",
       "      <td>Ford</td>\n",
       "      <td>Granada</td>\n",
       "      <td>2.6 V6 Ghia</td>\n",
       "      <td>GERMANY / UNITED KINGDOM UP TO 1976</td>\n",
       "      <td>1974</td>\n",
       "      <td>1975.0</td>\n",
       "    </tr>\n",
       "    <tr>\n",
       "      <th>1352</th>\n",
       "      <td>Ford</td>\n",
       "      <td>Granada</td>\n",
       "      <td>2.6 V6 GXL</td>\n",
       "      <td>GERMANY / UNITED KINGDOM UP TO 1976</td>\n",
       "      <td>1972</td>\n",
       "      <td>1975.0</td>\n",
       "    </tr>\n",
       "    <tr>\n",
       "      <th>1354</th>\n",
       "      <td>Ford</td>\n",
       "      <td>Granada</td>\n",
       "      <td>2.6 V6 XL</td>\n",
       "      <td>GERMANY / UNITED KINGDOM UP TO 1976</td>\n",
       "      <td>1974</td>\n",
       "      <td>1975.0</td>\n",
       "    </tr>\n",
       "    <tr>\n",
       "      <th>1356</th>\n",
       "      <td>Ford</td>\n",
       "      <td>Granada</td>\n",
       "      <td>3.0 V6</td>\n",
       "      <td>GERMANY / UNITED KINGDOM UP TO 1976</td>\n",
       "      <td>1972</td>\n",
       "      <td>1974.0</td>\n",
       "    </tr>\n",
       "    <tr>\n",
       "      <th>1358</th>\n",
       "      <td>Ford</td>\n",
       "      <td>Granada</td>\n",
       "      <td>3.0 V6 Ghia</td>\n",
       "      <td>GERMANY / UNITED KINGDOM UP TO 1976</td>\n",
       "      <td>1974</td>\n",
       "      <td>1975.0</td>\n",
       "    </tr>\n",
       "    <tr>\n",
       "      <th>1360</th>\n",
       "      <td>Ford</td>\n",
       "      <td>Granada</td>\n",
       "      <td>3.0 V6 GXL</td>\n",
       "      <td>GERMANY / UNITED KINGDOM UP TO 1976</td>\n",
       "      <td>1972</td>\n",
       "      <td>1975.0</td>\n",
       "    </tr>\n",
       "    <tr>\n",
       "      <th>1362</th>\n",
       "      <td>Ford</td>\n",
       "      <td>Granada</td>\n",
       "      <td>3.0 V6 XL</td>\n",
       "      <td>GERMANY / UNITED KINGDOM UP TO 1976</td>\n",
       "      <td>1974</td>\n",
       "      <td>1975.0</td>\n",
       "    </tr>\n",
       "    <tr>\n",
       "      <th>1363</th>\n",
       "      <td>Ford</td>\n",
       "      <td>Granada</td>\n",
       "      <td>Coupe 2.3 V6</td>\n",
       "      <td>GERMANY / UNITED KINGDOM UP TO 1976</td>\n",
       "      <td>1972</td>\n",
       "      <td>1974.0</td>\n",
       "    </tr>\n",
       "    <tr>\n",
       "      <th>1364</th>\n",
       "      <td>Ford</td>\n",
       "      <td>Granada</td>\n",
       "      <td>Coupe 2.3 V6 GXL</td>\n",
       "      <td>GERMANY / UNITED KINGDOM UP TO 1976</td>\n",
       "      <td>1974</td>\n",
       "      <td>1975.0</td>\n",
       "    </tr>\n",
       "    <tr>\n",
       "      <th>1365</th>\n",
       "      <td>Ford</td>\n",
       "      <td>Granada</td>\n",
       "      <td>Coupe 2.3 V6 Ghia</td>\n",
       "      <td>GERMANY / UNITED KINGDOM UP TO 1976</td>\n",
       "      <td>1974</td>\n",
       "      <td>1975.0</td>\n",
       "    </tr>\n",
       "    <tr>\n",
       "      <th>1366</th>\n",
       "      <td>Ford</td>\n",
       "      <td>Granada</td>\n",
       "      <td>Coupe 2.3 V6 GXL</td>\n",
       "      <td>GERMANY / UNITED KINGDOM UP TO 1976</td>\n",
       "      <td>1972</td>\n",
       "      <td>1974.0</td>\n",
       "    </tr>\n",
       "    <tr>\n",
       "      <th>1367</th>\n",
       "      <td>Ford</td>\n",
       "      <td>Granada</td>\n",
       "      <td>Coupe 2.3 V6 XL</td>\n",
       "      <td>GERMANY / UNITED KINGDOM UP TO 1976</td>\n",
       "      <td>1974</td>\n",
       "      <td>1975.0</td>\n",
       "    </tr>\n",
       "    <tr>\n",
       "      <th>1368</th>\n",
       "      <td>Ford</td>\n",
       "      <td>Granada</td>\n",
       "      <td>Coupe 2.6 V6</td>\n",
       "      <td>GERMANY / UNITED KINGDOM UP TO 1976</td>\n",
       "      <td>1972</td>\n",
       "      <td>1974.0</td>\n",
       "    </tr>\n",
       "    <tr>\n",
       "      <th>1369</th>\n",
       "      <td>Ford</td>\n",
       "      <td>Granada</td>\n",
       "      <td>Coupe 2.6 V6 Ghia</td>\n",
       "      <td>GERMANY / UNITED KINGDOM UP TO 1976</td>\n",
       "      <td>1974</td>\n",
       "      <td>1975.0</td>\n",
       "    </tr>\n",
       "    <tr>\n",
       "      <th>1370</th>\n",
       "      <td>Ford</td>\n",
       "      <td>Granada</td>\n",
       "      <td>Coupe 2.6 V6 GXL</td>\n",
       "      <td>GERMANY / UNITED KINGDOM UP TO 1976</td>\n",
       "      <td>1974</td>\n",
       "      <td>1975.0</td>\n",
       "    </tr>\n",
       "    <tr>\n",
       "      <th>1371</th>\n",
       "      <td>Ford</td>\n",
       "      <td>Granada</td>\n",
       "      <td>Coupe 2.6 V6 GXL</td>\n",
       "      <td>GERMANY / UNITED KINGDOM UP TO 1976</td>\n",
       "      <td>1972</td>\n",
       "      <td>1974.0</td>\n",
       "    </tr>\n",
       "    <tr>\n",
       "      <th>1372</th>\n",
       "      <td>Ford</td>\n",
       "      <td>Granada</td>\n",
       "      <td>Coupe 2.6 V6 XL</td>\n",
       "      <td>GERMANY / UNITED KINGDOM UP TO 1976</td>\n",
       "      <td>1974</td>\n",
       "      <td>1975.0</td>\n",
       "    </tr>\n",
       "    <tr>\n",
       "      <th>1373</th>\n",
       "      <td>Ford</td>\n",
       "      <td>Granada</td>\n",
       "      <td>Coupe 3.0 V6</td>\n",
       "      <td>GERMANY / UNITED KINGDOM UP TO 1976</td>\n",
       "      <td>1972</td>\n",
       "      <td>1974.0</td>\n",
       "    </tr>\n",
       "    <tr>\n",
       "      <th>1374</th>\n",
       "      <td>Ford</td>\n",
       "      <td>Granada</td>\n",
       "      <td>Coupe 3.0 V6 Ghia</td>\n",
       "      <td>GERMANY / UNITED KINGDOM UP TO 1976</td>\n",
       "      <td>1974</td>\n",
       "      <td>1975.0</td>\n",
       "    </tr>\n",
       "    <tr>\n",
       "      <th>1375</th>\n",
       "      <td>Ford</td>\n",
       "      <td>Granada</td>\n",
       "      <td>Coupe 3.0 V6 GXL</td>\n",
       "      <td>GERMANY / UNITED KINGDOM UP TO 1976</td>\n",
       "      <td>1974</td>\n",
       "      <td>1975.0</td>\n",
       "    </tr>\n",
       "    <tr>\n",
       "      <th>1376</th>\n",
       "      <td>Ford</td>\n",
       "      <td>Granada</td>\n",
       "      <td>Coupe 3.0 V6  GXL</td>\n",
       "      <td>GERMANY / UNITED KINGDOM UP TO 1976</td>\n",
       "      <td>1972</td>\n",
       "      <td>1974.0</td>\n",
       "    </tr>\n",
       "    <tr>\n",
       "      <th>1377</th>\n",
       "      <td>Ford</td>\n",
       "      <td>Granada</td>\n",
       "      <td>Coupe 3.0 V6 XL</td>\n",
       "      <td>GERMANY / UNITED KINGDOM UP TO 1976</td>\n",
       "      <td>1974</td>\n",
       "      <td>1975.0</td>\n",
       "    </tr>\n",
       "    <tr>\n",
       "      <th>1378</th>\n",
       "      <td>Ford</td>\n",
       "      <td>Granada</td>\n",
       "      <td>Turnier 2.3 V6</td>\n",
       "      <td>GERMANY / UNITED KINGDOM UP TO 1976</td>\n",
       "      <td>1972</td>\n",
       "      <td>1975.0</td>\n",
       "    </tr>\n",
       "    <tr>\n",
       "      <th>1379</th>\n",
       "      <td>Ford</td>\n",
       "      <td>Granada</td>\n",
       "      <td>Turnier 2.3 V6 Ghia</td>\n",
       "      <td>GERMANY / UNITED KINGDOM UP TO 1976</td>\n",
       "      <td>1974</td>\n",
       "      <td>1975.0</td>\n",
       "    </tr>\n",
       "    <tr>\n",
       "      <th>1380</th>\n",
       "      <td>Ford</td>\n",
       "      <td>Granada</td>\n",
       "      <td>Turnier 2.3 V6 GXL</td>\n",
       "      <td>GERMANY / UNITED KINGDOM UP TO 1976</td>\n",
       "      <td>1972</td>\n",
       "      <td>1975.0</td>\n",
       "    </tr>\n",
       "    <tr>\n",
       "      <th>1381</th>\n",
       "      <td>Ford</td>\n",
       "      <td>Granada</td>\n",
       "      <td>Turnier 2.3 V6 XL</td>\n",
       "      <td>GERMANY / UNITED KINGDOM UP TO 1976</td>\n",
       "      <td>1974</td>\n",
       "      <td>1975.0</td>\n",
       "    </tr>\n",
       "    <tr>\n",
       "      <th>1382</th>\n",
       "      <td>Ford</td>\n",
       "      <td>Granada</td>\n",
       "      <td>Turnier 3.0 V6</td>\n",
       "      <td>GERMANY / UNITED KINGDOM UP TO 1976</td>\n",
       "      <td>1972</td>\n",
       "      <td>1975.0</td>\n",
       "    </tr>\n",
       "    <tr>\n",
       "      <th>1383</th>\n",
       "      <td>Ford</td>\n",
       "      <td>Granada</td>\n",
       "      <td>Turnier 3.0 V6 Ghia</td>\n",
       "      <td>GERMANY / UNITED KINGDOM UP TO 1976</td>\n",
       "      <td>1974</td>\n",
       "      <td>1975.0</td>\n",
       "    </tr>\n",
       "    <tr>\n",
       "      <th>1384</th>\n",
       "      <td>Ford</td>\n",
       "      <td>Granada</td>\n",
       "      <td>Turnier 3.0 V6 GXL</td>\n",
       "      <td>GERMANY / UNITED KINGDOM UP TO 1976</td>\n",
       "      <td>1972</td>\n",
       "      <td>1975.0</td>\n",
       "    </tr>\n",
       "    <tr>\n",
       "      <th>1385</th>\n",
       "      <td>Ford</td>\n",
       "      <td>Granada</td>\n",
       "      <td>Turnier 3.0 V6 XL</td>\n",
       "      <td>GERMANY / UNITED KINGDOM UP TO 1976</td>\n",
       "      <td>1974</td>\n",
       "      <td>1975.0</td>\n",
       "    </tr>\n",
       "  </tbody>\n",
       "</table>\n",
       "</div>"
      ],
      "text/plain": [
       "     Brand    Model             Submodel                               Origin  \\\n",
       "1348  Ford  Granada               2.6 V6  GERMANY / UNITED KINGDOM UP TO 1976   \n",
       "1350  Ford  Granada          2.6 V6 Ghia  GERMANY / UNITED KINGDOM UP TO 1976   \n",
       "1352  Ford  Granada           2.6 V6 GXL  GERMANY / UNITED KINGDOM UP TO 1976   \n",
       "1354  Ford  Granada            2.6 V6 XL  GERMANY / UNITED KINGDOM UP TO 1976   \n",
       "1356  Ford  Granada               3.0 V6  GERMANY / UNITED KINGDOM UP TO 1976   \n",
       "1358  Ford  Granada          3.0 V6 Ghia  GERMANY / UNITED KINGDOM UP TO 1976   \n",
       "1360  Ford  Granada           3.0 V6 GXL  GERMANY / UNITED KINGDOM UP TO 1976   \n",
       "1362  Ford  Granada            3.0 V6 XL  GERMANY / UNITED KINGDOM UP TO 1976   \n",
       "1363  Ford  Granada         Coupe 2.3 V6  GERMANY / UNITED KINGDOM UP TO 1976   \n",
       "1364  Ford  Granada     Coupe 2.3 V6 GXL  GERMANY / UNITED KINGDOM UP TO 1976   \n",
       "1365  Ford  Granada    Coupe 2.3 V6 Ghia  GERMANY / UNITED KINGDOM UP TO 1976   \n",
       "1366  Ford  Granada     Coupe 2.3 V6 GXL  GERMANY / UNITED KINGDOM UP TO 1976   \n",
       "1367  Ford  Granada      Coupe 2.3 V6 XL  GERMANY / UNITED KINGDOM UP TO 1976   \n",
       "1368  Ford  Granada         Coupe 2.6 V6  GERMANY / UNITED KINGDOM UP TO 1976   \n",
       "1369  Ford  Granada    Coupe 2.6 V6 Ghia  GERMANY / UNITED KINGDOM UP TO 1976   \n",
       "1370  Ford  Granada     Coupe 2.6 V6 GXL  GERMANY / UNITED KINGDOM UP TO 1976   \n",
       "1371  Ford  Granada     Coupe 2.6 V6 GXL  GERMANY / UNITED KINGDOM UP TO 1976   \n",
       "1372  Ford  Granada      Coupe 2.6 V6 XL  GERMANY / UNITED KINGDOM UP TO 1976   \n",
       "1373  Ford  Granada         Coupe 3.0 V6  GERMANY / UNITED KINGDOM UP TO 1976   \n",
       "1374  Ford  Granada    Coupe 3.0 V6 Ghia  GERMANY / UNITED KINGDOM UP TO 1976   \n",
       "1375  Ford  Granada     Coupe 3.0 V6 GXL  GERMANY / UNITED KINGDOM UP TO 1976   \n",
       "1376  Ford  Granada    Coupe 3.0 V6  GXL  GERMANY / UNITED KINGDOM UP TO 1976   \n",
       "1377  Ford  Granada      Coupe 3.0 V6 XL  GERMANY / UNITED KINGDOM UP TO 1976   \n",
       "1378  Ford  Granada       Turnier 2.3 V6  GERMANY / UNITED KINGDOM UP TO 1976   \n",
       "1379  Ford  Granada  Turnier 2.3 V6 Ghia  GERMANY / UNITED KINGDOM UP TO 1976   \n",
       "1380  Ford  Granada   Turnier 2.3 V6 GXL  GERMANY / UNITED KINGDOM UP TO 1976   \n",
       "1381  Ford  Granada    Turnier 2.3 V6 XL  GERMANY / UNITED KINGDOM UP TO 1976   \n",
       "1382  Ford  Granada       Turnier 3.0 V6  GERMANY / UNITED KINGDOM UP TO 1976   \n",
       "1383  Ford  Granada  Turnier 3.0 V6 Ghia  GERMANY / UNITED KINGDOM UP TO 1976   \n",
       "1384  Ford  Granada   Turnier 3.0 V6 GXL  GERMANY / UNITED KINGDOM UP TO 1976   \n",
       "1385  Ford  Granada    Turnier 3.0 V6 XL  GERMANY / UNITED KINGDOM UP TO 1976   \n",
       "\n",
       "     Start_Year End_Year  \n",
       "1348       1972   1974.0  \n",
       "1350       1974   1975.0  \n",
       "1352       1972   1975.0  \n",
       "1354       1974   1975.0  \n",
       "1356       1972   1974.0  \n",
       "1358       1974   1975.0  \n",
       "1360       1972   1975.0  \n",
       "1362       1974   1975.0  \n",
       "1363       1972   1974.0  \n",
       "1364       1974   1975.0  \n",
       "1365       1974   1975.0  \n",
       "1366       1972   1974.0  \n",
       "1367       1974   1975.0  \n",
       "1368       1972   1974.0  \n",
       "1369       1974   1975.0  \n",
       "1370       1974   1975.0  \n",
       "1371       1972   1974.0  \n",
       "1372       1974   1975.0  \n",
       "1373       1972   1974.0  \n",
       "1374       1974   1975.0  \n",
       "1375       1974   1975.0  \n",
       "1376       1972   1974.0  \n",
       "1377       1974   1975.0  \n",
       "1378       1972   1975.0  \n",
       "1379       1974   1975.0  \n",
       "1380       1972   1975.0  \n",
       "1381       1974   1975.0  \n",
       "1382       1972   1975.0  \n",
       "1383       1974   1975.0  \n",
       "1384       1972   1975.0  \n",
       "1385       1974   1975.0  "
      ]
     },
     "execution_count": 164,
     "metadata": {},
     "output_type": "execute_result"
    }
   ],
   "source": [
    "filtered_db = db_clean.loc[db_clean['Origin'] == 'GERMANY / UNITED KINGDOM UP TO 1976']\n",
    "filtered_db"
   ]
  },
  {
   "cell_type": "code",
   "execution_count": 165,
   "id": "f26f1e71-978f-4ea2-9348-8a543d42d7cf",
   "metadata": {},
   "outputs": [],
   "source": [
    "db_clean['Origin'] = db_clean['Origin'].replace('GERMANY / UNITED KINGDOM', 'GERMANY')"
   ]
  },
  {
   "cell_type": "code",
   "execution_count": 166,
   "id": "cdd13542-6000-4e9b-be71-36f6f6f38f51",
   "metadata": {},
   "outputs": [],
   "source": [
    "db_clean['Origin'] = db_clean['Origin'].replace('GERMANY / UNITED KINGDOM UP TO 1976', 'GERMANY')"
   ]
  },
  {
   "cell_type": "code",
   "execution_count": 167,
   "id": "5a7ed992-dc4f-4672-91ea-018a20e08d44",
   "metadata": {},
   "outputs": [
    {
     "name": "stdout",
     "output_type": "stream",
     "text": [
      "['ITALY', 'GERMANY', 'UNITED KINGDOM', 'FRANCE', 'GREECE', 'UNITED STATES', 'AUSTRALIA', 'SPAIN', nan, 'NETHERLANDS', 'JAPAN', 'IRELAND', 'SWEDEN']\n"
     ]
    }
   ],
   "source": [
    "unique_origin_clean = db_clean['Origin'].unique().tolist()\n",
    "print(unique_origin_clean)"
   ]
  },
  {
   "cell_type": "code",
   "execution_count": 168,
   "id": "14f6ca49-e142-4e90-924c-e23f524d9c81",
   "metadata": {},
   "outputs": [
    {
     "name": "stdout",
     "output_type": "stream",
     "text": [
      "<class 'pandas.core.frame.DataFrame'>\n",
      "RangeIndex: 2267 entries, 5 to 2271\n",
      "Data columns (total 6 columns):\n",
      " #   Column      Non-Null Count  Dtype \n",
      "---  ------      --------------  ----- \n",
      " 0   Brand       2267 non-null   object\n",
      " 1   Model       2266 non-null   object\n",
      " 2   Submodel    2000 non-null   object\n",
      " 3   Origin      2258 non-null   object\n",
      " 4   Start_Year  2267 non-null   object\n",
      " 5   End_Year    2137 non-null   object\n",
      "dtypes: object(6)\n",
      "memory usage: 106.4+ KB\n"
     ]
    }
   ],
   "source": [
    "db_clean.info()"
   ]
  },
  {
   "cell_type": "code",
   "execution_count": 169,
   "id": "722f8bba-89d3-4eb6-b91e-725782daf01c",
   "metadata": {},
   "outputs": [
    {
     "data": {
      "text/html": [
       "<div>\n",
       "<style scoped>\n",
       "    .dataframe tbody tr th:only-of-type {\n",
       "        vertical-align: middle;\n",
       "    }\n",
       "\n",
       "    .dataframe tbody tr th {\n",
       "        vertical-align: top;\n",
       "    }\n",
       "\n",
       "    .dataframe thead th {\n",
       "        text-align: right;\n",
       "    }\n",
       "</style>\n",
       "<table border=\"1\" class=\"dataframe\">\n",
       "  <thead>\n",
       "    <tr style=\"text-align: right;\">\n",
       "      <th></th>\n",
       "      <th>Brand</th>\n",
       "      <th>Model</th>\n",
       "      <th>Submodel</th>\n",
       "      <th>Origin</th>\n",
       "      <th>Start_Year</th>\n",
       "      <th>End_Year</th>\n",
       "    </tr>\n",
       "  </thead>\n",
       "  <tbody>\n",
       "    <tr>\n",
       "      <th>count</th>\n",
       "      <td>2267</td>\n",
       "      <td>2266</td>\n",
       "      <td>2000</td>\n",
       "      <td>2258</td>\n",
       "      <td>2267</td>\n",
       "      <td>2137.0</td>\n",
       "    </tr>\n",
       "    <tr>\n",
       "      <th>unique</th>\n",
       "      <td>85</td>\n",
       "      <td>479</td>\n",
       "      <td>1338</td>\n",
       "      <td>12</td>\n",
       "      <td>74</td>\n",
       "      <td>77.0</td>\n",
       "    </tr>\n",
       "    <tr>\n",
       "      <th>top</th>\n",
       "      <td>Citroen</td>\n",
       "      <td>CX</td>\n",
       "      <td>GT</td>\n",
       "      <td>ITALY</td>\n",
       "      <td>1994</td>\n",
       "      <td>1975.0</td>\n",
       "    </tr>\n",
       "    <tr>\n",
       "      <th>freq</th>\n",
       "      <td>336</td>\n",
       "      <td>97</td>\n",
       "      <td>23</td>\n",
       "      <td>781</td>\n",
       "      <td>102</td>\n",
       "      <td>112.0</td>\n",
       "    </tr>\n",
       "  </tbody>\n",
       "</table>\n",
       "</div>"
      ],
      "text/plain": [
       "          Brand Model Submodel Origin  Start_Year  End_Year\n",
       "count      2267  2266     2000   2258        2267    2137.0\n",
       "unique       85   479     1338     12          74      77.0\n",
       "top     Citroen    CX       GT  ITALY        1994    1975.0\n",
       "freq        336    97       23    781         102     112.0"
      ]
     },
     "execution_count": 169,
     "metadata": {},
     "output_type": "execute_result"
    }
   ],
   "source": [
    "db_clean.describe(include='all')"
   ]
  },
  {
   "cell_type": "markdown",
   "id": "0fa9c7f8",
   "metadata": {},
   "source": [
    "## 6. Data exportation \n",
    "<a id='6'>"
   ]
  },
  {
   "cell_type": "code",
   "execution_count": 170,
   "id": "68b6d161",
   "metadata": {},
   "outputs": [
    {
     "data": {
      "text/html": [
       "<div>\n",
       "<style scoped>\n",
       "    .dataframe tbody tr th:only-of-type {\n",
       "        vertical-align: middle;\n",
       "    }\n",
       "\n",
       "    .dataframe tbody tr th {\n",
       "        vertical-align: top;\n",
       "    }\n",
       "\n",
       "    .dataframe thead th {\n",
       "        text-align: right;\n",
       "    }\n",
       "</style>\n",
       "<table border=\"1\" class=\"dataframe\">\n",
       "  <thead>\n",
       "    <tr style=\"text-align: right;\">\n",
       "      <th></th>\n",
       "      <th>Brand</th>\n",
       "      <th>Model</th>\n",
       "      <th>Submodel</th>\n",
       "      <th>Origin</th>\n",
       "      <th>Start_Year</th>\n",
       "      <th>End_Year</th>\n",
       "    </tr>\n",
       "  </thead>\n",
       "  <tbody>\n",
       "    <tr>\n",
       "      <th>5</th>\n",
       "      <td>Ferrari</td>\n",
       "      <td>Dino 206</td>\n",
       "      <td>GT</td>\n",
       "      <td>ITALY</td>\n",
       "      <td>1968</td>\n",
       "      <td>1969.0</td>\n",
       "    </tr>\n",
       "    <tr>\n",
       "      <th>6</th>\n",
       "      <td>Ferrari</td>\n",
       "      <td>206</td>\n",
       "      <td>SP</td>\n",
       "      <td>ITALY</td>\n",
       "      <td>1966</td>\n",
       "      <td>NaN</td>\n",
       "    </tr>\n",
       "    <tr>\n",
       "      <th>7</th>\n",
       "      <td>Ferrari</td>\n",
       "      <td>208</td>\n",
       "      <td>GT4</td>\n",
       "      <td>ITALY</td>\n",
       "      <td>1975</td>\n",
       "      <td>1976.0</td>\n",
       "    </tr>\n",
       "    <tr>\n",
       "      <th>8</th>\n",
       "      <td>Ferrari</td>\n",
       "      <td>Dino 246</td>\n",
       "      <td>GT</td>\n",
       "      <td>ITALY</td>\n",
       "      <td>1969</td>\n",
       "      <td>1970.0</td>\n",
       "    </tr>\n",
       "    <tr>\n",
       "      <th>9</th>\n",
       "      <td>Ferrari</td>\n",
       "      <td>Dino 246</td>\n",
       "      <td>GT</td>\n",
       "      <td>ITALY</td>\n",
       "      <td>1970</td>\n",
       "      <td>1971.0</td>\n",
       "    </tr>\n",
       "  </tbody>\n",
       "</table>\n",
       "</div>"
      ],
      "text/plain": [
       "     Brand     Model Submodel Origin Start_Year End_Year\n",
       "5  Ferrari  Dino 206       GT  ITALY       1968   1969.0\n",
       "6  Ferrari       206       SP  ITALY       1966      NaN\n",
       "7  Ferrari       208      GT4  ITALY       1975   1976.0\n",
       "8  Ferrari  Dino 246       GT  ITALY       1969   1970.0\n",
       "9  Ferrari  Dino 246       GT  ITALY       1970   1971.0"
      ]
     },
     "execution_count": 170,
     "metadata": {},
     "output_type": "execute_result"
    }
   ],
   "source": [
    "db_clean.head()"
   ]
  },
  {
   "cell_type": "code",
   "execution_count": 171,
   "id": "52061616",
   "metadata": {},
   "outputs": [],
   "source": [
    "db_clean.to_csv('Manufacturers_processeddata.csv', index=False)"
   ]
  }
 ],
 "metadata": {
  "kernelspec": {
   "display_name": "Python 3 (ipykernel)",
   "language": "python",
   "name": "python3"
  },
  "language_info": {
   "codemirror_mode": {
    "name": "ipython",
    "version": 3
   },
   "file_extension": ".py",
   "mimetype": "text/x-python",
   "name": "python",
   "nbconvert_exporter": "python",
   "pygments_lexer": "ipython3",
   "version": "3.11.7"
  }
 },
 "nbformat": 4,
 "nbformat_minor": 5
}
