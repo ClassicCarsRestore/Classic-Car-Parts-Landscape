{
 "cells": [
  {
   "cell_type": "markdown",
   "id": "e600e401-3f80-4eb7-8439-4acaf3d53536",
   "metadata": {},
   "source": [
    "&nbsp;\n",
    "<div style=\"text-align: center;\">\n",
    "\n",
    "## <span style=\"color: black;\">Website Restoparts - restoration parts</span>\n",
    "\n",
    "&nbsp;\n",
    "<center><img src=\"restoparts_logo.png\"/></center>\n",
    "\n",
    "\n",
    "&nbsp;\n",
    "\n",
    "### <span style=\"color: black;\">Data Cleaning</span>\n",
    "\n",
    "#### <span style=\"color: #003E99;\">804 classic car body parts</span>"
   ]
  },
  {
   "cell_type": "markdown",
   "id": "91d1eb32-49b1-4791-b3c2-b57d5a626464",
   "metadata": {},
   "source": [
    "## Index\n",
    "\n",
    "- [<font color='black'> 1. Packages installation</font>](#1)\n",
    "\n",
    "\n",
    "\n",
    "- [<font color='black'> 2. Data importation</font>](#2)\n",
    "\n",
    "\n",
    "\n",
    "- [<font color='black'> 3. Data exploration</font>](#3)\n",
    "    - [<font color='black'> 3.1. Missing values and duplicated data</font>](#3.1)\n",
    "    - [<font color='black'> 3.2. Most frequent itens</font>](#3.2)\n",
    "    - [<font color='black'> 3.3. Name feature </font>](#3.3)\n",
    "    - [<font color='black'> 3.4. Product type feature </font>](#3.4)\n",
    "    - [<font color='black'> 3.5. Filter feature </font>](#3.5)\n",
    "    - [<font color='black'> 3.6. Composition </font>](#3.6)\n",
    "    - [<font color='black'> 3.7. Finish </font>](#3.7)\n",
    "    - [<font color='black'> 3.8. Dimensions </font>](#3.8)\n",
    "    - [<font color='black'> 3.9. Models </font>](#3.9)\n",
    "    - [<font color='black'> 3.10. Price </font>](#3.10) \n",
    " \n",
    "&nbsp;\n",
    "\n",
    "- [<font color='black'> 4. Data cleaning</font>](#4)\n",
    "    - [<font color='black'> 4.1. Standardization of formats</font>](#4.1)\n",
    "    - [<font color='black'> 4.2. Noise removal</font>](#4.2)\n",
    "    - [<font color='black'> 4.3. Data type conversion</font>](#4.3)\n",
    "      \n",
    "&nbsp;\n",
    "\n",
    "- [<font color='black'> 5. Data transformation</font>](#5)\n",
    "        \n",
    "\n",
    "\n",
    "- [<font color='black'> 6. Data integration</font>](#6)\n",
    "    - [<font color='black'> 6.1. Models table</font>](#6.1)\n",
    "    - [<font color='black'> 6.2. Composition and finish tables</font>](#6.2)\n",
    "\n",
    "\n",
    "&nbsp;\n",
    "\n",
    "- [<font color='black'> 7. Data selection</font>](#7)\n",
    "\n",
    "\n",
    "\n",
    "- [<font color='black'> 8. Data exportation</font>](#8)\n",
    "\n",
    "\n",
    "      \n"
   ]
  },
  {
   "cell_type": "markdown",
   "id": "ccc6cb9a-e27f-4b9e-8791-435b8d48ae15",
   "metadata": {},
   "source": [
    "## 1. Packages installation\n",
    "<a id='1'>"
   ]
  },
  {
   "cell_type": "code",
   "execution_count": 1,
   "id": "00355c9a-3c90-40fe-bb6a-5d3fb510637c",
   "metadata": {},
   "outputs": [],
   "source": [
    "#!pip3 install unicode"
   ]
  },
  {
   "cell_type": "code",
   "execution_count": 2,
   "id": "2f5a09f6-7d37-4463-baa8-48c7ff312e24",
   "metadata": {},
   "outputs": [],
   "source": [
    "#dataframes\n",
    "import pandas as pd\n",
    "import numpy as np\n",
    "\n",
    "# compativel com linguagem ASCII - unicode\n",
    "from unidecode import unidecode \n",
    "\n",
    "#Expressões regulares\n",
    "import re\n"
   ]
  },
  {
   "cell_type": "markdown",
   "id": "94c7a2a6-e156-4c2e-87e4-585795182df0",
   "metadata": {},
   "source": [
    "## 2. Data importation\n",
    "<a id='2'>"
   ]
  },
  {
   "cell_type": "code",
   "execution_count": 3,
   "id": "66c5722f-200f-4e1a-952a-33e4e789e921",
   "metadata": {},
   "outputs": [],
   "source": [
    "db = pd.read_csv('Bodyworkparts_rawdata.csv', sep=',')"
   ]
  },
  {
   "cell_type": "markdown",
   "id": "9d1f240d-8730-465c-b4f4-bd1ae45cf160",
   "metadata": {},
   "source": [
    "## 3. Data exploration\n",
    "<a id='3'>"
   ]
  },
  {
   "cell_type": "code",
   "execution_count": 4,
   "id": "9c0ca285-64b1-4a79-8ec0-73d0630cc972",
   "metadata": {},
   "outputs": [],
   "source": [
    "pd.set_option('display.max_colwidth', None)\n",
    "pd.set_option('display.max_columns', None)\n",
    "pd.set_option('display.width', None)"
   ]
  },
  {
   "cell_type": "code",
   "execution_count": 5,
   "id": "13b9053f-0d92-4c62-99dd-aa78ecb72a9a",
   "metadata": {},
   "outputs": [
    {
     "data": {
      "text/html": [
       "<div>\n",
       "<style scoped>\n",
       "    .dataframe tbody tr th:only-of-type {\n",
       "        vertical-align: middle;\n",
       "    }\n",
       "\n",
       "    .dataframe tbody tr th {\n",
       "        vertical-align: top;\n",
       "    }\n",
       "\n",
       "    .dataframe thead th {\n",
       "        text-align: right;\n",
       "    }\n",
       "</style>\n",
       "<table border=\"1\" class=\"dataframe\">\n",
       "  <thead>\n",
       "    <tr style=\"text-align: right;\">\n",
       "      <th></th>\n",
       "      <th>Name</th>\n",
       "      <th>Product_type</th>\n",
       "      <th>Composition</th>\n",
       "      <th>Finish</th>\n",
       "      <th>Weight</th>\n",
       "      <th>Length</th>\n",
       "      <th>Width</th>\n",
       "      <th>Height</th>\n",
       "      <th>Models</th>\n",
       "      <th>Price</th>\n",
       "    </tr>\n",
       "  </thead>\n",
       "  <tbody>\n",
       "    <tr>\n",
       "      <th>0</th>\n",
       "      <td>DRAIN PLUG, FLOOR &amp; TRUNK PAN, 1967-77 GM (STAMPED STEEL)</td>\n",
       "      <td>Hardware, Fasteners and Fittings</td>\n",
       "      <td>Stamped steel</td>\n",
       "      <td>Natural</td>\n",
       "      <td>0.2 lbs</td>\n",
       "      <td>5.0 in</td>\n",
       "      <td>3.5 in</td>\n",
       "      <td>0.2 in</td>\n",
       "      <td>['1967-1976 Buick Riviera', '1967-1972 Buick Skylark', '1967-1977 Cadillac DeVille', '1967-1977 Cadillac Eldorado', '1967-1977 Cadillac Fleetwood', '1967-1981 Chevrolet Camaro', '1967-1977 Chevrolet Chevelle', '1967-1977 Chevrolet El Camino', '1964-1972 Chevrolet Impala', '1970-1977 Chevrolet Monte Carlo', '1962-1972 Chevrolet Nova', '1971-1972 GMC Sprint', '1967-1977 Oldsmobile Cutlass', '1967-1977 Pontiac Bonneville', '1967-1977 Pontiac Catalina', '1967-1981 Pontiac Firebird', '1967-1977 Pontiac Grand Prix', '1967-1973 Pontiac GTO', '1967-1973 Pontiac LeMans', '1967-1970 Pontiac Tempest']</td>\n",
       "      <td>MSRP: $6.99</td>\n",
       "    </tr>\n",
       "    <tr>\n",
       "      <th>1</th>\n",
       "      <td>SCREEN, COWL VENT, 1968-72 A-BODY, 1969-72 GRAND PRIX, W/ AC</td>\n",
       "      <td>Cowl Induction Components</td>\n",
       "      <td>Injection-molded plastic</td>\n",
       "      <td>Black</td>\n",
       "      <td>0.3 lbs</td>\n",
       "      <td>14.8 in</td>\n",
       "      <td>4.8 in</td>\n",
       "      <td>1.5 in</td>\n",
       "      <td>['1968-1972 Buick Skylark', '1968-1972 Chevrolet Chevelle', '1968-1972 Chevrolet El Camino', '1970-1972 Chevrolet Monte Carlo', '1968-1972 Oldsmobile Cutlass', '1969-1972 Pontiac Grand Prix', '1968-1972 Pontiac GTO', '1968-1972 Pontiac LeMans', '1968-1970 Pontiac Tempest']</td>\n",
       "      <td>MSRP: $26.99</td>\n",
       "    </tr>\n",
       "  </tbody>\n",
       "</table>\n",
       "</div>"
      ],
      "text/plain": [
       "                                                           Name  \\\n",
       "0     DRAIN PLUG, FLOOR & TRUNK PAN, 1967-77 GM (STAMPED STEEL)   \n",
       "1  SCREEN, COWL VENT, 1968-72 A-BODY, 1969-72 GRAND PRIX, W/ AC   \n",
       "\n",
       "                       Product_type               Composition   Finish  \\\n",
       "0  Hardware, Fasteners and Fittings             Stamped steel  Natural   \n",
       "1         Cowl Induction Components  Injection-molded plastic    Black   \n",
       "\n",
       "    Weight   Length   Width  Height  \\\n",
       "0  0.2 lbs   5.0 in  3.5 in  0.2 in   \n",
       "1  0.3 lbs  14.8 in  4.8 in  1.5 in   \n",
       "\n",
       "                                                                                                                                                                                                                                                                                                                                                                                                                                                                                                                                                                                                                  Models  \\\n",
       "0  ['1967-1976 Buick Riviera', '1967-1972 Buick Skylark', '1967-1977 Cadillac DeVille', '1967-1977 Cadillac Eldorado', '1967-1977 Cadillac Fleetwood', '1967-1981 Chevrolet Camaro', '1967-1977 Chevrolet Chevelle', '1967-1977 Chevrolet El Camino', '1964-1972 Chevrolet Impala', '1970-1977 Chevrolet Monte Carlo', '1962-1972 Chevrolet Nova', '1971-1972 GMC Sprint', '1967-1977 Oldsmobile Cutlass', '1967-1977 Pontiac Bonneville', '1967-1977 Pontiac Catalina', '1967-1981 Pontiac Firebird', '1967-1977 Pontiac Grand Prix', '1967-1973 Pontiac GTO', '1967-1973 Pontiac LeMans', '1967-1970 Pontiac Tempest']   \n",
       "1                                                                                                                                                                                                                                                                                                                                      ['1968-1972 Buick Skylark', '1968-1972 Chevrolet Chevelle', '1968-1972 Chevrolet El Camino', '1970-1972 Chevrolet Monte Carlo', '1968-1972 Oldsmobile Cutlass', '1969-1972 Pontiac Grand Prix', '1968-1972 Pontiac GTO', '1968-1972 Pontiac LeMans', '1968-1970 Pontiac Tempest']   \n",
       "\n",
       "          Price  \n",
       "0   MSRP: $6.99  \n",
       "1  MSRP: $26.99  "
      ]
     },
     "execution_count": 5,
     "metadata": {},
     "output_type": "execute_result"
    }
   ],
   "source": [
    "db.head(2)"
   ]
  },
  {
   "cell_type": "markdown",
   "id": "24334f1c-6a22-4137-b458-c926f7dd6940",
   "metadata": {},
   "source": [
    "<span style=\"color:blue\">\n",
    "\n",
    "- the name is too expensive\n",
    "- lbs should be removed from weight values and added to the weight column title such as 'weight (lbs)'\n",
    "- in should be removed and added to Lenght, Width, and Height column titles such as 'Lenght (in)\n",
    "- should Models have another organization? such as a relational table for each model? in phpmyadmin and consulted in MongoDB?\n",
    "- price without MSRP: $\n",
    "  "
   ]
  },
  {
   "cell_type": "markdown",
   "id": "667d34f8-4791-41d9-ba0f-b5f9241b07ef",
   "metadata": {},
   "source": [
    "### 3.1. Missing values and duplicated data\n",
    "<a id='3.1'>"
   ]
  },
  {
   "cell_type": "code",
   "execution_count": 6,
   "id": "5dcbb7dc-f320-464b-bcd9-c324e1a4520b",
   "metadata": {},
   "outputs": [
    {
     "name": "stdout",
     "output_type": "stream",
     "text": [
      "<class 'pandas.core.frame.DataFrame'>\n",
      "RangeIndex: 804 entries, 0 to 803\n",
      "Data columns (total 10 columns):\n",
      " #   Column        Non-Null Count  Dtype \n",
      "---  ------        --------------  ----- \n",
      " 0   Name          804 non-null    object\n",
      " 1   Product_type  767 non-null    object\n",
      " 2   Composition   746 non-null    object\n",
      " 3   Finish        665 non-null    object\n",
      " 4   Weight        804 non-null    object\n",
      " 5   Length        804 non-null    object\n",
      " 6   Width         804 non-null    object\n",
      " 7   Height        804 non-null    object\n",
      " 8   Models        804 non-null    object\n",
      " 9   Price         804 non-null    object\n",
      "dtypes: object(10)\n",
      "memory usage: 62.9+ KB\n"
     ]
    }
   ],
   "source": [
    "db.info()"
   ]
  },
  {
   "cell_type": "markdown",
   "id": "09cb7a57-ec6f-451e-a28b-9847407734eb",
   "metadata": {},
   "source": [
    "<span style=\"color:blue\">\n",
    "\n",
    "- Weight, Length, Width, Height should be **numeric variables**"
   ]
  },
  {
   "cell_type": "markdown",
   "id": "169cad86-ac77-43c0-8ab6-d0ec20908460",
   "metadata": {},
   "source": [
    "    \n",
    "| Variable     | NaN |\n",
    "|:-----------------|-----------------------|\n",
    "| Product_type      | 37                 |\n",
    "| Composition      | 58                |\n",
    "| Finish    | 139               |\n",
    "|\n"
   ]
  },
  {
   "cell_type": "markdown",
   "id": "4b6e2e21-1318-47b6-a9f4-a8a00c7ef4ab",
   "metadata": {},
   "source": [
    "<span style=\"color:blue\">\n",
    "\n",
    "- Only product type, composition, and finish features have missing values\n",
    "- Finish has a lot of missing values, one eighth of the dataset"
   ]
  },
  {
   "cell_type": "code",
   "execution_count": 7,
   "id": "3b2c0267-a7c6-4477-9e19-e2545c4a0747",
   "metadata": {},
   "outputs": [
    {
     "name": "stdout",
     "output_type": "stream",
     "text": [
      "0\n"
     ]
    }
   ],
   "source": [
    "# Duplicated data\n",
    "\n",
    "print(db.duplicated().sum())"
   ]
  },
  {
   "cell_type": "markdown",
   "id": "7d7c961b-32e5-42b6-aba7-72a1c10a1baf",
   "metadata": {},
   "source": [
    "<span style=\"color:blue\">\n",
    "\n",
    "- no duplicated data"
   ]
  },
  {
   "cell_type": "code",
   "execution_count": 8,
   "id": "baac646f-72b3-4984-b55e-b76873482540",
   "metadata": {},
   "outputs": [],
   "source": [
    "#db = db.drop_duplicates"
   ]
  },
  {
   "cell_type": "markdown",
   "id": "4386ae0b-3e16-4cd9-9584-b1a14c4d5c12",
   "metadata": {},
   "source": [
    "### 3.2. Most frequent itens\n",
    "<a id='3.2'>"
   ]
  },
  {
   "cell_type": "code",
   "execution_count": 9,
   "id": "16796e0f-1188-4da9-b7ce-ed30b6dfd96d",
   "metadata": {},
   "outputs": [
    {
     "data": {
      "text/html": [
       "<div>\n",
       "<style scoped>\n",
       "    .dataframe tbody tr th:only-of-type {\n",
       "        vertical-align: middle;\n",
       "    }\n",
       "\n",
       "    .dataframe tbody tr th {\n",
       "        vertical-align: top;\n",
       "    }\n",
       "\n",
       "    .dataframe thead th {\n",
       "        text-align: right;\n",
       "    }\n",
       "</style>\n",
       "<table border=\"1\" class=\"dataframe\">\n",
       "  <thead>\n",
       "    <tr style=\"text-align: right;\">\n",
       "      <th></th>\n",
       "      <th>Name</th>\n",
       "      <th>Product_type</th>\n",
       "      <th>Composition</th>\n",
       "      <th>Finish</th>\n",
       "      <th>Weight</th>\n",
       "      <th>Length</th>\n",
       "      <th>Width</th>\n",
       "      <th>Height</th>\n",
       "      <th>Models</th>\n",
       "      <th>Price</th>\n",
       "    </tr>\n",
       "  </thead>\n",
       "  <tbody>\n",
       "    <tr>\n",
       "      <th>count</th>\n",
       "      <td>804</td>\n",
       "      <td>767</td>\n",
       "      <td>746</td>\n",
       "      <td>665</td>\n",
       "      <td>804</td>\n",
       "      <td>804</td>\n",
       "      <td>804</td>\n",
       "      <td>804</td>\n",
       "      <td>804</td>\n",
       "      <td>804</td>\n",
       "    </tr>\n",
       "    <tr>\n",
       "      <th>unique</th>\n",
       "      <td>804</td>\n",
       "      <td>80</td>\n",
       "      <td>40</td>\n",
       "      <td>35</td>\n",
       "      <td>196</td>\n",
       "      <td>247</td>\n",
       "      <td>178</td>\n",
       "      <td>102</td>\n",
       "      <td>222</td>\n",
       "      <td>291</td>\n",
       "    </tr>\n",
       "    <tr>\n",
       "      <th>top</th>\n",
       "      <td>DRAIN PLUG, FLOOR &amp; TRUNK PAN, 1967-77 GM (STAMPED STEEL)</td>\n",
       "      <td>Quarter Panels</td>\n",
       "      <td>Steel</td>\n",
       "      <td>EDP coated</td>\n",
       "      <td>4.5 lbs</td>\n",
       "      <td>0.0 in</td>\n",
       "      <td>0.0 in</td>\n",
       "      <td>2.0 in</td>\n",
       "      <td>['1970-1972 Chevrolet Chevelle']</td>\n",
       "      <td>MSRP: $119.99</td>\n",
       "    </tr>\n",
       "    <tr>\n",
       "      <th>freq</th>\n",
       "      <td>1</td>\n",
       "      <td>108</td>\n",
       "      <td>487</td>\n",
       "      <td>358</td>\n",
       "      <td>27</td>\n",
       "      <td>39</td>\n",
       "      <td>39</td>\n",
       "      <td>50</td>\n",
       "      <td>42</td>\n",
       "      <td>28</td>\n",
       "    </tr>\n",
       "  </tbody>\n",
       "</table>\n",
       "</div>"
      ],
      "text/plain": [
       "                                                             Name  \\\n",
       "count                                                         804   \n",
       "unique                                                        804   \n",
       "top     DRAIN PLUG, FLOOR & TRUNK PAN, 1967-77 GM (STAMPED STEEL)   \n",
       "freq                                                            1   \n",
       "\n",
       "          Product_type Composition      Finish   Weight  Length   Width  \\\n",
       "count              767         746         665      804     804     804   \n",
       "unique              80          40          35      196     247     178   \n",
       "top     Quarter Panels       Steel  EDP coated  4.5 lbs  0.0 in  0.0 in   \n",
       "freq               108         487         358       27      39      39   \n",
       "\n",
       "        Height                            Models          Price  \n",
       "count      804                               804            804  \n",
       "unique     102                               222            291  \n",
       "top     2.0 in  ['1970-1972 Chevrolet Chevelle']  MSRP: $119.99  \n",
       "freq        50                                42             28  "
      ]
     },
     "execution_count": 9,
     "metadata": {},
     "output_type": "execute_result"
    }
   ],
   "source": [
    "db.describe()"
   ]
  },
  {
   "cell_type": "markdown",
   "id": "8d1690a6-33e6-402a-9f10-1c8ad7825b07",
   "metadata": {},
   "source": [
    "<span style=\"color:blue\">\n",
    "\n",
    "- most of the parts are quarter panels, one eight of the dataset, reaching 108 parts\n",
    "\n",
    "- most of the parts are of steel composition, with 487 parts being made of steel\n",
    "- most of the parts have a finishing with EDP coat, about 358 parts with this material\n",
    "\n",
    "- the classic car with the most parts available on this website is the Chevrolet Chevelle of 1970-1972???"
   ]
  },
  {
   "cell_type": "markdown",
   "id": "539a4caa-16e9-4513-a4aa-b8474cff202e",
   "metadata": {},
   "source": [
    "### 3.3. Name feature\n",
    "<a id='3.3'>"
   ]
  },
  {
   "cell_type": "code",
   "execution_count": 10,
   "id": "70f63508-282f-45f2-b91b-939a1c5275ea",
   "metadata": {},
   "outputs": [
    {
     "name": "stdout",
     "output_type": "stream",
     "text": [
      "['DRAIN PLUG, FLOOR & TRUNK PAN, 1967-77 GM (STAMPED STEEL)', 'SCREEN, COWL VENT, 1968-72 A-BODY, 1969-72 GRAND PRIX, W/ AC', 'SPRING, HOOD HINGE, 1964-67/1970-72 A-BODY', '1964-1977 HOOD ADJUSTER BOLT KIT, GM A-BODY, RIVIERA, 1959-1963 BONNEVILLE AND CATALINA', 'HOOD PIN SET, 1970-72 CHEVELLE/EL CAMINO, SS', 'SEAL, INNER FENDERWELL A-ARM, 1968-72 CHEVELLE/EL CAMINO/MONTE CARLO, STEEL', 'SCREEN, COWL VENT, 1968-72 W/O AC', 'FIREWALL WIRE ROUTING GUTTER', '1954-1977 GM 7/16\" X 14 CAGE NUT', 'DRAIN PLUG, FLOOR & TRUNK PAN, 1961-67 GM, NOTCHED', 'FASTENER SET, FRONT END, 1968-72 CHEVELLE/EL CAMINO/MONTE CARLO', 'INSULATION PAD, FIREWALL, 1964-67 A-BODY, W/AC', 'INSULATION PAD, FIREWALL, 1968-72 A-BODY, NO AC', 'HOOD HINGE, 1970-72 CHEVELLE/EL CAMINO/MONTE CARLO, REPRO', 'BOLT, FENDER TO BODY, 1978-87 G-BODY', 'STOP CLIP, WINDSHIELD GLASS, 1968-72 A-BODY', 'HARDWARE, INNER FENDER, 1964-72 CHEV/EL CAM/MONTE/GTO/ LEM/TEMP', 'EMBLEM, HOOD, 1970-72 CHEVELLE/EL CAMINO, SS, COWL INDUCTION', 'HOOD HINGE BOLT, 1964-72 GM \"A\" BODY/RIVIERA/1967-76 BONN/CAT/GP, 8 PC KIT', 'HOOD HINGE, 1964 CHEVELLE/PONTIAC FULL SIZE/1964-67 PONTIAC/CUTLASS A-BODY', 'FASTENER SET, FRONT END, 1964-67 CHEVELLE/EL CAMINO', 'FENDER BRACE, 1966-72 CHEVELLE/EL CAMINO/1970-72 MONTE CARLO', '1978-87 EL CAMINO LICENSE PLATE POCKET', 'VACUUM ACTUATOR ASSEMBLY, COWL INDUCTION, 1970-72 CHEVELLE/EL CAMINO/MONTE', 'SEAL, INNER FENDERWELL A-ARM, 1968-72 CHEVELLE/EL CAMINO/MONTE CARLO, PLASTIC', 'FLOW CONTROL VALVE, COWL INDUCTION, 1970-72 CHEVELLE/EL CAMINO/MONTE CARLO', 'CABLES, TAILGATE, 1978-87 EL CAMINO', 'HOOD SCREEN, 1970-72 CHEVELLE/EL CAMINO, SS, COWL INDUCTION (PREMIUM REPRO)', 'FLOOR PAN PATCH, 1978-88 G-BODY', 'HOOD DOOR SCREWS, 1970-72 CHEVELLE/EL CAMINO, SS, COWL INDUCTION, W/BUSHINGS', 'SWITCH, AIR CONTROL VALVE SOLENOID/TRANSMISSION KICKDOWN', 'INSULATION PAD, FIREWALL, 1968-72 A-BODY, W/AC', 'SEAL, COWL INDUCTION FLANGE, 1970-72 CHEVELLE/EL CAMINO', 'SUPPORTS, COWL HOOD DOOR 1970-72 CHEVELLE/EL CAMINO, SS, COWL INDUCTION', 'INNER FENDERWELL, 1968-72 CHEVELLE/EL CAMINO, PLASTIC', 'BRACKET, 70-72 COWL IND. THROTTLE SWITCH/68-77 TURBO 400 TRANS KICKDOWN SWITCH', 'TRUNK LID LATCH MECHANI,64-72 GM A-BODY/1959-70 BONN/CAT/GP/1961-63 GM Y-BODY', 'SEAL, INNER FENDERWELL A-ARM, 1966-67 CHEVELLE/EL CAMINO', 'SEAL, INNER FENDERWELL A-ARM, 1964-65 CHEVELLE/EL CAMINO', 'HOOD LOCK, 1970-72 CUTLASS, OAI/W-25', 'HOOD HINGES, W/SPRINGS, 1970-72 CHEVELLE/EL CAMINO, HD SPRINGS', 'SUPPORT, VACUUM ACTUATOR, COWL INDUCTION, 70-72 CHEVELLE, EL CAMINO, MONTE', 'TAILGATE CABLE KIT, 1968-77 EL CAMINO, 8 PC', 'INNER FENDERWELL, 1968-72 CHEVELLE/EL CAMINO', 'PATCH PANEL, FENDER, 1970-72 CUTLASS', 'HOOD DOOR, 1970-72 CHEVELLE/EL CAMINO, SS, COWL INDUCTION', '1970-72 MONTE CARLO FENDER', 'AIR CLEANER, 1970-72 COWL INDUCTION', 'FLANGE, COWL INDUCTION, METAL, 1970-72 CHEVELLE/EL CAMINO/MONTE CARLO', 'HOOD HINGES, W/SPRINGS, 1968-72 GTO/TEMPEST/LEMANS, W/O ENDURA BUMPER', 'HOOD, STEEL, 1978-87 EL CAMINO/1978-83 MALIBU, 2 INCH COWL INDUCTION', 'INNER FENDERWELLS, 1968-72 CHEVELLE/EL CAMINO, PAIR', 'RETAINER SET, COWL INDUCTION VALVE FRAME FLAPPER, 3-PC', 'RELAY, COWL INDUCTION, 1970-72 CHEVELLE/EL CAMINO, FIREWALL', 'SCREW KIT, 1964-72 EL CAMINO, TAILGATE REAR PANEL, 56 PC', 'PATCH PANEL, 68-9 CHEVELLE, 68-72 EL CAM FRONT FENDER (BEHIND WHEEL WELL)', 'SOLENOID, COWL INDUCTION SYSTEM, 1970-72 CHEVELLE/EL CAMINO', 'RETAINER PLATE FOR HOOD PIN LOCKS, 1970-72 CUTLASS, RAM AIR OAI/W-25', 'WIRING HARNESS, COWL INDUCTION, 1970-72 CHEV./EL CAM.', 'HOOD HINGE SPRING, 1969-72 CUTLASS/SKYLARK, W/STEEL HOOD', 'DRAIN PLUGS, REAR SEAT FLOOR PAN, 1968-72 A-BODY', 'BUMPER, REAR LATCH, 1961-68 B-O-P WAGON, 1964-67 CH WGN/EC', 'FENDER, 1969 CHEVELLE/EL CAMINO', 'FLOOR PAN, QUARTER SECTION, 1968-72 A-BODY (EXC EL CAMINO)', 'CAGE, COWL INDUCTION FRAME, 1970-72 CHEVELLE/EL CAMINO/MONTE CARLO', 'FLAPPER, VALVE FRAME, PLASTIC/AUTHENTIC REPRO, 70-72 CHEV/EL CAMINO/MONTE CARLO', 'VALVE TO HOOD FRAME MOUNT SCREWS', 'HOOD LOCK BRACKETS, 1970-72 CUTLASS, OAI/W-25', 'HOOD CATCH, 1970-72 CHEVELLE/EL CAMINO/MONTE CARLO, W/PIN/SPRING', 'PANEL, REAR WINDOW TO TRUNK, 1966-67 GTO/CUTLASS/SKYLARK COUPE', 'HOOD INSERTS, 1967 CHEVELLE/EL CAMINO, SS', 'BODY BUMPER, DOOR, 1963-65 RIVIERA /1964-65 SKYLARK', 'HOOD HINGE, 1968-72 LEMANS/TEMPEST/GTO / 1969-70 BONNEVILLE/CATALINA', 'FLOOR PAN, QUARTER SECTION, 1964-67 A-BODY (EXC EL CAMINO)', 'COVERS, TAILGATE HINGE, 1964-67 EL CAMINO', 'TRUNK PAN, CENTER, 1968-72 A-BODY/1969-72 GRAND PRIX, 1 PIECE', '1970-72 CUTLASS 442 FRONT FENDER', 'SPRINGS, TAILGATE CABLE, 1978-87 EL CAMINO', 'PANEL, OUTER COWL, 1968-72 A-BODY', 'RETAINER, TRUNK LOCK, 1968-72 CHEVELLE/70-72 MONTE CARLO & SKYLARK', 'HOOD INSERTS, 1968-69 CHEVELLE/EL CAMINO, SS', 'REPAIR PANELS, T-TOP, 1978-88 G-BODY, IMPORT', 'PANEL, REAR WINDOW TO TRUNK, 1968-72 CHEVELLE, 70-72 MONTE, 69-70 GP', 'BRACKETS, HEADLIGHT EXTENSION MOUNTING, 1970 CHEVELLE', 'FLOOR BRACE, TRUNK, 1964-67 A-BODY', 'DOOR SHELL, 1970-72 CHEVELLE', 'PATCH PANEL, REAR QUARTER, 1968-72 EL CAMINO, LOWER', '1971-72 CHEVELLE FRONT FENDER', '1970-72 CHEVELLE COUPE COMPLETE QUARTER PANEL', 'HOOD HINGE SPRING, 1966-72 CHEVELLE/EL CAMINO, EXCEPT SS/COWL INDUCTION', 'GROMMET, FIREWALL, 1968-72 GM, 1 HOLE', '1970 CHEVELLE FRONT FENDER', 'QUARTER PANEL, 1968-72 EL CAMINO, COMPLETE', 'INNER FENDERWELLS, 1970-72 CUTLASS/442, BLACK', 'HOOD, STEEL, 1970-72 CHEVELLE/EL CAMINO, SS', 'TRUNK LID, 1968-72 CHEVELLE/MONTE CARLO/SKYLARK, STEEL', 'FLOOR PAN, TRUNK, 1964-67 B.O.P. A-BODY, SIDE SECTION', 'SHIM SET, COWL INDUCTION, 70-72 CHEVELLE/EL CAMINO, 8-PC', 'HOOD, STEEL, 1970-72 CHEVELLE/EL CAMINO, COWL INDUCTION', 'FENDER, 1968-69 GTO/LEMANS/TEMPEST', 'VENT PANEL, FRONT LOWER COWL, 1968-72 A-BODY', 'STRAPS, TAILGATE SUPPORT, 1964-67 EL CAMINO, W/ HARDWARE', 'PATCH PANEL, TOE BOARD, 1964-67 GM A-BODY', 'HOOD HINGE, 81-88 MONTE CARLO', 'QUARTER PANEL, 1968-69 GTO/TEMPEST/LEMANS, COUPE, COMPLETE', 'HOOD LATCH, 1978-88 G-BODY', 'PATCH PANEL, 68-9 CHEVELLE, 68-72 EL CAM REAR QTR WHEEL OPENING', 'FLOOR PAN, COMPLETE, 1978-88 G-BODY 2DR', 'HOOD INSTALLATION SET, 1978-88 G-BODY EXC. BUICK', 'FENDER, 1968-69 CUTLASS', 'FILLER PANEL, TRUNK INNER, 1966-67 CHEVELLE', 'HOOD SCOOP INSERTS, 1965-67 GTO', 'PATCH PANEL, TOE BOARD, 68-72 GM A-BODY', 'PATCH PANEL, REAR WHEEL OPENING, 1964-65 CHEVELLE, 34\" X 13\"', 'LIFT PANEL, FRONT BED FLOOR, 1968-72 EL CAMINO', 'PATCH PANEL, REAR LOWER QUARTER PANEL, 1970-72 CHEVELLE', 'HOOD INSERTS, 1966 CHEVELLE/EL CAMINO, SS, W/HOUSINGS', 'HOOD, STEEL, 1978-87 EL CAMINO/1978-83 MALIBU, STANDARD', 'HOOD, STEEL, 1968-70 GTO, SCOOP STYLE, W/RAM AIR', 'INNER FENDERWELL, 1966-67 GTO/LEMANS/TEMPEST', 'HOOD, STEEL, 1965-67 GTO', 'BOLT, HOOD HINGE SPRING LOWER, 1978-88 G-BODY EXC. BUICK', 'VALANCE PANEL, FRONT, 1970 CHEVELLE/EL CAMINO & 1970-72 MONTE CARLO', 'FENDER, 1965 GTO/TEMPEST/LEMANS', 'FUEL TANK BRACE, 1968-72 GM \"A\" BODY (PREMIUM RESTOPARTS)', '1970-72 CUTLASS SUPREME AND 442 QUARTER PANEL', 'HOOD HINGES, W/SPRINGS, 1969 CHEVELLE/EL CAMINO', 'TRUNK LID CATCH, 1959-72 GM CARS', 'CHANNEL, TRUNK WEATHERSTRIP, 1968-72 CHEVELLE & 1970-72 SKYLARK/MONTE CARLO', 'PANEL, REAR WINDOW TO TRUNK, 1968-72 GTO', 'FENDER, 1966 CHEVELLE/EL CAMINO', 'INNER PANEL, TAILGATE, 1968-72 EL CAMINO', 'BRACKET, BODY MOUNT, 1964-67 CHEVELLE/CUTLASS', 'BRACE SET, INNER ROOF, 1968-72 CHEVELLE COUPE', 'WHEELHOUSE, 1968-69 CHEVELLE, 1968-72 EL CAMINO, OUTER', 'IMPACT STRIP, BUMPER, 1981-87 REGAL/T-TYPE/GRAND NATIONAL', 'FLOOR PAN, FRONT TO REAR SECTION, 1968-72 A-BODY EXC. EL CAMINO', 'GASKET, TRUNK LOCK RETAINING CLIP, 1973-77 A-BODY', 'HOOD HINGE SPRING, 1973-77 CHEVELLE/EL CAMINO/MONTE CARLO/CUTLASS', 'PANEL, REAR WINDOW TO TRUNK, 1970-72 SUPREME 2-DOOR COUPE', '1970-72 CHEVELLE TAIL PATCH PANEL', '1970 CHEVELLE LOWER REAR BUMPER FILLER PANEL', 'COWL GRILLE PANEL, 1970-72 A-BODY, OUTER, WELD-THRU PRIMER', 'HOOD HINGE, 1965-67 CHEVELLE/EL CAMINO', 'QUARTER PANEL, 1966-67 GTO/TEMPEST/LEMANS, COUPE/CONVERTIBLE', 'FLOOR PAN, UNDER REAR SEAT, 1968-72 A-BODY, HALF', 'FENDER, 1968 CHEVELLE/EL CAMINO', 'ROCKER PANEL, LOWER, 1968-72 A-BODY, STEEL', 'GROMMET, FIREWALL, 1968-72 A-BODY/RIV/GP, 3-HOLE', 'PATCH PANEL, BELOW REAR WINDOW, 1968-72 EL CAMINO', 'WEATHERSTRIP CHANNEL, 1970-72 CHEVELLE, COUPE, ROOFRAIL', '1970-72 CHEVELLE FRONT FENDER PATCH PANEL', 'WHEELHOUSE, 1970-72 MONTE CARLO, REAR OUTER', 'ROCKER PANEL, INNER, 1964-67 CHEVELLE COUPE/CONVERTIBLE', 'BOLT, HOOD LIFT SUPPORT, 1978-87 REGAL', 'RADIATOR SUPPORT, 1968-69 CHEVELLE/EL CAMINO', 'PATCH PANEL, 66-67 CHEVELLE FRONT FENDER (BEHIND WHEEL WELL, 10.5 HIGH)', 'FLOOR PAN, 1973-77 A-BODY, 1/4 SECTIONS', 'HOOD HINGES, W/SPRINGS, 1965-67 CHEVELLE/EL CAMINO', 'FILLER PANEL, TRUNK INNER, 1970-72 CHEVELLE', '1981-88 MONTE CARLO 2 INCH COWL INDUCTION STEEL HOOD', 'PANEL, TAIL LIGHT, 1966 GTO', 'SPOILER, JUDGE, 1969 GTO COUPE, REAR', 'WHEELHOUSE, INNER, 1964-67 A-BODY COUPE/HARDTOP', 'PATCH PANEL, FENDER, 1968-69 CUTLASS', 'QUARTER PANEL, 1964-65 CHEVELLE, COMPLETE', 'HEADER PANEL, 1982-87 EL CAMINO', 'FLOOR PAN, COMPLETE, 1964-67 A-BODY, W/ BRACES', 'FRAME RAIL, REAR SECTION, 1978-88 G-BODY 2DR EXC. EL CAMINO', 'VALANCE PANEL, FRONT LOWER, 1966 CHEVELLE/EL CAMINO', 'CHANNEL, TRUNK WEATHERSTRIP, 1966-67 CHEVELLE/GTO/CUTLASS/SKYLARK', 'BODY MOUNTS, FRONT FIREWALL, 1968-72 A-BODY EXC. PONTIAC, EDP', 'TAIL GATE, STEEL, 1978-87 EL CAMINO, REPRO', 'FENDER, 1970 GTO', 'GROMMET, FIREWALL, 1968-72 BUICK/CHEV/PONT/OLDS W/ AC, 2-1/4\"', 'HOOD, STEEL, 1969 CHEVELLE/EL CAMINO, SS', 'HOOD HINGE SPRINGS, 64-72 A-BODY, PAIR', 'SPOILER, 1970-72 GTO, REAR', '1966-67 CHEVELLE COUPE COMPLETE QUARTER PANEL', 'HOOD, STEEL, 1966 CHEVELLE/EL CAMINO, SS', 'HOOD LATCH SUPPORT, 1970 CHEVELLE/EL CAMINO, 70-72 MONTE CARLO', 'FENDER, 1982-87 EL CAMINO/MALIBU', 'HOOD HINGES, W/SPRINGS, 1968 CHEVELLE/EL CAMINO', 'COWL VENT GRILLE PANEL, 1964-67 A-BODY', 'CORE SUPPORT, RADIATOR, 1968-69 G/T/L & 1970 GTO ONLY', 'SPRING, HOOD POP, 1978-88 G-BODY', 'ROLL PAN, 1978-87 EL CAMINO, FIBERGLASS', 'VALANCE PANEL, 1965 CH/EC, FRONT LOWER, STEEL', 'FUEL TANK BRACE, 1964-67 BOP, LH OR RH', \"PATCH PANEL, 66-67 CHEVELLE REAR QTR LOWER, (BEHIND WHEEL WELL, '37 WIDE)\", 'EXTENSION, FENDER, 1971-72 CHEVELLE', 'STUD, AIR CLEANER, 1970-72 CHEVELLE/EL CAMINO, COWL INDUCTION, W/ HOLLEY', 'QUARTER PANEL, 1970-72 GTO/TEMPEST/LEMANS, COUPE/CONVERTIBLE', 'BRACE, UPPER WINDSHIELD, 1970-72 A-BODY CONVERTIBLE', 'HOOD LATCH KIT, 1965-67 GTO/LEMANS/TEMPEST', 'QUARTER PANEL, 1970-72 MONTE CARLO, 77\" LONG X 27\" HIGH', 'ROOF PANEL, 1968-72 A-BODY COUPE/SEDAN, EXC. CUT SUPREME/MONTE CARLO', 'EXTENSION, FENDER, 1970 EL CAMINO', 'GROMMET, FIREWALL, 1968-72 A-BODY, SINGLE HOLE, 1-3/4\" DIA.', 'QUARTER PANEL, 1966-67 CHEVELLE', 'FENDER, 1967 CHEVELLE/EL CAMINO', 'BUMPER FILLER, 1981-87 REGAL/GRAND NATIONAL/T-TYPE, FRONT/REAR', 'COVER, WASHER PUMP, 64-88 GM, PLASTIC', 'WHEELHOUSE, INNER, 1964-67 A-BODY COUPE/HARDTOP, PAIR', 'DOOR SHELL, 1978-85 EL CAMINO/MALIBU', 'PILLAR WRAP, WINDSHIELD, 1966-67 CHEVELLE/G.T.L. COUPE', 'HOOD CATCH, 1978-88 G-BODY', 'PATCH PANEL, FRONT EDGE DASH, 1968-72 CHEVELLE/EL CAMINO/MONTE CARLO', 'TOP PLATE, RADIATOR SUPPORT, 1968 PONTIAC, BLACK', '1966-67 CHEVELLE COMPLETE DOOR SHELL, BARE', 'LATCH SET, TAILGATE, 1968-72 EL CAMINO', 'WHEELHOUSE, INNER, 1968-72 A-BODY/1969-72 GRAND PRIX', 'FENDER, 1966 GTO/LEMANS/TEMPEST', 'VALANCE PANEL, REAR BUMPER, 1971-72 CHEVELLE', 'FLOOR BRACE, TRUNK, 1964-67 A-BODY, PAIR', 'TRUNK LID, 1966-67 CHEVELLE, STEEL', 'FLOOR PAN, COMPLETE, 1970-72 A-BODY, W/O ROCKER PANELS', 'SUPPORT BRACKET, FENDER, 1970 CHEVELLE, RADIATOR SUPPORT', 'SUPPORT, PACKAGE TRAY SIDE, 1968-72 CHEVELLE', 'PADS, REAR SPOILER, 1969 GTO', 'BUMPER FILLER SETS, 1974-76 DEVILLE/FLEETWOOD, REAR, 5PC', 'GROMMET, FIREWALL, 1968-72 A-BODY, 69-72 GRAND PRIX, WIRE HARNESS', 'QUARTER PANEL, 1968-69 CUTLASS-442', 'FLOOR PAN, TRUNK, 1966-67 GTO/TEMPEST/LEMANS, COMPLETE', 'CHANNEL, TRUNK WEATHERSTRIP, 1964-65 CHEVELLE/GTO/CUTLASS/SKYLARK', 'HEADER PANEL, 1968-69 CHEVELLE/EL CAMINO', 'HOOD, STEEL, 1967 CHEVELLE/EL CAMINO, SS', '1970 EL CAMINO AND CHEVELLE WAGON FRONT FENDER', 'FLOOR PAN, TRUNK, 1968-72 A-BODY, SIDE SECTION', 'GASKET, HOOD PIN PLATE, 1970-72 CHEVELLE/EL CAMINO, SS', 'FLOOR PAN, TRUNK, 1964-67 B.O.P. A-BODY, CENTER SECTION', 'VALANCE PANEL, LOWER, 1968 CHEVELLE/EL CAMINO', 'FLOOR PANS, TRUNK, 1964-67 CHEVELLE, LH, RH, CENTER & BRACES, 7-PC. SET', 'COWL PANEL, LOWER WINDSHIELD, 1970-72 A-BODY', 'FENDER BRACE, 1964-65 CHEVELLE/EL CAMINO', 'HOOD HINGE, 1965-67 CHEVELLE/EL CAMINO, PAIR', 'WINDSHIELD CHANNEL, 1964-67 A-BODY', 'HOOD PIN CLIP, 1970-72 CHEVELLE/EL CAMINO, SS', 'HEADER PANEL, FRONT, 1984-87 GRAND NATIONAL/GNX', 'FENDER, 1978-81 EL CAMINO/MALIBU', 'HEADER PANEL, STEEL, 1967 GTO', 'VALANCE PANEL, FRONT LOWER, 1969 CHEVELLE/EL CAMINO', 'HOOD, STEEL, 1965 CHEVELLE/EL CAMINO', 'HOOD LATCH, 1968-70 GTO, OUTSIDE RELEASE', 'HOOD, STEEL, 1966 CHEVELLE/EL CAMINO, W/2 INCH COWL', 'DOOR HINGE PILLAR, W/KICK PANEL, 1970-72 A-BODY CONVERTIBLE', 'WHEELHOUSE, INNER, 1968-72 A-BODY, PAIR', 'FENDER BRACE, 1966-72 CHEVELLE/EL CAMINO/1970-72 MONTE CARLO, PAIR', 'WHEEL HOUSE, INNER/OUTER, 1970-72 CHEVELLE COUPE', '1969 CHEVELLE COMPLETE QUARTER PANEL', '1966-67 CHEVELLE COMPLETE TRUNK FLOOR', 'VALANCE PANEL, FRONT, 1967 CHEVELLE/EL CAMINO', 'BRACE, FLOOR PAN, 1964-69 A-BODY, FRONT', 'RADIATOR SUPPORT, 1970 CHEVELLE/EL CAMINO', 'INNER FILLER, TRUNK, 1966-67 PONTIAC A-BODY', 'PATCH PANEL, 64-65 CHEVELLE REAR QTR LOWER, (BEHIND WHEEL WELL)', '1968-72 CHEVELLE STEEL PACKAGE TRAY PANEL', 'FILLER PANEL, FRONT END, 1967 GTO, KIT', 'COWL GRILLE PANEL, 1968-69 A BODY, OUTER, WELD-THRU PRIMER', 'SUPPORTS, BUMPER IMPACT, 1981-87 REGAL, FRONT', 'TRUNK FLOOR, COMPLETE, 1964-65 CHEVELLE', 'FENDER, 1965 CHEVELLE/EL CAMINO', 'SAIL PANEL, INNER, 1978-87 EL CAMINO', 'HOOD SCOOP INSERTS, NON-FUNCTIONAL, 1968-70 GTO W/O RAM AIR', 'PANEL, LOWER TRUNK FILLER, 1964-65 CHEVELLE', '1970 CHEVELLE FRONT FENDER EXTENSION', 'BRACKETS, RADIATOR SUPPORT BUSHING, 1970-72 CHEVELLE/EL CAMINO/MONTE', 'PATCH PANEL, BELOW REAR WINDOW, 1964-67 EL CAMINO', 'PATCH PANEL, TAILLIGHT PANEL, 1967 GTO', 'BUMPER FILLER KIT, 1979-85 ELDORADO', 'FLOOR PANS, TRUNK, 1968-72 A-BODY, LH/RH/CENTER & BRACES, 7-PC. SET', 'HINGES, TAILGATE, 1968-72 EL CAMINO', 'CORE SUPPORT, 1966-67 GTO, W/O A/C, 15-1/2\" TALL RADIATOR', 'PATCH PANEL, QUARTER PANEL, 1969 CHEVELLE, LOWER', 'CATCH, TRUNK LID, 1970-72 CHEVELLE/MONTE CARLO', 'RADIATOR SUPPORT, 1966 CHEVELLE/EL CAMINO', 'PATCH PANELS, LOWER REAR QUARTER, 1966-67 CHEVELLE, PAIR', 'ROOF PANEL, 1968-72 EL CAMINO', 'PATCH PANEL, B-PILLAR T-TOP ROOF, 1978-88 G-BODY', 'DOOR SHELL, 1966-67 GTO', 'PANEL, TAIL PATCH, 1965 CHEVELLE', 'CUSHION, BUMPER GUARD, 1981-87 REGAL, FRONT', 'CUSHION, BUMPER GUARD, 1981-87 REGAL, REAR', 'BRACE, REAR FLOORPAN, 1964-67 A-BODY, 18 GAUGE', 'WHEELHOUSE, OUTER, 1966-67 CHEVELLE/EL CAMINO, STEEL', 'FLOOR PAN, REAR UNDERSEAT, 1968-72 A-BODY', 'PANEL, TAIL PATCH, 1964-65 CHEVELLE, CENTER SECTION', 'HOOD LATCH, 1967 CHEVELLE/EL CAMINO', 'TAILGATE SHELL, 1969-72 EL CAMINO, W/ BACK-UP LIGHT HOLES', 'RADIATOR SUPPORT, 1965 CHEVELLE/EL CAMINO', 'WEATHERSTRIP CHANNEL, 1966-67 CHEVELLE, COUPE, ROOFRAIL', 'FENDER EXTENSION, 1970 CHEVELLE, PAIR', 'BRACE, FLOOR PAN, 1964-69 A-BODY, MIDDLE', 'INNER FENDERWELLS, 1967 CHEVELLE/EL CAMINO, PAIR', 'PATCH PANEL, REAR QUARTER, 1970-72 CHEVELLE, BEHIND REAR WHEEL', 'BRACE, TAIL PANEL, 1964-65 CHEVELLE, TRUNK LATCH', 'WHEELHOUSE, OUTER, 1970-72 OLDSMOBILE COUPE', 'FILLER PANEL, TRUNK INNER, 1969 CHEVELLE', 'TRUNK LID, 1970-72 CUTLASS, CONVERTIBLE, STEEL', 'HOOD LATCH, 1966 CHEVELLE/EL CAMINO', 'PANELS, COWL REINFORCEMENT, 1968-72 CHEV/EL CAM/MONTE CARLO, ROCKER TO COWL', 'PATCH PANEL, FRONT QUARTER PANEL, 1970-72 CHEVELLE', 'INNER FENDERWELLS, 1968-69 GTO/LEMANS/TEMPEST/1969-72 GRAND PRIX, PAIR', 'FILLER PANEL, TRUNK SIDE, 1968 CHEVELLE', 'PATCH PANEL, LOWER FRONT QUARTER PANEL, 1984-88 MONTE CARLO', 'BODY BRACE, TRUNK, 1968-72 A-BODY', 'CABLES, TAILGATE, 1968-77 EL CAMINO', 'PLATE, AIR BOX TOP, 1983-88 MONTE CARLO SS, STAINLESS STEEL', 'ROCKER PANEL, OUTER, 1968-72 EL CAMINO', 'TRUNK LID, 1969 GTO/TEMPEST/LEMANS, W/ SPOILER HOLES, STEEL', 'QUARTER PANEL, 1970-72 CUTLASS, SUPREME, 442 CONV. COMPLETE', 'INNER FENDERWELL, 1965 CHEVELLE/EL CAMINO', 'FILLERS, TAIL LAMP BEZEL, 1974-76 ELDORADO', 'SPOILER, FRONT, FIBERGLASS, 1970-72 GSX', 'FLOOR PANS, TRUNK, 1964-67 GTO/SKYLARK/CUTLASS, 7-PC. SET', 'FRAME RAIL, REAR, 1978-87 EL CAMINO, REAR SECTION', 'QUARTER PANEL SKIN, 1981-88 MONTE CARLO, 80%', 'HOOD CATCH, 64 CHEVELLE/EL CAMINO', 'HOOD HINGE, 1969 CHEVELLE/EL CAMINO', 'FLOOR PAN, TRUNK, 1968-72 A-BODY, CENTER SECTION', 'PATCH PANELS, FRONT FENDER, 1970-72 CHEVELLE, PAIR', 'GASKET, TRUNK LOCK, 1965 BUICK RIVIERA', 'WHEELHOUSE, OUTER, 1964-65 CHEVELLE, PAIR', 'REPAIR PLATES, BODY MOUNT, 1978-88 MONTE CARLO, REAR', '1970-72 MONTE CARLO STEEL HOOD WITH NON-FUNCTIONAL COWL INDUCTION', 'BRACES, PACKAGE TRAY SUPPORTS, 1964-67 A-BODY', 'PATCH PANEL, FRONT LOWER QUARTER PANEL, 1978-87 EL CAMINO', 'WHEELHOUSE, OUTER, 1964-65 CHEVELLE', 'WHEELHOUSE, COMPLETE, 1964-67 GTO SEDAN/HARDTOP', 'PATCH PANEL, REAR WHEEL OPENING, 1966-67 CHEVELLE, 37\" X 13\"', 'HEADER PANEL, STEEL, 1966 GTO', 'BUMPER REINFORCEMENT, FRONT, 1981-87 REGAL, EDP STEEL', 'FRAME RAIL, REAR SECTION, 1978-88 G-BODY 2DR EXC. EL CAMINO, PAIR', 'PATCH PANEL, LOWER FENDER, 1968-69 PONTIAC A-BODY, BEHIND WHEEL', 'INNER FENDERWELL, 1968-69 GTO/LEMANS/TEMPEST/1969-72 GRAND PRIX', 'TRUNK LID, 1968 GTO/TEMPEST/LEMANS, STEEL', 'QUARTER PANEL, 1970-72 CHEVELLE, 78\" LONG X 32\" HIGH', 'PANEL, TAIL PATCH, 1967 CHEVELLE', 'BODY MOUNTS, FIREWALL, 1968-69 GTO/TEMP/LEM, 1968-72 CHEVELLE CONVERTIBLE', 'FENDER, 1967 CHEVELLE/EL CAMINO, PAIR', 'SUPPORTS, BUMPER IMPACT, 1981-87 REGAL, REAR', 'VENT DUCT SET, FENDER, 1987 GNX, W/O LOUVERS', 'HOOD HINGE, 1970-72 CHEVELLE/EL CAMINO/MONTE CARLO, REPRO, PAIR', 'WHEELHOUSE, OUTER, 1964-67 G/T/L SEDAN/HARDTOP', 'PACKAGE TRAY PANEL/TRUNK DIVIDER ASSEMBLY, 1968-72 CHEVELLE, COUPE, STEEL', 'SPRINGS, TAILGATE CABLE, 1968-77 EL CAMINO', 'WRAP, WINDSHIELD PILLAR, 1966-67 CHEVELLE COUPE, PAIR', 'FLOOR PAN, 1964-67 A-BODY, UNDER REAR SEAT, FULL', 'FLOOR PAN, TRUNK, 1964-65 GTO, COMPLETE', 'ROOF PANEL, COMPLETE, 1970-72 MONTE/CUTLASS SUPREME/69-72 GP', 'TRUNK LID, 1970-72 CUTLASS/442, HARDTOP, STEEL', 'CROSSMEMBER, TRUNK FLOOR, 1964-67 CHEVELLE', 'TRUNK FILLER PANEL, 1973-77 CHEVELLE/MONTE CARLO', 'A-PILLAR, 1978-88 G-BODY, W/T-TOPS', 'BRACE, FLOOR PAN, 1970-72 A-BODY, MIDDLE', 'FILLER PANELS, HEADLIGHT OPENING, 1983-88 MONTE CARLO SS, STAINLESS STEEL', 'QUARTER PANEL, 1978-87 EL CAMINO', 'PANEL, TAIL PATCH, 1966 CHEVELLE', 'PANEL, PACKAGE TRAY, 1966-67 CHEVELLE COUPE, STEEL', 'HOOD LATCH SUPPORT, 1971-72 CHEVELLE/EL CAMINO', 'INNER FENDERWELL, 1966 CHEVELLE/EL CAMINO', 'QUARTER PANEL, 1964-65 CHEVELLE', 'VALANCE PANEL, FRONT, 1969 GTO', 'FILLERS, QUARTER PANEL, 1975-76 ELDORADO', 'SHIFTER HUMP, 4-SPEED, 1978-88 MALIBU/EL CAMINO/MONTE CARLO', 'FLOOR PAN, TRUNK, 1964-67 CHEVELLE, SIDE SECTION', 'FLOOR PAN, TRUNK, 1964-67 CHEVELLE, CENTER SECTION', 'WEATHERSTRIP CHANNEL, ROOFRAIL, 1969 CHEVELLE COUPE', 'QUARTER PANEL, 1973-77 EL CAMINO, 78\"X30\"', 'FILLER PANEL, LICENSE PLATE, 1974-78 ELDORADO, REAR', 'DOOR SHELL, 1969 CHEVELLE', 'WEATHERSTRIP CHANNEL, 1968 CHEVELLE, COUPE, ROOFRAIL', 'HOOD, STEEL, 1981-88 MONTE CARLO, STANDARD', 'HOOD LATCH, 1968 CHEVELLE/EL CAMINO', 'HOOD CATCH, 1966 CHEVELLE/EL CAMINO', 'WHEELHOUSE, 1970-72 CHEVELLE COUPE, OUTER', 'HOOD INSERTS, 1966 CHEVELLE/EL CAMINO, SS', 'CROSS RAIL, BRACE, REAR BODY, 1970-72 CHEVELLE', 'FUEL TANK BRACE, 1964-67 EL CAMINO/A-BODY WAGON, 2-PC, W/HARDWARE', 'PATCH PANEL, 64-65 CHEVELLE FRONT FENDER (BEHIND WHEEL WELL, 13.5\" HIGH)', 'COWL PANEL, LOWER WINDSHIELD, 1968-69 A-BODY', 'HOOD LATCH, 1965 CHEVELLE/EL CAMINO', '1971-72 EL CAMINO AND CHEVELLE WAGON FRONT FENDER', 'RADIATOR SUPPORT, 1967 CHEVELLE/EL CAMINO', 'CROSSMEMBER, FRONT UPPER TRUNK PANEL, 1970 A-BODY', 'QUARTER PANEL FILLER SET, 1974-78 ELDORADO, REAR', 'FLOOR PAN, REAR UNDER SEAT, 1973-77 A-BODY, HALF SECTION', 'FILLERS, TAIL LAMP BEZEL, 1974-76 DEVILLE/FLEETWOOD EXC. CC', 'WIRE CHANNEL, UNDER SEAT, 1964-67 CHEVELLE/EL CAMINO', 'FENDER, 1967 GTO/LEMANS/TEMPEST', '1968 CHEVELLE COUPE COMPLETE QUARTER PANEL', 'RADIATOR SUPPORT, 1971-72 CHEVELLE/EL CAMINO', 'HOOD, STEEL, 1969 CHEVELLE/EL CAMINO, W/2 INCH COWL', 'HOOD LATCH SUPPORT, 1967 CHEVELLE/EL CAMINO', 'FILLER PANEL, TAIL LAMP , 1977-79 DEVILLE/FLEETWOOD/BROUGHAM', 'FILLER PANELS, HEADLIGHT, 1973 CADILLAC DEVILLE/FLEETWOOD', 'FLOOR PAN, COMPLETE, 1968-69 A-BODY COUPE/SEDAN, W/O ROCKER PANELS', 'FIREWALL, 1968-72 CHEVELLE/EL CAMINO HARDTOP/COUPE, BLANK', 'DOOR SHELL, 1964-65 CHEVELLE', 'BUMPER FILLER SETS, 1975-76 ELDORADO, REAR, 5PC', 'WHEELHOUSE, COMPLETE, 1964-67 GTO, SEDAN/HARDTOP, PAIR', 'MOUNTING PANEL, TAIL LIGHT, 1968-72 EL CAMINO', 'FENDER, 1971-72 EL CAMINO/CHEVELLE WAGON, PAIR', 'WEATHERSTRIP CHANNEL, ROOFRAIL, 1964-65 CHEVELLE COUPE', 'FILLER PANELS, HEADLIGHT, 1975-76 CADILLAC ELDORADO', 'PATCH PANEL, B-PILLAR LOWER, 1978-88 G-BODY 2-DR, EXC. EL CAMINO', 'PATCH PANELS, REAR WHEEL OPENING, 1968-69 CHEVELLE/1968-72 EL CAMINO, PAIR', 'HOOD LOCK RETAINER, 1970-72 CUTLASS, OUTSIDE AIR INDUCTION/W-25, PAIR', 'PANEL, REAR BODY, 1968 PONTIAC', 'DOOR SKIN, OUTER, 1969 GTO COUPE/CONVERTIBLE', 'WHEELHOUSE, REAR INNER/OUTER, 1968-72 EL CAMINO', 'FLOOR PAN, FULL SECTION, 1978-88 G-BODY', 'FIREWALL, 1968-72 CHEVELLE/EL CAMINO HARDTOP/COUPE, W/ A/C', 'HOOD ADJUST BUMPER, 1978-88 G-BODY, PAIR', 'BRACE, FLOOR PAN, 1970-72 A-BODY, FRONT', 'SHIFTER HUMP, 4-SPEED, 1968-72 OLDSMOBILE', 'PATCH PANEL, QUARTER PANEL, 1968 CHEVELLE, LOWER', 'HOOD, STEEL, 1966 CHEVELLE/EL CAMINO, STANDARD', 'QUARTER PANEL, 1968 GTO, 1968-69 TEMPEST/LEMANS, COUPE/CONVERTIBLE', 'BODY BUMPER, DOOR, 1963-65 RIVIERA /1964-65 SKYLARK, PAIR', 'FRAME RAIL, REAR, 1978-87 EL CAMINO, REAR SECTION, PAIR', 'TOP PLATE, RADIATOR SUPPORT, 1968 PONTIAC, CHROME', 'TRUNK FLOOR, COMPLETE, 1971-72 CHEVELLE', 'SPOILER, JUDGE, 1969 GTO CONVERTIBLE, REAR', 'TIE BAR, FENDER, 1970-72 CHEVELLE/EL CAMINO, W/O HOOD PIN HOLES', 'HOOD PIN CLIP, 1970-72 CHEVELLE/EL CAMINO, SS, PAIR', 'FILLER PANEL SET, REAR, 1979-85 ELDORADO', 'ROCKER PANEL, INNER, 1968-72 A-BODY', 'TRUNK FLOOR, COMPLETE, 1970 CHEVELLE', 'QUARTER PANEL, 1981-88 CUTLASS', 'BRACKET SET, 1973-77 A-BODY, SPARE TIRE HOLD-DOWN W/JACK STOP, 3PC', 'QUARTER PANEL, COMPLETE, 1968 CHEVELLE COUPE, PAIR', 'BRACE, FLOOR PAN, 1973-77 A-BODY, MIDDLE', 'FIREWALL, 1968-72 CHEVELLE/EL CAMINO HARDTOP/COUPE, W/O A/C', 'FLOOR PAN, UNDER SEAT, 1964-67 A-BODY', 'HOOD LOCKS/RETAINERS/BRACKETS, 1970-72 CTLS, OUTSIDE AIR INDUCTION/W-25, 6-PIECE', 'STOP CLIP, WINDSHIELD GLASS, 1968-72 A-BODY, PAIR', 'BRACE, FLOOR PAN, 1968-72 A-BODY, REAR, 18-GAUGE', 'DRIP RAILS, STEEL, 1966-67 CHEVELLE, 2-DOOR COUPE', 'QUARTER PANEL, 1968-72 EL CAMINO', 'FIREWALL PANEL, 1964-67 CHEVELLE/EL CAMINO, LOWER, W/O AC', 'PATCH PANEL, REAR LOWER QUARTER PANEL, 1978-87 EL CAMINO', 'CLIP, 1978-88 G-BODY, HOOD SIDE TO HOOD HINGE PR', 'TRUNK LID, 1968 CUTLASS, STEEL', 'PATCH PANELS, FRONT LOWER QUARTER PANEL, 1984-88 MONTE CARLO, PAIR', 'DOOR SHELL, 1968 GTO', 'BUMPER, REAR LATCH, 1961-68 B-O-P WAGON, 1964-67 CH WGN/EC, PAIR', 'BRACE, TAIL PANEL, 1965 CHEVELLE, SIDE', 'QUARTER PANEL, 1973-77 CHEVELLE', 'WHEELHOUSE, REAR INNER, 1981-88 MONTE/REGAL/CUTLASS/GRAND PRIX', 'FLOOR PAN, TRUNK, 1968 GTO, COMPLETE', 'PATCH PANEL, LOWER REAR QUARTER PANEL, 1978-87 EL CAMINO, PAIR', 'PATCH PANELS, REAR WHEEL OPENING, 1970-72 CHEVELLE, PAIR', 'QUARTER PANEL, 1969 CHEVELLE, PAIR', 'BRACKET, 1973-77 A-BODY, TRUNK FLOOR, JACK STOP', 'BRACKET, 1973-77 A-BODY, TRUNK FLOOR, JACK STOP, PAIR', 'HOOD, STEEL 1968-70 GTO, SCOOP STYLE, W/O RAM AIR', 'PANEL, REAR WINDOW TO TRUNK, 1964-65 CHEVELLE COUPE', 'PATCH PANEL, REAR PANEL, 1968-69 CHEVELLE, W/ BRACKETS', 'TAILGATE SKIN, 1969-72 EL CAMINO', 'HOOD LOCK, 1970-72 CUTLASS, OUTSIDE AIR INDUCTION/W-25, PAIR', 'BRACE, TAIL PANEL, 1970-72 CHEVELLE', 'FILLER PANEL, INNER TRUNK, 1970-72 CHEVELLE, PAIR', 'BUMPER FILLER, REAR, LEFT/RIGHT, 1980-92 DEVILLE/FLEETWOOD/BROUGHAM', 'CROSS RAIL, BRACE, REAR BODY, 1966-67 CHEVELLE', 'INNER FILLER, TRUNK, 1969 PONTIAC A-BODY', 'QUARTER PANEL, 1970-72 CHEVELLE, CONVERTIBLE, COMPLETE', 'FLOOR PAN, REAR UNDER SEAT, 1973-77 A-BODY, FULL SECTION', 'DOOR SHELLS, 1986-87 EL CAMINO, PAIR', 'WHEELHOUSE, OUTER, 1968-69 PONTIAC A-BODY', 'HOOD HINGE, 1968 CHEVELLE/EL CAMINO, PAIR', 'ROCKER PANEL, LOWER, 1968-72 A-BODY, PAIR', 'WHEELHOUSE, OUTER, 1968-69 PONTIAC A-BODY, PAIR', 'WHEELHOUSE, OUTER, 1966-67 CHEVELLE/EL CAMINO, PAIR', 'PATCH PANELS, FRONT FENDER, 1966-67 CHEVELLE, PAIR', 'WHEELHOUSE, INNER/OUTER, 1970-72 CHEVELLE CONVERTIBLE', 'HOOD HINGE, 1978-87 REGAL/GRAND NATIONAL', 'PATCH PANEL, 70-72 CHEVELLE REAR QTR WHEEL OPENING', 'DRIP RAILS, ROOF, 1970-72 CHEVELLE COUPE', 'HOOD, STEEL, 1967 CHEVELLE/EL CAMINO, W/2 INCH COWL', 'PANEL, REAR WINDOW TO TRUNK, 1966-67 CHEVELLE', 'HOOD PIN BOLT, 1970-72 CHEVELLE/EL CAMINO SS / 70-72 MONTE', 'DRIP RAILS, STEEL, 1968-69 CHEVELLE', 'BRACE, FLOOR PAN, 1964-65 CHEVELLE, REAR', 'BRACE, FLOOR PAN, 1973-77 A-BODY, FRONT', '1970-72 MONTE CARLO STEEL HOOD WITH FUNCTIONAL COWL INDUCTION', 'QUARTER PANEL, 1978-87 EL CAMINO, COMPLETE', 'FENDER, 1982-87 EL CAMINO/MALIBU, PAIR', 'HOOD HINGES, 81-88 MONTE CARLO, PAIR', 'FENDER, 1967 GTO/LEMANS/TEMPEST, PAIR', 'WHEELHOUSE, OUTER, 1964-67 G/T/L SEDAN/HARDTOP, PAIR', 'FILLER PANEL, INNER TRUNK, 1969 CHEVELLE, PAIR', 'A-PILLAR, 1978-88 MONTE/REGAL/CUTLASS/GRAND PRIX, W/T-TOPS, PAIR', 'MOUNTING PANEL, TAIL LIGHT, 1968-72 EL CAMINO, PAIR', 'FLOOR PAN, COMPLETE, 1968-69 A-BODY EXC. EL CAMINO, W/ ROCKER PANELS', 'PATCH PANELS, LOWER REAR QUARTER PANEL, 1964-65 CHEVELLE, PAIR', 'QUARTER PANEL, 64-65 GTO/TEMPEST/LEMANS, COUPE/CONVERTIBLE, PAIR', 'FLOOR PAN, TRUNK, 1969 CHEVELLE, COMPLETE', 'INNER FENDERWELLS, 1965 CHEVELLE/EL CAMINO, PAIR', 'FILLER PANEL SET, FRONT, 1979-85 ELDORADO', 'PACKAGE TRAY PANEL, 1964-65 CHEVELLE, COUPE, STEEL', 'HOOD, STEEL, 1970-72 MONTE CARLO, STANDARD NON SS', 'FILLER PANEL, FRONT SIDE QUARTER PANEL, 1979-85 ELDORADO', 'BRACE, FLOOR PAN, 1973-77 A-BODY, REAR', 'PATCH PANEL, FRONT QUARTER PANEL, 1978-87 EL CAMINO, PAIR', 'TORSION BAR CHASSIS, TRUNK, 1970-72 CHEVELLE CONVERTIBLE', 'SAIL PANEL, INNER, 1978-87 EL CAMINO, PAIR', 'FLOOR PAN, 1973-77 A-BODY, HALF SECTIONS, W/TOE BOARD', 'DOOR SKIN, 1968-72 EL CAMINO', 'PATCH PANELS, LOWER QUARTER PANEL, 1969 CHEVELLE, PAIR', 'INNER FENDERWELL, 1967 CHEVELLE/EL CAMINO', 'FILLER PANEL, REAR LICENSE PLATE, 1974-76 DEVILLE/FLEETWOOD', 'COWL INDUCTION KIT, 1970-72 CHEVELLE/EL CAMINO/MONTE CARLO, COMPLETE W/ SPACER', 'COWL INDUCTION KIT, 1970-72 CHEVELLE/EL CAMINO, COMPLETE W/O SPACER', 'PANEL, TAIL PATCH, 1965 CHEVELLE, SIDE EXTENSION', 'FLOOR PAN, W/BRACES & INNER ROCKER OE TYPE, 64-67 GM A-BODY', 'BUMPER FILLER SET, 1977-78 ELDORADO, FRONT', 'FENDER, 1965 CHEVELLE/EL CAMINO, PAIR', 'PANEL, REAR WINDOW TO TRUNK, 1970-72 CHEVELLE CONVERTIBLE', 'FIREWALL PANEL, 1964-67 CHEVELLE/EL CAMINO, LOWER, BLANK', 'SCREW KIT, 70-72 CHEVELLE/EL CAMINO, COWL INDUCTION SUPPORT BRACKET, 8PC', 'BRACES, ROOF PANEL, 1968-72 EL CAMINO', 'FENDER EXTENSION, 1970 EL CAMINO, PAIR', 'PATCH PANELS, REAR WHEEL OPENING, 1966-67 CHEVELLE, 37\" X 13\", PAIR', 'WHEELHOUSE, 1970-72 MONTE CARLO, REAR OUTER, PAIR', 'FLOOR PAN, COMPLETE, 1964-67 A-BODY, W/O ROCKERS/BRACES', 'FILLER PANEL, FRONT SIDE QUARTER PANEL, 1980-92 DEVILLE/FLEETWOOD/BROUGHAM', 'BUMPER FILLER, REAR, LEFT/RIGHT 1977-79 DEVILLE/FLEETWOOD/BROUGHAM', 'FENDER BRACE, 1964-65 CHEVELLE/EL CAMINO, PAIR', 'COWL HOOD DOOR KIT, 1970-72 CHEVELLE/EL CAMINO/MONTE CARLO, W/ACTUATOR', 'FILLER PANEL, LICENSE PLATE, 1973 ELDORADO, REAR', 'QUARTER PANEL, 1968 CHEVELLE', 'BRACE KIT, INNER ROOF, 1970-72 CHEVELLE', 'DOOR SKIN, 1964-65 CHEVELLE', 'FENDER EXTENSION, 1973-74 ELDORADO, PAIR', 'FUEL TANK BRACE, 1973-77 A-BODY EXC. WAGON', '1969 CHEVELLE QUARTER PANEL', 'DASH PANEL, STEEL INNER, 1968 CHEVELLE/EL CAMINO', 'QUARTER PANEL, 1970-72 CHEVELLE, 76\" LONG X 23\" HIGH, PAIR', 'INNER FENDERWELLS, 1966 CHEVELLE/EL CAMINO, PAIR', 'CROSSMEMBER, FRONT UPPER TRUNK PANEL, 1971-72 A-BODY', 'PANEL, REAR WINDOW TO TRUNK, 1964-65 GTO', 'PATCH PANELS, REAR WHEEL OPENING, 1964-65 CHEVELLE, 34\" X 13\", PAIR', 'FILLER PANEL, HEADLIGHT, 1977-78, ELDORADO', 'HOOD PIN BOLT, 1970-72 CHEVELLE/EL CAMINO SS / 70-72 MONTE, PAIR', 'BUMPER GUARD, FRONT, 1981-87 BUICK REGAL/T-TYPE/GRAND NATIONAL, BLACK, PAIR', 'PACKAGE TRAY PANEL, PONTIAC 64-65 A-BODY', 'QUARTER PANEL, 1976-77 MONTE CARLO, PAIR', 'PATCH PANEL, LOWER FENDER, 1968-69 PONTIAC A-BODY, BEHIND WHEEL, PAIR', 'SPRING, HOOD HINGE, 1969-72 CUTLASS/SKYLARK, W/STEEL HOOD, PAIR', 'FENDER EXTENSION, LOWER, 1976-79 SEVILLE, PAIR', 'PATCH PANELS, FRONT FENDER, 1964-65 CHEVELLE, 13.5\", PAIR', 'TRUNK LID, 1965 GTO/TEMPEST/LEMANS, STEEL', 'FILLER PANEL, REAR, 1979-85 ELDORADO', 'PATCH PANELS, LOWER REAR QUARTER PANEL, 1970-72 CHEVELLE, PAIR', 'BUMPER FILLER SET, 1976-79 SEVILLE, REAR BUMPER', 'QUARTER PANEL, 1968-72 EL CAMINO, COMPLETE, PAIR', 'DOOR SKIN, 1968-72 EL CAMINO, PAIR', 'PATCH PANELS, FRONT QUARTER PANEL, 1970-72 CHEVELLE, PAIR', 'STRIP CHANNEL CONNECTOR, 68-72 CHEVELLE, PAIR', '1970-72 CHEVELLE QUARTER PANEL', 'COWL PANEL, OUTER, 1968-72 A-BODY, PAIR', 'DOOR SKIN, 1978-85 MALIBU/EL CAMINO', 'FILLER PANEL, TAIL LAMP,1990-92 DEVILLE/FLEETWOOD/BROUGHAM, DOUBLE SLOT', 'FILLER PANEL, REAR LICENSE PLATE, 1977-79 DEVILLE/FLEETWOOD/BROUGHAM', 'WHEELHOUSE, INNER/OUTER, 1970-72 CHEVELLE COUPE, PAIR', 'HOOD HINGE, 1968 CHEVELLE/EL CAMINO', 'FILLER PANEL, HEADLIGHT EXTENSION, 1973-74 ELDORADO', 'FILLER PANEL, FRONT QUARTER, 1980-85 SEVILLE', 'FILLER PANEL, REAR LICENSE PLATE, 1976-79 SEVILLE', 'FLOOR PAN, TRUNK, 1968-72 A-BODY, SIDE SECTIONS, PAIR', 'HOOD HINGE SPRING, 1973-77 CHEVELLE/EL CAMINO/MONTE CARLO/CUTLASS, PAIR', 'DOOR SHELL, 1968 CHEVELLE', 'FILLER PANEL, INNER TRUNK, 1968 CHEVELLE, PAIR', 'HOOD HINGE, 1978-87 REGAL/GRAND NATIONAL, PAIR', 'FENDER, 1968 CHEVELLE/EL CAMINO, PAIR', 'PATCH PANEL, 1981-88 MONTE CARLO, REAR WHEEL OPENING', 'FILLERS, QUARTER PANEL, 1973 ELDORADO', 'PANEL, TAIL LIGHT, 1965 GTO', 'WHEELHOUSE, OUTER, 1981-88 MONTE CARLO, PAIR', 'TRUNK LID, 1969 GTO/TEMPEST/LEMANS, W/O SPOILER HOLES, STEEL', 'DOOR SKIN, OUTER, 1966-67 GTO/TEMPEST/LEMANS', 'PATCH PANELS, FRONT FENDER, 1968-69 CHEVELLE/1968-72 EL CAMINO, PAIR', 'BUMPER REINFORCEMENT, REAR, 1981-87 REGAL, EDP STEEL', 'HOOD INSTALL SET, 1981-87 REGAL/GN', 'WHEELHOUSE, REAR OUTER, 1978-87 EL CAMINO', 'TAILGATE SKIN, 1964-66 EL CAMINO', 'DOOR SHELL, 1986-87 EL CAMINO', 'EXTENSION, REAR QUARTER/TAIL LAMP HOUSING, 1969 CHEVELLE', 'PATCH PANELS, QUARTER PANEL, 1981-87 REGAL, FRONT, PAIR', 'QUARTER PANEL, 1981-88 CUTLASS, PAIR', 'BUMPER FILLER KIT, FRONT/REAR, 1980-92 DEVILLE/FLEETWOOD/BROUGHAM', 'FILLER PANEL, TAIL LAMP, 1980-84 DEVILLE/FLEETWOOD/BROUGHAM, NO SLOT', 'QUARTER PANEL, 1966-67 CHEVELLE, PAIR', 'FLOOR PANS, TRUNK, 1968-72 A-BODY, 3-PIECE KIT', 'HOOD HINGE, 1968-72 GTO/1969-70 BONNEVILLE/CATALINA, PAIR', 'BUMPER GUARD, REAR, 1981-87 BUICK REGAL/T-TYPE/GRAND NATIONAL, BLACK, PAIR', 'QUARTER PANEL, 1968 CHEVELLE, PAIR', 'QUARTER PANEL, 1968-72 EL CAMINO, PAIR', 'TRUNK LID, 1970-72 CUTLASS SUPREME, HARDTOP', 'HOOD, STEEL, 1965-67 LEMANS/TEMPEST', 'BUMPER GUARD, FRONT, 1981-87 BUICK REGAL, CHROME', 'FLOOR PAN, TRUNK, 1973-77 A-BODY, COMPLETE WITH BRACES, 1-PIECE', 'PATCH PANELS, LOWER QUARTER PANEL, 1968 CHEVELLE, PAIR', 'FLOOR PAN, TRUNK, 1964-67 CHEVELLE, SIDE SECTIONS, PAIR', 'FLOOR PAN, TRUNK, 1964-67 B.O.P. A-BODY, SIDE SECTIONS, PAIR', 'FLOOR PAN, TRUNK, 1964-67 B.O.P. A-BODY, 3-PIECE SET', 'SPRING, HOOD HINGE, 1966-72 CHEVELLE/EL CAMINO, EXCEPT SS/COWL INDUCTION, PAIR', 'EXTENSION, TAIL LIGHT HOUSING, REAR QUARTER, 1968 CHEVELLE', 'PATCH PANEL, QUARTER PANEL, 1981-87 REGAL, FRONT', 'FILLER PANEL, LOWER TRUNK, 1966-67 CHEVELLE, PAIR', 'HOOD HINGE, 1964 CHEVELLE/CUTLASS/PONTIAC FULL SIZE/1964-67 PONTIAC \"A\" BODY, PR', 'FENDER, 1970 CHEVELLE, PAIR', 'FENDER, 1971-72 CHEVELLE, PAIR', 'WHEELHOUSE, OUTER, 1981-88 MONTE CARLO', 'FILLER PANEL, HEADLIGHT, 1980-89 DEVILLE/FLEETWOOD/BROUGHAM', 'INNER FILLER, TRUNK, 1968 PONTIAC A-BODY', 'FLOOR PAN, BED 1978-87 EL CAMINO', 'BUMPER REINFORCEMENT, REAR, 1981-87 REGAL, ALUMINUM', 'INNER FENDERWELLS, 1968-72 CHEVELLE/EL CAMINO, PLASTIC, PAIR', 'FILLER PANEL, REAR QUARTER PANEL, 1979-85 ELDORADO', 'PATCH PANEL, REAR QUARTER, 1970-72 CHEVELLE, BEHIND REAR WHEEL, (PAIR)', 'WHEELHOUSE, 1968-69 CHEVELLE, 1968-72 EL CAMINO, OUTER, PAIR', 'FILLER PANEL, HEADLIGHT, 1990-92 DEVILLE/FLEETWOOD/BROUGHAM', 'QUARTER PANEL, 1973-77 EL CAMINO, PAIR', 'PATCH PANELS, QUARTER PANEL, 1981-87 REGAL, REAR, PAIR', 'BUMPER GUARD, REAR, 1981-87 BUICK REGAL, CHROME', 'FILLER PANEL, TAIL LAMP,1985-89 DEVILLE/FLEETWOOD/BROUGHAM, SINGLE SLOT', 'CROSSMEMBER, TRUNK FLOOR, 1968-69 A-BODY', 'PATCH PANEL, REAR WHEEL OPENING, 1981-87 REGAL/T-TYPE/GRAND NATIONAL', 'PANEL, REAR WINDOW TO TRUNK, 1964-65 CHEVELLE, W/UNDERSIDE REINFORCEMENT', 'VENT PANEL, FRONT LOWER COWL, 1968-72 A-BODY, PAIR', 'QUARTER PANEL, 70-72 GTO/TEMPEST/LEMANS, COUPE/CONVERTIBLE, PAIR', 'WHEELHOUSE, OUTER, 1970-72 CHEVELLE COUPE, PAIR', 'DOOR HANDLE, INSIDE, 70-76 GRAND PRIX', 'BRACE, HEADER PANEL, 1984-87 REGAL', 'PATCH PANEL, 1981-88 MONTE CARLO, REAR WHEEL OPENING, PAIR', 'PATCH PANEL, QUARTER PANEL, 1981-87 REGAL, REAR', 'BUMPER GUARD, FRONT, 1981-87 BUICK REGAL, CHROME, PAIR', 'PATCH PANEL, REAR WHEEL OPENING, 1981-87 REGAL/T-TYPE/GRAND NATIONAL, PAIR', 'DOOR SKIN, 1970-72 CHEVELLE, PAIR', 'QUARTER PANEL, 1970-72 CHEVELLE, 78\" LONG X 32\" HIGH, PAIR', 'QUARTER PANEL, 1970-72 MONTE CARLO, 77\" LONG X 27\" HIGH, PAIR', 'QUARTER PANEL, 1969 GTO, COUPE/CONVERTIBLE', 'BUMPER GUARD, FRONT, 1981-87 BUICK REGAL/T-TYPE/GRAND NATIONAL, BLACK', 'TAILGATE SHELL, 1968 EL CAMINO', 'HOOD HINGE, 1969 CHEVELLE/EL CAMINO, PAIR', 'BED PANEL, INNER, 1978-87 EL CAMINO', 'QUARTER PANEL, 1969 GTO, COUPE/CONVERTIBLE, PAIR', 'QUARTER PANEL, 66-67 GTO/TEMPEST/LEMANS, COUPE/CONVERTIBLE, PAIR', 'BRACKETS, BODY MOUNT, 1964-67 CHEVELLE/CUTLASS, PAIR', 'BUMPER FILLER PANEL, REAR, 1979-85 ELDORADO', 'FILLER PANEL, REAR QUARTER PANEL, 1976-79 SEVILLE', 'FLOOR PANS, TRUNK, 1964-67 CHEVELLE, 3-PIECE KIT', 'PATCH PANEL, TOE BOARD, 1964-67 GM A-BODY, PAIR', 'FLOOR PAN, REAR UNDER SEAT, 1973-77 A-BODY, HALF SECTION, PAIR', 'PATCH PANEL, FENDER, 1968-69 CUTLASS, PAIR', 'PATCH PANEL, FENDER, 1970-72 CUTLASS, PAIR', 'FENDER, 1966 GTO/LEMANS/TEMPEST, PAIR', 'QUARTER PANEL, 78-87 EL CAMINO, PAIR', 'WHEELHOUSE, INNER/OUTER, 1981-87 REGAL', 'TAILGATE SKIN, 1968 EL CAMINO', 'FILLER PANEL SET, FRONT/REAR, 1980-85 SEVILLE', 'QUARTER PANEL, 1964-65 GTO/TEMPEST/LEMANS, COUPE/CONVERTIBLE', 'DOOR SKIN, OUTER, 1966-67 GTO/TEMPEST/LEMANS, PAIR', 'QUARTER PANEL, 1976-77 MONTE CARLO', 'FENDER, 1966 CHEVELLE/EL CAMINO, PAIR', 'ROCKER PANEL, INNER, 1968-72 A-BODY, PAIR', 'FLOOR PAN, TRUNK, 1973-77 A-BODY, SIDE SECTION', 'FLOOR PAN, TRUNK, 1973-77 A-BODY, SIDE SECTIONS, PAIR', 'DOOR SKIN, 1969 PONTIAC A-BODY COUPE/CONVERTIBLE, PAIR', 'DOOR HANDLE, INSIDE, 70-76 GRAND PRIX, PAIR', 'FLOOR PAN, TRUNK, 1966-67 CUTLASS, COMPLETE', 'DECK FILLER PANEL, W/UNDERSIDE BRACING, PONTIAC 64-65 A-BODY', 'BUMPER FILLER SET, 1973-74 ELDORADO, FRONT BUMPER', 'QUARTER PANEL, 1976-77 CUTLASS, BROUGHAM/SALON/S', '1970-72 CHEVELLE COUPE COMPLETE QUARTER PANEL PAIR', 'WHEELHOUSE, OUTER, 1970-72 CHEVELLE CONVERTIBLE', 'DOOR SKIN, 1970-72 CHEVELLE', 'ROCKER PANEL, INNER, 1964-67 CHEVELLE COUPE/CONVERTIBLE, PAIR', 'SUPPORT, PACKAGE TRAY SIDE, 1968-72 CHEVELLE, PAIR', 'BRACE, TAIL PANEL, 1965 CHEVELLE, SIDE, PAIR', 'PATCH PANEL, TOE BOARD, 68-72 GM A-BODY, PAIR', 'INNER FILLER, TRUNK, 1968 PONTIAC A-BODY, PAIR', 'DOOR SKIN, 1986-87 EL CAMINO', 'WHEELHOUSE, OUTER, 1978-87 EL CAMINO, PAIR', 'BRACKET, LICENSE PLATE MOUNT, 1978-87 REGAL/GN, CHROME, FRONT', 'QUARTER PANEL, 1973-77 CHEVELLE, PAIR', 'FLOOR PAN, TRUNK, 1969 GTO, COMPLETE', 'QUARTER PANEL, COMPLETE, 1970-72 CUTLASS SUPREME/4-4-2 CONVERTIBLE, PAIR', 'WHEELHOUSE, INNER/OUTER, 1981-87 REGAL, PAIR', 'WHEELHOUSE, INNER/OUTER, 1970-72 CHEVELLE CONVERTIBLE, PAIR', 'TRUNK FILLER PANEL, 1973-77 CHEVELLE/MONTE CARLO, PAIR', 'QUARTER PANEL, COMPLETE, 1969 CHEVELLE, PAIR', 'FLOOR PAN, QUARTER SECTION, 1968-72 A-BODY (EXC EL CAMINO), PAIR', 'FLOOR PAN, QUARTER SECTION, 1968-72 A-BODY (EXC EL CAMINO), 4-PC. SET', 'FILLER PANEL, FRONT SIDE QUARTER PANEL, 1977-79 DEVILLE/FLEETWOOD/BROUGHAM', 'DOOR SKIN, 1978-85 EL CAMINO/MALIBU, PAIR', 'QUARTER PANEL, COMPLETE, 1970-72 CHEVELLE, CONVERTIBLE, PAIR', 'WHEELHOUSE, COMPLETE, 1968-69 GTO, SEDAN/HARDTOP', 'WHEELHOUSE, INNER, 1970-72 CHEVELLE CONVERTIBLE', 'DOOR SKIN, 1966-67 CHEVELLE', 'QUARTER PANEL, 1964-65 CHEVELLE, PAIR', 'QUARTER PANEL, 1976-77 CUTLASS, BROUGHAM/SALON/S, PAIR', 'HOOD, STEEL, 1967 CHEVELLE/EL CAMINO, SS, W/INSERTS', 'HOOD, STEEL, 1969 CHEVELLE/EL CAMINO, SS, W/GRILLES', 'PATCH PANEL, TAILLIGHT PANEL, 1968 CHEVELLE', 'PANEL, TAIL PATCH, 1965 CHEVELLE, SIDE EXTENSION, PAIR', 'FLOOR PAN, QUARTER SECTION, 1964-67 A-BODY (EXC EL CAMINO), PAIR', 'FLOOR PAN, QUARTER SECTION, 1964-67 A-BODY (EXC EL CAMINO), 4-PC. SET', 'BODY BRACE, TRUNK, 1968-72 A-BODY, PAIR', 'INNER FENDERWELLS, 1966-67 GTO/LEMANS/TEMPEST, PAIR', 'FIREWALL, 1968-69 GTO/LEMANS/TEMPEST AC', 'INNER FILLER, TRUNK, 1969 PONTIAC A-BODY, PAIR', 'DOOR SKIN, 1986-87 EL CAMINO, PAIR', 'DOOR SKIN, 1969 CHEVELLE', 'BUMPER REINFORCEMENT, FRONT, 1981-87 REGAL, ALUMINUM', 'DOOR SKIN, 1968 CHEVELLE', 'BUMPER FILLER KIT, FRONT/REAR, 1977-79 DEVILLE/FLEETWOOD/BROUGHAM', 'FENDER EXTENSION, 1971-72 CHEVELLE, PAIR', 'HOOD, STEEL, 1966 CHEVELLE/EL CAMINO, SS, W/HOUSINGS/INSERTS', 'FILLER PANEL, FRONT BUMPER, 1980-85 SEVILLE', 'INNER FILLER, TRUNK, 1966-67 PONTIAC A-BODY, PAIR', 'PATCH PANEL, B-PILLAR T-TOP ROOF, 1978-88 G-BODY, PAIR', 'FLOOR PAN, FULL SECTION, 1978-88 G-BODY, PR', 'TRUNK FLOOR, 1973-77 A-BODY, 8PC SET, W/BODY & GAS TANK BRACES', 'FILLER PANEL, REAR LICENSE PLATE, 1980-90 DEVILLE/FLEETWOOD/BROUGHAM', 'FLOOR PAN PATCH, 1978-88 G-BODY, 4-PCS', 'EXTENSION/HOUSING, REAR QUARTER/TAIL LAMP, 1968 CHEVELLE, PAIR', 'WHEELHOUSE, COMPLETE, 1968-69 GTO, SEDAN/HARDTOP, PAIR', 'QUARTER PANEL, 68 GTO, 68-69 TEMPEST/LEMANS, COUPE/CONVERTIBLE, PAIR', 'WHEELHOUSE, OUTER, 1970-72 OLDSMOBILE COUPE, PAIR', 'FENDER, 1968-69 CUTLASS (PAIR)', 'DOOR SKIN, 1964-65 CHEVELLE, PAIR', 'FILLER PANEL, LICENSE PLATE, 1979-85 ELDORADO', 'BUMPER GUARD, REAR, 1981-87 BUICK REGAL/T-TYPE/GRAND NATIONAL, BLACK', 'FENDER, 1978-81 EL CAMINO/MALIBU, PAIR', 'FLOOR PAN PATCH, 1978-88 G-BODY, PAIR', 'FILLER PANEL, REAR, 1977-78 ELDORADO', 'FIREWALL, 1968-69 GTO/LEMANS/TEMPEST BLANK', 'FILLER PANEL, FRONT, 1979-85 ELDORADO', 'FENDER, 1969 CHEVELLE/EL CAMINO, PAIR', 'FLOOR PAN, FRONT TO REAR SECTION, 1968-72 A-BODY EXC. EL CAMINO, PAIR', 'FLOOR PAN, TRUNK, 1973-77 A-BODY, CENTER SECTION', 'QUARTER PANEL, 68-69 GTO/TEMPEST/LEMANS, COUPE, COMPLETE PAIR', 'WHEELHOUSE, INNER, 1981-88 MONTE CARLO, PAIR', 'FIREWALL, 1968-72 CHEVELLE CONVERTIBLE, W/O A/C', 'FIREWALL, 1968-69 GTO/LEMANS/TEMPEST NON-AC', 'HOOD, STEEL, 1981-87 REGAL, 2\" COWL INDUCTION', 'FILLER PANEL, LOWER TRUNK, 1964-65 CHEVELLE/OLDSMOBILE, PAIR', 'FENDER, 1968-69 GTO/LEMANS/TEMPEST, PAIR', 'WHEELHOUSE, REAR INNER/OUTER, 1968-72 EL CAMINO, PAIR', 'FILLER PANEL SET, FRONT BUMPER/QUARTER FILLERS, 1980-85 SEVILLE', 'FILLER PANELS, HEADLIGHT, 1973-74 CADILLAC ELDORADO', 'FLOOR PANS, TRUNK, 1973-77 A-BODY, 3-PIECE SET', 'QUARTER PANEL, COMPLETE, 1978-87 EL CAMINO, PAIR', 'FILLER PANEL, REAR BUMPER, 1980-85 SEVILLE', 'EXTENSION/HOUSING, REAR QUARTER/TAIL LAMP, 1969 CHEVELLE, PAIR', 'DOOR SKIN, 1968 CHEVELLE, PAIR', 'BUMPER GUARD, REAR, 1981-87 BUICK REGAL, CHROME, PAIR', 'WHEELHOUSE, INNER, 1970-72 CHEVELLE CONVERTIBLE, PAIR', 'WHEELHOUSE, OUTER, 1970-72 CHEVELLE CONVERTIBLE, PAIR', 'FLOOR PAN, 1973-77 A-BODY, 1/4 SECTIONS, PAIR', 'DOOR SKIN, 1966-67 CHEVELLE, PAIR', 'DOOR SKIN, 1969 CHEVELLE, PAIR', 'DOOR SHELLS, 1968 PONTIAC A-BODY, PAIR', 'QUARTER PANEL, 1968-69 CUTLASS, PAIR', 'DOOR HINGE PILLAR, W/KICK PANEL, 1970-72 A-BODY CONVERTIBLE, PAIR', 'PATCH PANEL, B-PILLAR LOWER, 1978-88 G-BODY 2-DR, EXC. EL CAMINO, PAIR', 'FLOOR PAN, TRUNK, 1964-65 SKYLARK, COMPLETE', 'TAILGATE SKIN, 1967 EL CAMINO', 'FILLER PANEL, HEADLIGHT, 1977-79 DEVILLE/FLEETWOOD/BROUGHAM', 'FLOOR PAN, TRUNK, 1968 CHEVELLE, COMPLETE', 'FENDER, 1970 EL CAMINO/CHEVELLE WAGON, PAIR', 'QUARTER PANEL, 1970-72 CUTLASS, SUPREME/442, PAIR', 'FILLER PANEL, REAR BUMPER, 1977-78 ELDORADO', 'QUARTER PANEL, 66-67 CHEVELLE, COUPE, COMPLETE PAIR', 'FLOOR PAN SET, 1973-77 A-BODY, 1/4 SECTIONS', 'DOOR SHELLS, 1966-67 PONTIAC A-BODY, PAIR', 'FILLER PANEL, TAIL LIGHT, 1974-76 DEVILLE/FLEETWOOD', 'DOOR SHELLS, COMPLETE, 1966-67 CHEVELLE, PAIR', 'DOOR SHELLS, 1969 CHEVELLE, PAIR', 'ROCKER PANEL, OUTER, 1968-72 EL CAMINO, PAIR', 'PATCH PANELS, LOWER REAR QUARTER PANEL, 1968-72 EL CAMINO, PAIR', 'FILLER PANEL, REAR LICENSE PLATE, 1977-92 DEVILLE FLEETWOOD/BROUGHAM', 'DOOR SHELLS, 1970-72 CHEVELLE, PAIR', 'FENDER, 1970 GTO, PAIR', 'BED PANEL, INNER, 1978-87 EL CAMINO, PAIR', 'QUARTER PANEL SKIN, 81-88 MONTE CARLO, 80%, PAIR', '1970-72 CUTLASS 422 FRONT FENDERS PAIR', 'FILLER PANEL, HEADLIGHT, 1974-76 DEVILLE/FLEETWOOD', 'QUARTER PANEL, COMPLETE, 1964-65 CHEVELLE, PAIR', 'DOOR SHELLS, 1964-65 CHEVELLE, PAIR', 'DOOR SHELLS, 1978-85 EL CAMINO/MALIBU, PAIR', 'WHEELHOUSE, OUTER, 1981-87 REGAL/GN', 'BUMPER FILLER, REAR, 1976-79 SEVILLE', 'FENDER, 1965 GTO/TEMPEST/LEMANS, PAIR', 'QUARTER PANEL SKIN, 1981-88 MONTE CARLO, FULL W/O DOOR JAMB', 'FLOOR PAN, COMPLETE, 1968-69 EL CAMINO, W/O ROCKERS OR BRACES', 'WHEELHOUSE, OUTER, 1981-87 REGAL/GN, PAIR', 'QUARTER PANEL SKIN, 1981-88 MONTE CARLO, FULL W/O DOOR JAMB, PAIR', 'FLOOR PAN, 1973-77 A-BODY, HALF SECTIONS, W/TOE BOARD, PAIR', 'DOOR SHELLS, 1968 CHEVELLE, PAIR', '1970-72 MONTE CARLO FRONT FENDERS, PAIR']\n"
     ]
    }
   ],
   "source": [
    "unique_name = db['Name'].unique().tolist()\n",
    "print(unique_name)"
   ]
  },
  {
   "cell_type": "markdown",
   "id": "39278919-3be2-47b3-acd3-f024bbb18139",
   "metadata": {},
   "source": [
    "### 3.4. Product type feature\n",
    "<a id='3.4'>"
   ]
  },
  {
   "cell_type": "code",
   "execution_count": 11,
   "id": "2ebc8ac2-9c8f-41c7-8aa1-95b8e7b135a6",
   "metadata": {},
   "outputs": [
    {
     "name": "stdout",
     "output_type": "stream",
     "text": [
      "['Hardware, Fasteners and Fittings', 'Cowl Induction Components', 'Hood', 'Bolts & Studs', 'Hood Components', 'Gaskets and Sealing Systems', 'Hardware', 'Dash & Accessories', 'Fenders', 'Window Component', 'Exterior Emblems', 'Rear Body', nan, 'Hood Component', 'Tailgate and Midgate', 'Floor Component', 'Accessory Bolt Kits', 'Air Cleaners, Flame Arrestors & Scoops', 'Cowl Induction', 'Exterior Locks & Hardware', 'Engine Components', 'Engine Component', 'Tailgate Components', 'Fender Components', 'Cowl induction', 'Air & Fuel Delivery', 'Floor Pans', 'Body Component', 'Trunk Lid and Compartment', 'Trunk Panels', 'Cowl', 'Trunk Component', 'Roof Component', 'Chassis Components', 'Doors', 'Quarter Panels', 'Firewall/Cowl', 'Tailgate Component', 'Toe Board', 'Valance', 'Body & Trunk Braces', 'Quarter Panel', 'Bumper Component', 'Rear/Tail End', 'Bumper Panel', 'Rocker Panel', 'Sheet metal components', 'Radiators, Coolers and Related Components', 'Aero Ground Effects and Body Kits', 'Front Panel', 'Frame Components', 'Hood components', 'Windshield', 'Roof', 'Windshield Washer and Related Components', 'Core Support', 'Body components', 'Exterior Components', 'Filler Panels', 'Grommets', 'Door Components', 'Floor Components', 'Trunk Side Filler', 'Package Tray', 'Bumper', 'Core support components', 'Quarter Patch', 'Frame', 'Body mount components', 'Lighting - Exterior', 'Manual Transmission Components', 'Floor', 'Side Body', 'Body Components', 'Body panels', 'Dash Panel', 'Deck Panel', 'Body Panels', 'Bed Panels', 'Door Handle', 'License plate components']\n"
     ]
    }
   ],
   "source": [
    "unique_pt = db['Product_type'].unique().tolist()\n",
    "print(unique_pt)"
   ]
  },
  {
   "cell_type": "markdown",
   "id": "b32fc5d1-a763-41f9-a042-04cd508f72e7",
   "metadata": {},
   "source": [
    "<span style=\"color:blue\">\n",
    "\n",
    "- choose wich one are near of the parts investigated from Raimundo company, relative to:\n",
    "\n",
    "- tejadilho ------------------- **Roof, Roof Component**\n",
    "- capo/bagageira ----------- **Hood, Hood Components, Hood Component, Tailgate and Midgate**\n",
    "- porta ----------------------- **Doors, Door Components, Door Handle**\n",
    "- painel dianteiro/traseiro  -- **Rear Body, Body Component, Trunk Panels, Trunk Component, Chassis Components, Quarter Panels, Rocker Panel\n",
    "Frame Components, Sheet metal components, Front Panel, Filler Panels, Core Support, Body components, Exterior                                  Components, Floor Components, Core support components, Frame, Floor, Side Body, Body panels, Dash Panel, Deck Panel Bed Panels, Floor Component, Floor Pans**  \n",
    "- guarda-lamas --------------- **Fenders, Quarter Patch**\n",
    "- para-choques --------------- **Bumper Component, Bumper Panel, Bumper**\n",
    "\n",
    "\n",
    "Gaskets and Sealing Systems? --- borrachas\n",
    "\n",
    "**Hood components AND Hood Components etc.** ---> put all in lowercase"
   ]
  },
  {
   "cell_type": "code",
   "execution_count": 12,
   "id": "f2e0e70a-1c77-424e-9c00-780b8ec88f74",
   "metadata": {},
   "outputs": [
    {
     "data": {
      "text/plain": [
       "Name            342\n",
       "Product_type    342\n",
       "Composition     332\n",
       "Finish          312\n",
       "Weight          342\n",
       "Length          342\n",
       "Width           342\n",
       "Height          342\n",
       "Models          342\n",
       "Price           342\n",
       "dtype: int64"
      ]
     },
     "execution_count": 12,
     "metadata": {},
     "output_type": "execute_result"
    }
   ],
   "source": [
    "# Filtrar pelas categorias escolhidas\n",
    "\n",
    "categories = [\n",
    "    'Roof', 'Hood', 'Doors', 'Tailgate and Midgate', 'Trunk Panels', 'Chassis Components',\n",
    "    'Quarter Panels', 'Rocker Panel Frame Components', 'Sheet metal components', 'Front Panel',\n",
    "    'Core Support', 'Body panels', 'Dash Panel', 'Deck Panel Bed Panels', 'Fenders', 'Bumper'\n",
    "]\n",
    "\n",
    "db_filtered = db[db['Product_type'].isin(categories)]\n",
    "\n",
    "db_filtered.count()\n"
   ]
  },
  {
   "cell_type": "markdown",
   "id": "437b61e8-c5a2-4da5-a86a-ffe57aecb015",
   "metadata": {},
   "source": [
    "<span style=\"color:blue\">\n",
    "\n",
    "- there are 342 classic car parts for the categories filtered"
   ]
  },
  {
   "cell_type": "markdown",
   "id": "fde69810-1454-45ba-b0ec-bfdfc413e17b",
   "metadata": {},
   "source": [
    "### 3.5. Filter feature\n",
    "<a id='3.5'>"
   ]
  },
  {
   "cell_type": "code",
   "execution_count": 13,
   "id": "48c03794-5636-4648-a880-886b16ad6cda",
   "metadata": {},
   "outputs": [],
   "source": [
    "#unique_f = db['Filter'].unique().tolist()\n",
    "#print(unique_f)"
   ]
  },
  {
   "cell_type": "markdown",
   "id": "afe9156f-3b86-42a5-864f-dbf0641e5826",
   "metadata": {},
   "source": [
    "<span style='color:blue'> \n",
    "\n",
    "\n",
    "- categories from filter feature are the same as the categories from product type feature."
   ]
  },
  {
   "cell_type": "markdown",
   "id": "34ead361-d540-45ed-a50f-c0ac796cc8d2",
   "metadata": {},
   "source": [
    "### 3.6. Composition feature\n",
    "<a id='3.6'>"
   ]
  },
  {
   "cell_type": "code",
   "execution_count": 14,
   "id": "90438efa-dbec-4a44-bd73-349e1d27c875",
   "metadata": {},
   "outputs": [
    {
     "name": "stdout",
     "output_type": "stream",
     "text": [
      "['Stamped steel', 'Injection-molded plastic', 'Steel', nan, 'Stainless Steel', 'Die stamped rubber', 'Extruded plastic', 'Metal', 'Die-cut jute', 'EDP-coated', 'Metal/Rubber', 'Die-cast', 'ABS plastic', 'Metal/Plastic', 'Braided steel', 'Rubber', 'Diecast Metal', 'Stamped Steel', 'Chrome or black', 'Plastic/Aluminum', 'Rubber/Steel', 'Plastic', 'Zinc coated', 'Die-cast zinc', 'Magnesium steel spring', 'Injection-molded rubber', 'Case hardened steel', 'Die-cut rubber', 'Bare', 'Fiberglass', 'Spring steel', 'Injection molded plastic', 'EDP-coated black', 'Fiberglass reinforced plastic', 'Aluminum', 'Natural', 'Aluminum/Steel', 'EDP-Coated', 'Stamped from heavy-gauge steel', 'Zinc', 'Chrome-plated']\n"
     ]
    }
   ],
   "source": [
    "unique_composition = db['Composition'].unique().tolist()\n",
    "print(unique_composition)"
   ]
  },
  {
   "cell_type": "markdown",
   "id": "c9804ce2-23d2-4afc-8df3-34c4ed3ff03b",
   "metadata": {},
   "source": [
    "<span style='color:blue'> \n",
    "\n",
    "steel --> Stamped steel, Steel, Stainless Steel, Braided steel, Stamped Steel, Rubber/Steel, Case hardened steel, Spring steel, Aluminium/Steel, Stamped from heavy-gauge steel\n",
    "\n",
    "Rubber --> Die stamped rubber, Metal/Rubber, Rubber, Rubber/Steel, Injection-molded rubber, Die-cut rubber\n",
    "\n",
    "Metal --> Metal/Rubber, Metal/Plastic, Diecast Metal\n",
    "\n",
    "Jute --> Die-cut jute\n",
    "\n",
    "Die --> Die-cast (index 17 zinc, index 321 rubber), Diecast Metal, Die-cast Zinc, Die-cut rubber\n",
    "\n",
    "Chrome --> Chrome or black, Chrome-plated\n",
    "\n",
    "Aluminium --> Plastic/Aluminium, Aluminium, Aluminium/Steel\n",
    "\n",
    "Zinc --> Zinc coated, Die-cast zinc, Zinc\n",
    "\n",
    "Bare --> Bare\n",
    "\n",
    "Fiberglass --> Fiberglass, Fiberglass reinforced plastic\n",
    "\n",
    "Natural --> Natural\n",
    "\n",
    "Plastic --> Injection-molded plastic, Extruded plastic, ABS plastic, Metal/Plastic, Plastic/Aluminium, Plastic, Injection molded plastic, EDP-coated, EDP-coated black, Fiberglass reinforced plastic, EDP-Coated"
   ]
  },
  {
   "cell_type": "code",
   "execution_count": 15,
   "id": "34964609-4e31-4eba-861a-c5a946308960",
   "metadata": {},
   "outputs": [
    {
     "data": {
      "text/html": [
       "<div>\n",
       "<style scoped>\n",
       "    .dataframe tbody tr th:only-of-type {\n",
       "        vertical-align: middle;\n",
       "    }\n",
       "\n",
       "    .dataframe tbody tr th {\n",
       "        vertical-align: top;\n",
       "    }\n",
       "\n",
       "    .dataframe thead th {\n",
       "        text-align: right;\n",
       "    }\n",
       "</style>\n",
       "<table border=\"1\" class=\"dataframe\">\n",
       "  <thead>\n",
       "    <tr style=\"text-align: right;\">\n",
       "      <th></th>\n",
       "      <th>Name</th>\n",
       "      <th>Product_type</th>\n",
       "      <th>Composition</th>\n",
       "      <th>Finish</th>\n",
       "      <th>Weight</th>\n",
       "      <th>Length</th>\n",
       "      <th>Width</th>\n",
       "      <th>Height</th>\n",
       "      <th>Models</th>\n",
       "      <th>Price</th>\n",
       "    </tr>\n",
       "  </thead>\n",
       "  <tbody>\n",
       "    <tr>\n",
       "      <th>90</th>\n",
       "      <td>GROMMET, FIREWALL, 1968-72 GM, 1 HOLE</td>\n",
       "      <td>Firewall/Cowl</td>\n",
       "      <td>Injection-molded rubber</td>\n",
       "      <td>NaN</td>\n",
       "      <td>0.1 lbs</td>\n",
       "      <td>1.0 in</td>\n",
       "      <td>1.0 in</td>\n",
       "      <td>0.2 in</td>\n",
       "      <td>['1968-1972 Buick Riviera', '1968-1972 Buick Skylark', '1968-1972 Chevrolet Chevelle', '1965-1969 Chevrolet Corvair', '1968-1972 Chevrolet El Camino', '1970-1972 Chevrolet Monte Carlo', '1968-1972 Oldsmobile Cutlass', '1969-1972 Pontiac Grand Prix', '1968-1972 Pontiac GTO', '1968-1972 Pontiac LeMans', '1968-1970 Pontiac Tempest']</td>\n",
       "      <td>MSRP: $9.99</td>\n",
       "    </tr>\n",
       "    <tr>\n",
       "      <th>148</th>\n",
       "      <td>GROMMET, FIREWALL, 1968-72 A-BODY/RIV/GP, 3-HOLE</td>\n",
       "      <td>Firewall/Cowl</td>\n",
       "      <td>Injection-molded rubber</td>\n",
       "      <td>NaN</td>\n",
       "      <td>0.5 lbs</td>\n",
       "      <td>1.8 in</td>\n",
       "      <td>1.8 in</td>\n",
       "      <td>1.0 in</td>\n",
       "      <td>['1968-1972 Buick Riviera', '1968-1972 Buick Skylark', '1968-1972 Chevrolet Chevelle', '1965-1969 Chevrolet Corvair', '1968-1972 Chevrolet El Camino', '1970-1972 Chevrolet Monte Carlo', '1968-1972 Oldsmobile Cutlass', '1969-1972 Pontiac Grand Prix', '1968-1972 Pontiac GTO', '1968-1972 Pontiac LeMans', '1968-1970 Pontiac Tempest']</td>\n",
       "      <td>MSRP: $14.49</td>\n",
       "    </tr>\n",
       "    <tr>\n",
       "      <th>174</th>\n",
       "      <td>GROMMET, FIREWALL, 1968-72 BUICK/CHEV/PONT/OLDS W/ AC, 2-1/4\"</td>\n",
       "      <td>Firewall/Cowl</td>\n",
       "      <td>Injection-molded rubber</td>\n",
       "      <td>NaN</td>\n",
       "      <td>0.2 lbs</td>\n",
       "      <td>2.5 in</td>\n",
       "      <td>2.5 in</td>\n",
       "      <td>0.5 in</td>\n",
       "      <td>['1968-1972 Buick Riviera', '1968-1972 Buick Skylark', '1968-1972 Chevrolet Chevelle', '1968-1972 Chevrolet El Camino', '1970-1972 Chevrolet Monte Carlo', '1968-1972 Oldsmobile Cutlass', '1969-1972 Pontiac Grand Prix', '1968-1972 Pontiac GTO', '1968-1972 Pontiac LeMans', '1968-1970 Pontiac Tempest']</td>\n",
       "      <td>MSRP: $7.99</td>\n",
       "    </tr>\n",
       "    <tr>\n",
       "      <th>198</th>\n",
       "      <td>GROMMET, FIREWALL, 1968-72 A-BODY, SINGLE HOLE, 1-3/4\" DIA.</td>\n",
       "      <td>Firewall/Cowl</td>\n",
       "      <td>Injection-molded rubber</td>\n",
       "      <td>NaN</td>\n",
       "      <td>0.1 lbs</td>\n",
       "      <td>2.0 in</td>\n",
       "      <td>2.0 in</td>\n",
       "      <td>0.5 in</td>\n",
       "      <td>['1968-1972 Buick Skylark', '1968-1972 Chevrolet Chevelle', '1968-1972 Chevrolet El Camino', '1970-1972 Chevrolet Monte Carlo', '1968-1972 Oldsmobile Cutlass', '1969-1972 Pontiac Grand Prix', '1968-1972 Pontiac GTO', '1968-1972 Pontiac LeMans', '1968-1970 Pontiac Tempest']</td>\n",
       "      <td>MSRP: $17.49</td>\n",
       "    </tr>\n",
       "    <tr>\n",
       "      <th>413</th>\n",
       "      <td>HOOD ADJUST BUMPER, 1978-88 G-BODY, PAIR</td>\n",
       "      <td>Hood</td>\n",
       "      <td>Injection-molded rubber</td>\n",
       "      <td>Black</td>\n",
       "      <td>0.0 lbs</td>\n",
       "      <td>1.0 in</td>\n",
       "      <td>1.0 in</td>\n",
       "      <td>1.0 in</td>\n",
       "      <td>['1982 Buick Grand National', '1984-1987 Buick Grand National', '1978-1987 Buick Regal', '1983-1987 Buick T-Type', '1978-1987 Chevrolet El Camino', '1978-1983 Chevrolet Malibu', '1978-1988 Chevrolet Monte Carlo', '1978-1987 GMC Caballero', '1978-1988 Oldsmobile Cutlass', '1982-1986 Pontiac Bonneville', '1978-1987 Pontiac Grand Prix']</td>\n",
       "      <td>MSRP: $9.99</td>\n",
       "    </tr>\n",
       "  </tbody>\n",
       "</table>\n",
       "</div>"
      ],
      "text/plain": [
       "                                                              Name  \\\n",
       "90                           GROMMET, FIREWALL, 1968-72 GM, 1 HOLE   \n",
       "148               GROMMET, FIREWALL, 1968-72 A-BODY/RIV/GP, 3-HOLE   \n",
       "174  GROMMET, FIREWALL, 1968-72 BUICK/CHEV/PONT/OLDS W/ AC, 2-1/4\"   \n",
       "198    GROMMET, FIREWALL, 1968-72 A-BODY, SINGLE HOLE, 1-3/4\" DIA.   \n",
       "413                       HOOD ADJUST BUMPER, 1978-88 G-BODY, PAIR   \n",
       "\n",
       "      Product_type              Composition Finish   Weight  Length   Width  \\\n",
       "90   Firewall/Cowl  Injection-molded rubber    NaN  0.1 lbs  1.0 in  1.0 in   \n",
       "148  Firewall/Cowl  Injection-molded rubber    NaN  0.5 lbs  1.8 in  1.8 in   \n",
       "174  Firewall/Cowl  Injection-molded rubber    NaN  0.2 lbs  2.5 in  2.5 in   \n",
       "198  Firewall/Cowl  Injection-molded rubber    NaN  0.1 lbs  2.0 in  2.0 in   \n",
       "413           Hood  Injection-molded rubber  Black  0.0 lbs  1.0 in  1.0 in   \n",
       "\n",
       "     Height  \\\n",
       "90   0.2 in   \n",
       "148  1.0 in   \n",
       "174  0.5 in   \n",
       "198  0.5 in   \n",
       "413  1.0 in   \n",
       "\n",
       "                                                                                                                                                                                                                                                                                                                                              Models  \\\n",
       "90       ['1968-1972 Buick Riviera', '1968-1972 Buick Skylark', '1968-1972 Chevrolet Chevelle', '1965-1969 Chevrolet Corvair', '1968-1972 Chevrolet El Camino', '1970-1972 Chevrolet Monte Carlo', '1968-1972 Oldsmobile Cutlass', '1969-1972 Pontiac Grand Prix', '1968-1972 Pontiac GTO', '1968-1972 Pontiac LeMans', '1968-1970 Pontiac Tempest']   \n",
       "148      ['1968-1972 Buick Riviera', '1968-1972 Buick Skylark', '1968-1972 Chevrolet Chevelle', '1965-1969 Chevrolet Corvair', '1968-1972 Chevrolet El Camino', '1970-1972 Chevrolet Monte Carlo', '1968-1972 Oldsmobile Cutlass', '1969-1972 Pontiac Grand Prix', '1968-1972 Pontiac GTO', '1968-1972 Pontiac LeMans', '1968-1970 Pontiac Tempest']   \n",
       "174                                     ['1968-1972 Buick Riviera', '1968-1972 Buick Skylark', '1968-1972 Chevrolet Chevelle', '1968-1972 Chevrolet El Camino', '1970-1972 Chevrolet Monte Carlo', '1968-1972 Oldsmobile Cutlass', '1969-1972 Pontiac Grand Prix', '1968-1972 Pontiac GTO', '1968-1972 Pontiac LeMans', '1968-1970 Pontiac Tempest']   \n",
       "198                                                                ['1968-1972 Buick Skylark', '1968-1972 Chevrolet Chevelle', '1968-1972 Chevrolet El Camino', '1970-1972 Chevrolet Monte Carlo', '1968-1972 Oldsmobile Cutlass', '1969-1972 Pontiac Grand Prix', '1968-1972 Pontiac GTO', '1968-1972 Pontiac LeMans', '1968-1970 Pontiac Tempest']   \n",
       "413  ['1982 Buick Grand National', '1984-1987 Buick Grand National', '1978-1987 Buick Regal', '1983-1987 Buick T-Type', '1978-1987 Chevrolet El Camino', '1978-1983 Chevrolet Malibu', '1978-1988 Chevrolet Monte Carlo', '1978-1987 GMC Caballero', '1978-1988 Oldsmobile Cutlass', '1982-1986 Pontiac Bonneville', '1978-1987 Pontiac Grand Prix']   \n",
       "\n",
       "            Price  \n",
       "90    MSRP: $9.99  \n",
       "148  MSRP: $14.49  \n",
       "174   MSRP: $7.99  \n",
       "198  MSRP: $17.49  \n",
       "413   MSRP: $9.99  "
      ]
     },
     "execution_count": 15,
     "metadata": {},
     "output_type": "execute_result"
    }
   ],
   "source": [
    "composition_search = db.loc[db['Composition'] == 'Injection-molded rubber']\n",
    "composition_search\n"
   ]
  },
  {
   "cell_type": "code",
   "execution_count": 16,
   "id": "03d0ada5-dac0-41f5-b032-b906dc0e609f",
   "metadata": {},
   "outputs": [
    {
     "data": {
      "text/plain": [
       "Name                                                                              SOLENOID, COWL INDUCTION SYSTEM, 1970-72 CHEVELLE/EL CAMINO\n",
       "Product_type                                                                                                                  Hood Components\n",
       "Composition                                                                                                                  Plastic/Aluminum\n",
       "Finish                                                                                                                                    NaN\n",
       "Weight                                                                                                                                0.4 lbs\n",
       "Length                                                                                                                                 3.5 in\n",
       "Width                                                                                                                                  2.7 in\n",
       "Height                                                                                                                                 2.7 in\n",
       "Models          ['1969 Chevrolet Camaro', '1970-1972 Chevrolet Chevelle', '1970-1972 Chevrolet El Camino', '1970-1972 Chevrolet Monte Carlo']\n",
       "Price                                                                                                                            MSRP: $42.99\n",
       "Name: 56, dtype: object"
      ]
     },
     "execution_count": 16,
     "metadata": {},
     "output_type": "execute_result"
    }
   ],
   "source": [
    "db.iloc[56]\n"
   ]
  },
  {
   "cell_type": "markdown",
   "id": "8bdb4dbc-47fa-4968-b7c8-a63d56473d22",
   "metadata": {},
   "source": [
    "### 3.7. Finish feature\n",
    "<a id='3.7'>"
   ]
  },
  {
   "cell_type": "code",
   "execution_count": 17,
   "id": "01daf18f-5b85-4039-8d2b-863ab5cf738a",
   "metadata": {},
   "outputs": [
    {
     "name": "stdout",
     "output_type": "stream",
     "text": [
      "['Natural', 'Black', 'Zinc coated', nan, 'Polished', 'Included', 'Black Oxide', 'Rubber backed', 'Galvanized', 'EDP coated', 'Chrome-Plated', 'Black oxide', 'Plastic sleeves', 'EDP Coating', 'Black Coating', 'EDP Coated', 'Black Paint', 'Rubber', 'Metal', 'Plastic', 'EDP', 'EDP or Zinc coated', 'Textured', 'Primer finish', 'EDP-coated', 'EDP-coated black', 'Primer', 'Zinc Plated', 'Complete with hardware', 'Black or Chrome', 'EDP-Coated', 'Natural/EDP Coating', 'Weld-through primer', 'Black enamel', 'Chrome/EDP Coating', 'Chrome']\n"
     ]
    }
   ],
   "source": [
    "unique_finish = db['Finish'].unique().tolist()\n",
    "print(unique_finish)"
   ]
  },
  {
   "cell_type": "markdown",
   "id": "84969955-5587-400b-8631-9efaf903440d",
   "metadata": {},
   "source": [
    "<span style='color:blue'> \n",
    "\n",
    "**EDP coated** AND **EDP** AND **EDP Coating** AND **EDP-Coated** AND **EDP Coated** --> **EDP coated** (remove capital letters, maintain only acronyms as EDP and remove hyphens)\n",
    "\n",
    "**Primer finish** AND **Primer** --> **Primer finish**"
   ]
  },
  {
   "cell_type": "code",
   "execution_count": 18,
   "id": "185cd049-b49b-431f-9cae-7cc4b4013b0f",
   "metadata": {},
   "outputs": [
    {
     "data": {
      "text/html": [
       "<div>\n",
       "<style scoped>\n",
       "    .dataframe tbody tr th:only-of-type {\n",
       "        vertical-align: middle;\n",
       "    }\n",
       "\n",
       "    .dataframe tbody tr th {\n",
       "        vertical-align: top;\n",
       "    }\n",
       "\n",
       "    .dataframe thead th {\n",
       "        text-align: right;\n",
       "    }\n",
       "</style>\n",
       "<table border=\"1\" class=\"dataframe\">\n",
       "  <thead>\n",
       "    <tr style=\"text-align: right;\">\n",
       "      <th></th>\n",
       "      <th>Name</th>\n",
       "      <th>Product_type</th>\n",
       "      <th>Composition</th>\n",
       "      <th>Finish</th>\n",
       "      <th>Weight</th>\n",
       "      <th>Length</th>\n",
       "      <th>Width</th>\n",
       "      <th>Height</th>\n",
       "      <th>Models</th>\n",
       "      <th>Price</th>\n",
       "    </tr>\n",
       "  </thead>\n",
       "  <tbody>\n",
       "    <tr>\n",
       "      <th>16</th>\n",
       "      <td>HARDWARE, INNER FENDER, 1964-72 CHEV/EL CAM/MONTE/GTO/ LEM/TEMP</td>\n",
       "      <td>Hardware, Fasteners and Fittings</td>\n",
       "      <td>Steel</td>\n",
       "      <td>EDP coated</td>\n",
       "      <td>1.4 lbs</td>\n",
       "      <td>4.7 in</td>\n",
       "      <td>3.4 in</td>\n",
       "      <td>1.7 in</td>\n",
       "      <td>['1964-1972 Chevrolet Chevelle', '1964-1972 Chevrolet El Camino', '1970-1972 Chevrolet Monte Carlo', '1964-1972 Pontiac GTO', '1964-1972 Pontiac LeMans', '1964-1970 Pontiac Tempest']</td>\n",
       "      <td>MSRP: $26.99</td>\n",
       "    </tr>\n",
       "    <tr>\n",
       "      <th>43</th>\n",
       "      <td>INNER FENDERWELL, 1968-72 CHEVELLE/EL CAMINO</td>\n",
       "      <td>Fenders</td>\n",
       "      <td>Stamped Steel</td>\n",
       "      <td>EDP coated</td>\n",
       "      <td>10.1 lbs</td>\n",
       "      <td>45.0 in</td>\n",
       "      <td>21.0 in</td>\n",
       "      <td>21.0 in</td>\n",
       "      <td>['1968-1972 Chevrolet Chevelle', '1968-1972 Chevrolet El Camino']</td>\n",
       "      <td>MSRP: $143.99</td>\n",
       "    </tr>\n",
       "    <tr>\n",
       "      <th>46</th>\n",
       "      <td>1970-72 MONTE CARLO FENDER</td>\n",
       "      <td>Fenders</td>\n",
       "      <td>Steel</td>\n",
       "      <td>EDP coated</td>\n",
       "      <td>41.0 lbs</td>\n",
       "      <td>70.0 in</td>\n",
       "      <td>29.0 in</td>\n",
       "      <td>17.0 in</td>\n",
       "      <td>['1970-1972 Chevrolet Monte Carlo']</td>\n",
       "      <td>MSRP: $498.99</td>\n",
       "    </tr>\n",
       "    <tr>\n",
       "      <th>51</th>\n",
       "      <td>INNER FENDERWELLS, 1968-72 CHEVELLE/EL CAMINO, PAIR</td>\n",
       "      <td>Fenders</td>\n",
       "      <td>Stamped Steel</td>\n",
       "      <td>EDP coated</td>\n",
       "      <td>20.2 lbs</td>\n",
       "      <td>45.0 in</td>\n",
       "      <td>21.0 in</td>\n",
       "      <td>21.0 in</td>\n",
       "      <td>['1968-1972 Chevrolet Chevelle', '1968-1972 Chevrolet El Camino']</td>\n",
       "      <td>MSRP: $287.99</td>\n",
       "    </tr>\n",
       "    <tr>\n",
       "      <th>55</th>\n",
       "      <td>PATCH PANEL, 68-9 CHEVELLE, 68-72 EL CAM FRONT FENDER (BEHIND WHEEL WELL)</td>\n",
       "      <td>Fenders</td>\n",
       "      <td>Steel</td>\n",
       "      <td>EDP coated</td>\n",
       "      <td>1.5 lbs</td>\n",
       "      <td>15.0 in</td>\n",
       "      <td>11.0 in</td>\n",
       "      <td>5.0 in</td>\n",
       "      <td>['1968-1969 Chevrolet Chevelle', '1968-1972 Chevrolet El Camino']</td>\n",
       "      <td>MSRP: $59.99</td>\n",
       "    </tr>\n",
       "    <tr>\n",
       "      <th>...</th>\n",
       "      <td>...</td>\n",
       "      <td>...</td>\n",
       "      <td>...</td>\n",
       "      <td>...</td>\n",
       "      <td>...</td>\n",
       "      <td>...</td>\n",
       "      <td>...</td>\n",
       "      <td>...</td>\n",
       "      <td>...</td>\n",
       "      <td>...</td>\n",
       "    </tr>\n",
       "    <tr>\n",
       "      <th>793</th>\n",
       "      <td>DOOR SHELLS, 1978-85 EL CAMINO/MALIBU, PAIR</td>\n",
       "      <td>Doors</td>\n",
       "      <td>Steel</td>\n",
       "      <td>EDP coated</td>\n",
       "      <td>80.0 lbs</td>\n",
       "      <td>61.3 in</td>\n",
       "      <td>30.0 in</td>\n",
       "      <td>9.3 in</td>\n",
       "      <td>['1978-1985 Chevrolet El Camino', '1978-1983 Chevrolet Malibu', '1978-1985 GMC Caballero']</td>\n",
       "      <td>MSRP: $1,017.99</td>\n",
       "    </tr>\n",
       "    <tr>\n",
       "      <th>796</th>\n",
       "      <td>FENDER, 1965 GTO/TEMPEST/LEMANS, PAIR</td>\n",
       "      <td>Fenders</td>\n",
       "      <td>Steel</td>\n",
       "      <td>EDP coated</td>\n",
       "      <td>26.0 lbs</td>\n",
       "      <td>62.0 in</td>\n",
       "      <td>29.0 in</td>\n",
       "      <td>14.0 in</td>\n",
       "      <td>['1965 Pontiac GTO', '1965 Pontiac LeMans', '1965 Pontiac Tempest']</td>\n",
       "      <td>MSRP: $899.99</td>\n",
       "    </tr>\n",
       "    <tr>\n",
       "      <th>798</th>\n",
       "      <td>FLOOR PAN, COMPLETE, 1968-69 EL CAMINO, W/O ROCKERS OR BRACES</td>\n",
       "      <td>Floor Pans</td>\n",
       "      <td>Steel</td>\n",
       "      <td>EDP coated</td>\n",
       "      <td>70.0 lbs</td>\n",
       "      <td>61.0 in</td>\n",
       "      <td>55.0 in</td>\n",
       "      <td>8.0 in</td>\n",
       "      <td>['1968-1969 Chevrolet El Camino']</td>\n",
       "      <td>MSRP: $789.99</td>\n",
       "    </tr>\n",
       "    <tr>\n",
       "      <th>802</th>\n",
       "      <td>DOOR SHELLS, 1968 CHEVELLE, PAIR</td>\n",
       "      <td>Doors</td>\n",
       "      <td>Steel</td>\n",
       "      <td>EDP coated</td>\n",
       "      <td>50.0 lbs</td>\n",
       "      <td>0.0 in</td>\n",
       "      <td>0.0 in</td>\n",
       "      <td>0.0 in</td>\n",
       "      <td>['1968 Chevrolet Chevelle']</td>\n",
       "      <td>MSRP: $729.99</td>\n",
       "    </tr>\n",
       "    <tr>\n",
       "      <th>803</th>\n",
       "      <td>1970-72 MONTE CARLO FRONT FENDERS, PAIR</td>\n",
       "      <td>Fenders</td>\n",
       "      <td>Steel</td>\n",
       "      <td>EDP coated</td>\n",
       "      <td>62.0 lbs</td>\n",
       "      <td>65.0 in</td>\n",
       "      <td>60.0 in</td>\n",
       "      <td>14.0 in</td>\n",
       "      <td>['1970-1972 Chevrolet Monte Carlo']</td>\n",
       "      <td>MSRP: $997.99</td>\n",
       "    </tr>\n",
       "  </tbody>\n",
       "</table>\n",
       "<p>358 rows × 10 columns</p>\n",
       "</div>"
      ],
      "text/plain": [
       "                                                                          Name  \\\n",
       "16             HARDWARE, INNER FENDER, 1964-72 CHEV/EL CAM/MONTE/GTO/ LEM/TEMP   \n",
       "43                                INNER FENDERWELL, 1968-72 CHEVELLE/EL CAMINO   \n",
       "46                                                  1970-72 MONTE CARLO FENDER   \n",
       "51                         INNER FENDERWELLS, 1968-72 CHEVELLE/EL CAMINO, PAIR   \n",
       "55   PATCH PANEL, 68-9 CHEVELLE, 68-72 EL CAM FRONT FENDER (BEHIND WHEEL WELL)   \n",
       "..                                                                         ...   \n",
       "793                                DOOR SHELLS, 1978-85 EL CAMINO/MALIBU, PAIR   \n",
       "796                                      FENDER, 1965 GTO/TEMPEST/LEMANS, PAIR   \n",
       "798              FLOOR PAN, COMPLETE, 1968-69 EL CAMINO, W/O ROCKERS OR BRACES   \n",
       "802                                           DOOR SHELLS, 1968 CHEVELLE, PAIR   \n",
       "803                                    1970-72 MONTE CARLO FRONT FENDERS, PAIR   \n",
       "\n",
       "                         Product_type    Composition      Finish    Weight  \\\n",
       "16   Hardware, Fasteners and Fittings          Steel  EDP coated   1.4 lbs   \n",
       "43                            Fenders  Stamped Steel  EDP coated  10.1 lbs   \n",
       "46                            Fenders          Steel  EDP coated  41.0 lbs   \n",
       "51                            Fenders  Stamped Steel  EDP coated  20.2 lbs   \n",
       "55                            Fenders          Steel  EDP coated   1.5 lbs   \n",
       "..                                ...            ...         ...       ...   \n",
       "793                             Doors          Steel  EDP coated  80.0 lbs   \n",
       "796                           Fenders          Steel  EDP coated  26.0 lbs   \n",
       "798                        Floor Pans          Steel  EDP coated  70.0 lbs   \n",
       "802                             Doors          Steel  EDP coated  50.0 lbs   \n",
       "803                           Fenders          Steel  EDP coated  62.0 lbs   \n",
       "\n",
       "      Length    Width   Height  \\\n",
       "16    4.7 in   3.4 in   1.7 in   \n",
       "43   45.0 in  21.0 in  21.0 in   \n",
       "46   70.0 in  29.0 in  17.0 in   \n",
       "51   45.0 in  21.0 in  21.0 in   \n",
       "55   15.0 in  11.0 in   5.0 in   \n",
       "..       ...      ...      ...   \n",
       "793  61.3 in  30.0 in   9.3 in   \n",
       "796  62.0 in  29.0 in  14.0 in   \n",
       "798  61.0 in  55.0 in   8.0 in   \n",
       "802   0.0 in   0.0 in   0.0 in   \n",
       "803  65.0 in  60.0 in  14.0 in   \n",
       "\n",
       "                                                                                                                                                                                     Models  \\\n",
       "16   ['1964-1972 Chevrolet Chevelle', '1964-1972 Chevrolet El Camino', '1970-1972 Chevrolet Monte Carlo', '1964-1972 Pontiac GTO', '1964-1972 Pontiac LeMans', '1964-1970 Pontiac Tempest']   \n",
       "43                                                                                                                        ['1968-1972 Chevrolet Chevelle', '1968-1972 Chevrolet El Camino']   \n",
       "46                                                                                                                                                      ['1970-1972 Chevrolet Monte Carlo']   \n",
       "51                                                                                                                        ['1968-1972 Chevrolet Chevelle', '1968-1972 Chevrolet El Camino']   \n",
       "55                                                                                                                        ['1968-1969 Chevrolet Chevelle', '1968-1972 Chevrolet El Camino']   \n",
       "..                                                                                                                                                                                      ...   \n",
       "793                                                                                              ['1978-1985 Chevrolet El Camino', '1978-1983 Chevrolet Malibu', '1978-1985 GMC Caballero']   \n",
       "796                                                                                                                     ['1965 Pontiac GTO', '1965 Pontiac LeMans', '1965 Pontiac Tempest']   \n",
       "798                                                                                                                                                       ['1968-1969 Chevrolet El Camino']   \n",
       "802                                                                                                                                                             ['1968 Chevrolet Chevelle']   \n",
       "803                                                                                                                                                     ['1970-1972 Chevrolet Monte Carlo']   \n",
       "\n",
       "               Price  \n",
       "16      MSRP: $26.99  \n",
       "43     MSRP: $143.99  \n",
       "46     MSRP: $498.99  \n",
       "51     MSRP: $287.99  \n",
       "55      MSRP: $59.99  \n",
       "..               ...  \n",
       "793  MSRP: $1,017.99  \n",
       "796    MSRP: $899.99  \n",
       "798    MSRP: $789.99  \n",
       "802    MSRP: $729.99  \n",
       "803    MSRP: $997.99  \n",
       "\n",
       "[358 rows x 10 columns]"
      ]
     },
     "execution_count": 18,
     "metadata": {},
     "output_type": "execute_result"
    }
   ],
   "source": [
    "finish_search = db.loc[db['Finish'] == 'EDP coated']\n",
    "finish_search"
   ]
  },
  {
   "cell_type": "markdown",
   "id": "892b9cd6-4403-4727-a09c-5332180c961e",
   "metadata": {},
   "source": [
    "### 3.8. Dimensions feature\n",
    "<a id='3.8'>"
   ]
  },
  {
   "cell_type": "code",
   "execution_count": 19,
   "id": "5c54293c-8a65-47b3-9be5-ee83b0ea0c34",
   "metadata": {},
   "outputs": [
    {
     "data": {
      "text/plain": [
       "count         804\n",
       "unique        196\n",
       "top       4.5 lbs\n",
       "freq           27\n",
       "Name: Weight, dtype: object"
      ]
     },
     "execution_count": 19,
     "metadata": {},
     "output_type": "execute_result"
    }
   ],
   "source": [
    "db['Weight'].describe()"
   ]
  },
  {
   "cell_type": "markdown",
   "id": "37ea5cad-2992-4710-96ce-7d44489df856",
   "metadata": {},
   "source": [
    "### 3.9. Model feature\n",
    "<a id='3.9'>"
   ]
  },
  {
   "cell_type": "code",
   "execution_count": 20,
   "id": "a3798820-633c-48b5-a94a-208d5462d9e1",
   "metadata": {},
   "outputs": [
    {
     "data": {
      "text/plain": [
       "222"
      ]
     },
     "execution_count": 20,
     "metadata": {},
     "output_type": "execute_result"
    }
   ],
   "source": [
    "unique_models = db['Models'].unique().tolist()\n",
    "len(unique_models)"
   ]
  },
  {
   "cell_type": "markdown",
   "id": "35e8cca3-5d18-4bf7-a0de-d9cb162c8208",
   "metadata": {},
   "source": [
    "### 3.10. Price feature\n",
    "<a id='3.10'>"
   ]
  },
  {
   "cell_type": "code",
   "execution_count": 21,
   "id": "bb69ed37-b8a7-4dfb-9d00-8856f66c53c7",
   "metadata": {},
   "outputs": [
    {
     "name": "stdout",
     "output_type": "stream",
     "text": [
      "['MSRP: $6.99', 'MSRP: $26.99', 'MSRP: $14.99', 'MSRP: $36.99', 'MSRP: $12.99', 'MSRP: $8.99', 'MSRP: $17.99', 'MSRP: $7.49', 'MSRP: $52.99', 'MSRP: $49.99', 'MSRP: $74.99', 'MSRP: $0.99', 'MSRP: $9.99', 'MSRP: $39.99', 'MSRP: $69.99', 'MSRP: $16.99', 'MSRP: $79.99', 'MSRP: $32.99', 'MSRP: $11.99', 'MSRP: $24.99', 'MSRP: $19.99', 'MSRP: $89.99', 'MSRP: $109.99', 'MSRP: $10.99', 'MSRP: $46.99', 'MSRP: $159.99', 'MSRP: $143.99', 'MSRP: $126.99', 'MSRP: $58.99', 'MSRP: $498.99', 'MSRP: $149.99', 'MSRP: $124.99', 'MSRP: $392.99', 'MSRP: $287.99', 'MSRP: $8.49', 'MSRP: $29.99', 'MSRP: $59.99', 'MSRP: $42.99', 'MSRP: $13.99', 'MSRP: $65.99', 'MSRP: $5.39', 'MSRP: $332.99', 'MSRP: $13.69', 'MSRP: $64.99', 'MSRP: $48.99', 'MSRP: $86.99', 'MSRP: $117.99', 'MSRP: $62.99', 'MSRP: $479.99', 'MSRP: $3.99', 'MSRP: $119.99', 'MSRP: $299.99', 'MSRP: $45.99', 'MSRP: $432.99', 'MSRP: $428.99', 'MSRP: $449.99', 'MSRP: $399.99', 'MSRP: $199.99', 'MSRP: $178.99', 'MSRP: $129.99', 'MSRP: $112.99', 'MSRP: $459.99', 'MSRP: $379.99', 'MSRP: $78.99', 'MSRP: $549.99', 'MSRP: $83.99', 'MSRP: $56.99', 'MSRP: $269.99', 'MSRP: $229.99', 'MSRP: $162.99', 'MSRP: $499.99', 'MSRP: $4.99', 'MSRP: $239.99', 'MSRP: $28.99', 'MSRP: $94.99', 'MSRP: $115.99', 'MSRP: $262.99', 'MSRP: $169.99', 'MSRP: $99.99', 'MSRP: $245.99', 'MSRP: $339.99', 'MSRP: $14.49', 'MSRP: $179.99', 'MSRP: $168.99', 'MSRP: $114.99', 'MSRP: $424.99', 'MSRP: $189.99', 'MSRP: $423.99', 'MSRP: $569.99', 'MSRP: $68.99', 'MSRP: $54.99', 'MSRP: $106.99', 'MSRP: $448.99', 'MSRP: $403.99', 'MSRP: $7.99', 'MSRP: $279.99', 'MSRP: $394.99', 'MSRP: $349.99', 'MSRP: $34.99', 'MSRP: $224.99', 'MSRP: $274.99', 'MSRP: $25.99', 'MSRP: $236.99', 'MSRP: $43.99', 'MSRP: $226.99', 'MSRP: $164.99', 'MSRP: $438.99', 'MSRP: $17.49', 'MSRP: $309.99', 'MSRP: $139.99', 'MSRP: $219.99', 'MSRP: $508.99', 'MSRP: $113.99', 'MSRP: $63.99', 'MSRP: $104.99', 'MSRP: $73.99', 'MSRP: $589.99', 'MSRP: $75.99', 'MSRP: $5.99', 'MSRP: $389.99', 'MSRP: $232.99', 'MSRP: $154.99', 'MSRP: $363.99', 'MSRP: $368.99', 'MSRP: $249.99', 'MSRP: $116.99', 'MSRP: $365.99', 'MSRP: $342.99', 'MSRP: $209.99', 'MSRP: $408.99', 'MSRP: $148.99', 'MSRP: $213.99', 'MSRP: $158.99', 'MSRP: $469.99', 'MSRP: $67.99', 'MSRP: $302.99', 'MSRP: $196.99', 'MSRP: $346.99', 'MSRP: $442.99', 'MSRP: $273.99', 'MSRP: $303.99', 'MSRP: $135.99', 'MSRP: $288.99', 'MSRP: $53.99', 'MSRP: $419.99', 'MSRP: $145.99', 'MSRP: $243.99', 'MSRP: $72.99', 'MSRP: $128.99', 'MSRP: $421.99', 'MSRP: $146.99', 'MSRP: $192.99', 'MSRP: $298.99', 'MSRP: $248.99', 'MSRP: $626.99', 'MSRP: $252.99', 'MSRP: $359.99', 'MSRP: $121.99', 'MSRP: $619.99', 'MSRP: $445.99', 'MSRP: $227.99', 'MSRP: $599.99', 'MSRP: $289.99', 'MSRP: $255.99', 'MSRP: $127.99', 'MSRP: $202.99', 'MSRP: $142.99', 'MSRP: $328.99', 'MSRP: $369.99', 'MSRP: $123.99', 'MSRP: $319.99', 'MSRP: $223.99', 'MSRP: $35.99', 'MSRP: $136.99', 'MSRP: $606.99', 'MSRP: $492.99', 'MSRP: $505.99', 'MSRP: $82.99', 'MSRP: $639.99', 'MSRP: $27.99', 'MSRP: $276.99', 'MSRP: $275.99', 'MSRP: $228.99', 'MSRP: $218.99', 'MSRP: $489.99', 'MSRP: $785.99', 'MSRP: $329.99', 'MSRP: $456.99', 'MSRP: $21.99', 'MSRP: $446.99', 'MSRP: $38.99', 'MSRP: $132.99', 'MSRP: $108.99', 'MSRP: $951.99', 'MSRP: $76.99', 'MSRP: $153.99', 'MSRP: $125.99', 'MSRP: $414.99', 'MSRP: $638.99', 'MSRP: $605.99', 'MSRP: $225.99', 'MSRP: $693.99', 'MSRP: $165.99', 'MSRP: $879.99', 'MSRP: $293.99', 'MSRP: $673.99', 'MSRP: $323.99', 'MSRP: $185.99', 'MSRP: $753.99', 'MSRP: $716.99', 'MSRP: $799.99', 'MSRP: $156.99', 'MSRP: $779.99', 'MSRP: $15.99', 'MSRP: $314.99', 'MSRP: $93.99', 'MSRP: $167.99', 'MSRP: $95.99', 'MSRP: $174.99', 'MSRP: $256.99', 'MSRP: $453.99', 'MSRP: $92.99', 'MSRP: $181.99', 'MSRP: $869.99', 'MSRP: $371.99', 'MSRP: $134.99', 'MSRP: $194.99', 'MSRP: $212.99', 'MSRP: $364.99', 'MSRP: $88.99', 'MSRP: $679.99', 'MSRP: $313.99', 'MSRP: $475.99', 'MSRP: $264.99', 'MSRP: $491.99', 'MSRP: $439.99', 'MSRP: $659.99', 'MSRP: $37.99', 'MSRP: $91.99', 'MSRP: $388.99', 'MSRP: $98.99', 'MSRP: $107.99', 'MSRP: $198.99', 'MSRP: $357.99', 'MSRP: $157.99', 'MSRP: $317.99', 'MSRP: $312.99', 'MSRP: $253.99', 'MSRP: $759.99', 'MSRP: $579.99', 'MSRP: $297.99', 'MSRP: $857.99', 'MSRP: $151.99', 'MSRP: $292.99', 'MSRP: $997.99', 'MSRP: $559.99', 'MSRP: $817.99', 'MSRP: $839.99', 'MSRP: $268.99', 'MSRP: $465.99', 'MSRP: $482.99', 'MSRP: $519.99', 'MSRP: $184.99', 'MSRP: $325.99', 'MSRP: $137.99', 'MSRP: $398.99', 'MSRP: $327.99', 'MSRP: $529.99', 'MSRP: $537.99', 'MSRP: $457.99', 'MSRP: $1,099.99', 'MSRP: $665.99', 'MSRP: $919.99', 'MSRP: $899.99', 'MSRP: $553.99', 'MSRP: $999.99', 'MSRP: $291.99', 'MSRP: $913.99', 'MSRP: $685.99', 'MSRP: $163.99', 'MSRP: $789.99', 'MSRP: $885.99', 'MSRP: $657.99', 'MSRP: $51.99', 'MSRP: $865.99', 'MSRP: $807.99', 'MSRP: $959.99', 'MSRP: $847.99', 'MSRP: $1,017.99', 'MSRP: $173.99', 'MSRP: $729.99']\n"
     ]
    }
   ],
   "source": [
    "unique_price = db['Price'].unique().tolist()\n",
    "print(unique_price)"
   ]
  },
  {
   "cell_type": "markdown",
   "id": "bc474dc3-247b-4fe8-81c1-2bee9d98ae78",
   "metadata": {},
   "source": [
    "## 4. Data cleaning\n",
    "<a id='4'>"
   ]
  },
  {
   "cell_type": "markdown",
   "id": "ad274b2b-cabd-4ebb-94ea-36980696aded",
   "metadata": {},
   "source": [
    "### 4.1. Standardization of formats\n",
    "<a id='4.1'>"
   ]
  },
  {
   "cell_type": "code",
   "execution_count": 22,
   "id": "75326fe3-fc56-4756-81fe-e6c7c1bc47d6",
   "metadata": {},
   "outputs": [],
   "source": [
    "# All lowercase\n",
    "\n",
    "db['Product_type'] = db['Product_type'].str.lower()\n",
    "#db['Filter'] = db['Filter'].str.lower()\n",
    "db['Composition'] = db['Composition'].str.lower()\n",
    "db['Finish'] = db['Finish'].str.lower()"
   ]
  },
  {
   "cell_type": "code",
   "execution_count": 23,
   "id": "3e88555a-fd85-4d2f-a15b-fe15ace06ee0",
   "metadata": {},
   "outputs": [],
   "source": [
    "# Unique format for finish feature\n",
    "\n",
    "#EDP coated AND EDP AND EDP Coating AND EDP-Coated AND EDP Coated --> EDP coated (remove capital letters, maintain only acronyms as EDP)\n",
    "\n",
    "words = ['edp coated', 'edp', 'edp coating', 'edp-coated']\n",
    "\n",
    "db['Finish'] = db['Finish'].apply(lambda x: 'EDP coated' if x in words else x)\n",
    "        \n",
    "\n",
    "#Primer finish AND Primer --> Primer finish\n",
    "\n",
    "db['Finish'] = db['Finish'].apply(lambda x:'primer finish' if x == 'primer' else x)\n"
   ]
  },
  {
   "cell_type": "code",
   "execution_count": 24,
   "id": "dfb16704-e13b-4afd-91ff-0589a6adc11c",
   "metadata": {},
   "outputs": [
    {
     "name": "stdout",
     "output_type": "stream",
     "text": [
      "['natural', 'black', 'zinc coated', nan, 'polished', 'included', 'black oxide', 'rubber backed', 'galvanized', 'EDP coated', 'chrome-plated', 'plastic sleeves', 'black coating', 'black paint', 'rubber', 'metal', 'plastic', 'edp or zinc coated', 'textured', 'primer finish', 'edp-coated black', 'zinc plated', 'complete with hardware', 'black or chrome', 'natural/edp coating', 'weld-through primer', 'black enamel', 'chrome/edp coating', 'chrome']\n"
     ]
    }
   ],
   "source": [
    "unique_finish = db['Finish'].unique().tolist()\n",
    "print(unique_finish)"
   ]
  },
  {
   "cell_type": "markdown",
   "id": "3f84c4a3-99cd-4f7d-8d42-047ead86ecda",
   "metadata": {},
   "source": [
    "<span style='color:blue'> \n",
    "\n",
    "Rubber/Steel --> Composition 'Steel'\n",
    "\n",
    "Aluminum/Steel --> Composition 'Aluminum' (index 618 and 716), Composition 'Steel' (index 331 and 583)\n",
    "\n",
    "Metal/Rubber --> Composition 'Metal, Rubber' para brisas tem ambos\n",
    "\n",
    "Metal/Plastic --> Composition 'Metal, Plastic' sistema induçao de ar tem ambos\n",
    "\n",
    "Chrome or black --> remover index 47, it's a motor component, not a body component\n",
    "\n",
    "Plastic/Aluminum --> Composition 'Plastic, Aluminium' sistema induçao do capô"
   ]
  },
  {
   "cell_type": "code",
   "execution_count": 25,
   "id": "21f5e9c6-8fd6-4f87-ad42-3dd59abf728b",
   "metadata": {},
   "outputs": [],
   "source": [
    "# alter base on indices\n",
    "db.loc[[331,583], 'Composition'] = 'steel production chromium steel 18/8 hot rolled'\n",
    "db.loc[[307,355], 'Composition'] = 'steel production chromium steel 18/8 hot rolled'\n",
    "db.loc[[686], 'Composition'] = 'steel production converted' # bracket, hard steel\n",
    "db.loc[[618,716], 'Composition'] = 'sheet rolling aluminium'\n",
    "db.loc[[321], 'Composition'] = 'rubber production' # as rubber is the most common for gaskets\n",
    "db.loc[[17], 'Composition'] = 'zinc production' # as zinc is the most common for emblems in hoods\n",
    "db.loc[[65], 'Composition'] = 'polyamide' # most common for Flapper, Valve Frame\n",
    "db.loc[[93], 'Composition'] = 'polypropylene' # most common for Inner Fenderwells\n",
    "db.loc[[135], 'Composition'] = 'polyurethane production' # most common for Impact Strip\n",
    "db.loc[[341], 'Composition'] = 'acrylonitrile-butadiene-styrene' # vent ducts\n",
    "db.loc[[25], 'Composition'] = 'polyamide' \n",
    "db.loc[[56], 'Composition'] = 'polyamide, sheet rolling aluminium' \n",
    "db.loc[[208], 'Finish'] = 'electrostatic paint'\n",
    "db.loc[[421], 'Finish'] = 'chromium coat electroplating'\n",
    "db.loc[[601,626,638,759], 'Finish'] = 'chromium coat electroplating'\n",
    "db.loc[[545,596,644,735], 'Finish'] = 'acrylonitrile-butadiene-styrene'\n"
   ]
  },
  {
   "cell_type": "code",
   "execution_count": 26,
   "id": "ea20206d-67a4-4ac8-a29c-26a54c8d5a42",
   "metadata": {},
   "outputs": [],
   "source": [
    "#alter based on words of composition the finish column\n",
    "db.loc[db['Composition'] == 'edp-coated', 'Finish'] = 'electrostatic paint'\n",
    "db.loc[db['Composition'] == 'chrome or black', 'Finish'] = 'black chrome'\n",
    "db.loc[db['Composition'] == 'zinc coated', 'Finish'] = 'zinc coating pieces'\n",
    "db.loc[db['Composition'] == 'magnesium steel spring', 'Finish'] = 'zinc coating pieces'\n",
    "db.loc[db['Composition'] == 'chrome-plated', 'Finish'] = 'chromium coat electroplating'\n",
    "\n",
    "# Alter based on words\n",
    "db['Composition'] = db['Composition'].replace('die-cast zinc', 'zinc production')\n",
    "db['Composition'] = db['Composition'].replace('die stamped', 'rubber production')\n",
    "db['Composition'] = db['Composition'].replace('stamped steel', 'steel production chromium steel 18/8 hot rolled') # steel include stamp\n",
    "db['Composition'] = db['Composition'].replace('rubber/steel', 'steel production chromium steel 18/8 hot rolled')\n",
    "db['Composition'] = db['Composition'].replace('rubber', 'rubber production')\n",
    "db['Composition'] = db['Composition'].replace('aluminum', 'sheet rolling aluminium')\n",
    "db['Composition'] = db['Composition'].replace('zinc', 'zinc production')\n",
    "db['Composition'] = db['Composition'].replace('steel', 'steel production chromium steel 18/8 hot rolled')\n",
    "db['Composition'] = db['Composition'].replace('braided steel', 'reinforcing steel')\n",
    "db['Composition'] = db['Composition'].replace('metal/rubber', 'steel production chromium steel 18/8 hot rolled, rubber production')\n",
    "db['Composition'] = db['Composition'].replace('extruded plastic', 'polypropylene') # firewall wire\n",
    "db['Composition'] = db['Composition'].replace('edp-coated black', 'steel production chromium steel 18/8 hot rolled')\n",
    "db['Composition'] = db['Composition'].replace('die stamped rubber', 'rubber production')\n",
    "db['Composition'] = db['Composition'].replace('metal', 'steel production chromium steel 18/8 hot rolled') # as this is the most general metal used in classic car body parts\n",
    "db['Composition'] = db['Composition'].replace('die-cut jute', 'jute production')\n",
    "db['Composition'] = db['Composition'].replace('edp-coated', 'steel production chromium steel 18/8 hot rolled') # as this is the most general metal used in classic car body parts and didnt have any material for hood hinge (dobradiça capo)\n",
    "db['Composition'] = db['Composition'].replace('abs plastic', 'acrylonitrile-butadiene-styrene')\n",
    "db['Composition'] = db['Composition'].replace('diecast metal', 'steel production chromium steel 18/8 hot rolled')\n",
    "db['Composition'] = db['Composition'].replace('chrome or black', 'sheet rolling aluminium') # classic car air cleaner most general\n",
    "db['Composition'] = db['Composition'].replace('zinc coated', 'steel production chromium steel 18/8 hot rolled') # hood catch (tranca capo)\n",
    "db['Composition'] = db['Composition'].replace('magnesium steel spring', 'steel production chromium steel 18/8 hot rolled') # springs(molas)\n",
    "db['Composition'] = db['Composition'].replace('case hardened steel', 'steel production converted low-alloyed')\n",
    "db['Composition'] = db['Composition'].replace('die-cut rubber', 'rubber production') #gaskets\n",
    "db['Composition'] = db['Composition'].replace('bare', 'steel production chromium steel 18/8 hot rolled')#  weatherstrip channel (aloja borracha do capo)\n",
    "db['Composition'] = db['Composition'].replace('spring steel', 'steel production converted') # hard steel\n",
    "db['Composition'] = db['Composition'].replace('injection-molded plastic', 'polypropylene') # Cover, Washer Pump\n",
    "db['Composition'] = db['Composition'].replace('injection-molded plastic', 'acrylonitrile-butadiene-styrene') # screen, cowl vent\n",
    "db['Composition'] = db['Composition'].replace('stamped from heavy-gauge steel', 'steel production converted') # hard steel and SHIFTER HUMP\n",
    "db['Composition'] = db['Composition'].replace('die-cast zinc', 'zinc production')\n",
    "db['Composition'] = db['Composition'].replace('die stamped rubber', 'rubber production')\n",
    "db['Composition'] = db['Composition'].replace('fiberglass', 'glass fibre reinforced plastic')\n",
    "db['Composition'] = db['Composition'].replace('injection molded plastic', 'polypropylene')\n",
    "db['Composition'] = db['Composition'].replace('stainless steel', 'steel production chromium steel 18/8 hot rolled')\n",
    "db['Composition'] = db['Composition'].replace('fiberglass reinforced plastic', 'glass fibre reinforced plastic')\n",
    "db['Composition'] = db['Composition'].replace('injection-molded rubber', 'rubber production')\n"
   ]
  },
  {
   "cell_type": "code",
   "execution_count": 27,
   "id": "df3608bd-7461-4b94-9f0b-1674d12bbfce",
   "metadata": {},
   "outputs": [],
   "source": [
    "db['Finish'] = db['Finish'].replace('black', 'electrostatic paint')\n",
    "db['Finish'] = db['Finish'].replace('black oxide', 'black chrome') # the most indentic\n",
    "db['Finish'] = db['Finish'].replace('polished', np.nan)  # because polished does not involved energy consuming processes, as it is a manual one\n",
    "db['Finish'] = db['Finish'].replace('included', np.nan) # because it does not imply a process\n",
    "db['Finish'] = db['Finish'].replace('natural', np.nan) # because it does not imply a process\n",
    "db['Finish'] = db['Finish'].replace('rubber backed', 'seal production natural rubber')\n",
    "db['Finish'] = db['Finish'].replace('galvanized', 'zinc coating pieces')\n",
    "db['Finish'] = db['Finish'].replace('EDP coated', 'powder coating steel') # the most similar to EDP coat, as it is a coat over steel\n",
    "db['Finish'] = db['Finish'].replace('chrome-plated', 'chromium coat electroplating')\n",
    "db['Finish'] = db['Finish'].replace('plastic sleeves', 'plastic film')\n",
    "db['Finish'] = db['Finish'].replace('black coating', 'electrostatic paint')\n",
    "db['Finish'] = db['Finish'].replace('black paint', 'electrostatic paint')\n",
    "db['Finish'] = db['Finish'].replace('edp or zinc coated', 'zinc coating pieces') #because raimundo did not mentioned edp\n",
    "db['Finish'] = db['Finish'].replace('textured', np.nan) # because probably does not imply energy methods\n",
    "db['Finish'] = db['Finish'].replace('primer finish', 'electrostatic paint')\n",
    "db['Finish'] = db['Finish'].replace('edp-coated black', 'selective coating stainless steel black chrome')\n",
    "db['Finish'] = db['Finish'].replace('primer', 'electrostatic paint')\n",
    "db['Finish'] = db['Finish'].replace('zinc plated', 'zinc coating pieces')\n",
    "db['Finish'] = db['Finish'].replace('metal', 'zinc coating pieces') # as it is the most common for RETAINER, TRUNK LOCK (suporte bagagem)\n",
    "db['Finish'] = db['Finish'].replace('complete with hardware', np.nan) # does not imply energy\n",
    "db['Finish'] = db['Finish'].replace('natural/edp coating', 'powder coating steel')  # as natural does not imply energy\n",
    "db['Finish'] = db['Finish'].replace('weld-through primer', 'electrostatic paint')\n",
    "db['Finish'] = db['Finish'].replace('black enamel', 'enamelling')\n",
    "db['Finish'] = db['Finish'].replace('chrome', 'chromium coat electroplating')\n",
    "db['Finish'] = db['Finish'].replace('zinc coated', 'zinc coating pieces')\n",
    "db['Finish'] = db['Finish'].replace('plastic', 'electrostatic paint') # as this piece is described as to have black painting in his name\n",
    "db['Finish'] = db['Finish'].replace('rubber', 'seal production natural rubber')\n"
   ]
  },
  {
   "cell_type": "code",
   "execution_count": 28,
   "id": "3c909b04-2cd6-4e6b-b2bf-ea28ddd9248a",
   "metadata": {},
   "outputs": [
    {
     "name": "stdout",
     "output_type": "stream",
     "text": [
      "['steel production chromium steel 18/8 hot rolled', 'polypropylene', nan, 'rubber production', 'jute production', 'steel production chromium steel 18/8 hot rolled, rubber production', 'zinc production', 'acrylonitrile-butadiene-styrene', 'polyamide', 'reinforcing steel', 'sheet rolling aluminium', 'polyamide, sheet rolling aluminium', 'steel production converted low-alloyed', 'polyurethane production', 'glass fibre reinforced plastic', 'steel production converted']\n"
     ]
    }
   ],
   "source": [
    "composition_unique = db['Composition'].unique().tolist()\n",
    "print(composition_unique)"
   ]
  },
  {
   "cell_type": "code",
   "execution_count": 29,
   "id": "2714f9f0-72e9-46d0-8cb5-62fa8a7cbe57",
   "metadata": {},
   "outputs": [
    {
     "name": "stdout",
     "output_type": "stream",
     "text": [
      "[nan, 'electrostatic paint', 'zinc coating pieces', 'black chrome', 'seal production natural rubber', 'powder coating steel', 'chromium coat electroplating', 'plastic film', 'selective coating stainless steel black chrome', 'enamelling', 'acrylonitrile-butadiene-styrene']\n"
     ]
    }
   ],
   "source": [
    "finish_unique = db['Finish'].unique().tolist()\n",
    "print(finish_unique)"
   ]
  },
  {
   "cell_type": "markdown",
   "id": "66efb313-e2e3-40be-a9a0-dd4c6c2ef13d",
   "metadata": {},
   "source": [
    "### 4.2. Noise removal\n",
    "<a id='4.2'>"
   ]
  },
  {
   "cell_type": "code",
   "execution_count": 30,
   "id": "5b4f68a6-0aca-4b97-b87a-7d266faf371b",
   "metadata": {},
   "outputs": [],
   "source": [
    "#remove lbs and in\n",
    "\n",
    "db['Weight'] = db['Weight'].str.replace(' lbs', '')\n",
    "db['Length'] = db['Length'].str.replace(' in', '')\n",
    "db['Width'] = db['Width'].str.replace(' in', '')\n",
    "db['Height'] = db['Height'].str.replace(' in', '')"
   ]
  },
  {
   "cell_type": "code",
   "execution_count": 31,
   "id": "b2d5cd26-735e-4942-a05c-50388b70c409",
   "metadata": {},
   "outputs": [],
   "source": [
    "# remove MSRP: $\n",
    "\n",
    "db['Price'] = db['Price'].str.replace(r'^MSRP: \\$', '', regex=True)"
   ]
  },
  {
   "cell_type": "code",
   "execution_count": 32,
   "id": "c2833804-570e-4ddf-b165-f912bd0e61c9",
   "metadata": {},
   "outputs": [
    {
     "data": {
      "text/html": [
       "<div>\n",
       "<style scoped>\n",
       "    .dataframe tbody tr th:only-of-type {\n",
       "        vertical-align: middle;\n",
       "    }\n",
       "\n",
       "    .dataframe tbody tr th {\n",
       "        vertical-align: top;\n",
       "    }\n",
       "\n",
       "    .dataframe thead th {\n",
       "        text-align: right;\n",
       "    }\n",
       "</style>\n",
       "<table border=\"1\" class=\"dataframe\">\n",
       "  <thead>\n",
       "    <tr style=\"text-align: right;\">\n",
       "      <th></th>\n",
       "      <th>Name</th>\n",
       "      <th>Product_type</th>\n",
       "      <th>Composition</th>\n",
       "      <th>Finish</th>\n",
       "      <th>Weight</th>\n",
       "      <th>Length</th>\n",
       "      <th>Width</th>\n",
       "      <th>Height</th>\n",
       "      <th>Models</th>\n",
       "      <th>Price</th>\n",
       "    </tr>\n",
       "  </thead>\n",
       "  <tbody>\n",
       "    <tr>\n",
       "      <th>0</th>\n",
       "      <td>DRAIN PLUG, FLOOR &amp; TRUNK PAN, 1967-77 GM (STAMPED STEEL)</td>\n",
       "      <td>hardware, fasteners and fittings</td>\n",
       "      <td>steel production chromium steel 18/8 hot rolled</td>\n",
       "      <td>NaN</td>\n",
       "      <td>0.2</td>\n",
       "      <td>5.0</td>\n",
       "      <td>3.5</td>\n",
       "      <td>0.2</td>\n",
       "      <td>['1967-1976 Buick Riviera', '1967-1972 Buick Skylark', '1967-1977 Cadillac DeVille', '1967-1977 Cadillac Eldorado', '1967-1977 Cadillac Fleetwood', '1967-1981 Chevrolet Camaro', '1967-1977 Chevrolet Chevelle', '1967-1977 Chevrolet El Camino', '1964-1972 Chevrolet Impala', '1970-1977 Chevrolet Monte Carlo', '1962-1972 Chevrolet Nova', '1971-1972 GMC Sprint', '1967-1977 Oldsmobile Cutlass', '1967-1977 Pontiac Bonneville', '1967-1977 Pontiac Catalina', '1967-1981 Pontiac Firebird', '1967-1977 Pontiac Grand Prix', '1967-1973 Pontiac GTO', '1967-1973 Pontiac LeMans', '1967-1970 Pontiac Tempest']</td>\n",
       "      <td>6.99</td>\n",
       "    </tr>\n",
       "    <tr>\n",
       "      <th>1</th>\n",
       "      <td>SCREEN, COWL VENT, 1968-72 A-BODY, 1969-72 GRAND PRIX, W/ AC</td>\n",
       "      <td>cowl induction components</td>\n",
       "      <td>polypropylene</td>\n",
       "      <td>electrostatic paint</td>\n",
       "      <td>0.3</td>\n",
       "      <td>14.8</td>\n",
       "      <td>4.8</td>\n",
       "      <td>1.5</td>\n",
       "      <td>['1968-1972 Buick Skylark', '1968-1972 Chevrolet Chevelle', '1968-1972 Chevrolet El Camino', '1970-1972 Chevrolet Monte Carlo', '1968-1972 Oldsmobile Cutlass', '1969-1972 Pontiac Grand Prix', '1968-1972 Pontiac GTO', '1968-1972 Pontiac LeMans', '1968-1970 Pontiac Tempest']</td>\n",
       "      <td>26.99</td>\n",
       "    </tr>\n",
       "    <tr>\n",
       "      <th>2</th>\n",
       "      <td>SPRING, HOOD HINGE, 1964-67/1970-72 A-BODY</td>\n",
       "      <td>hood</td>\n",
       "      <td>steel production chromium steel 18/8 hot rolled</td>\n",
       "      <td>zinc coating pieces</td>\n",
       "      <td>2.0</td>\n",
       "      <td>7.4</td>\n",
       "      <td>1.8</td>\n",
       "      <td>1.2</td>\n",
       "      <td>['1963-1966 Chevrolet Bel Air', '1963-1966 Chevrolet Biscayne', '1967-1969 Chevrolet Camaro', '1966 Chevrolet Caprice', '1964-1967 Chevrolet Chevelle', '1970-1972 Chevrolet Chevelle', '1964-1967 Chevrolet El Camino', '1970-1972 Chevrolet El Camino', '1970 Chevrolet Impala', '1970-1972 Chevrolet Monte Carlo', '1971-1972 GMC Sprint', '1964-1967 Oldsmobile Cutlass', '1967-1969 Pontiac Firebird', '1964-1967 Pontiac GTO', '1971-1972 Pontiac GTO', '1964-1967 Pontiac LeMans', '1971-1972 Pontiac LeMans', '1964-1967 Pontiac Tempest']</td>\n",
       "      <td>14.99</td>\n",
       "    </tr>\n",
       "    <tr>\n",
       "      <th>3</th>\n",
       "      <td>1964-1977 HOOD ADJUSTER BOLT KIT, GM A-BODY, RIVIERA, 1959-1963 BONNEVILLE AND CATALINA</td>\n",
       "      <td>bolts &amp; studs</td>\n",
       "      <td>NaN</td>\n",
       "      <td>NaN</td>\n",
       "      <td>0.1</td>\n",
       "      <td>2.0</td>\n",
       "      <td>1.2</td>\n",
       "      <td>1.0</td>\n",
       "      <td>['1964-1972 Buick Riviera', '1961-1972 Buick Skylark', '1971-1973 Chevrolet Bel Air', '1971-1972 Chevrolet Biscayne', '1967-1973 Chevrolet Camaro', '1971-1973 Chevrolet Caprice', '1964-1977 Chevrolet Chevelle', '1964-1977 Chevrolet El Camino', '1971-1973 Chevrolet Impala', '1970-1977 Chevrolet Monte Carlo', '1964-1970 Chevrolet Nova', '1961-1968 Oldsmobile Cutlass', '1959-1963 Pontiac Bonneville', '1959-1963 Pontiac Catalina', '1967-1969 Pontiac Firebird', '1962-1963 Pontiac Grand Prix', '1964-1967 Pontiac GTO', '1961-1967 Pontiac LeMans', '1961-1967 Pontiac Tempest']</td>\n",
       "      <td>14.99</td>\n",
       "    </tr>\n",
       "    <tr>\n",
       "      <th>4</th>\n",
       "      <td>HOOD PIN SET, 1970-72 CHEVELLE/EL CAMINO, SS</td>\n",
       "      <td>hood components</td>\n",
       "      <td>steel production chromium steel 18/8 hot rolled</td>\n",
       "      <td>NaN</td>\n",
       "      <td>3.0</td>\n",
       "      <td>5.6</td>\n",
       "      <td>3.4</td>\n",
       "      <td>1.0</td>\n",
       "      <td>['1973-1975 Buick Apollo', '1971-1973 Buick Centurion', '1936-1942 Buick Century', '1954-1958 Buick Century', '1967 Buick Century', '1973-1996 Buick Century', '1959-1984 Buick Electra', '1971 Buick Estate', '1977-1996 Buick Estate', '1959-1985 Buick Lesabre', '1936-1942 Buick Roadmaster', '1946-1958 Buick Roadmaster', '1975-1980 Buick Skyhawk', '1963-1970 Buick Wildcat', '1958-1975 Chevrolet Bel Air', '1958-1972 Chevrolet Biscayne', '1969-1994 Chevrolet Blazer', '1958-1961 Chevrolet Brookwood', '1969-1972 Chevrolet Brookwood', '1967-2002 Chevrolet Camaro', '2010-2022 Chevrolet Camaro', '1966-1996 Chevrolet Caprice', '1970-1972 Chevrolet Chevelle', '1958-1982 Chevrolet Corvette', '1984-2022 Chevrolet Corvette', '1970-1972 Chevrolet El Camino', '1958-1985 Chevrolet Impala', '1994-1996 Chevrolet Impala', '2000-2020 Chevrolet Impala', '1970-1972 Chevrolet Monte Carlo', '1975-1980 Chevrolet Monza', '1958-1961 Chevrolet Nomad', '1962-1979 Chevrolet Nova', '1985-1988 Chevrolet Nova', '1947-2008 Chevrolet Pickup', '1955-1957 Chevrolet Tri-Five', '1971-1977 Chevrolet Vega', '1971-1987 GMC Caballero', '1971-1977 GMC Sprint', '1949-1985 Oldsmobile Eighty-Eight', '1941-1942 Oldsmobile Ninety-Eight', '1946-1984 Oldsmobile Ninety-Eight', '1973-1984 Oldsmobile Omega', '1975-1980 Oldsmobile Starfire', '1966-1985 Oldsmobile Toronado', '1976-1987 Pontiac Acadian', '1973-1977 Pontiac Astre', '1967-2002 Pontiac Firebird', '1973-1980 Pontiac Grand Am', '1959-1987 Pontiac Parisienne', '1976-1980 Pontiac Sunbird', '1960-1977 Pontiac Ventura']</td>\n",
       "      <td>36.99</td>\n",
       "    </tr>\n",
       "  </tbody>\n",
       "</table>\n",
       "</div>"
      ],
      "text/plain": [
       "                                                                                      Name  \\\n",
       "0                                DRAIN PLUG, FLOOR & TRUNK PAN, 1967-77 GM (STAMPED STEEL)   \n",
       "1                             SCREEN, COWL VENT, 1968-72 A-BODY, 1969-72 GRAND PRIX, W/ AC   \n",
       "2                                               SPRING, HOOD HINGE, 1964-67/1970-72 A-BODY   \n",
       "3  1964-1977 HOOD ADJUSTER BOLT KIT, GM A-BODY, RIVIERA, 1959-1963 BONNEVILLE AND CATALINA   \n",
       "4                                             HOOD PIN SET, 1970-72 CHEVELLE/EL CAMINO, SS   \n",
       "\n",
       "                       Product_type  \\\n",
       "0  hardware, fasteners and fittings   \n",
       "1         cowl induction components   \n",
       "2                              hood   \n",
       "3                     bolts & studs   \n",
       "4                   hood components   \n",
       "\n",
       "                                       Composition               Finish  \\\n",
       "0  steel production chromium steel 18/8 hot rolled                  NaN   \n",
       "1                                    polypropylene  electrostatic paint   \n",
       "2  steel production chromium steel 18/8 hot rolled  zinc coating pieces   \n",
       "3                                              NaN                  NaN   \n",
       "4  steel production chromium steel 18/8 hot rolled                  NaN   \n",
       "\n",
       "  Weight Length Width Height  \\\n",
       "0    0.2    5.0   3.5    0.2   \n",
       "1    0.3   14.8   4.8    1.5   \n",
       "2    2.0    7.4   1.8    1.2   \n",
       "3    0.1    2.0   1.2    1.0   \n",
       "4    3.0    5.6   3.4    1.0   \n",
       "\n",
       "                                                                                                                                                                                                                                                                                                                                                                                                                                                                                                                                                                                                                                                                                                                                                                                                                                                                                                                                                                                                                                                                                                                                                                                                                                                                                                                                                                                                                                                                                                                                                                                                      Models  \\\n",
       "0                                                                                                                                                                                                                                                                                                                                                                                                                                                                                                                                                                                                                                                                                                                                                                                                                                                                                                                                                                                      ['1967-1976 Buick Riviera', '1967-1972 Buick Skylark', '1967-1977 Cadillac DeVille', '1967-1977 Cadillac Eldorado', '1967-1977 Cadillac Fleetwood', '1967-1981 Chevrolet Camaro', '1967-1977 Chevrolet Chevelle', '1967-1977 Chevrolet El Camino', '1964-1972 Chevrolet Impala', '1970-1977 Chevrolet Monte Carlo', '1962-1972 Chevrolet Nova', '1971-1972 GMC Sprint', '1967-1977 Oldsmobile Cutlass', '1967-1977 Pontiac Bonneville', '1967-1977 Pontiac Catalina', '1967-1981 Pontiac Firebird', '1967-1977 Pontiac Grand Prix', '1967-1973 Pontiac GTO', '1967-1973 Pontiac LeMans', '1967-1970 Pontiac Tempest']   \n",
       "1                                                                                                                                                                                                                                                                                                                                                                                                                                                                                                                                                                                                                                                                                                                                                                                                                                                                                                                                                                                                                                                                                                                                                                                                                                                                                                                          ['1968-1972 Buick Skylark', '1968-1972 Chevrolet Chevelle', '1968-1972 Chevrolet El Camino', '1970-1972 Chevrolet Monte Carlo', '1968-1972 Oldsmobile Cutlass', '1969-1972 Pontiac Grand Prix', '1968-1972 Pontiac GTO', '1968-1972 Pontiac LeMans', '1968-1970 Pontiac Tempest']   \n",
       "2                                                                                                                                                                                                                                                                                                                                                                                                                                                                                                                                                                                                                                                                                                                                                                                                                                                                                                                                                                                                                                                         ['1963-1966 Chevrolet Bel Air', '1963-1966 Chevrolet Biscayne', '1967-1969 Chevrolet Camaro', '1966 Chevrolet Caprice', '1964-1967 Chevrolet Chevelle', '1970-1972 Chevrolet Chevelle', '1964-1967 Chevrolet El Camino', '1970-1972 Chevrolet El Camino', '1970 Chevrolet Impala', '1970-1972 Chevrolet Monte Carlo', '1971-1972 GMC Sprint', '1964-1967 Oldsmobile Cutlass', '1967-1969 Pontiac Firebird', '1964-1967 Pontiac GTO', '1971-1972 Pontiac GTO', '1964-1967 Pontiac LeMans', '1971-1972 Pontiac LeMans', '1964-1967 Pontiac Tempest']   \n",
       "3                                                                                                                                                                                                                                                                                                                                                                                                                                                                                                                                                                                                                                                                                                                                                                                                                                                                                                                                                                                                             ['1964-1972 Buick Riviera', '1961-1972 Buick Skylark', '1971-1973 Chevrolet Bel Air', '1971-1972 Chevrolet Biscayne', '1967-1973 Chevrolet Camaro', '1971-1973 Chevrolet Caprice', '1964-1977 Chevrolet Chevelle', '1964-1977 Chevrolet El Camino', '1971-1973 Chevrolet Impala', '1970-1977 Chevrolet Monte Carlo', '1964-1970 Chevrolet Nova', '1961-1968 Oldsmobile Cutlass', '1959-1963 Pontiac Bonneville', '1959-1963 Pontiac Catalina', '1967-1969 Pontiac Firebird', '1962-1963 Pontiac Grand Prix', '1964-1967 Pontiac GTO', '1961-1967 Pontiac LeMans', '1961-1967 Pontiac Tempest']   \n",
       "4  ['1973-1975 Buick Apollo', '1971-1973 Buick Centurion', '1936-1942 Buick Century', '1954-1958 Buick Century', '1967 Buick Century', '1973-1996 Buick Century', '1959-1984 Buick Electra', '1971 Buick Estate', '1977-1996 Buick Estate', '1959-1985 Buick Lesabre', '1936-1942 Buick Roadmaster', '1946-1958 Buick Roadmaster', '1975-1980 Buick Skyhawk', '1963-1970 Buick Wildcat', '1958-1975 Chevrolet Bel Air', '1958-1972 Chevrolet Biscayne', '1969-1994 Chevrolet Blazer', '1958-1961 Chevrolet Brookwood', '1969-1972 Chevrolet Brookwood', '1967-2002 Chevrolet Camaro', '2010-2022 Chevrolet Camaro', '1966-1996 Chevrolet Caprice', '1970-1972 Chevrolet Chevelle', '1958-1982 Chevrolet Corvette', '1984-2022 Chevrolet Corvette', '1970-1972 Chevrolet El Camino', '1958-1985 Chevrolet Impala', '1994-1996 Chevrolet Impala', '2000-2020 Chevrolet Impala', '1970-1972 Chevrolet Monte Carlo', '1975-1980 Chevrolet Monza', '1958-1961 Chevrolet Nomad', '1962-1979 Chevrolet Nova', '1985-1988 Chevrolet Nova', '1947-2008 Chevrolet Pickup', '1955-1957 Chevrolet Tri-Five', '1971-1977 Chevrolet Vega', '1971-1987 GMC Caballero', '1971-1977 GMC Sprint', '1949-1985 Oldsmobile Eighty-Eight', '1941-1942 Oldsmobile Ninety-Eight', '1946-1984 Oldsmobile Ninety-Eight', '1973-1984 Oldsmobile Omega', '1975-1980 Oldsmobile Starfire', '1966-1985 Oldsmobile Toronado', '1976-1987 Pontiac Acadian', '1973-1977 Pontiac Astre', '1967-2002 Pontiac Firebird', '1973-1980 Pontiac Grand Am', '1959-1987 Pontiac Parisienne', '1976-1980 Pontiac Sunbird', '1960-1977 Pontiac Ventura']   \n",
       "\n",
       "   Price  \n",
       "0   6.99  \n",
       "1  26.99  \n",
       "2  14.99  \n",
       "3  14.99  \n",
       "4  36.99  "
      ]
     },
     "execution_count": 32,
     "metadata": {},
     "output_type": "execute_result"
    }
   ],
   "source": [
    "db.head()"
   ]
  },
  {
   "cell_type": "markdown",
   "id": "59b4ed1e-7fb3-4306-baa9-655c51bc5bfc",
   "metadata": {},
   "source": [
    "### 4.3. Data type conversion\n",
    "<a id='4.3'>"
   ]
  },
  {
   "cell_type": "code",
   "execution_count": 33,
   "id": "b64d2fa7-6186-48c1-b93f-b313ebdcab8b",
   "metadata": {},
   "outputs": [],
   "source": [
    "# Object type to numeric type\n",
    "\n",
    "#Weight, Length, Width, Height\n",
    "\n",
    "db['Weight'] = db['Weight'].astype(float)\n",
    "db['Length'] = db['Length'].astype(float)\n",
    "db['Width'] = db['Width'].astype(float)\n",
    "db['Height'] = db['Height'].astype(float)\n",
    "db['Price'] = db['Price'].str.replace(',', '').astype(float)"
   ]
  },
  {
   "cell_type": "code",
   "execution_count": 34,
   "id": "1b09478c-6cc5-4739-b4eb-19e86b722d92",
   "metadata": {},
   "outputs": [],
   "source": [
    "db['Name'] = db['Name'].astype(str)\n",
    "db['Product_type'] = db['Product_type'].astype(str)\n",
    "#db['Filter'] = db['Filter'].astype(str)\n"
   ]
  },
  {
   "cell_type": "code",
   "execution_count": 35,
   "id": "410eaa7e-594f-43b6-8d10-14f125fff91a",
   "metadata": {},
   "outputs": [
    {
     "name": "stdout",
     "output_type": "stream",
     "text": [
      "<class 'pandas.core.frame.DataFrame'>\n",
      "RangeIndex: 804 entries, 0 to 803\n",
      "Data columns (total 10 columns):\n",
      " #   Column        Non-Null Count  Dtype  \n",
      "---  ------        --------------  -----  \n",
      " 0   Name          804 non-null    object \n",
      " 1   Product_type  804 non-null    object \n",
      " 2   Composition   746 non-null    object \n",
      " 3   Finish        671 non-null    object \n",
      " 4   Weight        804 non-null    float64\n",
      " 5   Length        804 non-null    float64\n",
      " 6   Width         804 non-null    float64\n",
      " 7   Height        804 non-null    float64\n",
      " 8   Models        804 non-null    object \n",
      " 9   Price         804 non-null    float64\n",
      "dtypes: float64(5), object(5)\n",
      "memory usage: 62.9+ KB\n"
     ]
    }
   ],
   "source": [
    "db.info()"
   ]
  },
  {
   "cell_type": "markdown",
   "id": "70e3b2bf-8a6f-418d-b1b3-01389d443a75",
   "metadata": {},
   "source": [
    "## 5. Data transformation\n",
    "<a id='5'>"
   ]
  },
  {
   "cell_type": "code",
   "execution_count": 36,
   "id": "7a3b361f-645d-4574-aed0-f0e3a92dbf91",
   "metadata": {},
   "outputs": [],
   "source": [
    "# USD to EUR\n",
    "convertion_tax_USD_EUR = 0.85\n",
    "db['Price'] = db['Price'] * convertion_tax_USD_EUR\n",
    "\n",
    "\n",
    "# in to mm\n",
    "convertion_tax_in_mm = 25.4\n",
    "db['Length'] = db['Length'] * convertion_tax_in_mm\n",
    "db['Width'] = db['Width'] * convertion_tax_in_mm\n",
    "db['Height'] = db['Height'] * convertion_tax_in_mm\n",
    "\n",
    "\n",
    "# lb to kg\n",
    "convertion_tax_lb_kg = 0.453592\n",
    "db['Weight'] = db['Weight'] * convertion_tax_lb_kg\n",
    "\n",
    "\n",
    "# round to 2 decimal units\n",
    "db['Weight'] = db['Weight'].round(2)\n",
    "db['Length'] = db['Length'].round(2)\n",
    "db['Width'] = db['Width'].round(2)\n",
    "db['Height'] = db['Height'].round(2)\n",
    "db['Price'] = db['Price'].round(2)\n"
   ]
  },
  {
   "cell_type": "code",
   "execution_count": 37,
   "id": "aaed6caf-281f-411b-af49-8891b9ae1cbd",
   "metadata": {},
   "outputs": [],
   "source": [
    "db = db.rename(columns={'Price': 'Price (€)'})\n",
    "db = db.rename(columns={'Weight': 'Weight (kg)'})\n",
    "db = db.rename(columns={'Length': 'Length (mm)'})\n",
    "db = db.rename(columns={'Width': 'Width (mm)'})\n",
    "db = db.rename(columns={'Height': 'Height (mm)'})"
   ]
  },
  {
   "cell_type": "code",
   "execution_count": 38,
   "id": "ef01ac05-f1f3-43c2-af13-32fbe9997b2d",
   "metadata": {},
   "outputs": [
    {
     "data": {
      "text/html": [
       "<div>\n",
       "<style scoped>\n",
       "    .dataframe tbody tr th:only-of-type {\n",
       "        vertical-align: middle;\n",
       "    }\n",
       "\n",
       "    .dataframe tbody tr th {\n",
       "        vertical-align: top;\n",
       "    }\n",
       "\n",
       "    .dataframe thead th {\n",
       "        text-align: right;\n",
       "    }\n",
       "</style>\n",
       "<table border=\"1\" class=\"dataframe\">\n",
       "  <thead>\n",
       "    <tr style=\"text-align: right;\">\n",
       "      <th></th>\n",
       "      <th>Name</th>\n",
       "      <th>Product_type</th>\n",
       "      <th>Composition</th>\n",
       "      <th>Finish</th>\n",
       "      <th>Weight (kg)</th>\n",
       "      <th>Length (mm)</th>\n",
       "      <th>Width (mm)</th>\n",
       "      <th>Height (mm)</th>\n",
       "      <th>Models</th>\n",
       "      <th>Price (€)</th>\n",
       "    </tr>\n",
       "  </thead>\n",
       "  <tbody>\n",
       "    <tr>\n",
       "      <th>0</th>\n",
       "      <td>DRAIN PLUG, FLOOR &amp; TRUNK PAN, 1967-77 GM (STAMPED STEEL)</td>\n",
       "      <td>hardware, fasteners and fittings</td>\n",
       "      <td>steel production chromium steel 18/8 hot rolled</td>\n",
       "      <td>NaN</td>\n",
       "      <td>0.09</td>\n",
       "      <td>127.00</td>\n",
       "      <td>88.90</td>\n",
       "      <td>5.08</td>\n",
       "      <td>['1967-1976 Buick Riviera', '1967-1972 Buick Skylark', '1967-1977 Cadillac DeVille', '1967-1977 Cadillac Eldorado', '1967-1977 Cadillac Fleetwood', '1967-1981 Chevrolet Camaro', '1967-1977 Chevrolet Chevelle', '1967-1977 Chevrolet El Camino', '1964-1972 Chevrolet Impala', '1970-1977 Chevrolet Monte Carlo', '1962-1972 Chevrolet Nova', '1971-1972 GMC Sprint', '1967-1977 Oldsmobile Cutlass', '1967-1977 Pontiac Bonneville', '1967-1977 Pontiac Catalina', '1967-1981 Pontiac Firebird', '1967-1977 Pontiac Grand Prix', '1967-1973 Pontiac GTO', '1967-1973 Pontiac LeMans', '1967-1970 Pontiac Tempest']</td>\n",
       "      <td>5.94</td>\n",
       "    </tr>\n",
       "    <tr>\n",
       "      <th>1</th>\n",
       "      <td>SCREEN, COWL VENT, 1968-72 A-BODY, 1969-72 GRAND PRIX, W/ AC</td>\n",
       "      <td>cowl induction components</td>\n",
       "      <td>polypropylene</td>\n",
       "      <td>electrostatic paint</td>\n",
       "      <td>0.14</td>\n",
       "      <td>375.92</td>\n",
       "      <td>121.92</td>\n",
       "      <td>38.10</td>\n",
       "      <td>['1968-1972 Buick Skylark', '1968-1972 Chevrolet Chevelle', '1968-1972 Chevrolet El Camino', '1970-1972 Chevrolet Monte Carlo', '1968-1972 Oldsmobile Cutlass', '1969-1972 Pontiac Grand Prix', '1968-1972 Pontiac GTO', '1968-1972 Pontiac LeMans', '1968-1970 Pontiac Tempest']</td>\n",
       "      <td>22.94</td>\n",
       "    </tr>\n",
       "  </tbody>\n",
       "</table>\n",
       "</div>"
      ],
      "text/plain": [
       "                                                           Name  \\\n",
       "0     DRAIN PLUG, FLOOR & TRUNK PAN, 1967-77 GM (STAMPED STEEL)   \n",
       "1  SCREEN, COWL VENT, 1968-72 A-BODY, 1969-72 GRAND PRIX, W/ AC   \n",
       "\n",
       "                       Product_type  \\\n",
       "0  hardware, fasteners and fittings   \n",
       "1         cowl induction components   \n",
       "\n",
       "                                       Composition               Finish  \\\n",
       "0  steel production chromium steel 18/8 hot rolled                  NaN   \n",
       "1                                    polypropylene  electrostatic paint   \n",
       "\n",
       "   Weight (kg)  Length (mm)  Width (mm)  Height (mm)  \\\n",
       "0         0.09       127.00       88.90         5.08   \n",
       "1         0.14       375.92      121.92        38.10   \n",
       "\n",
       "                                                                                                                                                                                                                                                                                                                                                                                                                                                                                                                                                                                                                  Models  \\\n",
       "0  ['1967-1976 Buick Riviera', '1967-1972 Buick Skylark', '1967-1977 Cadillac DeVille', '1967-1977 Cadillac Eldorado', '1967-1977 Cadillac Fleetwood', '1967-1981 Chevrolet Camaro', '1967-1977 Chevrolet Chevelle', '1967-1977 Chevrolet El Camino', '1964-1972 Chevrolet Impala', '1970-1977 Chevrolet Monte Carlo', '1962-1972 Chevrolet Nova', '1971-1972 GMC Sprint', '1967-1977 Oldsmobile Cutlass', '1967-1977 Pontiac Bonneville', '1967-1977 Pontiac Catalina', '1967-1981 Pontiac Firebird', '1967-1977 Pontiac Grand Prix', '1967-1973 Pontiac GTO', '1967-1973 Pontiac LeMans', '1967-1970 Pontiac Tempest']   \n",
       "1                                                                                                                                                                                                                                                                                                                                      ['1968-1972 Buick Skylark', '1968-1972 Chevrolet Chevelle', '1968-1972 Chevrolet El Camino', '1970-1972 Chevrolet Monte Carlo', '1968-1972 Oldsmobile Cutlass', '1969-1972 Pontiac Grand Prix', '1968-1972 Pontiac GTO', '1968-1972 Pontiac LeMans', '1968-1970 Pontiac Tempest']   \n",
       "\n",
       "   Price (€)  \n",
       "0       5.94  \n",
       "1      22.94  "
      ]
     },
     "execution_count": 38,
     "metadata": {},
     "output_type": "execute_result"
    }
   ],
   "source": [
    "db.head(2)"
   ]
  },
  {
   "cell_type": "code",
   "execution_count": 39,
   "id": "1ae8032c-5dfa-4a18-afbe-e9ebb9b704f4",
   "metadata": {},
   "outputs": [
    {
     "data": {
      "text/html": [
       "<div>\n",
       "<style scoped>\n",
       "    .dataframe tbody tr th:only-of-type {\n",
       "        vertical-align: middle;\n",
       "    }\n",
       "\n",
       "    .dataframe tbody tr th {\n",
       "        vertical-align: top;\n",
       "    }\n",
       "\n",
       "    .dataframe thead th {\n",
       "        text-align: right;\n",
       "    }\n",
       "</style>\n",
       "<table border=\"1\" class=\"dataframe\">\n",
       "  <thead>\n",
       "    <tr style=\"text-align: right;\">\n",
       "      <th></th>\n",
       "      <th>Weight (kg)</th>\n",
       "      <th>Length (mm)</th>\n",
       "      <th>Width (mm)</th>\n",
       "      <th>Height (mm)</th>\n",
       "      <th>Price (€)</th>\n",
       "    </tr>\n",
       "  </thead>\n",
       "  <tbody>\n",
       "    <tr>\n",
       "      <th>count</th>\n",
       "      <td>804.000000</td>\n",
       "      <td>804.000000</td>\n",
       "      <td>804.000000</td>\n",
       "      <td>804.000000</td>\n",
       "      <td>804.000000</td>\n",
       "    </tr>\n",
       "    <tr>\n",
       "      <th>mean</th>\n",
       "      <td>8.745560</td>\n",
       "      <td>960.312711</td>\n",
       "      <td>448.843905</td>\n",
       "      <td>153.414104</td>\n",
       "      <td>187.245983</td>\n",
       "    </tr>\n",
       "    <tr>\n",
       "      <th>std</th>\n",
       "      <td>11.131222</td>\n",
       "      <td>647.179631</td>\n",
       "      <td>389.646174</td>\n",
       "      <td>127.593877</td>\n",
       "      <td>174.298884</td>\n",
       "    </tr>\n",
       "    <tr>\n",
       "      <th>min</th>\n",
       "      <td>0.000000</td>\n",
       "      <td>0.000000</td>\n",
       "      <td>0.000000</td>\n",
       "      <td>0.000000</td>\n",
       "      <td>0.840000</td>\n",
       "    </tr>\n",
       "    <tr>\n",
       "      <th>25%</th>\n",
       "      <td>1.270000</td>\n",
       "      <td>424.815000</td>\n",
       "      <td>139.700000</td>\n",
       "      <td>50.800000</td>\n",
       "      <td>59.490000</td>\n",
       "    </tr>\n",
       "    <tr>\n",
       "      <th>50%</th>\n",
       "      <td>3.450000</td>\n",
       "      <td>952.500000</td>\n",
       "      <td>330.200000</td>\n",
       "      <td>127.000000</td>\n",
       "      <td>124.090000</td>\n",
       "    </tr>\n",
       "    <tr>\n",
       "      <th>75%</th>\n",
       "      <td>13.060000</td>\n",
       "      <td>1524.000000</td>\n",
       "      <td>670.560000</td>\n",
       "      <td>228.600000</td>\n",
       "      <td>267.102500</td>\n",
       "    </tr>\n",
       "    <tr>\n",
       "      <th>max</th>\n",
       "      <td>63.500000</td>\n",
       "      <td>2540.000000</td>\n",
       "      <td>1778.000000</td>\n",
       "      <td>800.100000</td>\n",
       "      <td>934.990000</td>\n",
       "    </tr>\n",
       "  </tbody>\n",
       "</table>\n",
       "</div>"
      ],
      "text/plain": [
       "       Weight (kg)  Length (mm)   Width (mm)  Height (mm)   Price (€)\n",
       "count   804.000000   804.000000   804.000000   804.000000  804.000000\n",
       "mean      8.745560   960.312711   448.843905   153.414104  187.245983\n",
       "std      11.131222   647.179631   389.646174   127.593877  174.298884\n",
       "min       0.000000     0.000000     0.000000     0.000000    0.840000\n",
       "25%       1.270000   424.815000   139.700000    50.800000   59.490000\n",
       "50%       3.450000   952.500000   330.200000   127.000000  124.090000\n",
       "75%      13.060000  1524.000000   670.560000   228.600000  267.102500\n",
       "max      63.500000  2540.000000  1778.000000   800.100000  934.990000"
      ]
     },
     "execution_count": 39,
     "metadata": {},
     "output_type": "execute_result"
    }
   ],
   "source": [
    "db.describe()"
   ]
  },
  {
   "cell_type": "code",
   "execution_count": null,
   "id": "66bcc7eb-127b-402d-9846-12b795cd3c49",
   "metadata": {},
   "outputs": [],
   "source": []
  },
  {
   "cell_type": "markdown",
   "id": "de56b9df-fe33-4326-8a12-d374e849cfe6",
   "metadata": {},
   "source": [
    "## 6. Data integration\n",
    "<a id='6'>"
   ]
  },
  {
   "cell_type": "code",
   "execution_count": 40,
   "id": "b4956c97-ba99-4f30-b9f0-6a8d9c480589",
   "metadata": {},
   "outputs": [],
   "source": [
    "# add unique ID\n",
    "db['ID_part'] = db.index "
   ]
  },
  {
   "cell_type": "markdown",
   "id": "3a68ccdb-a8e5-4d55-b856-dbc7d99647aa",
   "metadata": {},
   "source": [
    "### 6.1. Models table\n",
    "\n",
    "<a id='6.1'>"
   ]
  },
  {
   "cell_type": "code",
   "execution_count": 41,
   "id": "1a13d54c-e988-4f7e-9d75-d6df825d531e",
   "metadata": {},
   "outputs": [
    {
     "data": {
      "text/html": [
       "<div>\n",
       "<style scoped>\n",
       "    .dataframe tbody tr th:only-of-type {\n",
       "        vertical-align: middle;\n",
       "    }\n",
       "\n",
       "    .dataframe tbody tr th {\n",
       "        vertical-align: top;\n",
       "    }\n",
       "\n",
       "    .dataframe thead th {\n",
       "        text-align: right;\n",
       "    }\n",
       "</style>\n",
       "<table border=\"1\" class=\"dataframe\">\n",
       "  <thead>\n",
       "    <tr style=\"text-align: right;\">\n",
       "      <th></th>\n",
       "      <th>Name</th>\n",
       "      <th>Product_type</th>\n",
       "      <th>Composition</th>\n",
       "      <th>Finish</th>\n",
       "      <th>Weight (kg)</th>\n",
       "      <th>Length (mm)</th>\n",
       "      <th>Width (mm)</th>\n",
       "      <th>Height (mm)</th>\n",
       "      <th>Models</th>\n",
       "      <th>Price (€)</th>\n",
       "      <th>ID_part</th>\n",
       "    </tr>\n",
       "  </thead>\n",
       "  <tbody>\n",
       "    <tr>\n",
       "      <th>0</th>\n",
       "      <td>DRAIN PLUG, FLOOR &amp; TRUNK PAN, 1967-77 GM (STAMPED STEEL)</td>\n",
       "      <td>hardware, fasteners and fittings</td>\n",
       "      <td>steel production chromium steel 18/8 hot rolled</td>\n",
       "      <td>NaN</td>\n",
       "      <td>0.09</td>\n",
       "      <td>127.00</td>\n",
       "      <td>88.90</td>\n",
       "      <td>5.08</td>\n",
       "      <td>['1967-1976 Buick Riviera', '1967-1972 Buick Skylark', '1967-1977 Cadillac DeVille', '1967-1977 Cadillac Eldorado', '1967-1977 Cadillac Fleetwood', '1967-1981 Chevrolet Camaro', '1967-1977 Chevrolet Chevelle', '1967-1977 Chevrolet El Camino', '1964-1972 Chevrolet Impala', '1970-1977 Chevrolet Monte Carlo', '1962-1972 Chevrolet Nova', '1971-1972 GMC Sprint', '1967-1977 Oldsmobile Cutlass', '1967-1977 Pontiac Bonneville', '1967-1977 Pontiac Catalina', '1967-1981 Pontiac Firebird', '1967-1977 Pontiac Grand Prix', '1967-1973 Pontiac GTO', '1967-1973 Pontiac LeMans', '1967-1970 Pontiac Tempest']</td>\n",
       "      <td>5.94</td>\n",
       "      <td>0</td>\n",
       "    </tr>\n",
       "    <tr>\n",
       "      <th>1</th>\n",
       "      <td>SCREEN, COWL VENT, 1968-72 A-BODY, 1969-72 GRAND PRIX, W/ AC</td>\n",
       "      <td>cowl induction components</td>\n",
       "      <td>polypropylene</td>\n",
       "      <td>electrostatic paint</td>\n",
       "      <td>0.14</td>\n",
       "      <td>375.92</td>\n",
       "      <td>121.92</td>\n",
       "      <td>38.10</td>\n",
       "      <td>['1968-1972 Buick Skylark', '1968-1972 Chevrolet Chevelle', '1968-1972 Chevrolet El Camino', '1970-1972 Chevrolet Monte Carlo', '1968-1972 Oldsmobile Cutlass', '1969-1972 Pontiac Grand Prix', '1968-1972 Pontiac GTO', '1968-1972 Pontiac LeMans', '1968-1970 Pontiac Tempest']</td>\n",
       "      <td>22.94</td>\n",
       "      <td>1</td>\n",
       "    </tr>\n",
       "    <tr>\n",
       "      <th>2</th>\n",
       "      <td>SPRING, HOOD HINGE, 1964-67/1970-72 A-BODY</td>\n",
       "      <td>hood</td>\n",
       "      <td>steel production chromium steel 18/8 hot rolled</td>\n",
       "      <td>zinc coating pieces</td>\n",
       "      <td>0.91</td>\n",
       "      <td>187.96</td>\n",
       "      <td>45.72</td>\n",
       "      <td>30.48</td>\n",
       "      <td>['1963-1966 Chevrolet Bel Air', '1963-1966 Chevrolet Biscayne', '1967-1969 Chevrolet Camaro', '1966 Chevrolet Caprice', '1964-1967 Chevrolet Chevelle', '1970-1972 Chevrolet Chevelle', '1964-1967 Chevrolet El Camino', '1970-1972 Chevrolet El Camino', '1970 Chevrolet Impala', '1970-1972 Chevrolet Monte Carlo', '1971-1972 GMC Sprint', '1964-1967 Oldsmobile Cutlass', '1967-1969 Pontiac Firebird', '1964-1967 Pontiac GTO', '1971-1972 Pontiac GTO', '1964-1967 Pontiac LeMans', '1971-1972 Pontiac LeMans', '1964-1967 Pontiac Tempest']</td>\n",
       "      <td>12.74</td>\n",
       "      <td>2</td>\n",
       "    </tr>\n",
       "  </tbody>\n",
       "</table>\n",
       "</div>"
      ],
      "text/plain": [
       "                                                           Name  \\\n",
       "0     DRAIN PLUG, FLOOR & TRUNK PAN, 1967-77 GM (STAMPED STEEL)   \n",
       "1  SCREEN, COWL VENT, 1968-72 A-BODY, 1969-72 GRAND PRIX, W/ AC   \n",
       "2                    SPRING, HOOD HINGE, 1964-67/1970-72 A-BODY   \n",
       "\n",
       "                       Product_type  \\\n",
       "0  hardware, fasteners and fittings   \n",
       "1         cowl induction components   \n",
       "2                              hood   \n",
       "\n",
       "                                       Composition               Finish  \\\n",
       "0  steel production chromium steel 18/8 hot rolled                  NaN   \n",
       "1                                    polypropylene  electrostatic paint   \n",
       "2  steel production chromium steel 18/8 hot rolled  zinc coating pieces   \n",
       "\n",
       "   Weight (kg)  Length (mm)  Width (mm)  Height (mm)  \\\n",
       "0         0.09       127.00       88.90         5.08   \n",
       "1         0.14       375.92      121.92        38.10   \n",
       "2         0.91       187.96       45.72        30.48   \n",
       "\n",
       "                                                                                                                                                                                                                                                                                                                                                                                                                                                                                                                                                                                                                  Models  \\\n",
       "0  ['1967-1976 Buick Riviera', '1967-1972 Buick Skylark', '1967-1977 Cadillac DeVille', '1967-1977 Cadillac Eldorado', '1967-1977 Cadillac Fleetwood', '1967-1981 Chevrolet Camaro', '1967-1977 Chevrolet Chevelle', '1967-1977 Chevrolet El Camino', '1964-1972 Chevrolet Impala', '1970-1977 Chevrolet Monte Carlo', '1962-1972 Chevrolet Nova', '1971-1972 GMC Sprint', '1967-1977 Oldsmobile Cutlass', '1967-1977 Pontiac Bonneville', '1967-1977 Pontiac Catalina', '1967-1981 Pontiac Firebird', '1967-1977 Pontiac Grand Prix', '1967-1973 Pontiac GTO', '1967-1973 Pontiac LeMans', '1967-1970 Pontiac Tempest']   \n",
       "1                                                                                                                                                                                                                                                                                                                                      ['1968-1972 Buick Skylark', '1968-1972 Chevrolet Chevelle', '1968-1972 Chevrolet El Camino', '1970-1972 Chevrolet Monte Carlo', '1968-1972 Oldsmobile Cutlass', '1969-1972 Pontiac Grand Prix', '1968-1972 Pontiac GTO', '1968-1972 Pontiac LeMans', '1968-1970 Pontiac Tempest']   \n",
       "2                                                                     ['1963-1966 Chevrolet Bel Air', '1963-1966 Chevrolet Biscayne', '1967-1969 Chevrolet Camaro', '1966 Chevrolet Caprice', '1964-1967 Chevrolet Chevelle', '1970-1972 Chevrolet Chevelle', '1964-1967 Chevrolet El Camino', '1970-1972 Chevrolet El Camino', '1970 Chevrolet Impala', '1970-1972 Chevrolet Monte Carlo', '1971-1972 GMC Sprint', '1964-1967 Oldsmobile Cutlass', '1967-1969 Pontiac Firebird', '1964-1967 Pontiac GTO', '1971-1972 Pontiac GTO', '1964-1967 Pontiac LeMans', '1971-1972 Pontiac LeMans', '1964-1967 Pontiac Tempest']   \n",
       "\n",
       "   Price (€)  ID_part  \n",
       "0       5.94        0  \n",
       "1      22.94        1  \n",
       "2      12.74        2  "
      ]
     },
     "execution_count": 41,
     "metadata": {},
     "output_type": "execute_result"
    }
   ],
   "source": [
    "db.head(3)"
   ]
  },
  {
   "cell_type": "markdown",
   "id": "d6ad03aa-a0f7-44a7-b482-02e446cb30a7",
   "metadata": {},
   "source": [
    "### ID Model "
   ]
  },
  {
   "cell_type": "code",
   "execution_count": 42,
   "id": "3a92e430-e2ea-4393-9a7a-c7230b164205",
   "metadata": {},
   "outputs": [
    {
     "data": {
      "text/plain": [
       "445"
      ]
     },
     "execution_count": 42,
     "metadata": {},
     "output_type": "execute_result"
    }
   ],
   "source": [
    "lists = db['Models']\n",
    "import ast\n",
    "\n",
    "# str to list\n",
    "list_data = [ast.literal_eval(d) for d in lists]\n",
    "\n",
    "# unique list\n",
    "flat_list = [item for sublist in list_data for item in sublist]\n",
    "\n",
    "#unique values\n",
    "unique_values = set(flat_list)\n",
    "\n",
    "# new list\n",
    "unique_values_list = list(unique_values)\n",
    "\n",
    "\n",
    "len(unique_values_list)\n"
   ]
  },
  {
   "cell_type": "code",
   "execution_count": 43,
   "id": "3df5b480-30a8-4a1e-9605-549974105694",
   "metadata": {
    "scrolled": true
   },
   "outputs": [],
   "source": [
    "# convert str column to list\n",
    "db['Models'] = db['Models'].apply(ast.literal_eval)"
   ]
  },
  {
   "cell_type": "code",
   "execution_count": 44,
   "id": "571a3367-95b4-49c3-aa89-24aa8514eebc",
   "metadata": {},
   "outputs": [
    {
     "name": "stderr",
     "output_type": "stream",
     "text": [
      "C:\\Users\\InesC\\AppData\\Local\\Temp\\ipykernel_14224\\3311165932.py:2: FutureWarning: factorize with argument that is not not a Series, Index, ExtensionArray, or np.ndarray is deprecated and will raise in a future version.\n",
      "  id_model, name_model = pd.factorize(unique_values_list)\n"
     ]
    }
   ],
   "source": [
    "# map models IDs to new column ID model\n",
    "id_model, name_model = pd.factorize(unique_values_list)\n",
    "\n",
    "\n",
    "model_to_id = dict(zip(name_model, id_model))\n",
    "\n",
    "\n",
    "def map_models_to_ids(models):\n",
    "    return [model_to_id.get(model) for model in models]\n",
    "\n",
    "# Aplicando a função para criar a nova coluna 'ID_model'\n",
    "db['ID_model'] = db['Models'].apply(map_models_to_ids)"
   ]
  },
  {
   "cell_type": "markdown",
   "id": "d2bdfff6-8e1b-4343-b55b-f40e73eb1043",
   "metadata": {},
   "source": [
    "### ID product type"
   ]
  },
  {
   "cell_type": "code",
   "execution_count": 45,
   "id": "7cfdad69-3df6-4abb-a230-ee96c3ff40e7",
   "metadata": {},
   "outputs": [],
   "source": [
    "unique_products = db['Product_type'].unique()\n",
    "\n",
    "id_product_type, name_product_type = pd.factorize(unique_products)\n",
    "\n",
    "products_to_id = dict(zip(name_product_type, id_product_type))\n",
    "\n",
    "def map_products_to_ids(product):\n",
    "    return products_to_id.get(product)\n",
    "\n",
    "db['ID_product_type'] = db['Product_type'].apply(map_products_to_ids)"
   ]
  },
  {
   "cell_type": "markdown",
   "id": "141a9468-bc5f-474d-8feb-113beadf80b2",
   "metadata": {},
   "source": [
    "### ID composition"
   ]
  },
  {
   "cell_type": "code",
   "execution_count": 46,
   "id": "4fca37fb-ce6c-4c45-a6ea-e45640f9fdc6",
   "metadata": {},
   "outputs": [
    {
     "name": "stdout",
     "output_type": "stream",
     "text": [
      "{'steel production chromium steel 18/8 hot rolled': 0, 'polypropylene': 1, 'rubber production': 2, 'jute production': 3, 'zinc production': 4, 'acrylonitrile-butadiene-styrene': 5, 'polyamide': 6, 'reinforcing steel': 7, 'sheet rolling aluminium': 8, 'steel production converted low-alloyed': 9, 'polyurethane production': 10, 'glass fibre reinforced plastic': 11, 'steel production converted': 12}\n"
     ]
    }
   ],
   "source": [
    "split_compositions = db['Composition'].dropna().str.split(',').explode().str.strip()\n",
    "\n",
    "unique_compositions = split_compositions.unique()\n",
    "id_composition, name_composition = pd.factorize(unique_compositions)\n",
    "composition_to_id = dict(zip(name_composition, id_composition))\n",
    "\n",
    "print(composition_to_id)\n",
    "\n",
    "def map_compositions_to_ids(composition):\n",
    "    if pd.isna(composition):\n",
    "        return [-1]  # Retorna uma lista com -1 para NaN\n",
    "    compositions = [comp.strip() for comp in composition.split(',')]\n",
    "    ids = [composition_to_id.get(comp, -1) for comp in compositions]\n",
    "    return ids \n",
    "\n",
    "# Aplicar a função ao DataFrame\n",
    "db['ID_composition'] = db['Composition'].apply(map_compositions_to_ids)"
   ]
  },
  {
   "cell_type": "code",
   "execution_count": 47,
   "id": "8ea92ec0-bb1e-4f1d-b50e-73917c5bd146",
   "metadata": {},
   "outputs": [],
   "source": [
    "#unique_ids = db['ID_composition'].unique()\n",
    "#print(unique_ids)"
   ]
  },
  {
   "cell_type": "code",
   "execution_count": null,
   "id": "eb56d068-d6de-4def-a737-9007565778e5",
   "metadata": {},
   "outputs": [],
   "source": []
  },
  {
   "cell_type": "markdown",
   "id": "84920f4d-1928-419d-9c3e-f752c02788d8",
   "metadata": {},
   "source": [
    "### ID finish"
   ]
  },
  {
   "cell_type": "code",
   "execution_count": 48,
   "id": "8e88dfdf-eb66-47f0-ab65-b8e933895584",
   "metadata": {},
   "outputs": [
    {
     "name": "stdout",
     "output_type": "stream",
     "text": [
      "['electrostatic paint' 'zinc coating pieces' 'black chrome'\n",
      " 'seal production natural rubber' 'powder coating steel'\n",
      " 'chromium coat electroplating' 'plastic film'\n",
      " 'selective coating stainless steel black chrome' 'enamelling'\n",
      " 'acrylonitrile-butadiene-styrene']\n"
     ]
    }
   ],
   "source": [
    "all_finishes = db['Finish'].dropna().str.split(',').explode().str.strip()\n",
    "unique_finishes = all_finishes.unique()\n",
    "print(unique_finishes)\n",
    "\n",
    "id_finish, name_finish = pd.factorize(unique_finishes)\n",
    "#id_finish = id_finish.astype(int)\n",
    "\n",
    "finishes_to_id = dict(zip(name_finish, id_finish))\n",
    "#print(finishes_to_id)\n",
    "\n",
    "def map_finishes_to_ids(finish):\n",
    "    if pd.isna(finish):\n",
    "        return -1  # Valor para NaN\n",
    "    finishes = [finish.strip() for finish in finish.split(',')]\n",
    "    ids = [finishes_to_id.get(finish, -1) for finish in finishes]\n",
    "    if not ids:\n",
    "        return -1\n",
    "    return ids[0]\n",
    "\n",
    "\n",
    "db['ID_finish'] = db['Finish'].apply(map_finishes_to_ids)"
   ]
  },
  {
   "cell_type": "code",
   "execution_count": 49,
   "id": "87299d75-bdbc-4b4c-89cb-5b530d902ea7",
   "metadata": {},
   "outputs": [
    {
     "name": "stdout",
     "output_type": "stream",
     "text": [
      "[-1  0  1  2  3  4  5  6  7  8  9]\n"
     ]
    }
   ],
   "source": [
    "unique = db['ID_finish'].unique()\n",
    "print(unique)"
   ]
  },
  {
   "cell_type": "code",
   "execution_count": 50,
   "id": "3b7f8163-c9eb-43cc-8ebc-723fae01cb8c",
   "metadata": {},
   "outputs": [],
   "source": [
    "#db['ID_composition'] = db['ID_composition'].astype(int)\n",
    "#db['ID_finish'] = db['ID_finish'].astype(int)"
   ]
  },
  {
   "cell_type": "code",
   "execution_count": 51,
   "id": "9db0ac9d-b8fb-459a-9752-7e252c6cbc8d",
   "metadata": {},
   "outputs": [
    {
     "data": {
      "text/html": [
       "<div>\n",
       "<style scoped>\n",
       "    .dataframe tbody tr th:only-of-type {\n",
       "        vertical-align: middle;\n",
       "    }\n",
       "\n",
       "    .dataframe tbody tr th {\n",
       "        vertical-align: top;\n",
       "    }\n",
       "\n",
       "    .dataframe thead th {\n",
       "        text-align: right;\n",
       "    }\n",
       "</style>\n",
       "<table border=\"1\" class=\"dataframe\">\n",
       "  <thead>\n",
       "    <tr style=\"text-align: right;\">\n",
       "      <th></th>\n",
       "      <th>Name</th>\n",
       "      <th>Product_type</th>\n",
       "      <th>Composition</th>\n",
       "      <th>Finish</th>\n",
       "      <th>Weight (kg)</th>\n",
       "      <th>Length (mm)</th>\n",
       "      <th>Width (mm)</th>\n",
       "      <th>Height (mm)</th>\n",
       "      <th>Models</th>\n",
       "      <th>Price (€)</th>\n",
       "      <th>ID_part</th>\n",
       "      <th>ID_model</th>\n",
       "      <th>ID_product_type</th>\n",
       "      <th>ID_composition</th>\n",
       "      <th>ID_finish</th>\n",
       "    </tr>\n",
       "  </thead>\n",
       "  <tbody>\n",
       "    <tr>\n",
       "      <th>15</th>\n",
       "      <td>STOP CLIP, WINDSHIELD GLASS, 1968-72 A-BODY</td>\n",
       "      <td>window component</td>\n",
       "      <td>steel production chromium steel 18/8 hot rolled, rubber production</td>\n",
       "      <td>zinc coating pieces</td>\n",
       "      <td>0.00</td>\n",
       "      <td>91.44</td>\n",
       "      <td>58.42</td>\n",
       "      <td>7.62</td>\n",
       "      <td>[1968-1972 Buick Skylark, 1967-1969 Chevrolet Camaro, 1968-1972 Chevrolet Chevelle, 1968-1972 Chevrolet El Camino, 1970-1972 Chevrolet Monte Carlo, 1967-1979 Chevrolet Nova, 1968-1972 Oldsmobile Cutlass, 1969-1972 Pontiac Grand Prix, 1968-1972 Pontiac GTO, 1968-1972 Pontiac LeMans, 1968-1970 Pontiac Tempest]</td>\n",
       "      <td>8.49</td>\n",
       "      <td>15</td>\n",
       "      <td>[75, 379, 373, 175, 400, 84, 306, 252, 299, 39, 304]</td>\n",
       "      <td>9</td>\n",
       "      <td>[0, 2]</td>\n",
       "      <td>1</td>\n",
       "    </tr>\n",
       "    <tr>\n",
       "      <th>436</th>\n",
       "      <td>STOP CLIP, WINDSHIELD GLASS, 1968-72 A-BODY, PAIR</td>\n",
       "      <td>window component</td>\n",
       "      <td>steel production chromium steel 18/8 hot rolled, rubber production</td>\n",
       "      <td>zinc coating pieces</td>\n",
       "      <td>0.05</td>\n",
       "      <td>91.44</td>\n",
       "      <td>58.42</td>\n",
       "      <td>7.62</td>\n",
       "      <td>[1968-1972 Buick Skylark, 1967-1969 Chevrolet Camaro, 1968-1972 Chevrolet Chevelle, 1968-1972 Chevrolet El Camino, 1970-1972 Chevrolet Monte Carlo, 1967-1979 Chevrolet Nova, 1968-1972 Oldsmobile Cutlass, 1969-1972 Pontiac Grand Prix, 1968-1972 Pontiac GTO, 1968-1972 Pontiac LeMans, 1968-1970 Pontiac Tempest]</td>\n",
       "      <td>16.99</td>\n",
       "      <td>436</td>\n",
       "      <td>[75, 379, 373, 175, 400, 84, 306, 252, 299, 39, 304]</td>\n",
       "      <td>9</td>\n",
       "      <td>[0, 2]</td>\n",
       "      <td>1</td>\n",
       "    </tr>\n",
       "  </tbody>\n",
       "</table>\n",
       "</div>"
      ],
      "text/plain": [
       "                                                  Name      Product_type  \\\n",
       "15         STOP CLIP, WINDSHIELD GLASS, 1968-72 A-BODY  window component   \n",
       "436  STOP CLIP, WINDSHIELD GLASS, 1968-72 A-BODY, PAIR  window component   \n",
       "\n",
       "                                                            Composition  \\\n",
       "15   steel production chromium steel 18/8 hot rolled, rubber production   \n",
       "436  steel production chromium steel 18/8 hot rolled, rubber production   \n",
       "\n",
       "                  Finish  Weight (kg)  Length (mm)  Width (mm)  Height (mm)  \\\n",
       "15   zinc coating pieces         0.00        91.44       58.42         7.62   \n",
       "436  zinc coating pieces         0.05        91.44       58.42         7.62   \n",
       "\n",
       "                                                                                                                                                                                                                                                                                                                    Models  \\\n",
       "15   [1968-1972 Buick Skylark, 1967-1969 Chevrolet Camaro, 1968-1972 Chevrolet Chevelle, 1968-1972 Chevrolet El Camino, 1970-1972 Chevrolet Monte Carlo, 1967-1979 Chevrolet Nova, 1968-1972 Oldsmobile Cutlass, 1969-1972 Pontiac Grand Prix, 1968-1972 Pontiac GTO, 1968-1972 Pontiac LeMans, 1968-1970 Pontiac Tempest]   \n",
       "436  [1968-1972 Buick Skylark, 1967-1969 Chevrolet Camaro, 1968-1972 Chevrolet Chevelle, 1968-1972 Chevrolet El Camino, 1970-1972 Chevrolet Monte Carlo, 1967-1979 Chevrolet Nova, 1968-1972 Oldsmobile Cutlass, 1969-1972 Pontiac Grand Prix, 1968-1972 Pontiac GTO, 1968-1972 Pontiac LeMans, 1968-1970 Pontiac Tempest]   \n",
       "\n",
       "     Price (€)  ID_part                                              ID_model  \\\n",
       "15        8.49       15  [75, 379, 373, 175, 400, 84, 306, 252, 299, 39, 304]   \n",
       "436      16.99      436  [75, 379, 373, 175, 400, 84, 306, 252, 299, 39, 304]   \n",
       "\n",
       "     ID_product_type ID_composition  ID_finish  \n",
       "15                 9         [0, 2]          1  \n",
       "436                9         [0, 2]          1  "
      ]
     },
     "execution_count": 51,
     "metadata": {},
     "output_type": "execute_result"
    }
   ],
   "source": [
    "db[db['Composition'] == 'steel production chromium steel 18/8 hot rolled, rubber production']"
   ]
  },
  {
   "cell_type": "code",
   "execution_count": 52,
   "id": "d3618087-0f6e-41ab-92e0-147996094019",
   "metadata": {},
   "outputs": [],
   "source": [
    "def split_model_info(model_info):\n",
    "    parts = model_info.split(' ')\n",
    "    year_range = parts[0].split('-')\n",
    "    ano_inicio = year_range[0]\n",
    "    ano_fim = year_range[1] if len(year_range) > 1 else year_range[0]\n",
    "    marca = parts[1]\n",
    "    modelo = ' '.join(parts[2:])\n",
    "   \n",
    "    \n",
    "    # Concatenar todas as partes em uma única string\n",
    "    return f\"{marca}, {modelo}, {ano_inicio}, {ano_fim}\"\n",
    "\n",
    "# Aplicar a função a todos os valores\n",
    "split_data = [split_model_info(model) for model in flat_list]\n",
    "\n",
    "# Criar um novo DataFrame com a coluna única\n",
    "db22 = pd.DataFrame(split_data, columns=['Model_Info'])\n"
   ]
  },
  {
   "cell_type": "code",
   "execution_count": 53,
   "id": "c102af9b-551e-4998-a440-24869eeb17f5",
   "metadata": {
    "scrolled": true
   },
   "outputs": [
    {
     "data": {
      "text/html": [
       "<div>\n",
       "<style scoped>\n",
       "    .dataframe tbody tr th:only-of-type {\n",
       "        vertical-align: middle;\n",
       "    }\n",
       "\n",
       "    .dataframe tbody tr th {\n",
       "        vertical-align: top;\n",
       "    }\n",
       "\n",
       "    .dataframe thead th {\n",
       "        text-align: right;\n",
       "    }\n",
       "</style>\n",
       "<table border=\"1\" class=\"dataframe\">\n",
       "  <thead>\n",
       "    <tr style=\"text-align: right;\">\n",
       "      <th></th>\n",
       "      <th>Model_Info</th>\n",
       "    </tr>\n",
       "  </thead>\n",
       "  <tbody>\n",
       "    <tr>\n",
       "      <th>count</th>\n",
       "      <td>2714</td>\n",
       "    </tr>\n",
       "    <tr>\n",
       "      <th>unique</th>\n",
       "      <td>445</td>\n",
       "    </tr>\n",
       "    <tr>\n",
       "      <th>top</th>\n",
       "      <td>Chevrolet, Monte Carlo, 1970, 1972</td>\n",
       "    </tr>\n",
       "    <tr>\n",
       "      <th>freq</th>\n",
       "      <td>111</td>\n",
       "    </tr>\n",
       "  </tbody>\n",
       "</table>\n",
       "</div>"
      ],
      "text/plain": [
       "                                Model_Info\n",
       "count                                 2714\n",
       "unique                                 445\n",
       "top     Chevrolet, Monte Carlo, 1970, 1972\n",
       "freq                                   111"
      ]
     },
     "execution_count": 53,
     "metadata": {},
     "output_type": "execute_result"
    }
   ],
   "source": [
    "db22.describe()"
   ]
  },
  {
   "cell_type": "code",
   "execution_count": 54,
   "id": "4a7ff7fb-1c5d-4ae9-b6a9-c2b54fb48c28",
   "metadata": {},
   "outputs": [],
   "source": [
    "def split_model_info(model_info):\n",
    "    parts = model_info.split(' ')\n",
    "    year_range = parts[0].split('-')\n",
    "    ano_inicio = year_range[0]\n",
    "    ano_fim = year_range[1] if len(year_range) > 1 else year_range[0]\n",
    "    marca = parts[1]\n",
    "    modelo = ' '.join(parts[2:])\n",
    "    ID_model = model_to_id.get(model_info)\n",
    "    return [ID_model, marca, modelo, ano_inicio, ano_fim]\n",
    "\n",
    "# Aplicar a função a todos os valores únicos\n",
    "split_data = [split_model_info(model) for model in unique_values_list]\n",
    "\n",
    "# Criar um novo DataFrame com as colunas divididas\n",
    "columns = ['ID_model','Brand', 'Model', 'Start_year', 'End_year']\n",
    "db2 = pd.DataFrame(split_data, columns=columns)\n"
   ]
  },
  {
   "cell_type": "code",
   "execution_count": 55,
   "id": "46e99959-f171-4fb6-99bc-7eac951609a2",
   "metadata": {},
   "outputs": [
    {
     "data": {
      "text/html": [
       "<div>\n",
       "<style scoped>\n",
       "    .dataframe tbody tr th:only-of-type {\n",
       "        vertical-align: middle;\n",
       "    }\n",
       "\n",
       "    .dataframe tbody tr th {\n",
       "        vertical-align: top;\n",
       "    }\n",
       "\n",
       "    .dataframe thead th {\n",
       "        text-align: right;\n",
       "    }\n",
       "</style>\n",
       "<table border=\"1\" class=\"dataframe\">\n",
       "  <thead>\n",
       "    <tr style=\"text-align: right;\">\n",
       "      <th></th>\n",
       "      <th>ID_model</th>\n",
       "      <th>Brand</th>\n",
       "      <th>Model</th>\n",
       "      <th>Start_year</th>\n",
       "      <th>End_year</th>\n",
       "    </tr>\n",
       "  </thead>\n",
       "  <tbody>\n",
       "    <tr>\n",
       "      <th>439</th>\n",
       "      <td>439</td>\n",
       "      <td>Chevrolet</td>\n",
       "      <td>Impala</td>\n",
       "      <td>1969</td>\n",
       "      <td>1969</td>\n",
       "    </tr>\n",
       "    <tr>\n",
       "      <th>440</th>\n",
       "      <td>440</td>\n",
       "      <td>Chevrolet</td>\n",
       "      <td>Nova</td>\n",
       "      <td>1971</td>\n",
       "      <td>1974</td>\n",
       "    </tr>\n",
       "    <tr>\n",
       "      <th>441</th>\n",
       "      <td>441</td>\n",
       "      <td>Pontiac</td>\n",
       "      <td>Catalina</td>\n",
       "      <td>1969</td>\n",
       "      <td>1972</td>\n",
       "    </tr>\n",
       "    <tr>\n",
       "      <th>442</th>\n",
       "      <td>442</td>\n",
       "      <td>Buick</td>\n",
       "      <td>Skylark</td>\n",
       "      <td>1961</td>\n",
       "      <td>1972</td>\n",
       "    </tr>\n",
       "    <tr>\n",
       "      <th>443</th>\n",
       "      <td>443</td>\n",
       "      <td>Pontiac</td>\n",
       "      <td>LeMans</td>\n",
       "      <td>1967</td>\n",
       "      <td>1973</td>\n",
       "    </tr>\n",
       "    <tr>\n",
       "      <th>444</th>\n",
       "      <td>444</td>\n",
       "      <td>Chevrolet</td>\n",
       "      <td>Corvette</td>\n",
       "      <td>1973</td>\n",
       "      <td>1975</td>\n",
       "    </tr>\n",
       "  </tbody>\n",
       "</table>\n",
       "</div>"
      ],
      "text/plain": [
       "     ID_model      Brand     Model Start_year End_year\n",
       "439       439  Chevrolet    Impala       1969     1969\n",
       "440       440  Chevrolet      Nova       1971     1974\n",
       "441       441    Pontiac  Catalina       1969     1972\n",
       "442       442      Buick   Skylark       1961     1972\n",
       "443       443    Pontiac    LeMans       1967     1973\n",
       "444       444  Chevrolet  Corvette       1973     1975"
      ]
     },
     "execution_count": 55,
     "metadata": {},
     "output_type": "execute_result"
    }
   ],
   "source": [
    "db2.tail(6)"
   ]
  },
  {
   "cell_type": "code",
   "execution_count": 56,
   "id": "4778e0ad-c86f-4d06-a833-5ec480d08b88",
   "metadata": {},
   "outputs": [
    {
     "name": "stdout",
     "output_type": "stream",
     "text": [
      "['Pontiac', 'Chevrolet', 'Oldsmobile', 'Cadillac', 'Buick', 'GMC']\n"
     ]
    }
   ],
   "source": [
    "unique_brand = db2['Brand'].unique().tolist()\n",
    "print(unique_brand)"
   ]
  },
  {
   "cell_type": "code",
   "execution_count": 57,
   "id": "799f68fb-311a-4482-9ab9-acd5a1073788",
   "metadata": {},
   "outputs": [
    {
     "name": "stdout",
     "output_type": "stream",
     "text": [
      "['LeMans', 'Nova', 'Catalina', 'Omega', 'Cutlass', 'Grand Prix', 'Tempest', 'Monte Carlo', 'Astre', '60 Special', 'Caprice', 'GTO', 'Bel Air', 'Chevelle', 'Camaro', 'Firebird', 'Pickup', 'Ventura', 'T-Type', 'Fleetwood', 'Century', 'Seville', 'DeVille', 'Skylark', 'Corvette', 'Caballero', 'Electra', 'El Camino', 'Starfire', 'Riviera', 'Bonneville', 'Parisienne', 'Biscayne', 'Brookwood', 'Malibu', 'Ninety-Eight', 'Series 65', 'Impala', 'Regal', 'Eighty-Eight', 'Eldorado', 'Sunbird', 'Toronado', 'Tri-Five', 'Series 62', 'Grand Am', 'Apollo', 'Acadian', 'Monza', 'Grand National', 'Sprint', 'Estate', 'Wildcat', 'Series 60', 'Corvair', 'Lesabre', 'Roadmaster', 'Blazer', 'Series 70', 'Series 63', 'Vega', 'Centurion', 'Series 61', 'Skyhawk', 'Nomad']\n"
     ]
    }
   ],
   "source": [
    "unique_model = db2['Model'].unique().tolist()\n",
    "print(unique_model)"
   ]
  },
  {
   "cell_type": "code",
   "execution_count": 58,
   "id": "af2c0c6a-5e8e-4760-916b-4c636064e644",
   "metadata": {},
   "outputs": [
    {
     "name": "stdout",
     "output_type": "stream",
     "text": [
      "['1969', '1962', '1959', '1973', '1966', '1965', '1970', '1938', '1964', '1968', '1971', '1967', '1961', '1983', '1974', '1980', '1977', '1982', '1976', '1981', '1963', '1975', '1958', '1997', '1954', '1946', '1978', '1994', '1984', '1949', '2010', '1979', '1941', '1955', '1986', '1987', '1953', '1990', '1939', '1936', '2000', '1940', '1985', '1960', '1947']\n"
     ]
    }
   ],
   "source": [
    "unique_startyear = db2['Start_year'].unique().tolist()\n",
    "print(unique_startyear)"
   ]
  },
  {
   "cell_type": "code",
   "execution_count": 59,
   "id": "f3eaf83f-26a1-4a26-a1ab-03ba345e5374",
   "metadata": {},
   "outputs": [
    {
     "data": {
      "text/plain": [
       "ID_model      445\n",
       "Brand         445\n",
       "Model         445\n",
       "Start_year    445\n",
       "End_year      445\n",
       "dtype: int64"
      ]
     },
     "execution_count": 59,
     "metadata": {},
     "output_type": "execute_result"
    }
   ],
   "source": [
    "db2.count() "
   ]
  },
  {
   "cell_type": "code",
   "execution_count": 60,
   "id": "11acb4cc-1768-478c-98b8-1863b45d313f",
   "metadata": {},
   "outputs": [],
   "source": [
    "db2['ID_model'] = db2['ID_model'].astype('object')"
   ]
  },
  {
   "cell_type": "code",
   "execution_count": 61,
   "id": "02ce767f-88cf-486d-9a36-b1b238062aa8",
   "metadata": {},
   "outputs": [
    {
     "data": {
      "text/html": [
       "<div>\n",
       "<style scoped>\n",
       "    .dataframe tbody tr th:only-of-type {\n",
       "        vertical-align: middle;\n",
       "    }\n",
       "\n",
       "    .dataframe tbody tr th {\n",
       "        vertical-align: top;\n",
       "    }\n",
       "\n",
       "    .dataframe thead th {\n",
       "        text-align: right;\n",
       "    }\n",
       "</style>\n",
       "<table border=\"1\" class=\"dataframe\">\n",
       "  <thead>\n",
       "    <tr style=\"text-align: right;\">\n",
       "      <th></th>\n",
       "      <th>ID_model</th>\n",
       "      <th>Brand</th>\n",
       "      <th>Model</th>\n",
       "      <th>Start_year</th>\n",
       "      <th>End_year</th>\n",
       "    </tr>\n",
       "  </thead>\n",
       "  <tbody>\n",
       "    <tr>\n",
       "      <th>count</th>\n",
       "      <td>445</td>\n",
       "      <td>445</td>\n",
       "      <td>445</td>\n",
       "      <td>445</td>\n",
       "      <td>445</td>\n",
       "    </tr>\n",
       "    <tr>\n",
       "      <th>unique</th>\n",
       "      <td>445</td>\n",
       "      <td>6</td>\n",
       "      <td>65</td>\n",
       "      <td>45</td>\n",
       "      <td>43</td>\n",
       "    </tr>\n",
       "    <tr>\n",
       "      <th>top</th>\n",
       "      <td>0</td>\n",
       "      <td>Chevrolet</td>\n",
       "      <td>El Camino</td>\n",
       "      <td>1964</td>\n",
       "      <td>1972</td>\n",
       "    </tr>\n",
       "    <tr>\n",
       "      <th>freq</th>\n",
       "      <td>1</td>\n",
       "      <td>154</td>\n",
       "      <td>30</td>\n",
       "      <td>55</td>\n",
       "      <td>54</td>\n",
       "    </tr>\n",
       "  </tbody>\n",
       "</table>\n",
       "</div>"
      ],
      "text/plain": [
       "        ID_model      Brand      Model Start_year End_year\n",
       "count        445        445        445        445      445\n",
       "unique       445          6         65         45       43\n",
       "top            0  Chevrolet  El Camino       1964     1972\n",
       "freq           1        154         30         55       54"
      ]
     },
     "execution_count": 61,
     "metadata": {},
     "output_type": "execute_result"
    }
   ],
   "source": [
    "db2.describe(include='all')"
   ]
  },
  {
   "cell_type": "markdown",
   "id": "34c84ff7-352a-447d-b797-9707330e8073",
   "metadata": {},
   "source": [
    "### 6.2. Brand table\n",
    "\n",
    "<a id='6.2'>"
   ]
  },
  {
   "cell_type": "code",
   "execution_count": 62,
   "id": "a4c62abf-e694-4dc2-8cbf-1e7685f46054",
   "metadata": {},
   "outputs": [],
   "source": [
    "unique_brands = db2['Brand'].unique()\n",
    "\n",
    "id_brand, name_brand = pd.factorize(unique_brands)\n",
    "\n",
    "brands_to_id = dict(zip(name_brand, id_brand))\n",
    "\n",
    "def map_brands_to_ids(brand):\n",
    "    return brands_to_id.get(brand)\n",
    "\n",
    "db2['ID_brand'] = db2['Brand'].apply(map_brands_to_ids)"
   ]
  },
  {
   "cell_type": "code",
   "execution_count": 63,
   "id": "cc8eb8ee-cf44-48bf-bc23-22bb51a9d699",
   "metadata": {},
   "outputs": [],
   "source": [
    "db6 = db2.loc[:,['ID_brand','Brand']]\n",
    "db6 = db6.drop_duplicates()\n"
   ]
  },
  {
   "cell_type": "code",
   "execution_count": 64,
   "id": "be9daa26-7bcb-4d97-a66a-a5cca9c05dcf",
   "metadata": {},
   "outputs": [
    {
     "data": {
      "text/html": [
       "<div>\n",
       "<style scoped>\n",
       "    .dataframe tbody tr th:only-of-type {\n",
       "        vertical-align: middle;\n",
       "    }\n",
       "\n",
       "    .dataframe tbody tr th {\n",
       "        vertical-align: top;\n",
       "    }\n",
       "\n",
       "    .dataframe thead th {\n",
       "        text-align: right;\n",
       "    }\n",
       "</style>\n",
       "<table border=\"1\" class=\"dataframe\">\n",
       "  <thead>\n",
       "    <tr style=\"text-align: right;\">\n",
       "      <th></th>\n",
       "      <th>ID_brand</th>\n",
       "      <th>Brand</th>\n",
       "    </tr>\n",
       "  </thead>\n",
       "  <tbody>\n",
       "    <tr>\n",
       "      <th>0</th>\n",
       "      <td>0</td>\n",
       "      <td>Pontiac</td>\n",
       "    </tr>\n",
       "    <tr>\n",
       "      <th>1</th>\n",
       "      <td>1</td>\n",
       "      <td>Chevrolet</td>\n",
       "    </tr>\n",
       "  </tbody>\n",
       "</table>\n",
       "</div>"
      ],
      "text/plain": [
       "   ID_brand      Brand\n",
       "0         0    Pontiac\n",
       "1         1  Chevrolet"
      ]
     },
     "execution_count": 64,
     "metadata": {},
     "output_type": "execute_result"
    }
   ],
   "source": [
    "db6.head(2)"
   ]
  },
  {
   "cell_type": "markdown",
   "id": "a35aa770-7040-4112-a2e2-f7b50c96235d",
   "metadata": {},
   "source": [
    "### 6.3. Compostiion and finishing tables\n",
    "\n",
    "<a id='6.3'>"
   ]
  },
  {
   "cell_type": "code",
   "execution_count": 65,
   "id": "7d15bf9d-1ad0-4374-b595-eec069f6f36b",
   "metadata": {
    "scrolled": true
   },
   "outputs": [],
   "source": [
    "import numpy as np\n",
    "\n",
    "conditions = [\n",
    "    db['Composition'].str.contains('steel', case=False, na=False),\n",
    "    db['Composition'].str.contains('plastic', case=False, na=False),\n",
    "    db['Composition'].str.contains('zinc', case=False, na=False),\n",
    "    db['Composition'].str.contains('rubber', case=False, na=False),\n",
    "    db['Composition'].str.contains('chrome', case=False, na=False),\n",
    "    db['Composition'].str.contains('metal', case=False, na=False),\n",
    "    db['Composition'].str.contains('edp', case=False, na=False),\n",
    "    db['Composition'].str.contains('fiberglass', case=False, na=False),\n",
    "    db['Composition'].str.contains('aluminum', case=False, na=False),\n",
    "    db['Composition'].str.contains('natural', case=False, na=False),\n",
    "]\n",
    "\n",
    "choices = [\n",
    "    'steel', 'plastic', 'zinc', 'rubber', 'chrome', \n",
    "    'metal', 'EDP', 'fiberglass', 'aluminium', 'natural'\n",
    "]\n",
    "\n",
    "#db['Composition_material'] = np.select(conditions, choices, default='')\n",
    "\n",
    "conditions2 = [\n",
    "    db['Finish'].str.contains('zinc', case=False, na=False),\n",
    "    db['Finish'].str.contains('polished', case=False, na=False),\n",
    "    db['Finish'].str.contains('rubber', case=False, na=False),\n",
    "    db['Finish'].str.contains('galvanized', case=False, na=False),\n",
    "    db['Finish'].str.contains('metal', case=False, na=False),\n",
    "    db['Finish'].str.contains('edp', case=False, na=False),\n",
    "    db['Finish'].str.contains('chrome', case=False, na=False),\n",
    "    db['Finish'].str.contains('primer', case=False, na=False),\n",
    "    db['Finish'].str.contains('natural', case=False, na=False),\n",
    "]\n",
    "\n",
    "choices2 = [\n",
    "    'zinc', 'polished', 'rubber', 'galvanized', \n",
    "    'metal', 'EDP', 'chrome', 'primer', 'natural'\n",
    "]\n",
    "\n",
    "#db['Finish_type'] = np.select(conditions2, choices2, default='')\n",
    "\n",
    "#db3 = db[['ID_part','Name','Composition', 'Composition_material', 'Finish', 'Finish_type']]\n",
    "\n",
    "#db3.head()"
   ]
  },
  {
   "cell_type": "markdown",
   "id": "2d63b796-f061-4fe4-8bca-578c82f23ebe",
   "metadata": {},
   "source": [
    "### 6.3 Product type table\n",
    "<a id='6.3'>"
   ]
  },
  {
   "cell_type": "code",
   "execution_count": 66,
   "id": "b5828215-6be4-4f6a-9f18-d11d53562342",
   "metadata": {},
   "outputs": [],
   "source": [
    "# Extração dos produtos únicos e suas IDs\n",
    "unique_products = db['Product_type'].unique()\n",
    "id_product_type, name_product_type = pd.factorize(unique_products)\n",
    "\n",
    "products_to_id = dict(zip(name_product_type, id_product_type))\n",
    "\n",
    "def map_products_to_ids(product):\n",
    "    return products_to_id.get(product)\n",
    "\n",
    "db['ID_product_type'] = db['Product_type'].apply(map_products_to_ids)\n",
    "\n",
    "db5= db[['ID_product_type', 'Product_type']].drop_duplicates()\n",
    "\n",
    "db5.reset_index(drop=True, inplace=True)\n"
   ]
  },
  {
   "cell_type": "code",
   "execution_count": 67,
   "id": "4dc3688d-b366-4364-82af-56e53fb614d0",
   "metadata": {},
   "outputs": [
    {
     "data": {
      "text/html": [
       "<div>\n",
       "<style scoped>\n",
       "    .dataframe tbody tr th:only-of-type {\n",
       "        vertical-align: middle;\n",
       "    }\n",
       "\n",
       "    .dataframe tbody tr th {\n",
       "        vertical-align: top;\n",
       "    }\n",
       "\n",
       "    .dataframe thead th {\n",
       "        text-align: right;\n",
       "    }\n",
       "</style>\n",
       "<table border=\"1\" class=\"dataframe\">\n",
       "  <thead>\n",
       "    <tr style=\"text-align: right;\">\n",
       "      <th></th>\n",
       "      <th>ID_product_type</th>\n",
       "      <th>Product_type</th>\n",
       "    </tr>\n",
       "  </thead>\n",
       "  <tbody>\n",
       "    <tr>\n",
       "      <th>0</th>\n",
       "      <td>0</td>\n",
       "      <td>hardware, fasteners and fittings</td>\n",
       "    </tr>\n",
       "    <tr>\n",
       "      <th>1</th>\n",
       "      <td>1</td>\n",
       "      <td>cowl induction components</td>\n",
       "    </tr>\n",
       "  </tbody>\n",
       "</table>\n",
       "</div>"
      ],
      "text/plain": [
       "   ID_product_type                      Product_type\n",
       "0                0  hardware, fasteners and fittings\n",
       "1                1         cowl induction components"
      ]
     },
     "execution_count": 67,
     "metadata": {},
     "output_type": "execute_result"
    }
   ],
   "source": [
    "db5.head(2)"
   ]
  },
  {
   "cell_type": "code",
   "execution_count": 68,
   "id": "37358a47-deb0-470e-873f-9d7d6574a678",
   "metadata": {},
   "outputs": [
    {
     "name": "stdout",
     "output_type": "stream",
     "text": [
      "<class 'pandas.core.frame.DataFrame'>\n",
      "RangeIndex: 77 entries, 0 to 76\n",
      "Data columns (total 2 columns):\n",
      " #   Column           Non-Null Count  Dtype \n",
      "---  ------           --------------  ----- \n",
      " 0   ID_product_type  77 non-null     int64 \n",
      " 1   Product_type     77 non-null     object\n",
      "dtypes: int64(1), object(1)\n",
      "memory usage: 1.3+ KB\n"
     ]
    }
   ],
   "source": [
    "db5.info()"
   ]
  },
  {
   "cell_type": "markdown",
   "id": "253ef42f-4d3e-4827-ae95-8d5275d3b356",
   "metadata": {},
   "source": [
    "### 6.4 Composition table\n",
    "<a id='6.4'>"
   ]
  },
  {
   "cell_type": "code",
   "execution_count": 69,
   "id": "c858bce6-3331-47c7-913c-7d175db9e9e5",
   "metadata": {},
   "outputs": [],
   "source": [
    "data = [(id, comp) for comp, id in composition_to_id.items()]\n",
    "\n",
    "# Criar o DataFrame\n",
    "db7 = pd.DataFrame(data, columns=['ID_composition', 'Composition'])\n",
    "\n",
    "# Remover duplicatas e redefinir o índice\n",
    "db7 = db7.drop_duplicates()\n",
    "db7.reset_index(drop=True, inplace=True)\n"
   ]
  },
  {
   "cell_type": "code",
   "execution_count": 70,
   "id": "2e3619ce-b4cd-4d28-8ff9-ecf9d150ae27",
   "metadata": {},
   "outputs": [
    {
     "data": {
      "text/html": [
       "<div>\n",
       "<style scoped>\n",
       "    .dataframe tbody tr th:only-of-type {\n",
       "        vertical-align: middle;\n",
       "    }\n",
       "\n",
       "    .dataframe tbody tr th {\n",
       "        vertical-align: top;\n",
       "    }\n",
       "\n",
       "    .dataframe thead th {\n",
       "        text-align: right;\n",
       "    }\n",
       "</style>\n",
       "<table border=\"1\" class=\"dataframe\">\n",
       "  <thead>\n",
       "    <tr style=\"text-align: right;\">\n",
       "      <th></th>\n",
       "      <th>ID_composition</th>\n",
       "      <th>Composition</th>\n",
       "    </tr>\n",
       "  </thead>\n",
       "  <tbody>\n",
       "    <tr>\n",
       "      <th>0</th>\n",
       "      <td>0</td>\n",
       "      <td>steel production chromium steel 18/8 hot rolled</td>\n",
       "    </tr>\n",
       "    <tr>\n",
       "      <th>1</th>\n",
       "      <td>1</td>\n",
       "      <td>polypropylene</td>\n",
       "    </tr>\n",
       "    <tr>\n",
       "      <th>2</th>\n",
       "      <td>2</td>\n",
       "      <td>rubber production</td>\n",
       "    </tr>\n",
       "    <tr>\n",
       "      <th>3</th>\n",
       "      <td>3</td>\n",
       "      <td>jute production</td>\n",
       "    </tr>\n",
       "    <tr>\n",
       "      <th>4</th>\n",
       "      <td>4</td>\n",
       "      <td>zinc production</td>\n",
       "    </tr>\n",
       "    <tr>\n",
       "      <th>5</th>\n",
       "      <td>5</td>\n",
       "      <td>acrylonitrile-butadiene-styrene</td>\n",
       "    </tr>\n",
       "    <tr>\n",
       "      <th>6</th>\n",
       "      <td>6</td>\n",
       "      <td>polyamide</td>\n",
       "    </tr>\n",
       "    <tr>\n",
       "      <th>7</th>\n",
       "      <td>7</td>\n",
       "      <td>reinforcing steel</td>\n",
       "    </tr>\n",
       "    <tr>\n",
       "      <th>8</th>\n",
       "      <td>8</td>\n",
       "      <td>sheet rolling aluminium</td>\n",
       "    </tr>\n",
       "    <tr>\n",
       "      <th>9</th>\n",
       "      <td>9</td>\n",
       "      <td>steel production converted low-alloyed</td>\n",
       "    </tr>\n",
       "    <tr>\n",
       "      <th>10</th>\n",
       "      <td>10</td>\n",
       "      <td>polyurethane production</td>\n",
       "    </tr>\n",
       "    <tr>\n",
       "      <th>11</th>\n",
       "      <td>11</td>\n",
       "      <td>glass fibre reinforced plastic</td>\n",
       "    </tr>\n",
       "    <tr>\n",
       "      <th>12</th>\n",
       "      <td>12</td>\n",
       "      <td>steel production converted</td>\n",
       "    </tr>\n",
       "  </tbody>\n",
       "</table>\n",
       "</div>"
      ],
      "text/plain": [
       "    ID_composition                                      Composition\n",
       "0                0  steel production chromium steel 18/8 hot rolled\n",
       "1                1                                    polypropylene\n",
       "2                2                                rubber production\n",
       "3                3                                  jute production\n",
       "4                4                                  zinc production\n",
       "5                5                  acrylonitrile-butadiene-styrene\n",
       "6                6                                        polyamide\n",
       "7                7                                reinforcing steel\n",
       "8                8                          sheet rolling aluminium\n",
       "9                9           steel production converted low-alloyed\n",
       "10              10                          polyurethane production\n",
       "11              11                   glass fibre reinforced plastic\n",
       "12              12                       steel production converted"
      ]
     },
     "execution_count": 70,
     "metadata": {},
     "output_type": "execute_result"
    }
   ],
   "source": [
    "db7.head(13)"
   ]
  },
  {
   "cell_type": "code",
   "execution_count": 71,
   "id": "abf81fc4-e8fa-4d86-b832-1cc4eead5320",
   "metadata": {},
   "outputs": [
    {
     "name": "stdout",
     "output_type": "stream",
     "text": [
      "<class 'pandas.core.frame.DataFrame'>\n",
      "RangeIndex: 13 entries, 0 to 12\n",
      "Data columns (total 2 columns):\n",
      " #   Column          Non-Null Count  Dtype \n",
      "---  ------          --------------  ----- \n",
      " 0   ID_composition  13 non-null     int64 \n",
      " 1   Composition     13 non-null     object\n",
      "dtypes: int64(1), object(1)\n",
      "memory usage: 340.0+ bytes\n"
     ]
    }
   ],
   "source": [
    "db7.info()"
   ]
  },
  {
   "cell_type": "markdown",
   "id": "8d8d8b59-ed35-4472-9407-bec794085fda",
   "metadata": {},
   "source": [
    "### 6.5 Finish table\n",
    "<a id='6.5'>"
   ]
  },
  {
   "cell_type": "code",
   "execution_count": 72,
   "id": "e0347a8a-a987-4500-8c20-7cde5828651e",
   "metadata": {},
   "outputs": [],
   "source": [
    "data = [(id, finish) for finish, id in finishes_to_id.items()]\n",
    "\n",
    "# Criar o DataFrame\n",
    "db8 = pd.DataFrame(data, columns=['ID_finish', 'Finish'])\n",
    "\n",
    "# Remover duplicatas e redefinir o índice\n",
    "db8 = db8.drop_duplicates()\n",
    "db8 = db8.dropna()\n",
    "db8.reset_index(drop=True, inplace=True)"
   ]
  },
  {
   "cell_type": "code",
   "execution_count": 73,
   "id": "252ff944-a687-44fe-aa7c-9d6046ae6863",
   "metadata": {},
   "outputs": [
    {
     "data": {
      "text/html": [
       "<div>\n",
       "<style scoped>\n",
       "    .dataframe tbody tr th:only-of-type {\n",
       "        vertical-align: middle;\n",
       "    }\n",
       "\n",
       "    .dataframe tbody tr th {\n",
       "        vertical-align: top;\n",
       "    }\n",
       "\n",
       "    .dataframe thead th {\n",
       "        text-align: right;\n",
       "    }\n",
       "</style>\n",
       "<table border=\"1\" class=\"dataframe\">\n",
       "  <thead>\n",
       "    <tr style=\"text-align: right;\">\n",
       "      <th></th>\n",
       "      <th>ID_finish</th>\n",
       "      <th>Finish</th>\n",
       "    </tr>\n",
       "  </thead>\n",
       "  <tbody>\n",
       "    <tr>\n",
       "      <th>0</th>\n",
       "      <td>0</td>\n",
       "      <td>electrostatic paint</td>\n",
       "    </tr>\n",
       "    <tr>\n",
       "      <th>1</th>\n",
       "      <td>1</td>\n",
       "      <td>zinc coating pieces</td>\n",
       "    </tr>\n",
       "    <tr>\n",
       "      <th>2</th>\n",
       "      <td>2</td>\n",
       "      <td>black chrome</td>\n",
       "    </tr>\n",
       "    <tr>\n",
       "      <th>3</th>\n",
       "      <td>3</td>\n",
       "      <td>seal production natural rubber</td>\n",
       "    </tr>\n",
       "    <tr>\n",
       "      <th>4</th>\n",
       "      <td>4</td>\n",
       "      <td>powder coating steel</td>\n",
       "    </tr>\n",
       "    <tr>\n",
       "      <th>5</th>\n",
       "      <td>5</td>\n",
       "      <td>chromium coat electroplating</td>\n",
       "    </tr>\n",
       "    <tr>\n",
       "      <th>6</th>\n",
       "      <td>6</td>\n",
       "      <td>plastic film</td>\n",
       "    </tr>\n",
       "    <tr>\n",
       "      <th>7</th>\n",
       "      <td>7</td>\n",
       "      <td>selective coating stainless steel black chrome</td>\n",
       "    </tr>\n",
       "    <tr>\n",
       "      <th>8</th>\n",
       "      <td>8</td>\n",
       "      <td>enamelling</td>\n",
       "    </tr>\n",
       "    <tr>\n",
       "      <th>9</th>\n",
       "      <td>9</td>\n",
       "      <td>acrylonitrile-butadiene-styrene</td>\n",
       "    </tr>\n",
       "  </tbody>\n",
       "</table>\n",
       "</div>"
      ],
      "text/plain": [
       "   ID_finish                                          Finish\n",
       "0          0                             electrostatic paint\n",
       "1          1                             zinc coating pieces\n",
       "2          2                                    black chrome\n",
       "3          3                  seal production natural rubber\n",
       "4          4                            powder coating steel\n",
       "5          5                    chromium coat electroplating\n",
       "6          6                                    plastic film\n",
       "7          7  selective coating stainless steel black chrome\n",
       "8          8                                      enamelling\n",
       "9          9                 acrylonitrile-butadiene-styrene"
      ]
     },
     "execution_count": 73,
     "metadata": {},
     "output_type": "execute_result"
    }
   ],
   "source": [
    "db8.head(16)"
   ]
  },
  {
   "cell_type": "code",
   "execution_count": 74,
   "id": "33716449-1d29-477a-8b58-3dd408feeab3",
   "metadata": {},
   "outputs": [
    {
     "name": "stdout",
     "output_type": "stream",
     "text": [
      "<class 'pandas.core.frame.DataFrame'>\n",
      "RangeIndex: 10 entries, 0 to 9\n",
      "Data columns (total 2 columns):\n",
      " #   Column     Non-Null Count  Dtype \n",
      "---  ------     --------------  ----- \n",
      " 0   ID_finish  10 non-null     int64 \n",
      " 1   Finish     10 non-null     object\n",
      "dtypes: int64(1), object(1)\n",
      "memory usage: 292.0+ bytes\n"
     ]
    }
   ],
   "source": [
    "db8.info()"
   ]
  },
  {
   "cell_type": "markdown",
   "id": "65c74abb-543c-4083-81e0-d118fc3eb10f",
   "metadata": {},
   "source": [
    "## 7. Data selection\n",
    "<a id='7'>"
   ]
  },
  {
   "cell_type": "code",
   "execution_count": 75,
   "id": "e4350d79-f85b-4e2c-8dd5-9b0446fbeac8",
   "metadata": {},
   "outputs": [],
   "source": [
    "# Remove column 'Filter' as it is almost the same as product type\n",
    "\n",
    "db = db.drop(columns=['Composition', 'Finish', 'Models', 'Product_type'])\n",
    "\n",
    "db2 = db2.drop(columns=['Brand'])"
   ]
  },
  {
   "cell_type": "code",
   "execution_count": 76,
   "id": "12a20909-8a22-4b3b-90e1-a87d73058026",
   "metadata": {
    "scrolled": true
   },
   "outputs": [
    {
     "data": {
      "text/html": [
       "<div>\n",
       "<style scoped>\n",
       "    .dataframe tbody tr th:only-of-type {\n",
       "        vertical-align: middle;\n",
       "    }\n",
       "\n",
       "    .dataframe tbody tr th {\n",
       "        vertical-align: top;\n",
       "    }\n",
       "\n",
       "    .dataframe thead th {\n",
       "        text-align: right;\n",
       "    }\n",
       "</style>\n",
       "<table border=\"1\" class=\"dataframe\">\n",
       "  <thead>\n",
       "    <tr style=\"text-align: right;\">\n",
       "      <th></th>\n",
       "      <th>ID_model</th>\n",
       "      <th>Model</th>\n",
       "      <th>Start_year</th>\n",
       "      <th>End_year</th>\n",
       "      <th>ID_brand</th>\n",
       "    </tr>\n",
       "  </thead>\n",
       "  <tbody>\n",
       "    <tr>\n",
       "      <th>435</th>\n",
       "      <td>435</td>\n",
       "      <td>Impala</td>\n",
       "      <td>1962</td>\n",
       "      <td>1967</td>\n",
       "      <td>1</td>\n",
       "    </tr>\n",
       "    <tr>\n",
       "      <th>436</th>\n",
       "      <td>436</td>\n",
       "      <td>Tempest</td>\n",
       "      <td>1965</td>\n",
       "      <td>1967</td>\n",
       "      <td>0</td>\n",
       "    </tr>\n",
       "    <tr>\n",
       "      <th>437</th>\n",
       "      <td>437</td>\n",
       "      <td>Nova</td>\n",
       "      <td>1966</td>\n",
       "      <td>1967</td>\n",
       "      <td>1</td>\n",
       "    </tr>\n",
       "    <tr>\n",
       "      <th>438</th>\n",
       "      <td>438</td>\n",
       "      <td>Nova</td>\n",
       "      <td>1985</td>\n",
       "      <td>1988</td>\n",
       "      <td>1</td>\n",
       "    </tr>\n",
       "    <tr>\n",
       "      <th>439</th>\n",
       "      <td>439</td>\n",
       "      <td>Impala</td>\n",
       "      <td>1969</td>\n",
       "      <td>1969</td>\n",
       "      <td>1</td>\n",
       "    </tr>\n",
       "    <tr>\n",
       "      <th>440</th>\n",
       "      <td>440</td>\n",
       "      <td>Nova</td>\n",
       "      <td>1971</td>\n",
       "      <td>1974</td>\n",
       "      <td>1</td>\n",
       "    </tr>\n",
       "    <tr>\n",
       "      <th>441</th>\n",
       "      <td>441</td>\n",
       "      <td>Catalina</td>\n",
       "      <td>1969</td>\n",
       "      <td>1972</td>\n",
       "      <td>0</td>\n",
       "    </tr>\n",
       "    <tr>\n",
       "      <th>442</th>\n",
       "      <td>442</td>\n",
       "      <td>Skylark</td>\n",
       "      <td>1961</td>\n",
       "      <td>1972</td>\n",
       "      <td>4</td>\n",
       "    </tr>\n",
       "    <tr>\n",
       "      <th>443</th>\n",
       "      <td>443</td>\n",
       "      <td>LeMans</td>\n",
       "      <td>1967</td>\n",
       "      <td>1973</td>\n",
       "      <td>0</td>\n",
       "    </tr>\n",
       "    <tr>\n",
       "      <th>444</th>\n",
       "      <td>444</td>\n",
       "      <td>Corvette</td>\n",
       "      <td>1973</td>\n",
       "      <td>1975</td>\n",
       "      <td>1</td>\n",
       "    </tr>\n",
       "  </tbody>\n",
       "</table>\n",
       "</div>"
      ],
      "text/plain": [
       "    ID_model     Model Start_year End_year  ID_brand\n",
       "435      435    Impala       1962     1967         1\n",
       "436      436   Tempest       1965     1967         0\n",
       "437      437      Nova       1966     1967         1\n",
       "438      438      Nova       1985     1988         1\n",
       "439      439    Impala       1969     1969         1\n",
       "440      440      Nova       1971     1974         1\n",
       "441      441  Catalina       1969     1972         0\n",
       "442      442   Skylark       1961     1972         4\n",
       "443      443    LeMans       1967     1973         0\n",
       "444      444  Corvette       1973     1975         1"
      ]
     },
     "execution_count": 76,
     "metadata": {},
     "output_type": "execute_result"
    }
   ],
   "source": [
    "db2.tail(10)"
   ]
  },
  {
   "cell_type": "code",
   "execution_count": 77,
   "id": "9b2a7d50-a3ab-4d8b-bff3-debe4659076c",
   "metadata": {},
   "outputs": [
    {
     "data": {
      "text/html": [
       "<div>\n",
       "<style scoped>\n",
       "    .dataframe tbody tr th:only-of-type {\n",
       "        vertical-align: middle;\n",
       "    }\n",
       "\n",
       "    .dataframe tbody tr th {\n",
       "        vertical-align: top;\n",
       "    }\n",
       "\n",
       "    .dataframe thead th {\n",
       "        text-align: right;\n",
       "    }\n",
       "</style>\n",
       "<table border=\"1\" class=\"dataframe\">\n",
       "  <thead>\n",
       "    <tr style=\"text-align: right;\">\n",
       "      <th></th>\n",
       "      <th>Name</th>\n",
       "      <th>Weight (kg)</th>\n",
       "      <th>Length (mm)</th>\n",
       "      <th>Width (mm)</th>\n",
       "      <th>Height (mm)</th>\n",
       "      <th>Price (€)</th>\n",
       "      <th>ID_part</th>\n",
       "      <th>ID_model</th>\n",
       "      <th>ID_product_type</th>\n",
       "      <th>ID_composition</th>\n",
       "      <th>ID_finish</th>\n",
       "    </tr>\n",
       "  </thead>\n",
       "  <tbody>\n",
       "    <tr>\n",
       "      <th>0</th>\n",
       "      <td>DRAIN PLUG, FLOOR &amp; TRUNK PAN, 1967-77 GM (STAMPED STEEL)</td>\n",
       "      <td>0.09</td>\n",
       "      <td>127.0</td>\n",
       "      <td>88.9</td>\n",
       "      <td>5.08</td>\n",
       "      <td>5.94</td>\n",
       "      <td>0</td>\n",
       "      <td>[164, 174, 131, 390, 147, 295, 153, 429, 251, 178, 161, 416, 125, 225, 378, 409, 113, 195, 443, 210]</td>\n",
       "      <td>0</td>\n",
       "      <td>[0]</td>\n",
       "      <td>-1</td>\n",
       "    </tr>\n",
       "  </tbody>\n",
       "</table>\n",
       "</div>"
      ],
      "text/plain": [
       "                                                        Name  Weight (kg)  \\\n",
       "0  DRAIN PLUG, FLOOR & TRUNK PAN, 1967-77 GM (STAMPED STEEL)         0.09   \n",
       "\n",
       "   Length (mm)  Width (mm)  Height (mm)  Price (€)  ID_part  \\\n",
       "0        127.0        88.9         5.08       5.94        0   \n",
       "\n",
       "                                                                                               ID_model  \\\n",
       "0  [164, 174, 131, 390, 147, 295, 153, 429, 251, 178, 161, 416, 125, 225, 378, 409, 113, 195, 443, 210]   \n",
       "\n",
       "   ID_product_type ID_composition  ID_finish  \n",
       "0                0            [0]         -1  "
      ]
     },
     "execution_count": 77,
     "metadata": {},
     "output_type": "execute_result"
    }
   ],
   "source": [
    "db.head(1)"
   ]
  },
  {
   "cell_type": "code",
   "execution_count": 78,
   "id": "1c02cc25-39c0-4606-8ead-c0748d5ec4bd",
   "metadata": {},
   "outputs": [],
   "source": [
    "# split ID model\n",
    "db4 = db.explode('ID_model').reset_index(drop=True)\n",
    "#db4.rename(columns={'ID_model':'ID_car'}, inplace=True)\n"
   ]
  },
  {
   "cell_type": "code",
   "execution_count": 79,
   "id": "e8b45868-00cb-4ef9-bd58-d48147464b64",
   "metadata": {},
   "outputs": [
    {
     "name": "stdout",
     "output_type": "stream",
     "text": [
      "<class 'pandas.core.frame.DataFrame'>\n",
      "RangeIndex: 2714 entries, 0 to 2713\n",
      "Data columns (total 11 columns):\n",
      " #   Column           Non-Null Count  Dtype  \n",
      "---  ------           --------------  -----  \n",
      " 0   Name             2714 non-null   object \n",
      " 1   Weight (kg)      2714 non-null   float64\n",
      " 2   Length (mm)      2714 non-null   float64\n",
      " 3   Width (mm)       2714 non-null   float64\n",
      " 4   Height (mm)      2714 non-null   float64\n",
      " 5   Price (€)        2714 non-null   float64\n",
      " 6   ID_part          2714 non-null   int64  \n",
      " 7   ID_model         2714 non-null   object \n",
      " 8   ID_product_type  2714 non-null   int64  \n",
      " 9   ID_composition   2714 non-null   object \n",
      " 10  ID_finish        2714 non-null   int64  \n",
      "dtypes: float64(5), int64(3), object(3)\n",
      "memory usage: 233.4+ KB\n"
     ]
    }
   ],
   "source": [
    "db4.info()"
   ]
  },
  {
   "cell_type": "code",
   "execution_count": 80,
   "id": "0d47de90-05cc-4268-96f4-7ca1860b60d6",
   "metadata": {},
   "outputs": [],
   "source": [
    "db9 = db4.explode('ID_composition').reset_index(drop=True)"
   ]
  },
  {
   "cell_type": "code",
   "execution_count": 81,
   "id": "98319e17-7510-4540-88a4-0e309e3a4a52",
   "metadata": {},
   "outputs": [],
   "source": [
    "# add unique ID\n",
    "db9['ID'] = db9.index "
   ]
  },
  {
   "cell_type": "code",
   "execution_count": null,
   "id": "6662f6f3-a85c-4a98-b858-caee9a6a2d8c",
   "metadata": {},
   "outputs": [],
   "source": []
  },
  {
   "cell_type": "code",
   "execution_count": 82,
   "id": "03b4ae98-fa5e-4825-a974-180ae9820d4d",
   "metadata": {},
   "outputs": [
    {
     "data": {
      "text/html": [
       "<div>\n",
       "<style scoped>\n",
       "    .dataframe tbody tr th:only-of-type {\n",
       "        vertical-align: middle;\n",
       "    }\n",
       "\n",
       "    .dataframe tbody tr th {\n",
       "        vertical-align: top;\n",
       "    }\n",
       "\n",
       "    .dataframe thead th {\n",
       "        text-align: right;\n",
       "    }\n",
       "</style>\n",
       "<table border=\"1\" class=\"dataframe\">\n",
       "  <thead>\n",
       "    <tr style=\"text-align: right;\">\n",
       "      <th></th>\n",
       "      <th>Name</th>\n",
       "      <th>Weight (kg)</th>\n",
       "      <th>Length (mm)</th>\n",
       "      <th>Width (mm)</th>\n",
       "      <th>Height (mm)</th>\n",
       "      <th>Price (€)</th>\n",
       "      <th>ID_part</th>\n",
       "      <th>ID_model</th>\n",
       "      <th>ID_product_type</th>\n",
       "      <th>ID_composition</th>\n",
       "      <th>ID_finish</th>\n",
       "      <th>ID</th>\n",
       "    </tr>\n",
       "  </thead>\n",
       "  <tbody>\n",
       "    <tr>\n",
       "      <th>0</th>\n",
       "      <td>DRAIN PLUG, FLOOR &amp; TRUNK PAN, 1967-77 GM (STAMPED STEEL)</td>\n",
       "      <td>0.09</td>\n",
       "      <td>127.0</td>\n",
       "      <td>88.9</td>\n",
       "      <td>5.08</td>\n",
       "      <td>5.94</td>\n",
       "      <td>0</td>\n",
       "      <td>164</td>\n",
       "      <td>0</td>\n",
       "      <td>0</td>\n",
       "      <td>-1</td>\n",
       "      <td>0</td>\n",
       "    </tr>\n",
       "    <tr>\n",
       "      <th>1</th>\n",
       "      <td>DRAIN PLUG, FLOOR &amp; TRUNK PAN, 1967-77 GM (STAMPED STEEL)</td>\n",
       "      <td>0.09</td>\n",
       "      <td>127.0</td>\n",
       "      <td>88.9</td>\n",
       "      <td>5.08</td>\n",
       "      <td>5.94</td>\n",
       "      <td>0</td>\n",
       "      <td>174</td>\n",
       "      <td>0</td>\n",
       "      <td>0</td>\n",
       "      <td>-1</td>\n",
       "      <td>1</td>\n",
       "    </tr>\n",
       "    <tr>\n",
       "      <th>2</th>\n",
       "      <td>DRAIN PLUG, FLOOR &amp; TRUNK PAN, 1967-77 GM (STAMPED STEEL)</td>\n",
       "      <td>0.09</td>\n",
       "      <td>127.0</td>\n",
       "      <td>88.9</td>\n",
       "      <td>5.08</td>\n",
       "      <td>5.94</td>\n",
       "      <td>0</td>\n",
       "      <td>131</td>\n",
       "      <td>0</td>\n",
       "      <td>0</td>\n",
       "      <td>-1</td>\n",
       "      <td>2</td>\n",
       "    </tr>\n",
       "    <tr>\n",
       "      <th>3</th>\n",
       "      <td>DRAIN PLUG, FLOOR &amp; TRUNK PAN, 1967-77 GM (STAMPED STEEL)</td>\n",
       "      <td>0.09</td>\n",
       "      <td>127.0</td>\n",
       "      <td>88.9</td>\n",
       "      <td>5.08</td>\n",
       "      <td>5.94</td>\n",
       "      <td>0</td>\n",
       "      <td>390</td>\n",
       "      <td>0</td>\n",
       "      <td>0</td>\n",
       "      <td>-1</td>\n",
       "      <td>3</td>\n",
       "    </tr>\n",
       "    <tr>\n",
       "      <th>4</th>\n",
       "      <td>DRAIN PLUG, FLOOR &amp; TRUNK PAN, 1967-77 GM (STAMPED STEEL)</td>\n",
       "      <td>0.09</td>\n",
       "      <td>127.0</td>\n",
       "      <td>88.9</td>\n",
       "      <td>5.08</td>\n",
       "      <td>5.94</td>\n",
       "      <td>0</td>\n",
       "      <td>147</td>\n",
       "      <td>0</td>\n",
       "      <td>0</td>\n",
       "      <td>-1</td>\n",
       "      <td>4</td>\n",
       "    </tr>\n",
       "  </tbody>\n",
       "</table>\n",
       "</div>"
      ],
      "text/plain": [
       "                                                        Name  Weight (kg)  \\\n",
       "0  DRAIN PLUG, FLOOR & TRUNK PAN, 1967-77 GM (STAMPED STEEL)         0.09   \n",
       "1  DRAIN PLUG, FLOOR & TRUNK PAN, 1967-77 GM (STAMPED STEEL)         0.09   \n",
       "2  DRAIN PLUG, FLOOR & TRUNK PAN, 1967-77 GM (STAMPED STEEL)         0.09   \n",
       "3  DRAIN PLUG, FLOOR & TRUNK PAN, 1967-77 GM (STAMPED STEEL)         0.09   \n",
       "4  DRAIN PLUG, FLOOR & TRUNK PAN, 1967-77 GM (STAMPED STEEL)         0.09   \n",
       "\n",
       "   Length (mm)  Width (mm)  Height (mm)  Price (€)  ID_part ID_model  \\\n",
       "0        127.0        88.9         5.08       5.94        0      164   \n",
       "1        127.0        88.9         5.08       5.94        0      174   \n",
       "2        127.0        88.9         5.08       5.94        0      131   \n",
       "3        127.0        88.9         5.08       5.94        0      390   \n",
       "4        127.0        88.9         5.08       5.94        0      147   \n",
       "\n",
       "   ID_product_type ID_composition  ID_finish  ID  \n",
       "0                0              0         -1   0  \n",
       "1                0              0         -1   1  \n",
       "2                0              0         -1   2  \n",
       "3                0              0         -1   3  \n",
       "4                0              0         -1   4  "
      ]
     },
     "execution_count": 82,
     "metadata": {},
     "output_type": "execute_result"
    }
   ],
   "source": [
    "db9.head()"
   ]
  },
  {
   "cell_type": "code",
   "execution_count": 83,
   "id": "c9f46273-bf23-415c-b7fe-3f75245bac49",
   "metadata": {},
   "outputs": [],
   "source": [
    "# alter order of columns db\n",
    "\n",
    "db4 = db4.reindex(columns=['ID','ID_part','ID_model','ID_product_type', 'ID_composition', 'ID_finish', 'Name', 'Weight (kg)', 'Length (mm)', 'Width (mm)', 'Height (mm)', 'Price (€)'])"
   ]
  },
  {
   "cell_type": "code",
   "execution_count": 84,
   "id": "4e078115-d58c-476b-8955-911951eec2ba",
   "metadata": {},
   "outputs": [
    {
     "data": {
      "text/html": [
       "<div>\n",
       "<style scoped>\n",
       "    .dataframe tbody tr th:only-of-type {\n",
       "        vertical-align: middle;\n",
       "    }\n",
       "\n",
       "    .dataframe tbody tr th {\n",
       "        vertical-align: top;\n",
       "    }\n",
       "\n",
       "    .dataframe thead th {\n",
       "        text-align: right;\n",
       "    }\n",
       "</style>\n",
       "<table border=\"1\" class=\"dataframe\">\n",
       "  <thead>\n",
       "    <tr style=\"text-align: right;\">\n",
       "      <th></th>\n",
       "      <th>ID</th>\n",
       "      <th>ID_part</th>\n",
       "      <th>ID_model</th>\n",
       "      <th>ID_product_type</th>\n",
       "      <th>ID_composition</th>\n",
       "      <th>ID_finish</th>\n",
       "      <th>Name</th>\n",
       "      <th>Weight (kg)</th>\n",
       "      <th>Length (mm)</th>\n",
       "      <th>Width (mm)</th>\n",
       "      <th>Height (mm)</th>\n",
       "      <th>Price (€)</th>\n",
       "    </tr>\n",
       "  </thead>\n",
       "  <tbody>\n",
       "    <tr>\n",
       "      <th>2712</th>\n",
       "      <td>NaN</td>\n",
       "      <td>802</td>\n",
       "      <td>221</td>\n",
       "      <td>33</td>\n",
       "      <td>[0]</td>\n",
       "      <td>4</td>\n",
       "      <td>DOOR SHELLS, 1968 CHEVELLE, PAIR</td>\n",
       "      <td>22.68</td>\n",
       "      <td>0.0</td>\n",
       "      <td>0.0</td>\n",
       "      <td>0.0</td>\n",
       "      <td>620.49</td>\n",
       "    </tr>\n",
       "    <tr>\n",
       "      <th>2713</th>\n",
       "      <td>NaN</td>\n",
       "      <td>803</td>\n",
       "      <td>400</td>\n",
       "      <td>8</td>\n",
       "      <td>[0]</td>\n",
       "      <td>4</td>\n",
       "      <td>1970-72 MONTE CARLO FRONT FENDERS, PAIR</td>\n",
       "      <td>28.12</td>\n",
       "      <td>1651.0</td>\n",
       "      <td>1524.0</td>\n",
       "      <td>355.6</td>\n",
       "      <td>848.29</td>\n",
       "    </tr>\n",
       "  </tbody>\n",
       "</table>\n",
       "</div>"
      ],
      "text/plain": [
       "      ID  ID_part ID_model  ID_product_type ID_composition  ID_finish  \\\n",
       "2712 NaN      802      221               33            [0]          4   \n",
       "2713 NaN      803      400                8            [0]          4   \n",
       "\n",
       "                                         Name  Weight (kg)  Length (mm)  \\\n",
       "2712         DOOR SHELLS, 1968 CHEVELLE, PAIR        22.68          0.0   \n",
       "2713  1970-72 MONTE CARLO FRONT FENDERS, PAIR        28.12       1651.0   \n",
       "\n",
       "      Width (mm)  Height (mm)  Price (€)  \n",
       "2712         0.0          0.0     620.49  \n",
       "2713      1524.0        355.6     848.29  "
      ]
     },
     "execution_count": 84,
     "metadata": {},
     "output_type": "execute_result"
    }
   ],
   "source": [
    "db4.tail(2)"
   ]
  },
  {
   "cell_type": "code",
   "execution_count": 85,
   "id": "25503cb4-9203-49ba-9d3e-a93220cc7e65",
   "metadata": {},
   "outputs": [],
   "source": [
    "db2 = db2.reindex(columns=['ID_model','ID_brand','Model','Start_year', 'End_year'])"
   ]
  },
  {
   "cell_type": "code",
   "execution_count": 86,
   "id": "59764091-0fc5-4de5-bf75-f2b05c7359f4",
   "metadata": {},
   "outputs": [
    {
     "data": {
      "text/html": [
       "<div>\n",
       "<style scoped>\n",
       "    .dataframe tbody tr th:only-of-type {\n",
       "        vertical-align: middle;\n",
       "    }\n",
       "\n",
       "    .dataframe tbody tr th {\n",
       "        vertical-align: top;\n",
       "    }\n",
       "\n",
       "    .dataframe thead th {\n",
       "        text-align: right;\n",
       "    }\n",
       "</style>\n",
       "<table border=\"1\" class=\"dataframe\">\n",
       "  <thead>\n",
       "    <tr style=\"text-align: right;\">\n",
       "      <th></th>\n",
       "      <th>ID_model</th>\n",
       "      <th>ID_brand</th>\n",
       "      <th>Model</th>\n",
       "      <th>Start_year</th>\n",
       "      <th>End_year</th>\n",
       "    </tr>\n",
       "  </thead>\n",
       "  <tbody>\n",
       "    <tr>\n",
       "      <th>0</th>\n",
       "      <td>0</td>\n",
       "      <td>0</td>\n",
       "      <td>LeMans</td>\n",
       "      <td>1969</td>\n",
       "      <td>1969</td>\n",
       "    </tr>\n",
       "    <tr>\n",
       "      <th>1</th>\n",
       "      <td>1</td>\n",
       "      <td>1</td>\n",
       "      <td>Nova</td>\n",
       "      <td>1962</td>\n",
       "      <td>1979</td>\n",
       "    </tr>\n",
       "    <tr>\n",
       "      <th>2</th>\n",
       "      <td>2</td>\n",
       "      <td>0</td>\n",
       "      <td>Catalina</td>\n",
       "      <td>1959</td>\n",
       "      <td>1977</td>\n",
       "    </tr>\n",
       "    <tr>\n",
       "      <th>3</th>\n",
       "      <td>3</td>\n",
       "      <td>2</td>\n",
       "      <td>Omega</td>\n",
       "      <td>1973</td>\n",
       "      <td>1977</td>\n",
       "    </tr>\n",
       "    <tr>\n",
       "      <th>4</th>\n",
       "      <td>4</td>\n",
       "      <td>2</td>\n",
       "      <td>Cutlass</td>\n",
       "      <td>1966</td>\n",
       "      <td>1967</td>\n",
       "    </tr>\n",
       "    <tr>\n",
       "      <th>5</th>\n",
       "      <td>5</td>\n",
       "      <td>0</td>\n",
       "      <td>Grand Prix</td>\n",
       "      <td>1962</td>\n",
       "      <td>1963</td>\n",
       "    </tr>\n",
       "  </tbody>\n",
       "</table>\n",
       "</div>"
      ],
      "text/plain": [
       "  ID_model  ID_brand       Model Start_year End_year\n",
       "0        0         0      LeMans       1969     1969\n",
       "1        1         1        Nova       1962     1979\n",
       "2        2         0    Catalina       1959     1977\n",
       "3        3         2       Omega       1973     1977\n",
       "4        4         2     Cutlass       1966     1967\n",
       "5        5         0  Grand Prix       1962     1963"
      ]
     },
     "execution_count": 86,
     "metadata": {},
     "output_type": "execute_result"
    }
   ],
   "source": [
    "db2.head(6)"
   ]
  },
  {
   "cell_type": "code",
   "execution_count": 87,
   "id": "61435bf8-9a72-4b74-956d-9bd3c9bda58f",
   "metadata": {},
   "outputs": [],
   "source": [
    "#db3.head(2)"
   ]
  },
  {
   "cell_type": "code",
   "execution_count": 88,
   "id": "f6fae9a4-9c20-4752-8561-23e427979d4a",
   "metadata": {},
   "outputs": [
    {
     "data": {
      "text/html": [
       "<div>\n",
       "<style scoped>\n",
       "    .dataframe tbody tr th:only-of-type {\n",
       "        vertical-align: middle;\n",
       "    }\n",
       "\n",
       "    .dataframe tbody tr th {\n",
       "        vertical-align: top;\n",
       "    }\n",
       "\n",
       "    .dataframe thead th {\n",
       "        text-align: right;\n",
       "    }\n",
       "</style>\n",
       "<table border=\"1\" class=\"dataframe\">\n",
       "  <thead>\n",
       "    <tr style=\"text-align: right;\">\n",
       "      <th></th>\n",
       "      <th>ID_product_type</th>\n",
       "      <th>Product_type</th>\n",
       "    </tr>\n",
       "  </thead>\n",
       "  <tbody>\n",
       "    <tr>\n",
       "      <th>0</th>\n",
       "      <td>0</td>\n",
       "      <td>hardware, fasteners and fittings</td>\n",
       "    </tr>\n",
       "    <tr>\n",
       "      <th>1</th>\n",
       "      <td>1</td>\n",
       "      <td>cowl induction components</td>\n",
       "    </tr>\n",
       "  </tbody>\n",
       "</table>\n",
       "</div>"
      ],
      "text/plain": [
       "   ID_product_type                      Product_type\n",
       "0                0  hardware, fasteners and fittings\n",
       "1                1         cowl induction components"
      ]
     },
     "execution_count": 88,
     "metadata": {},
     "output_type": "execute_result"
    }
   ],
   "source": [
    "db5.head(2)"
   ]
  },
  {
   "cell_type": "code",
   "execution_count": 89,
   "id": "b037445c-5801-44f0-bc79-0b2fe10a0e9f",
   "metadata": {},
   "outputs": [
    {
     "data": {
      "text/html": [
       "<div>\n",
       "<style scoped>\n",
       "    .dataframe tbody tr th:only-of-type {\n",
       "        vertical-align: middle;\n",
       "    }\n",
       "\n",
       "    .dataframe tbody tr th {\n",
       "        vertical-align: top;\n",
       "    }\n",
       "\n",
       "    .dataframe thead th {\n",
       "        text-align: right;\n",
       "    }\n",
       "</style>\n",
       "<table border=\"1\" class=\"dataframe\">\n",
       "  <thead>\n",
       "    <tr style=\"text-align: right;\">\n",
       "      <th></th>\n",
       "      <th>ID_brand</th>\n",
       "      <th>Brand</th>\n",
       "    </tr>\n",
       "  </thead>\n",
       "  <tbody>\n",
       "    <tr>\n",
       "      <th>0</th>\n",
       "      <td>0</td>\n",
       "      <td>Pontiac</td>\n",
       "    </tr>\n",
       "    <tr>\n",
       "      <th>1</th>\n",
       "      <td>1</td>\n",
       "      <td>Chevrolet</td>\n",
       "    </tr>\n",
       "  </tbody>\n",
       "</table>\n",
       "</div>"
      ],
      "text/plain": [
       "   ID_brand      Brand\n",
       "0         0    Pontiac\n",
       "1         1  Chevrolet"
      ]
     },
     "execution_count": 89,
     "metadata": {},
     "output_type": "execute_result"
    }
   ],
   "source": [
    "db6.head(2)"
   ]
  },
  {
   "cell_type": "code",
   "execution_count": 90,
   "id": "aaa61493-a84e-4a9d-b1c1-8efb51f188f1",
   "metadata": {},
   "outputs": [
    {
     "data": {
      "text/html": [
       "<div>\n",
       "<style scoped>\n",
       "    .dataframe tbody tr th:only-of-type {\n",
       "        vertical-align: middle;\n",
       "    }\n",
       "\n",
       "    .dataframe tbody tr th {\n",
       "        vertical-align: top;\n",
       "    }\n",
       "\n",
       "    .dataframe thead th {\n",
       "        text-align: right;\n",
       "    }\n",
       "</style>\n",
       "<table border=\"1\" class=\"dataframe\">\n",
       "  <thead>\n",
       "    <tr style=\"text-align: right;\">\n",
       "      <th></th>\n",
       "      <th>ID_composition</th>\n",
       "      <th>Composition</th>\n",
       "    </tr>\n",
       "  </thead>\n",
       "  <tbody>\n",
       "    <tr>\n",
       "      <th>0</th>\n",
       "      <td>0</td>\n",
       "      <td>steel production chromium steel 18/8 hot rolled</td>\n",
       "    </tr>\n",
       "    <tr>\n",
       "      <th>1</th>\n",
       "      <td>1</td>\n",
       "      <td>polypropylene</td>\n",
       "    </tr>\n",
       "  </tbody>\n",
       "</table>\n",
       "</div>"
      ],
      "text/plain": [
       "   ID_composition                                      Composition\n",
       "0               0  steel production chromium steel 18/8 hot rolled\n",
       "1               1                                    polypropylene"
      ]
     },
     "execution_count": 90,
     "metadata": {},
     "output_type": "execute_result"
    }
   ],
   "source": [
    "db7.head(2)"
   ]
  },
  {
   "cell_type": "code",
   "execution_count": 91,
   "id": "752ab9f9-906b-4f1f-88d6-185e84b00037",
   "metadata": {},
   "outputs": [
    {
     "data": {
      "text/html": [
       "<div>\n",
       "<style scoped>\n",
       "    .dataframe tbody tr th:only-of-type {\n",
       "        vertical-align: middle;\n",
       "    }\n",
       "\n",
       "    .dataframe tbody tr th {\n",
       "        vertical-align: top;\n",
       "    }\n",
       "\n",
       "    .dataframe thead th {\n",
       "        text-align: right;\n",
       "    }\n",
       "</style>\n",
       "<table border=\"1\" class=\"dataframe\">\n",
       "  <thead>\n",
       "    <tr style=\"text-align: right;\">\n",
       "      <th></th>\n",
       "      <th>ID_finish</th>\n",
       "      <th>Finish</th>\n",
       "    </tr>\n",
       "  </thead>\n",
       "  <tbody>\n",
       "    <tr>\n",
       "      <th>0</th>\n",
       "      <td>0</td>\n",
       "      <td>electrostatic paint</td>\n",
       "    </tr>\n",
       "    <tr>\n",
       "      <th>1</th>\n",
       "      <td>1</td>\n",
       "      <td>zinc coating pieces</td>\n",
       "    </tr>\n",
       "  </tbody>\n",
       "</table>\n",
       "</div>"
      ],
      "text/plain": [
       "   ID_finish               Finish\n",
       "0          0  electrostatic paint\n",
       "1          1  zinc coating pieces"
      ]
     },
     "execution_count": 91,
     "metadata": {},
     "output_type": "execute_result"
    }
   ],
   "source": [
    "db8.head(2)"
   ]
  },
  {
   "cell_type": "code",
   "execution_count": 92,
   "id": "48e65b92-c7d9-44ae-a4c0-88a5723927a7",
   "metadata": {},
   "outputs": [],
   "source": [
    "db9 = db9.reindex(columns=['ID','ID_part','ID_model','ID_product_type', 'ID_composition', 'ID_finish', 'Name', 'Weight (kg)', 'Length (mm)', 'Width (mm)', 'Height (mm)', 'Price (€)'])"
   ]
  },
  {
   "cell_type": "code",
   "execution_count": 93,
   "id": "6edc7dd2-aead-4594-9fca-1acf30213f89",
   "metadata": {},
   "outputs": [
    {
     "data": {
      "text/html": [
       "<div>\n",
       "<style scoped>\n",
       "    .dataframe tbody tr th:only-of-type {\n",
       "        vertical-align: middle;\n",
       "    }\n",
       "\n",
       "    .dataframe tbody tr th {\n",
       "        vertical-align: top;\n",
       "    }\n",
       "\n",
       "    .dataframe thead th {\n",
       "        text-align: right;\n",
       "    }\n",
       "</style>\n",
       "<table border=\"1\" class=\"dataframe\">\n",
       "  <thead>\n",
       "    <tr style=\"text-align: right;\">\n",
       "      <th></th>\n",
       "      <th>ID</th>\n",
       "      <th>ID_part</th>\n",
       "      <th>ID_model</th>\n",
       "      <th>ID_product_type</th>\n",
       "      <th>ID_composition</th>\n",
       "      <th>ID_finish</th>\n",
       "      <th>Name</th>\n",
       "      <th>Weight (kg)</th>\n",
       "      <th>Length (mm)</th>\n",
       "      <th>Width (mm)</th>\n",
       "      <th>Height (mm)</th>\n",
       "      <th>Price (€)</th>\n",
       "    </tr>\n",
       "  </thead>\n",
       "  <tbody>\n",
       "    <tr>\n",
       "      <th>0</th>\n",
       "      <td>0</td>\n",
       "      <td>0</td>\n",
       "      <td>164</td>\n",
       "      <td>0</td>\n",
       "      <td>0</td>\n",
       "      <td>-1</td>\n",
       "      <td>DRAIN PLUG, FLOOR &amp; TRUNK PAN, 1967-77 GM (STAMPED STEEL)</td>\n",
       "      <td>0.09</td>\n",
       "      <td>127.0</td>\n",
       "      <td>88.9</td>\n",
       "      <td>5.08</td>\n",
       "      <td>5.94</td>\n",
       "    </tr>\n",
       "    <tr>\n",
       "      <th>1</th>\n",
       "      <td>1</td>\n",
       "      <td>0</td>\n",
       "      <td>174</td>\n",
       "      <td>0</td>\n",
       "      <td>0</td>\n",
       "      <td>-1</td>\n",
       "      <td>DRAIN PLUG, FLOOR &amp; TRUNK PAN, 1967-77 GM (STAMPED STEEL)</td>\n",
       "      <td>0.09</td>\n",
       "      <td>127.0</td>\n",
       "      <td>88.9</td>\n",
       "      <td>5.08</td>\n",
       "      <td>5.94</td>\n",
       "    </tr>\n",
       "  </tbody>\n",
       "</table>\n",
       "</div>"
      ],
      "text/plain": [
       "   ID  ID_part ID_model  ID_product_type ID_composition  ID_finish  \\\n",
       "0   0        0      164                0              0         -1   \n",
       "1   1        0      174                0              0         -1   \n",
       "\n",
       "                                                        Name  Weight (kg)  \\\n",
       "0  DRAIN PLUG, FLOOR & TRUNK PAN, 1967-77 GM (STAMPED STEEL)         0.09   \n",
       "1  DRAIN PLUG, FLOOR & TRUNK PAN, 1967-77 GM (STAMPED STEEL)         0.09   \n",
       "\n",
       "   Length (mm)  Width (mm)  Height (mm)  Price (€)  \n",
       "0        127.0        88.9         5.08       5.94  \n",
       "1        127.0        88.9         5.08       5.94  "
      ]
     },
     "execution_count": 93,
     "metadata": {},
     "output_type": "execute_result"
    }
   ],
   "source": [
    "db9.head(2)"
   ]
  },
  {
   "cell_type": "code",
   "execution_count": 94,
   "id": "9dd2bdea-bfb0-4912-93c2-44f14d260faa",
   "metadata": {},
   "outputs": [
    {
     "name": "stdout",
     "output_type": "stream",
     "text": [
      "<class 'pandas.core.frame.DataFrame'>\n",
      "RangeIndex: 804 entries, 0 to 803\n",
      "Data columns (total 11 columns):\n",
      " #   Column           Non-Null Count  Dtype  \n",
      "---  ------           --------------  -----  \n",
      " 0   Name             804 non-null    object \n",
      " 1   Weight (kg)      804 non-null    float64\n",
      " 2   Length (mm)      804 non-null    float64\n",
      " 3   Width (mm)       804 non-null    float64\n",
      " 4   Height (mm)      804 non-null    float64\n",
      " 5   Price (€)        804 non-null    float64\n",
      " 6   ID_part          804 non-null    int64  \n",
      " 7   ID_model         804 non-null    object \n",
      " 8   ID_product_type  804 non-null    int64  \n",
      " 9   ID_composition   804 non-null    object \n",
      " 10  ID_finish        804 non-null    int64  \n",
      "dtypes: float64(5), int64(3), object(3)\n",
      "memory usage: 69.2+ KB\n"
     ]
    }
   ],
   "source": [
    "db.info()"
   ]
  },
  {
   "cell_type": "code",
   "execution_count": 95,
   "id": "a411e9b0-4429-4315-8424-96d29e57d4eb",
   "metadata": {},
   "outputs": [
    {
     "name": "stdout",
     "output_type": "stream",
     "text": [
      "<class 'pandas.core.frame.DataFrame'>\n",
      "RangeIndex: 445 entries, 0 to 444\n",
      "Data columns (total 5 columns):\n",
      " #   Column      Non-Null Count  Dtype \n",
      "---  ------      --------------  ----- \n",
      " 0   ID_model    445 non-null    object\n",
      " 1   ID_brand    445 non-null    int64 \n",
      " 2   Model       445 non-null    object\n",
      " 3   Start_year  445 non-null    object\n",
      " 4   End_year    445 non-null    object\n",
      "dtypes: int64(1), object(4)\n",
      "memory usage: 17.5+ KB\n"
     ]
    }
   ],
   "source": [
    "db2.info()"
   ]
  },
  {
   "cell_type": "code",
   "execution_count": 96,
   "id": "24bb839b-4ec6-4c82-965d-d231ceff097c",
   "metadata": {},
   "outputs": [],
   "source": [
    "#db3.info()"
   ]
  },
  {
   "cell_type": "code",
   "execution_count": 97,
   "id": "dd04c318-dfad-459a-a0fe-8894a63da845",
   "metadata": {},
   "outputs": [
    {
     "name": "stdout",
     "output_type": "stream",
     "text": [
      "<class 'pandas.core.frame.DataFrame'>\n",
      "RangeIndex: 2714 entries, 0 to 2713\n",
      "Data columns (total 12 columns):\n",
      " #   Column           Non-Null Count  Dtype  \n",
      "---  ------           --------------  -----  \n",
      " 0   ID               0 non-null      float64\n",
      " 1   ID_part          2714 non-null   int64  \n",
      " 2   ID_model         2714 non-null   object \n",
      " 3   ID_product_type  2714 non-null   int64  \n",
      " 4   ID_composition   2714 non-null   object \n",
      " 5   ID_finish        2714 non-null   int64  \n",
      " 6   Name             2714 non-null   object \n",
      " 7   Weight (kg)      2714 non-null   float64\n",
      " 8   Length (mm)      2714 non-null   float64\n",
      " 9   Width (mm)       2714 non-null   float64\n",
      " 10  Height (mm)      2714 non-null   float64\n",
      " 11  Price (€)        2714 non-null   float64\n",
      "dtypes: float64(6), int64(3), object(3)\n",
      "memory usage: 254.6+ KB\n"
     ]
    }
   ],
   "source": [
    "db4.info()"
   ]
  },
  {
   "cell_type": "code",
   "execution_count": 98,
   "id": "8f3f5c23-4b3d-42f7-b3d7-b72ebea0a100",
   "metadata": {},
   "outputs": [
    {
     "name": "stdout",
     "output_type": "stream",
     "text": [
      "<class 'pandas.core.frame.DataFrame'>\n",
      "RangeIndex: 77 entries, 0 to 76\n",
      "Data columns (total 2 columns):\n",
      " #   Column           Non-Null Count  Dtype \n",
      "---  ------           --------------  ----- \n",
      " 0   ID_product_type  77 non-null     int64 \n",
      " 1   Product_type     77 non-null     object\n",
      "dtypes: int64(1), object(1)\n",
      "memory usage: 1.3+ KB\n"
     ]
    }
   ],
   "source": [
    "db5.info()\n"
   ]
  },
  {
   "cell_type": "code",
   "execution_count": 99,
   "id": "3d210467-301f-4895-8562-fe0e8eb75651",
   "metadata": {},
   "outputs": [
    {
     "name": "stdout",
     "output_type": "stream",
     "text": [
      "<class 'pandas.core.frame.DataFrame'>\n",
      "Index: 6 entries, 0 to 40\n",
      "Data columns (total 2 columns):\n",
      " #   Column    Non-Null Count  Dtype \n",
      "---  ------    --------------  ----- \n",
      " 0   ID_brand  6 non-null      int64 \n",
      " 1   Brand     6 non-null      object\n",
      "dtypes: int64(1), object(1)\n",
      "memory usage: 144.0+ bytes\n"
     ]
    }
   ],
   "source": [
    "db6.info()"
   ]
  },
  {
   "cell_type": "code",
   "execution_count": 100,
   "id": "3e1e45e7-1421-4489-9195-d274dc77ad3d",
   "metadata": {},
   "outputs": [
    {
     "name": "stdout",
     "output_type": "stream",
     "text": [
      "<class 'pandas.core.frame.DataFrame'>\n",
      "RangeIndex: 13 entries, 0 to 12\n",
      "Data columns (total 2 columns):\n",
      " #   Column          Non-Null Count  Dtype \n",
      "---  ------          --------------  ----- \n",
      " 0   ID_composition  13 non-null     int64 \n",
      " 1   Composition     13 non-null     object\n",
      "dtypes: int64(1), object(1)\n",
      "memory usage: 340.0+ bytes\n"
     ]
    }
   ],
   "source": [
    "db7.info()"
   ]
  },
  {
   "cell_type": "code",
   "execution_count": 101,
   "id": "673f7e14-8df4-46dd-8bfb-b3801d55db39",
   "metadata": {},
   "outputs": [
    {
     "name": "stdout",
     "output_type": "stream",
     "text": [
      "<class 'pandas.core.frame.DataFrame'>\n",
      "RangeIndex: 10 entries, 0 to 9\n",
      "Data columns (total 2 columns):\n",
      " #   Column     Non-Null Count  Dtype \n",
      "---  ------     --------------  ----- \n",
      " 0   ID_finish  10 non-null     int64 \n",
      " 1   Finish     10 non-null     object\n",
      "dtypes: int64(1), object(1)\n",
      "memory usage: 292.0+ bytes\n"
     ]
    }
   ],
   "source": [
    "db8.info()"
   ]
  },
  {
   "cell_type": "code",
   "execution_count": 102,
   "id": "967dd151-c847-4e5d-b181-cf22d44f76aa",
   "metadata": {},
   "outputs": [
    {
     "name": "stdout",
     "output_type": "stream",
     "text": [
      "<class 'pandas.core.frame.DataFrame'>\n",
      "RangeIndex: 2740 entries, 0 to 2739\n",
      "Data columns (total 12 columns):\n",
      " #   Column           Non-Null Count  Dtype  \n",
      "---  ------           --------------  -----  \n",
      " 0   ID               2740 non-null   int64  \n",
      " 1   ID_part          2740 non-null   int64  \n",
      " 2   ID_model         2740 non-null   object \n",
      " 3   ID_product_type  2740 non-null   int64  \n",
      " 4   ID_composition   2740 non-null   object \n",
      " 5   ID_finish        2740 non-null   int64  \n",
      " 6   Name             2740 non-null   object \n",
      " 7   Weight (kg)      2740 non-null   float64\n",
      " 8   Length (mm)      2740 non-null   float64\n",
      " 9   Width (mm)       2740 non-null   float64\n",
      " 10  Height (mm)      2740 non-null   float64\n",
      " 11  Price (€)        2740 non-null   float64\n",
      "dtypes: float64(5), int64(4), object(3)\n",
      "memory usage: 257.0+ KB\n"
     ]
    }
   ],
   "source": [
    "db9.info()"
   ]
  },
  {
   "cell_type": "markdown",
   "id": "26d3f56b-2efa-4538-83bf-cdcbb1595a52",
   "metadata": {},
   "source": [
    "## 8. Data exportation\n",
    "<a id='8'>"
   ]
  },
  {
   "cell_type": "code",
   "execution_count": 103,
   "id": "6b7291d4-63c4-4e29-840b-66e8916ad3a1",
   "metadata": {},
   "outputs": [],
   "source": [
    "db.to_csv('Bodyworkparts_processeddata.csv', sep=';', encoding='utf-8', index=False) # nao usado"
   ]
  },
  {
   "cell_type": "code",
   "execution_count": 104,
   "id": "ccdaa215-eaae-437c-8d25-95d8dbab98ce",
   "metadata": {},
   "outputs": [],
   "source": [
    "db2.to_csv('restoparts_models.csv', sep=';', encoding='utf-8', index=False)\n",
    "db2.to_csv('restoparts_models_withoutheader.csv', sep=';', encoding='utf-8', index=False, header=False)"
   ]
  },
  {
   "cell_type": "code",
   "execution_count": 105,
   "id": "d52094f3-7200-4f80-a149-7046c3cdc347",
   "metadata": {},
   "outputs": [],
   "source": [
    "#db3.to_csv('restoparts_composition_finish.csv', sep=';', encoding='utf-8', index=False)\n",
    "#db3.to_csv('restoparts_composition_finish_withoutheader.csv', sep=';', encoding='utf-8', index=False, header=False)"
   ]
  },
  {
   "cell_type": "code",
   "execution_count": null,
   "id": "c7b425e4-72f0-4e99-b2ae-f01a2c23461e",
   "metadata": {},
   "outputs": [],
   "source": []
  },
  {
   "cell_type": "code",
   "execution_count": 106,
   "id": "69aa5a2e-10eb-47eb-9c56-dc6d598a47d4",
   "metadata": {},
   "outputs": [],
   "source": [
    "db4.to_csv('restoparts_body_clean_exploded.csv', sep=';', encoding='utf-8', index=False) # original"
   ]
  },
  {
   "cell_type": "code",
   "execution_count": 107,
   "id": "d903a0d8-9f09-4c24-86f5-c944648f55fc",
   "metadata": {},
   "outputs": [],
   "source": [
    "db5.to_csv('restoparts_product_type.csv', sep=';', encoding='utf-8', index=False)\n",
    "db5.to_csv('restoparts_product_type_withoutheader.csv', sep=';', encoding='utf-8', index=False, header=False)"
   ]
  },
  {
   "cell_type": "code",
   "execution_count": 108,
   "id": "18f79edd-309d-4eb3-9f60-1368c2f41595",
   "metadata": {},
   "outputs": [],
   "source": [
    "db6.to_csv('restoparts_brand.csv', sep=';', encoding='utf-8', index=False)\n",
    "db6.to_csv('restoparts_brand_withoutheader.csv', sep=';', encoding='utf-8', index=False, header=False)"
   ]
  },
  {
   "cell_type": "code",
   "execution_count": 109,
   "id": "c56eb4a8-aaae-4166-adfd-1d45fb0e2f6f",
   "metadata": {},
   "outputs": [],
   "source": [
    "db7.to_csv('restoparts_composition.csv', sep=';', encoding='utf-8', index=False)\n",
    "db7.to_csv('restoparts_composition_withoutheader.csv', sep=';', encoding='utf-8', index=False, header=False)"
   ]
  },
  {
   "cell_type": "code",
   "execution_count": 110,
   "id": "a9c457e4-a58b-49d7-8c5b-f4a733b9dc84",
   "metadata": {},
   "outputs": [],
   "source": [
    "db8.to_csv('restoparts_finish.csv', sep=';', encoding='utf-8', index=False)\n",
    "db8.to_csv('restoparts_finish_withoutheader.csv', sep=';', encoding='utf-8', index=False, header=False)"
   ]
  },
  {
   "cell_type": "code",
   "execution_count": 111,
   "id": "a4182280-0474-426d-aef7-41e522b29b12",
   "metadata": {},
   "outputs": [],
   "source": [
    "db9.to_csv('restoparts_body_clean_exploded_composition.csv', sep=';', encoding='utf-8', index=False)\n",
    "db9.to_csv('restoparts_body_clean_exploded_composition_withoutheader.csv', sep=';', encoding='utf-8', index=False, header=False)"
   ]
  },
  {
   "cell_type": "code",
   "execution_count": 112,
   "id": "90c418e0-a810-461b-a60a-e3cdceea3720",
   "metadata": {},
   "outputs": [
    {
     "data": {
      "text/html": [
       "<div>\n",
       "<style scoped>\n",
       "    .dataframe tbody tr th:only-of-type {\n",
       "        vertical-align: middle;\n",
       "    }\n",
       "\n",
       "    .dataframe tbody tr th {\n",
       "        vertical-align: top;\n",
       "    }\n",
       "\n",
       "    .dataframe thead th {\n",
       "        text-align: right;\n",
       "    }\n",
       "</style>\n",
       "<table border=\"1\" class=\"dataframe\">\n",
       "  <thead>\n",
       "    <tr style=\"text-align: right;\">\n",
       "      <th></th>\n",
       "      <th>ID_composition</th>\n",
       "      <th>Composition</th>\n",
       "    </tr>\n",
       "  </thead>\n",
       "  <tbody>\n",
       "    <tr>\n",
       "      <th>0</th>\n",
       "      <td>0</td>\n",
       "      <td>steel production chromium steel 18/8 hot rolled</td>\n",
       "    </tr>\n",
       "    <tr>\n",
       "      <th>1</th>\n",
       "      <td>1</td>\n",
       "      <td>polypropylene</td>\n",
       "    </tr>\n",
       "    <tr>\n",
       "      <th>2</th>\n",
       "      <td>2</td>\n",
       "      <td>rubber production</td>\n",
       "    </tr>\n",
       "    <tr>\n",
       "      <th>3</th>\n",
       "      <td>3</td>\n",
       "      <td>jute production</td>\n",
       "    </tr>\n",
       "    <tr>\n",
       "      <th>4</th>\n",
       "      <td>4</td>\n",
       "      <td>zinc production</td>\n",
       "    </tr>\n",
       "    <tr>\n",
       "      <th>5</th>\n",
       "      <td>5</td>\n",
       "      <td>acrylonitrile-butadiene-styrene</td>\n",
       "    </tr>\n",
       "    <tr>\n",
       "      <th>6</th>\n",
       "      <td>6</td>\n",
       "      <td>polyamide</td>\n",
       "    </tr>\n",
       "    <tr>\n",
       "      <th>7</th>\n",
       "      <td>7</td>\n",
       "      <td>reinforcing steel</td>\n",
       "    </tr>\n",
       "    <tr>\n",
       "      <th>8</th>\n",
       "      <td>8</td>\n",
       "      <td>sheet rolling aluminium</td>\n",
       "    </tr>\n",
       "    <tr>\n",
       "      <th>9</th>\n",
       "      <td>9</td>\n",
       "      <td>steel production converted low-alloyed</td>\n",
       "    </tr>\n",
       "    <tr>\n",
       "      <th>10</th>\n",
       "      <td>10</td>\n",
       "      <td>polyurethane production</td>\n",
       "    </tr>\n",
       "    <tr>\n",
       "      <th>11</th>\n",
       "      <td>11</td>\n",
       "      <td>glass fibre reinforced plastic</td>\n",
       "    </tr>\n",
       "    <tr>\n",
       "      <th>12</th>\n",
       "      <td>12</td>\n",
       "      <td>steel production converted</td>\n",
       "    </tr>\n",
       "  </tbody>\n",
       "</table>\n",
       "</div>"
      ],
      "text/plain": [
       "    ID_composition                                      Composition\n",
       "0                0  steel production chromium steel 18/8 hot rolled\n",
       "1                1                                    polypropylene\n",
       "2                2                                rubber production\n",
       "3                3                                  jute production\n",
       "4                4                                  zinc production\n",
       "5                5                  acrylonitrile-butadiene-styrene\n",
       "6                6                                        polyamide\n",
       "7                7                                reinforcing steel\n",
       "8                8                          sheet rolling aluminium\n",
       "9                9           steel production converted low-alloyed\n",
       "10              10                          polyurethane production\n",
       "11              11                   glass fibre reinforced plastic\n",
       "12              12                       steel production converted"
      ]
     },
     "execution_count": 112,
     "metadata": {},
     "output_type": "execute_result"
    }
   ],
   "source": [
    "db7.head(15)"
   ]
  },
  {
   "cell_type": "code",
   "execution_count": 113,
   "id": "794e7046-899b-41c5-a451-5cd09edfe3ef",
   "metadata": {},
   "outputs": [
    {
     "data": {
      "text/html": [
       "<div>\n",
       "<style scoped>\n",
       "    .dataframe tbody tr th:only-of-type {\n",
       "        vertical-align: middle;\n",
       "    }\n",
       "\n",
       "    .dataframe tbody tr th {\n",
       "        vertical-align: top;\n",
       "    }\n",
       "\n",
       "    .dataframe thead th {\n",
       "        text-align: right;\n",
       "    }\n",
       "</style>\n",
       "<table border=\"1\" class=\"dataframe\">\n",
       "  <thead>\n",
       "    <tr style=\"text-align: right;\">\n",
       "      <th></th>\n",
       "      <th>ID_finish</th>\n",
       "      <th>Finish</th>\n",
       "    </tr>\n",
       "  </thead>\n",
       "  <tbody>\n",
       "    <tr>\n",
       "      <th>0</th>\n",
       "      <td>0</td>\n",
       "      <td>electrostatic paint</td>\n",
       "    </tr>\n",
       "    <tr>\n",
       "      <th>1</th>\n",
       "      <td>1</td>\n",
       "      <td>zinc coating pieces</td>\n",
       "    </tr>\n",
       "    <tr>\n",
       "      <th>2</th>\n",
       "      <td>2</td>\n",
       "      <td>black chrome</td>\n",
       "    </tr>\n",
       "    <tr>\n",
       "      <th>3</th>\n",
       "      <td>3</td>\n",
       "      <td>seal production natural rubber</td>\n",
       "    </tr>\n",
       "    <tr>\n",
       "      <th>4</th>\n",
       "      <td>4</td>\n",
       "      <td>powder coating steel</td>\n",
       "    </tr>\n",
       "    <tr>\n",
       "      <th>5</th>\n",
       "      <td>5</td>\n",
       "      <td>chromium coat electroplating</td>\n",
       "    </tr>\n",
       "    <tr>\n",
       "      <th>6</th>\n",
       "      <td>6</td>\n",
       "      <td>plastic film</td>\n",
       "    </tr>\n",
       "    <tr>\n",
       "      <th>7</th>\n",
       "      <td>7</td>\n",
       "      <td>selective coating stainless steel black chrome</td>\n",
       "    </tr>\n",
       "    <tr>\n",
       "      <th>8</th>\n",
       "      <td>8</td>\n",
       "      <td>enamelling</td>\n",
       "    </tr>\n",
       "    <tr>\n",
       "      <th>9</th>\n",
       "      <td>9</td>\n",
       "      <td>acrylonitrile-butadiene-styrene</td>\n",
       "    </tr>\n",
       "  </tbody>\n",
       "</table>\n",
       "</div>"
      ],
      "text/plain": [
       "   ID_finish                                          Finish\n",
       "0          0                             electrostatic paint\n",
       "1          1                             zinc coating pieces\n",
       "2          2                                    black chrome\n",
       "3          3                  seal production natural rubber\n",
       "4          4                            powder coating steel\n",
       "5          5                    chromium coat electroplating\n",
       "6          6                                    plastic film\n",
       "7          7  selective coating stainless steel black chrome\n",
       "8          8                                      enamelling\n",
       "9          9                 acrylonitrile-butadiene-styrene"
      ]
     },
     "execution_count": 113,
     "metadata": {},
     "output_type": "execute_result"
    }
   ],
   "source": [
    "db8.head(10)"
   ]
  },
  {
   "cell_type": "code",
   "execution_count": 114,
   "id": "f09cae30-de86-4f25-be90-df6c26ee9141",
   "metadata": {},
   "outputs": [
    {
     "ename": "SyntaxError",
     "evalue": "invalid syntax (2264434635.py, line 1)",
     "output_type": "error",
     "traceback": [
      "\u001b[1;36m  Cell \u001b[1;32mIn[114], line 1\u001b[1;36m\u001b[0m\n\u001b[1;33m    composition_search = db9.loc[db9['ID_composition'] == ]  # put ID number\u001b[0m\n\u001b[1;37m                                                          ^\u001b[0m\n\u001b[1;31mSyntaxError\u001b[0m\u001b[1;31m:\u001b[0m invalid syntax\n"
     ]
    }
   ],
   "source": [
    "composition_search = db9.loc[db9['ID_composition'] == ]  # put ID number\n",
    "composition_search"
   ]
  },
  {
   "cell_type": "code",
   "execution_count": null,
   "id": "bfb5c23d-efe7-4ab0-9d49-67831cf2a0f6",
   "metadata": {},
   "outputs": [],
   "source": [
    "finish_search = db9.loc[db9['ID_finish'] == ]  # put ID number\n",
    "finish_search"
   ]
  }
 ],
 "metadata": {
  "kernelspec": {
   "display_name": "Python 3 (ipykernel)",
   "language": "python",
   "name": "python3"
  },
  "language_info": {
   "codemirror_mode": {
    "name": "ipython",
    "version": 3
   },
   "file_extension": ".py",
   "mimetype": "text/x-python",
   "name": "python",
   "nbconvert_exporter": "python",
   "pygments_lexer": "ipython3",
   "version": "3.11.7"
  }
 },
 "nbformat": 4,
 "nbformat_minor": 5
}
