{
 "cells": [
  {
   "cell_type": "markdown",
   "id": "4fbe6ef5-39a9-4f02-bd65-59222acce9a0",
   "metadata": {},
   "source": [
    "&nbsp;\n",
    "<div style=\"text-align: center;\">\n",
    "\n",
    "## <span style=\"color: black;\">Website SuperClassics - Europe Classic Cars</span>\n",
    "\n",
    "&nbsp;\n",
    "\n",
    "![SuperClassics Logo](superclassics_logo.png)\n",
    "\n",
    "&nbsp;\n",
    "\n",
    "### <span style=\"color: black;\">Gartner Analysis</span>\n",
    "\n",
    "#### <span style=\"color: #003E99\"> *41 Brands, 944 suppliers* </font> </span>"
   ]
  },
  {
   "cell_type": "markdown",
   "id": "428ac524-bc29-42a7-b069-9fcc6f93d9e7",
   "metadata": {},
   "source": [
    "## Index\n",
    "\n",
    "- [<font color='black'> 1. Packages installation</font>](#1)\n",
    "\n",
    "- [<font color='black'> 2. Data importation</font>](#2)\n",
    "\n",
    "- [<font color='black'> 3. Data Normalization (Min-Max)</font>](#3)\n",
    "      \n",
    "- [<font color='black'> 4. Clustering </font>](#4)\n",
    "    - [<font color='black'> 4.1. Elbow method </font>](#4.1)\n",
    "    - [<font color='black'> 4.2. Silhouette plot and value </font>](#4.2)\n",
    "    - [<font color='black'> 4.3. Final model </font>](#4.3)\n",
    "\n"
   ]
  },
  {
   "cell_type": "markdown",
   "id": "9d82ef86-c292-4f57-98dd-38a555fbbea5",
   "metadata": {},
   "source": [
    "## 1. Packages installation\n",
    "<a id='1'>"
   ]
  },
  {
   "cell_type": "code",
   "execution_count": 1,
   "id": "feddf152-e2b5-45cb-b961-cb5c9f084fe7",
   "metadata": {},
   "outputs": [],
   "source": [
    "#!pip3 install yellowbrick\n",
    "#!pip3 install scipy"
   ]
  },
  {
   "cell_type": "code",
   "execution_count": 2,
   "id": "11eacc43-a892-4c65-bb17-77f91b9af701",
   "metadata": {},
   "outputs": [],
   "source": [
    "# dataframe\n",
    "import pandas as pd\n",
    "\n",
    "# array\n",
    "import numpy as np\n",
    "\n",
    "# normalization\n",
    "from sklearn.preprocessing import MinMaxScaler\n",
    "\n",
    "# graph\n",
    "import seaborn as sns\n",
    "import geopandas as gpd\n",
    "import matplotlib.pyplot as plt\n",
    "from matplotlib.patches import Patch\n",
    "from sklearn.cluster import KMeans\n",
    "\n",
    "#Metrics\n",
    "from yellowbrick.cluster import silhouette_visualizer\n",
    "from yellowbrick.cluster import SilhouetteVisualizer\n",
    "from sklearn.metrics import silhouette_score\n",
    "from scipy import stats\n"
   ]
  },
  {
   "cell_type": "markdown",
   "id": "ba464a4e-d752-4307-9eac-a96220c9ef31",
   "metadata": {},
   "source": [
    "## 2. Data importation\n",
    "<a id='2'>"
   ]
  },
  {
   "cell_type": "code",
   "execution_count": 3,
   "id": "1ad82618-30d0-488d-b67b-983921ce8154",
   "metadata": {},
   "outputs": [],
   "source": [
    "db0 = pd.read_csv('Suppliers_factors')"
   ]
  },
  {
   "cell_type": "code",
   "execution_count": 4,
   "id": "536fa532-7ec5-48c6-98c7-76d4c3cd05b4",
   "metadata": {},
   "outputs": [
    {
     "data": {
      "text/html": [
       "<div>\n",
       "<style scoped>\n",
       "    .dataframe tbody tr th:only-of-type {\n",
       "        vertical-align: middle;\n",
       "    }\n",
       "\n",
       "    .dataframe tbody tr th {\n",
       "        vertical-align: top;\n",
       "    }\n",
       "\n",
       "    .dataframe thead th {\n",
       "        text-align: right;\n",
       "    }\n",
       "</style>\n",
       "<table border=\"1\" class=\"dataframe\">\n",
       "  <thead>\n",
       "    <tr style=\"text-align: right;\">\n",
       "      <th></th>\n",
       "      <th>Brand</th>\n",
       "      <th>MostProducedCountry</th>\n",
       "      <th>Carbon_footprint_mean</th>\n",
       "      <th>Supplier_quantity</th>\n",
       "      <th>Google Hits</th>\n",
       "      <th>Carbon_footprint_mean_log</th>\n",
       "      <th>Google Hits_log</th>\n",
       "      <th>Supplier_quantity_log</th>\n",
       "    </tr>\n",
       "  </thead>\n",
       "  <tbody>\n",
       "    <tr>\n",
       "      <th>0</th>\n",
       "      <td>AC</td>\n",
       "      <td>Australia</td>\n",
       "      <td>1044.000000</td>\n",
       "      <td>4</td>\n",
       "      <td>137000000</td>\n",
       "      <td>6.950815</td>\n",
       "      <td>18.735491</td>\n",
       "      <td>1.386294</td>\n",
       "    </tr>\n",
       "    <tr>\n",
       "      <th>1</th>\n",
       "      <td>Abarth</td>\n",
       "      <td>Belgium</td>\n",
       "      <td>1028.833333</td>\n",
       "      <td>4</td>\n",
       "      <td>24700000</td>\n",
       "      <td>6.936181</td>\n",
       "      <td>17.022314</td>\n",
       "      <td>1.386294</td>\n",
       "    </tr>\n",
       "    <tr>\n",
       "      <th>2</th>\n",
       "      <td>Alfa Romeo</td>\n",
       "      <td>Netherlands</td>\n",
       "      <td>720.161765</td>\n",
       "      <td>63</td>\n",
       "      <td>52800000</td>\n",
       "      <td>6.579476</td>\n",
       "      <td>17.782022</td>\n",
       "      <td>4.143135</td>\n",
       "    </tr>\n",
       "    <tr>\n",
       "      <th>3</th>\n",
       "      <td>Allard</td>\n",
       "      <td>United States</td>\n",
       "      <td>1002.000000</td>\n",
       "      <td>1</td>\n",
       "      <td>1890000</td>\n",
       "      <td>6.909753</td>\n",
       "      <td>14.452087</td>\n",
       "      <td>0.000000</td>\n",
       "    </tr>\n",
       "    <tr>\n",
       "      <th>4</th>\n",
       "      <td>Alvis</td>\n",
       "      <td>United Kingdom</td>\n",
       "      <td>1305.000000</td>\n",
       "      <td>5</td>\n",
       "      <td>3620000</td>\n",
       "      <td>7.173958</td>\n",
       "      <td>15.101985</td>\n",
       "      <td>1.609438</td>\n",
       "    </tr>\n",
       "  </tbody>\n",
       "</table>\n",
       "</div>"
      ],
      "text/plain": [
       "        Brand MostProducedCountry  Carbon_footprint_mean  Supplier_quantity  \\\n",
       "0          AC           Australia            1044.000000                  4   \n",
       "1      Abarth             Belgium            1028.833333                  4   \n",
       "2  Alfa Romeo         Netherlands             720.161765                 63   \n",
       "3      Allard       United States            1002.000000                  1   \n",
       "4       Alvis      United Kingdom            1305.000000                  5   \n",
       "\n",
       "   Google Hits  Carbon_footprint_mean_log  Google Hits_log  \\\n",
       "0    137000000                   6.950815        18.735491   \n",
       "1     24700000                   6.936181        17.022314   \n",
       "2     52800000                   6.579476        17.782022   \n",
       "3      1890000                   6.909753        14.452087   \n",
       "4      3620000                   7.173958        15.101985   \n",
       "\n",
       "   Supplier_quantity_log  \n",
       "0               1.386294  \n",
       "1               1.386294  \n",
       "2               4.143135  \n",
       "3               0.000000  \n",
       "4               1.609438  "
      ]
     },
     "execution_count": 4,
     "metadata": {},
     "output_type": "execute_result"
    }
   ],
   "source": [
    "db0.head()"
   ]
  },
  {
   "cell_type": "code",
   "execution_count": 5,
   "id": "6529ca64-7927-4474-98c6-490aacecb12c",
   "metadata": {},
   "outputs": [],
   "source": [
    "#remove brands not known\n",
    "db0 = db0[~db0['Brand'].isin(['Glas','Mini','AC','American Brands','British Brands',\n",
    "                              'Classic Car Dealer','Customs and Hot Rods', 'East German Brands', \n",
    "                              'European Brands','French Brands', 'German Brands',\n",
    "                             'Italian Brands', 'Japanese Brands','Kitcars', 'Military Vehicles',\n",
    "                             'Pre-War Cars', 'Prestige and Supercars', 'Race and rally cars',\n",
    "                             'Russian Brands', 'Trucks and Trailers','Ford (USA)','Youngtimers', 'Caterham','Packard',\n",
    "                             'Trabant', 'Studebaker', 'TVR','Hillman', 'Marcos','TVR'])]"
   ]
  },
  {
   "cell_type": "code",
   "execution_count": 6,
   "id": "53bebae2-8e76-4345-847f-061c80eae02e",
   "metadata": {},
   "outputs": [
    {
     "name": "stdout",
     "output_type": "stream",
     "text": [
      "['Abarth', 'Alfa Romeo', 'Allard', 'Alvis', 'Aston Martin', 'Austin', 'BMW', 'Bentley', 'Bugatti', 'Buick', 'Cadillac', 'Chevrolet', 'Chrysler', 'Citroën', 'DKW', 'Daimler', 'Datsun', 'De Tomaso', 'Facel Vega', 'Ferrari', 'Fiat', 'Ford', 'Holden', 'Lancia', 'Land Rover', 'Lotus', 'MG', 'Maserati', 'Mazda', 'Morgan', 'Morris', 'NSU', 'Opel', 'Panhard', 'Peugeot', 'Pontiac', 'Porsche', 'Range Rover', 'Reliant', 'Renault', 'Riley', 'Rover', 'Saab', 'Simca', 'Subaru', 'Toyota', 'Triumph', 'Volkswagen', 'Škoda']\n"
     ]
    }
   ],
   "source": [
    "list = db0['Brand'].unique().tolist()\n",
    "print(list)"
   ]
  },
  {
   "cell_type": "code",
   "execution_count": 7,
   "id": "ef1e26a6-6c07-4dc9-86e8-60d2f9fe4daa",
   "metadata": {},
   "outputs": [
    {
     "data": {
      "text/plain": [
       "49"
      ]
     },
     "execution_count": 7,
     "metadata": {},
     "output_type": "execute_result"
    }
   ],
   "source": [
    "len(list)"
   ]
  },
  {
   "cell_type": "code",
   "execution_count": 8,
   "id": "1d289457-5a2b-45ca-a5f2-c87c0fc99e0e",
   "metadata": {},
   "outputs": [],
   "source": [
    "db0.rename(columns={'Supplier_quantity': 'Supplier_tot'}, inplace=True)"
   ]
  },
  {
   "cell_type": "markdown",
   "id": "52556933-81c7-4822-9f45-5367c640d68a",
   "metadata": {},
   "source": [
    "## 3.  Data Normalization (Min-Max)\n",
    "<a id='3'>"
   ]
  },
  {
   "cell_type": "markdown",
   "id": "4be0f569-b123-41d8-913e-3b6f7c29d70b",
   "metadata": {},
   "source": [
    "<span style='color:blue'> Choose the Top X Google Hits"
   ]
  },
  {
   "cell_type": "code",
   "execution_count": 9,
   "id": "464cb317-58eb-479e-a2e7-61003e190b4f",
   "metadata": {},
   "outputs": [],
   "source": [
    "db = db0.sort_values(by='Google Hits', ascending=False).head(100)"
   ]
  },
  {
   "cell_type": "code",
   "execution_count": 10,
   "id": "58b5b090-28ef-45f8-a9d5-f38479474e09",
   "metadata": {},
   "outputs": [],
   "source": [
    "#db = db0.sort_values(by='Google Hits', ascending=False).head(20)"
   ]
  },
  {
   "cell_type": "code",
   "execution_count": 11,
   "id": "3dfed6a0-7170-4a75-b82a-73bd14a3141c",
   "metadata": {},
   "outputs": [],
   "source": [
    "db.reset_index(drop=True, inplace=True)"
   ]
  },
  {
   "cell_type": "code",
   "execution_count": 12,
   "id": "736d6e14-f7dd-4c0f-a3c3-b23c7a77081d",
   "metadata": {},
   "outputs": [
    {
     "data": {
      "text/html": [
       "<div>\n",
       "<style scoped>\n",
       "    .dataframe tbody tr th:only-of-type {\n",
       "        vertical-align: middle;\n",
       "    }\n",
       "\n",
       "    .dataframe tbody tr th {\n",
       "        vertical-align: top;\n",
       "    }\n",
       "\n",
       "    .dataframe thead th {\n",
       "        text-align: right;\n",
       "    }\n",
       "</style>\n",
       "<table border=\"1\" class=\"dataframe\">\n",
       "  <thead>\n",
       "    <tr style=\"text-align: right;\">\n",
       "      <th></th>\n",
       "      <th>Brand</th>\n",
       "      <th>MostProducedCountry</th>\n",
       "      <th>Carbon_footprint_mean</th>\n",
       "      <th>Supplier_tot</th>\n",
       "      <th>Google Hits</th>\n",
       "      <th>Carbon_footprint_mean_log</th>\n",
       "      <th>Google Hits_log</th>\n",
       "      <th>Supplier_quantity_log</th>\n",
       "      <th>Supplier_tot_mm</th>\n",
       "      <th>Carbon_footprint_mean_mm</th>\n",
       "    </tr>\n",
       "  </thead>\n",
       "  <tbody>\n",
       "    <tr>\n",
       "      <th>0</th>\n",
       "      <td>Ford</td>\n",
       "      <td>Germany</td>\n",
       "      <td>843.933333</td>\n",
       "      <td>15</td>\n",
       "      <td>225000000</td>\n",
       "      <td>6.738074</td>\n",
       "      <td>19.231611</td>\n",
       "      <td>2.708050</td>\n",
       "      <td>0.065728</td>\n",
       "      <td>0.296804</td>\n",
       "    </tr>\n",
       "    <tr>\n",
       "      <th>1</th>\n",
       "      <td>BMW</td>\n",
       "      <td>Germany</td>\n",
       "      <td>713.313725</td>\n",
       "      <td>51</td>\n",
       "      <td>183000000</td>\n",
       "      <td>6.569921</td>\n",
       "      <td>19.024997</td>\n",
       "      <td>3.931826</td>\n",
       "      <td>0.234742</td>\n",
       "      <td>0.239364</td>\n",
       "    </tr>\n",
       "    <tr>\n",
       "      <th>2</th>\n",
       "      <td>Toyota</td>\n",
       "      <td>Germany</td>\n",
       "      <td>560.500000</td>\n",
       "      <td>4</td>\n",
       "      <td>170000000</td>\n",
       "      <td>6.328829</td>\n",
       "      <td>18.951309</td>\n",
       "      <td>1.386294</td>\n",
       "      <td>0.014085</td>\n",
       "      <td>0.172164</td>\n",
       "    </tr>\n",
       "    <tr>\n",
       "      <th>3</th>\n",
       "      <td>Volkswagen</td>\n",
       "      <td>Germany</td>\n",
       "      <td>831.708609</td>\n",
       "      <td>157</td>\n",
       "      <td>131000000</td>\n",
       "      <td>6.723482</td>\n",
       "      <td>18.690708</td>\n",
       "      <td>5.056246</td>\n",
       "      <td>0.732394</td>\n",
       "      <td>0.291429</td>\n",
       "    </tr>\n",
       "    <tr>\n",
       "      <th>4</th>\n",
       "      <td>Porsche</td>\n",
       "      <td>Germany</td>\n",
       "      <td>693.765258</td>\n",
       "      <td>214</td>\n",
       "      <td>125000000</td>\n",
       "      <td>6.542134</td>\n",
       "      <td>18.643824</td>\n",
       "      <td>5.365976</td>\n",
       "      <td>1.000000</td>\n",
       "      <td>0.230767</td>\n",
       "    </tr>\n",
       "  </tbody>\n",
       "</table>\n",
       "</div>"
      ],
      "text/plain": [
       "        Brand MostProducedCountry  Carbon_footprint_mean  Supplier_tot  \\\n",
       "0        Ford             Germany             843.933333            15   \n",
       "1         BMW             Germany             713.313725            51   \n",
       "2      Toyota             Germany             560.500000             4   \n",
       "3  Volkswagen             Germany             831.708609           157   \n",
       "4     Porsche             Germany             693.765258           214   \n",
       "\n",
       "   Google Hits  Carbon_footprint_mean_log  Google Hits_log  \\\n",
       "0    225000000                   6.738074        19.231611   \n",
       "1    183000000                   6.569921        19.024997   \n",
       "2    170000000                   6.328829        18.951309   \n",
       "3    131000000                   6.723482        18.690708   \n",
       "4    125000000                   6.542134        18.643824   \n",
       "\n",
       "   Supplier_quantity_log  Supplier_tot_mm  Carbon_footprint_mean_mm  \n",
       "0               2.708050         0.065728                  0.296804  \n",
       "1               3.931826         0.234742                  0.239364  \n",
       "2               1.386294         0.014085                  0.172164  \n",
       "3               5.056246         0.732394                  0.291429  \n",
       "4               5.365976         1.000000                  0.230767  "
      ]
     },
     "execution_count": 12,
     "metadata": {},
     "output_type": "execute_result"
    }
   ],
   "source": [
    "db1 = db.copy()\n",
    "columns_to_normalize = ['Supplier_tot', 'Carbon_footprint_mean']\n",
    "\n",
    "# MinMax\n",
    "scaler = MinMaxScaler(feature_range=(0,1))\n",
    "db2 = pd.DataFrame(scaler.fit_transform(db1[columns_to_normalize]),columns=[col + '_mm' for col in columns_to_normalize])\n",
    "\n",
    "# new columns\n",
    "db1 = pd.concat([db1, db2], axis=1)\n",
    "db1.head()"
   ]
  },
  {
   "cell_type": "markdown",
   "id": "02ca355a-1130-45c4-9ec6-d280f9465df7",
   "metadata": {},
   "source": [
    "## 4. Clustering \n",
    "<a id='4'>"
   ]
  },
  {
   "cell_type": "markdown",
   "id": "62180392-1a5c-4323-99f9-75a806cb3566",
   "metadata": {},
   "source": [
    "### 4.1. Elbow method\n",
    "<a id='4.1'>"
   ]
  },
  {
   "cell_type": "code",
   "execution_count": 13,
   "id": "74fcafe9-d935-4b03-a510-842e32067a4e",
   "metadata": {},
   "outputs": [
    {
     "name": "stderr",
     "output_type": "stream",
     "text": [
      "C:\\Users\\InesC\\anaconda3\\Lib\\site-packages\\sklearn\\cluster\\_kmeans.py:1382: UserWarning: KMeans is known to have a memory leak on Windows with MKL, when there are less chunks than available threads. You can avoid it by setting the environment variable OMP_NUM_THREADS=1.\n",
      "  warnings.warn(\n",
      "C:\\Users\\InesC\\anaconda3\\Lib\\site-packages\\sklearn\\cluster\\_kmeans.py:1382: UserWarning: KMeans is known to have a memory leak on Windows with MKL, when there are less chunks than available threads. You can avoid it by setting the environment variable OMP_NUM_THREADS=1.\n",
      "  warnings.warn(\n",
      "C:\\Users\\InesC\\anaconda3\\Lib\\site-packages\\sklearn\\cluster\\_kmeans.py:1382: UserWarning: KMeans is known to have a memory leak on Windows with MKL, when there are less chunks than available threads. You can avoid it by setting the environment variable OMP_NUM_THREADS=1.\n",
      "  warnings.warn(\n",
      "C:\\Users\\InesC\\anaconda3\\Lib\\site-packages\\sklearn\\cluster\\_kmeans.py:1382: UserWarning: KMeans is known to have a memory leak on Windows with MKL, when there are less chunks than available threads. You can avoid it by setting the environment variable OMP_NUM_THREADS=1.\n",
      "  warnings.warn(\n",
      "C:\\Users\\InesC\\anaconda3\\Lib\\site-packages\\sklearn\\cluster\\_kmeans.py:1382: UserWarning: KMeans is known to have a memory leak on Windows with MKL, when there are less chunks than available threads. You can avoid it by setting the environment variable OMP_NUM_THREADS=1.\n",
      "  warnings.warn(\n",
      "C:\\Users\\InesC\\anaconda3\\Lib\\site-packages\\sklearn\\cluster\\_kmeans.py:1382: UserWarning: KMeans is known to have a memory leak on Windows with MKL, when there are less chunks than available threads. You can avoid it by setting the environment variable OMP_NUM_THREADS=1.\n",
      "  warnings.warn(\n",
      "C:\\Users\\InesC\\anaconda3\\Lib\\site-packages\\sklearn\\cluster\\_kmeans.py:1382: UserWarning: KMeans is known to have a memory leak on Windows with MKL, when there are less chunks than available threads. You can avoid it by setting the environment variable OMP_NUM_THREADS=1.\n",
      "  warnings.warn(\n",
      "C:\\Users\\InesC\\anaconda3\\Lib\\site-packages\\sklearn\\cluster\\_kmeans.py:1382: UserWarning: KMeans is known to have a memory leak on Windows with MKL, when there are less chunks than available threads. You can avoid it by setting the environment variable OMP_NUM_THREADS=1.\n",
      "  warnings.warn(\n",
      "C:\\Users\\InesC\\anaconda3\\Lib\\site-packages\\sklearn\\cluster\\_kmeans.py:1382: UserWarning: KMeans is known to have a memory leak on Windows with MKL, when there are less chunks than available threads. You can avoid it by setting the environment variable OMP_NUM_THREADS=1.\n",
      "  warnings.warn(\n",
      "C:\\Users\\InesC\\anaconda3\\Lib\\site-packages\\sklearn\\cluster\\_kmeans.py:1382: UserWarning: KMeans is known to have a memory leak on Windows with MKL, when there are less chunks than available threads. You can avoid it by setting the environment variable OMP_NUM_THREADS=1.\n",
      "  warnings.warn(\n"
     ]
    },
    {
     "data": {
      "image/png": "[encoded data removed]",
      "text/plain": [
       "<Figure size 800x550 with 1 Axes>"
      ]
     },
     "metadata": {},
     "output_type": "display_data"
    }
   ],
   "source": [
    "data = db1[['Supplier_tot_mm', 'Carbon_footprint_mean_mm']]\n",
    "\n",
    "cost = []\n",
    "\n",
    "for num_clusters in range(1, 11):\n",
    "    kmeans = KMeans(n_clusters=num_clusters, n_init=10)\n",
    "    kmeans.fit(data)\n",
    "    cost.append(kmeans.inertia_)\n",
    "\n",
    "plt.plot(range(1, 11), cost, marker='o')\n",
    "plt.xlabel('Clusters number')\n",
    "plt.ylabel('Sum of squares within clusters (SSW)')\n",
    "plt.savefig('Modelling_CO2_qtdSuppliers_elbow_maxsamplesize.eps')\n",
    "plt.savefig('Modelling_CO2_qtdSuppliers_elbow_maxsamplesize.png')\n",
    "plt.show()\n"
   ]
  },
  {
   "cell_type": "markdown",
   "id": "2563893e-e9ca-4308-a4f2-5c5d8d9d1940",
   "metadata": {},
   "source": [
    "<span style='color:blue'> The elbow method shows that data should be split in four ou five clusters, according to the inflection point equal to four."
   ]
  },
  {
   "cell_type": "markdown",
   "id": "68a2bb2b-de6e-4bac-9f4e-74db9d8599f3",
   "metadata": {},
   "source": [
    "### 4.2. Silhouette plot and value\n",
    "<a id='4.2'>"
   ]
  },
  {
   "cell_type": "code",
   "execution_count": 14,
   "id": "8aea5f84-13a8-4da3-8482-d07a2c26d137",
   "metadata": {},
   "outputs": [
    {
     "name": "stderr",
     "output_type": "stream",
     "text": [
      "C:\\Users\\InesC\\anaconda3\\Lib\\site-packages\\sklearn\\cluster\\_kmeans.py:870: FutureWarning: The default value of `n_init` will change from 10 to 'auto' in 1.4. Set the value of `n_init` explicitly to suppress the warning\n",
      "  warnings.warn(\n",
      "C:\\Users\\InesC\\anaconda3\\Lib\\site-packages\\sklearn\\cluster\\_kmeans.py:1382: UserWarning: KMeans is known to have a memory leak on Windows with MKL, when there are less chunks than available threads. You can avoid it by setting the environment variable OMP_NUM_THREADS=1.\n",
      "  warnings.warn(\n",
      "C:\\Users\\InesC\\anaconda3\\Lib\\site-packages\\sklearn\\cluster\\_kmeans.py:870: FutureWarning: The default value of `n_init` will change from 10 to 'auto' in 1.4. Set the value of `n_init` explicitly to suppress the warning\n",
      "  warnings.warn(\n",
      "C:\\Users\\InesC\\anaconda3\\Lib\\site-packages\\sklearn\\cluster\\_kmeans.py:1382: UserWarning: KMeans is known to have a memory leak on Windows with MKL, when there are less chunks than available threads. You can avoid it by setting the environment variable OMP_NUM_THREADS=1.\n",
      "  warnings.warn(\n",
      "C:\\Users\\InesC\\anaconda3\\Lib\\site-packages\\sklearn\\cluster\\_kmeans.py:870: FutureWarning: The default value of `n_init` will change from 10 to 'auto' in 1.4. Set the value of `n_init` explicitly to suppress the warning\n",
      "  warnings.warn(\n",
      "C:\\Users\\InesC\\anaconda3\\Lib\\site-packages\\sklearn\\cluster\\_kmeans.py:1382: UserWarning: KMeans is known to have a memory leak on Windows with MKL, when there are less chunks than available threads. You can avoid it by setting the environment variable OMP_NUM_THREADS=1.\n",
      "  warnings.warn(\n",
      "C:\\Users\\InesC\\anaconda3\\Lib\\site-packages\\sklearn\\cluster\\_kmeans.py:870: FutureWarning: The default value of `n_init` will change from 10 to 'auto' in 1.4. Set the value of `n_init` explicitly to suppress the warning\n",
      "  warnings.warn(\n",
      "C:\\Users\\InesC\\anaconda3\\Lib\\site-packages\\sklearn\\cluster\\_kmeans.py:1382: UserWarning: KMeans is known to have a memory leak on Windows with MKL, when there are less chunks than available threads. You can avoid it by setting the environment variable OMP_NUM_THREADS=1.\n",
      "  warnings.warn(\n",
      "The PostScript backend does not support transparency; partially transparent artists will be rendered opaque.\n"
     ]
    },
    {
     "data": {
      "image/png": "[encoded data removed]",
      "text/plain": [
       "<Figure size 1500x500 with 4 Axes>"
      ]
     },
     "metadata": {},
     "output_type": "display_data"
    }
   ],
   "source": [
    "#data\n",
    "X = db1[['Supplier_tot_mm', 'Carbon_footprint_mean_mm']]\n",
    "\n",
    "#number of clusters to try\n",
    "clusters_list = [2, 3, 4, 5]\n",
    "\n",
    "#graph\n",
    "fig, axs = plt.subplots(1, len(clusters_list), figsize=(15, 5))\n",
    "silhouette_scores = []\n",
    "for ax, n_clusters in zip(axs, clusters_list):\n",
    "    kmeans = KMeans(n_clusters=n_clusters, random_state=42)\n",
    "    # graph\n",
    "    visualizer = SilhouetteVisualizer(kmeans, colors='yellowbrick', ax=ax)\n",
    "    # adjust data to model\n",
    "    visualizer.fit(X)\n",
    "    labels = kmeans.labels_\n",
    "    # Silhoette score\n",
    "    silhouette_avg = silhouette_score(X, labels)\n",
    "    silhouette_scores.append(silhouette_avg)\n",
    "    # title with number of clusters and score\n",
    "    ax.set_title(f'{n_clusters} Clusters\\nSilhouette Score: {silhouette_avg:.2f}')\n",
    "\n",
    "plt.tight_layout()\n",
    "plt.savefig('Modelling_CO2_qtdSuppliers_silhouette_plots_maxsamplesize.eps')\n",
    "plt.savefig('Modelling_CO2_qtdSuppliers_silhouette_plots_maxsamplesize.png')\n",
    "plt.show()\n"
   ]
  },
  {
   "cell_type": "markdown",
   "id": "0059ffb6-09dd-477a-ba39-3518607d0058",
   "metadata": {},
   "source": [
    "<span style='color:blue'> From the data distribution results for each cluster group (2, 3, 4, or 5) and the silhouette score it is possible to verify that the best data distribution is made with three clusters (silhouette score = 0.57).\n"
   ]
  },
  {
   "cell_type": "markdown",
   "id": "b5bc1aac-c2b2-454d-8fa2-b97652517af9",
   "metadata": {},
   "source": [
    "### 4.3. Final model\n",
    "<a id='4.3'>"
   ]
  },
  {
   "cell_type": "code",
   "execution_count": 15,
   "id": "65c82c46-6fe2-459b-8a71-e7f76313dc03",
   "metadata": {},
   "outputs": [
    {
     "name": "stderr",
     "output_type": "stream",
     "text": [
      "C:\\Users\\InesC\\anaconda3\\Lib\\site-packages\\sklearn\\cluster\\_kmeans.py:870: FutureWarning: The default value of `n_init` will change from 10 to 'auto' in 1.4. Set the value of `n_init` explicitly to suppress the warning\n",
      "  warnings.warn(\n",
      "C:\\Users\\InesC\\anaconda3\\Lib\\site-packages\\sklearn\\cluster\\_kmeans.py:1382: UserWarning: KMeans is known to have a memory leak on Windows with MKL, when there are less chunks than available threads. You can avoid it by setting the environment variable OMP_NUM_THREADS=1.\n",
      "  warnings.warn(\n",
      "C:\\Users\\InesC\\AppData\\Local\\Temp\\ipykernel_2180\\3307098604.py:53: UserWarning: Setting the 'color' property will override the edgecolor or facecolor properties.\n",
      "  circle = plt.Circle((centroids[cluster_label, 1], centroids[cluster_label, 0]),\n",
      "The PostScript backend does not support transparency; partially transparent artists will be rendered opaque.\n"
     ]
    },
    {
     "data": {
      "image/png": "[encoded data removed]",
      "text/plain": [
       "<Figure size 1000x600 with 1 Axes>"
      ]
     },
     "metadata": {},
     "output_type": "display_data"
    }
   ],
   "source": [
    "import matplotlib.pyplot as plt\n",
    "from sklearn.cluster import KMeans\n",
    "from sklearn.metrics import silhouette_score\n",
    "import numpy as np\n",
    "\n",
    "data = db1[['Supplier_tot_mm', 'Carbon_footprint_mean_mm']]\n",
    "\n",
    "num_clusters = 3\n",
    "kmeans = KMeans(n_clusters=num_clusters)\n",
    "\n",
    "kmeans.fit(data)\n",
    "\n",
    "db1['Cluster'] = kmeans.labels_\n",
    "\n",
    "centroids = kmeans.cluster_centers_\n",
    "\n",
    "cluster_sizes = db1['Cluster'].value_counts()\n",
    "\n",
    "min_cluster = cluster_sizes.idxmin()\n",
    "max_cluster = cluster_sizes.idxmax()\n",
    "\n",
    "colors = {}\n",
    "for cluster_label in range(num_clusters):\n",
    "    if cluster_label == min_cluster:\n",
    "        colors[cluster_label] = 'green'\n",
    "    elif cluster_label == max_cluster:\n",
    "        colors[cluster_label] = 'blue'\n",
    "    else:\n",
    "        colors[cluster_label] = 'red'\n",
    "\n",
    "plt.figure(figsize=(10, 6))\n",
    "for cluster_label in range(num_clusters):\n",
    "    cluster_data = db1[db1['Cluster'] == cluster_label]\n",
    "    \n",
    "    if cluster_label == 0:\n",
    "        label = 'Cluster 2'\n",
    "    elif cluster_label == 1:\n",
    "        label = 'Cluster 3'\n",
    "    else:\n",
    "        label = 'Cluster 1'\n",
    "\n",
    "    plt.scatter(cluster_data['Carbon_footprint_mean_mm'], cluster_data['Supplier_tot_mm'], \n",
    "                label=label, color=colors[cluster_label])  \n",
    "\n",
    "plt.scatter(centroids[:, 1], centroids[:, 0], s=50, c='black', marker='x', label='Centroid')\n",
    "\n",
    "for cluster_label in range(num_clusters):\n",
    "    cluster_data = db1[db1['Cluster'] == cluster_label]\n",
    "    distances = np.sqrt((cluster_data['Carbon_footprint_mean_mm'] - centroids[cluster_label, 1]) ** 2 +\n",
    "                        (cluster_data['Supplier_tot_mm'] - centroids[cluster_label, 0]) ** 2)\n",
    "    max_distance = distances.max()\n",
    "    \n",
    "    circle = plt.Circle((centroids[cluster_label, 1], centroids[cluster_label, 0]), \n",
    "                        max_distance, color=colors[cluster_label], alpha=0.2, fill=True, edgecolor='black')\n",
    "    plt.gca().add_patch(circle)\n",
    "\n",
    "plt.xlabel('Carbon Footprint Mean (Min-Max)')\n",
    "plt.ylabel('Number of Suppliers (Min-Max)')\n",
    "plt.legend()\n",
    "plt.savefig('Modelling_CO2_qtdSupplier_clustering_maxsamplesize.eps', dpi=300, transparent=True)\n",
    "plt.savefig('Modelling_CO2_qtdSupplier_clustering_maxsamplesize.png', dpi=300, transparent=True)\n",
    "plt.show()\n"
   ]
  },
  {
   "cell_type": "code",
   "execution_count": 16,
   "id": "249162e0-fe84-4920-98cf-94ac2e7ae6ea",
   "metadata": {},
   "outputs": [
    {
     "name": "stdout",
     "output_type": "stream",
     "text": [
      "           Brand  Supplier_tot_mm  Carbon_footprint_mean_mm  Cluster\n",
      "0           Ford         0.065728                  0.296804        3\n",
      "1            BMW         0.234742                  0.239364        3\n",
      "2         Toyota         0.014085                  0.172164        3\n",
      "3     Volkswagen         0.732394                  0.291429        1\n",
      "4        Porsche         1.000000                  0.230767        1\n",
      "5      Chevrolet         0.197183                  0.273412        3\n",
      "6             MG         0.323944                  0.380444        3\n",
      "7        Ferrari         0.206573                  0.287685        3\n",
      "8         Morgan         0.065728                  0.208267        3\n",
      "9          Mazda         0.037559                  0.327763        3\n",
      "10       Renault         0.028169                  0.218620        3\n",
      "11         Rover         0.028169                  0.471353        3\n",
      "12       Peugeot         0.032864                  0.204870        3\n",
      "13       Triumph         0.136150                  0.351568        3\n",
      "14    Land Rover         0.220657                  0.259625        3\n",
      "15          Fiat         0.070423                  0.269954        3\n",
      "16        Austin         0.037559                  0.212352        3\n",
      "17      Cadillac         0.014085                  0.223395        3\n",
      "18  Aston Martin         0.004695                  0.102243        3\n",
      "19    Alfa Romeo         0.291080                  0.242375        3\n",
      "20       Citroën         0.511737                  0.224778        1\n",
      "21      Chrysler         0.000000                  0.459982        3\n",
      "22         Riley         0.004695                  0.001099        3\n",
      "23         Buick         0.000000                  0.459982        3\n",
      "24       Pontiac         0.014085                  0.231970        3\n",
      "25          Opel         0.079812                  0.188630        3\n",
      "26      Maserati         0.056338                  0.307388        3\n",
      "27       Bentley         0.046948                  0.332116        3\n",
      "28        Subaru         0.000000                  0.931838        2\n",
      "29         Lotus         0.075117                  0.372006        3\n",
      "30   Range Rover         0.000000                  0.000000        3\n",
      "31         Škoda         0.004695                  0.171504        3\n",
      "32          Saab         0.051643                  0.189754        3\n",
      "33       Bugatti         0.009390                  0.075491        3\n",
      "34        Morris         0.046948                  0.424562        3\n",
      "35        Datsun         0.028169                  0.251979        3\n",
      "36        Abarth         0.014085                  0.378115        3\n",
      "37        Lancia         0.061033                  0.254994        3\n",
      "38        Holden         0.004695                  0.931838        2\n",
      "39       Daimler         0.000000                  0.744943        2\n",
      "40       Reliant         0.000000                  1.000000        2\n",
      "41     De Tomaso         0.014085                  0.242524        3\n",
      "42           DKW         0.014085                  0.171504        3\n",
      "43           NSU         0.023474                  0.171504        3\n",
      "44         Simca         0.000000                  0.226473        3\n",
      "45       Panhard         0.004695                  0.215479        3\n",
      "46         Alvis         0.018779                  0.499560        3\n",
      "47        Allard         0.000000                  0.366315        3\n",
      "48    Facel Vega         0.014085                  0.201737        3\n"
     ]
    },
    {
     "name": "stderr",
     "output_type": "stream",
     "text": [
      "C:\\Users\\InesC\\AppData\\Local\\Temp\\ipykernel_2180\\1621131336.py:5: SettingWithCopyWarning: \n",
      "A value is trying to be set on a copy of a slice from a DataFrame.\n",
      "Try using .loc[row_indexer,col_indexer] = value instead\n",
      "\n",
      "See the caveats in the documentation: https://pandas.pydata.org/pandas-docs/stable/user_guide/indexing.html#returning-a-view-versus-a-copy\n",
      "  result_table['Cluster'] = result_table['Cluster'].replace({0: 2, 1: 3, 2: 1})\n"
     ]
    }
   ],
   "source": [
    "# cluster results\n",
    "\n",
    "db1['Cluster'] = kmeans.labels_\n",
    "result_table = db1[['Brand', 'Supplier_tot_mm', 'Carbon_footprint_mean_mm', 'Cluster']]\n",
    "result_table['Cluster'] = result_table['Cluster'].replace({0: 2, 1: 3, 2: 1})\n",
    "print(result_table)\n"
   ]
  },
  {
   "cell_type": "code",
   "execution_count": 126,
   "id": "eb28a145-46b0-4c2f-99c2-c084e212c962",
   "metadata": {},
   "outputs": [],
   "source": [
    "db1['Cluster'] = db1['Cluster'].replace({0: 2, 1: 3, 2: 1})"
   ]
  },
  {
   "cell_type": "code",
   "execution_count": 17,
   "id": "c809f34a-09c1-40f9-b80d-8969fe6743a1",
   "metadata": {},
   "outputs": [
    {
     "name": "stdout",
     "output_type": "stream",
     "text": [
      "ANOVA Supplier Total: F-value = nan, p-value = nan\n",
      "ANOVA Carbon Footprint Mean: F-value = nan, p-value = nan\n"
     ]
    },
    {
     "name": "stderr",
     "output_type": "stream",
     "text": [
      "C:\\Users\\InesC\\anaconda3\\Lib\\site-packages\\scipy\\stats\\_stats_py.py:4133: DegenerateDataWarning: at least one input has length 0\n",
      "  warnings.warn(stats.DegenerateDataWarning('at least one input '\n"
     ]
    }
   ],
   "source": [
    "from scipy import stats\n",
    "\n",
    "anova_supplier_tot = stats.f_oneway(\n",
    "    db1[db1['Cluster'] == 1]['Supplier_tot_mm'],\n",
    "    db1[db1['Cluster'] == 2]['Supplier_tot_mm'],\n",
    "    db1[db1['Cluster'] == 3]['Supplier_tot_mm']\n",
    ")\n",
    "\n",
    "anova_carbon_footprint = stats.f_oneway(\n",
    "    db1[db1['Cluster'] == 1]['Carbon_footprint_mean_mm'],\n",
    "    db1[db1['Cluster'] == 2]['Carbon_footprint_mean_mm'],\n",
    "    db1[db1['Cluster'] == 3]['Carbon_footprint_mean_mm']\n",
    ")\n",
    "\n",
    "print(f\"ANOVA Supplier Total: F-value = {anova_supplier_tot.statistic}, p-value = {anova_supplier_tot.pvalue}\")\n",
    "print(f\"ANOVA Carbon Footprint Mean: F-value = {anova_carbon_footprint.statistic}, p-value = {anova_carbon_footprint.pvalue}\")\n"
   ]
  },
  {
   "cell_type": "code",
   "execution_count": 18,
   "id": "1196852a-0c72-4d42-be9a-14d3661fd120",
   "metadata": {},
   "outputs": [
    {
     "name": "stdout",
     "output_type": "stream",
     "text": [
      "\n",
      "Resultados para Supplier_tot_mm:\n",
      "  SST = 1.7620\n",
      "  SSB = 1.3224\n",
      "  SSW = 0.4397\n",
      "  MSB = 0.6612\n",
      "  MSW = 0.0096\n",
      "\n",
      "Resultados para Carbon_footprint_mean_mm:\n",
      "  SST = 2.0941\n",
      "  SSB = 0.1242\n",
      "  SSW = 1.9700\n",
      "  MSB = 0.0621\n",
      "  MSW = 0.0428\n"
     ]
    }
   ],
   "source": [
    "def sum_of_squares(data, global_mean=None):\n",
    "    if global_mean is None:\n",
    "        global_mean = data.mean()\n",
    "    return ((data - global_mean) ** 2).sum()\n",
    "\n",
    "num_clusters = db1['Cluster'].nunique()\n",
    "\n",
    "results = {'Supplier_tot_mm': {}, 'Carbon_footprint_mean_mm': {}}\n",
    "\n",
    "global_mean_supplier_tot = db1['Supplier_tot_mm'].mean()\n",
    "global_mean_carbon = db1['Carbon_footprint_mean_mm'].mean()\n",
    "\n",
    "sst_supplier_tot = sum_of_squares(db1['Supplier_tot_mm'], global_mean_supplier_tot)\n",
    "sst_carbon = sum_of_squares(db1['Carbon_footprint_mean_mm'], global_mean_carbon)\n",
    "\n",
    "ssb_supplier_tot = 0\n",
    "ssb_carbon = 0\n",
    "\n",
    "for cluster in range(1, num_clusters + 1):\n",
    "    db_cluster = db1[db1['Cluster'] == cluster]\n",
    "    cluster_size = len(db_cluster)\n",
    "    \n",
    "    if cluster_size > 0:\n",
    "        cluster_mean_supplier_tot = db_cluster['Supplier_tot_mm'].mean()\n",
    "        cluster_mean_carbon = db_cluster['Carbon_footprint_mean_mm'].mean()\n",
    "        \n",
    "        ssb_supplier_tot += cluster_size * (cluster_mean_supplier_tot - global_mean_supplier_tot) ** 2\n",
    "        ssb_carbon += cluster_size * (cluster_mean_carbon - global_mean_carbon) ** 2\n",
    "\n",
    "ssw_supplier_tot = sst_supplier_tot - ssb_supplier_tot\n",
    "ssw_carbon = sst_carbon - ssb_carbon\n",
    "\n",
    "dfb = num_clusters - 1\n",
    "dfw_supplier_tot = len(db1) - num_clusters\n",
    "dfw_carbon = len(db1) - num_clusters\n",
    "\n",
    "if dfw_supplier_tot > 0 and dfw_carbon > 0:\n",
    "    msb_supplier_tot = ssb_supplier_tot / dfb\n",
    "    msw_supplier_tot = ssw_supplier_tot / dfw_supplier_tot\n",
    "    msb_carbon = ssb_carbon / dfb\n",
    "    msw_carbon = ssw_carbon / dfw_carbon\n",
    "\n",
    "    results['Supplier_tot_mm'] = {\n",
    "        'SST': sst_supplier_tot, 'SSB': ssb_supplier_tot, 'SSW': ssw_supplier_tot, 'MSB': msb_supplier_tot, 'MSW': msw_supplier_tot\n",
    "    }\n",
    "    results['Carbon_footprint_mean_mm'] = {\n",
    "        'SST': sst_carbon, 'SSB': ssb_carbon, 'SSW': ssw_carbon, 'MSB': msb_carbon, 'MSW': msw_carbon\n",
    "    }\n",
    "\n",
    "    for variable, metrics in results.items():\n",
    "        print(f\"\\nResultados para {variable}:\")\n",
    "        print(f\"  SST = {metrics['SST']:.4f}\")\n",
    "        print(f\"  SSB = {metrics['SSB']:.4f}\")\n",
    "        print(f\"  SSW = {metrics['SSW']:.4f}\")\n",
    "        print(f\"  MSB = {metrics['MSB']:.4f}\")\n",
    "        print(f\"  MSW = {metrics['MSW']:.4f}\")\n",
    "else:\n",
    "    print(\"Os graus de liberdade para a Soma dos Quadrados Dentro dos Grupos não são válidos.\")\n"
   ]
  },
  {
   "cell_type": "code",
   "execution_count": 147,
   "id": "1d32c04e-b709-4b9d-b15b-e8ca7fceada1",
   "metadata": {},
   "outputs": [
    {
     "name": "stdout",
     "output_type": "stream",
     "text": [
      "\n",
      "Resultados para Supplier_tot_zscore:\n",
      "Cluster 1:\n",
      "  SST = 0.1196\n",
      "  SSB = 0.0265\n",
      "  SSW = 0.1107\n",
      "  MSB = 0.0132\n",
      "  MSW = 0.0024\n",
      "Cluster 2:\n",
      "  SST = 0.2820\n",
      "  SSB = 0.3707\n",
      "  SSW = 0.1584\n",
      "  MSB = 0.1853\n",
      "  MSW = 0.0034\n",
      "Cluster 3:\n",
      "  SST = 0.0000\n",
      "  SSB = 0.0353\n",
      "  SSW = -0.0118\n",
      "  MSB = 0.0177\n",
      "  MSW = -0.0003\n",
      "\n",
      "Resultados para Carbon_footprint_mean_zscore:\n",
      "Cluster 1:\n",
      "  SST = 0.0027\n",
      "  SSB = 0.0217\n",
      "  SSW = -0.0045\n",
      "  MSB = 0.0109\n",
      "  MSW = -0.0001\n",
      "Cluster 2:\n",
      "  SST = 0.5385\n",
      "  SSB = 0.3041\n",
      "  SSW = 0.4371\n",
      "  MSB = 0.1521\n",
      "  MSW = 0.0095\n",
      "Cluster 3:\n",
      "  SST = 0.0361\n",
      "  SSB = 0.0290\n",
      "  SSW = 0.0264\n",
      "  MSB = 0.0145\n",
      "  MSW = 0.0006\n"
     ]
    }
   ],
   "source": [
    "import pandas as pd\n",
    "\n",
    "# Função para calcular Soma dos Quadrados\n",
    "def sum_of_squares(data, global_mean=None):\n",
    "    if global_mean is None:\n",
    "        global_mean = data.mean()\n",
    "    return ((data - global_mean) ** 2).sum()\n",
    "\n",
    "# Número de clusters\n",
    "num_clusters = db1['Cluster'].nunique()\n",
    "\n",
    "# Inicializar dicionários para armazenar os resultados\n",
    "results = {'Supplier_tot_zscore': {}, 'Carbon_footprint_mean_zscore': {}}\n",
    "\n",
    "# Média global das variáveis\n",
    "global_mean_supplier_tot = db1['Supplier_tot_zscore'].mean()\n",
    "global_mean_carbon = db1['Carbon_footprint_mean_zscore'].mean()\n",
    "\n",
    "# Iterar sobre cada cluster e variável\n",
    "for cluster in range(1, num_clusters + 1):  # Ajustado para clusters numerados de 1 a 3\n",
    "    db_cluster = db1[db1['Cluster'] == cluster]\n",
    "    cluster_size = len(db_cluster)\n",
    "    \n",
    "    if cluster_size > 0:\n",
    "        # Calcular a média do cluster para as variáveis\n",
    "        cluster_mean_supplier_tot = db_cluster['Supplier_tot_zscore'].mean()\n",
    "        cluster_mean_carbon = db_cluster['Carbon_footprint_mean_zscore'].mean()\n",
    "        \n",
    "        # Calcular Soma dos Quadrados Total (SST) para o cluster\n",
    "        sst_supplier_tot = sum_of_squares(db_cluster['Supplier_tot_zscore'], cluster_mean_supplier_tot)\n",
    "        sst_carbon = sum_of_squares(db_cluster['Carbon_footprint_mean_zscore'], cluster_mean_carbon)\n",
    "        \n",
    "        # Calcular Soma dos Quadrados Dentro dos Grupos (SSW) para o cluster\n",
    "        ssw_supplier_tot = sst_supplier_tot\n",
    "        ssw_carbon = sst_carbon\n",
    "        \n",
    "        # Calcular Soma dos Quadrados Entre Grupos (SSB) para cada variável\n",
    "        cluster_means_supplier_tot = db1.groupby('Cluster')['Supplier_tot_zscore'].mean()\n",
    "        cluster_means_carbon = db1.groupby('Cluster')['Carbon_footprint_mean_zscore'].mean()\n",
    "        \n",
    "        ssb_supplier_tot = sum_of_squares(cluster_means_supplier_tot, global_mean_supplier_tot)\n",
    "        ssb_carbon = sum_of_squares(cluster_means_carbon, global_mean_carbon)\n",
    "        \n",
    "        # Ajustar SSB para refletir o tamanho do cluster\n",
    "        ssb_supplier_tot *= cluster_size / len(db1)\n",
    "        ssb_carbon *= cluster_size / len(db1)\n",
    "        \n",
    "        # Calcular SSW ajustado para o cluster atual\n",
    "        ssw_supplier_tot -= ssb_supplier_tot / num_clusters\n",
    "        ssw_carbon -= ssb_carbon / num_clusters\n",
    "        \n",
    "        # Calcular Graus de Liberdade\n",
    "        dfb = num_clusters - 1\n",
    "        dfw_supplier_tot = len(db1) - num_clusters\n",
    "        dfw_carbon = len(db1) - num_clusters\n",
    "        \n",
    "        # Verificar se os graus de liberdade são válidos\n",
    "        if dfw_supplier_tot > 0 and dfw_carbon > 0:\n",
    "            # Calcular Média dos Quadrados (MSB e MSW)\n",
    "            msb_supplier_tot = ssb_supplier_tot / dfb\n",
    "            msw_supplier_tot = ssw_supplier_tot / dfw_supplier_tot\n",
    "            msb_carbon = ssb_carbon / dfb\n",
    "            msw_carbon = ssw_carbon / dfw_carbon\n",
    "\n",
    "            # Armazenar os resultados\n",
    "            results['Supplier_tot_zscore'][f'Cluster {cluster}'] = {\n",
    "                'SST': sst_supplier_tot, 'SSB': ssb_supplier_tot, 'SSW': ssw_supplier_tot, 'MSB': msb_supplier_tot, 'MSW': msw_supplier_tot\n",
    "            }\n",
    "            results['Carbon_footprint_mean_zscore'][f'Cluster {cluster}'] = {\n",
    "                'SST': sst_carbon, 'SSB': ssb_carbon, 'SSW': ssw_carbon, 'MSB': msb_carbon, 'MSW': msw_carbon\n",
    "            }\n",
    "        else:\n",
    "            print(f\"Graus de liberdade inválidos para o cluster {cluster}.\")\n",
    "    else:\n",
    "        print(f\"Cluster {cluster} não contém dados suficientes.\")\n",
    "\n",
    "# Exibir os resultados organizados\n",
    "for variable, clusters in results.items():\n",
    "    print(f\"\\nResultados para {variable}:\")\n",
    "    for cluster, metrics in clusters.items():\n",
    "        print(f\"{cluster}:\")\n",
    "        print(f\"  SST = {metrics['SST']:.4f}\")\n",
    "        print(f\"  SSB = {metrics['SSB']:.4f}\")\n",
    "        print(f\"  SSW = {metrics['SSW']:.4f}\")\n",
    "        print(f\"  MSB = {metrics['MSB']:.4f}\")\n",
    "        print(f\"  MSW = {metrics['MSW']:.4f}\")\n"
   ]
  },
  {
   "cell_type": "code",
   "execution_count": null,
   "id": "78088017-d4cd-4523-a631-cd5d30a8b848",
   "metadata": {},
   "outputs": [],
   "source": []
  },
  {
   "cell_type": "code",
   "execution_count": null,
   "id": "8dbba3b5-fdc4-4ec2-a31a-233ba944bb06",
   "metadata": {},
   "outputs": [],
   "source": []
  }
 ],
 "metadata": {
  "kernelspec": {
   "display_name": "Python 3 (ipykernel)",
   "language": "python",
   "name": "python3"
  },
  "language_info": {
   "codemirror_mode": {
    "name": "ipython",
    "version": 3
   },
   "file_extension": ".py",
   "mimetype": "text/x-python",
   "name": "python",
   "nbconvert_exporter": "python",
   "pygments_lexer": "ipython3",
   "version": "3.11.7"
  }
 },
 "nbformat": 4,
 "nbformat_minor": 5
}
